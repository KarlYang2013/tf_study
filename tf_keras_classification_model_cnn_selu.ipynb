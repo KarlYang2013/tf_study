{
  "nbformat": 4,
  "nbformat_minor": 0,
  "metadata": {
    "kernelspec": {
      "display_name": "Python 3",
      "language": "python",
      "name": "python3"
    },
    "language_info": {
      "codemirror_mode": {
        "name": "ipython",
        "version": 3
      },
      "file_extension": ".py",
      "mimetype": "text/x-python",
      "name": "python",
      "nbconvert_exporter": "python",
      "pygments_lexer": "ipython3",
      "version": "3.6.9"
    },
    "colab": {
      "name": "tf_keras_classification_model-cnn-selu.ipynb",
      "provenance": [],
      "include_colab_link": true
    }
  },
  "cells": [
    {
      "cell_type": "markdown",
      "metadata": {
        "id": "view-in-github",
        "colab_type": "text"
      },
      "source": [
        "<a href=\"https://colab.research.google.com/github/KarlYang2013/tf_study/blob/master/tf_keras_classification_model_cnn_selu.ipynb\" target=\"_parent\"><img src=\"https://colab.research.google.com/assets/colab-badge.svg\" alt=\"Open In Colab\"/></a>"
      ]
    },
    {
      "cell_type": "code",
      "metadata": {
        "id": "uTf6p7duIc9D",
        "colab_type": "code",
        "colab": {},
        "outputId": "8748f5ff-b203-46f9-f04b-558d38c1ec1d"
      },
      "source": [
        "import matplotlib as mpl\n",
        "import matplotlib.pyplot as plt\n",
        "%matplotlib inline\n",
        "import numpy as np\n",
        "import sklearn\n",
        "import pandas as pd\n",
        "import os\n",
        "import sys\n",
        "import time\n",
        "import tensorflow as tf\n",
        "\n",
        "from tensorflow import keras\n",
        "\n",
        "print(tf.__version__)\n",
        "print(sys.version_info)\n",
        "for module in mpl, np, pd, sklearn, tf, keras:\n",
        "    print(module.__name__, module.__version__)\n"
      ],
      "execution_count": null,
      "outputs": [
        {
          "output_type": "stream",
          "text": [
            "2.0.0\n",
            "sys.version_info(major=3, minor=6, micro=9, releaselevel='final', serial=0)\n",
            "matplotlib 3.1.2\n",
            "numpy 1.17.4\n",
            "pandas 0.25.3\n",
            "sklearn 0.21.3\n",
            "tensorflow 2.0.0\n",
            "tensorflow_core.keras 2.2.4-tf\n"
          ],
          "name": "stdout"
        }
      ]
    },
    {
      "cell_type": "code",
      "metadata": {
        "id": "0wD2P10JIc9H",
        "colab_type": "code",
        "colab": {},
        "outputId": "3656d04a-5bee-4d33-b7ab-7bed08e3e01c"
      },
      "source": [
        "fashion_mnist = keras.datasets.fashion_mnist\n",
        "(x_train_all, y_train_all), (x_test, y_test) = fashion_mnist.load_data()\n",
        "x_valid, x_train = x_train_all[:5000], x_train_all[5000:]\n",
        "y_valid, y_train = y_train_all[:5000], y_train_all[5000:]\n",
        "\n",
        "print(x_valid.shape, y_valid.shape)\n",
        "print(x_train.shape, y_train.shape)\n",
        "print(x_test.shape, y_test.shape)"
      ],
      "execution_count": null,
      "outputs": [
        {
          "output_type": "stream",
          "text": [
            "(5000, 28, 28) (5000,)\n",
            "(55000, 28, 28) (55000,)\n",
            "(10000, 28, 28) (10000,)\n"
          ],
          "name": "stdout"
        }
      ]
    },
    {
      "cell_type": "code",
      "metadata": {
        "id": "8vF3Ser1Ic9K",
        "colab_type": "code",
        "colab": {}
      },
      "source": [
        "from sklearn.preprocessing import StandardScaler\n",
        "\n",
        "scaler = StandardScaler()\n",
        "x_train_scaled = scaler.fit_transform(\n",
        "    x_train.astype(np.float32).reshape(-1, 1)).reshape(-1, 28, 28, 1)\n",
        "x_valid_scaled = scaler.transform(\n",
        "    x_valid.astype(np.float32).reshape(-1, 1)).reshape(-1, 28, 28, 1)\n",
        "x_test_scaled = scaler.transform(\n",
        "    x_test.astype(np.float32).reshape(-1, 1)).reshape(-1, 28, 28, 1)\n"
      ],
      "execution_count": null,
      "outputs": []
    },
    {
      "cell_type": "code",
      "metadata": {
        "id": "ucKryrKmIc9N",
        "colab_type": "code",
        "colab": {}
      },
      "source": [
        "model = keras.models.Sequential()\n",
        "#激活函数使用selu学习曲线更平滑\n",
        "model.add(keras.layers.Conv2D(filters=32, kernel_size=3,\n",
        "                              padding='same',\n",
        "                              activation='selu',\n",
        "                              input_shape=(28, 28, 1)))\n",
        "model.add(keras.layers.Conv2D(filters=32, kernel_size=3,\n",
        "                              padding='same',\n",
        "                              activation='selu'))\n",
        "model.add(keras.layers.MaxPool2D(pool_size=2))\n",
        "model.add(keras.layers.Conv2D(filters=64, kernel_size=3,\n",
        "                              padding='same',\n",
        "                              activation='selu'))\n",
        "model.add(keras.layers.Conv2D(filters=64, kernel_size=3,\n",
        "                              padding='same',\n",
        "                              activation='selu'))\n",
        "model.add(keras.layers.MaxPool2D(pool_size=2))\n",
        "model.add(keras.layers.Conv2D(filters=128, kernel_size=3,\n",
        "                              padding='same',\n",
        "                              activation='selu'))\n",
        "model.add(keras.layers.Conv2D(filters=128, kernel_size=3,\n",
        "                              padding='same',\n",
        "                              activation='selu'))\n",
        "model.add(keras.layers.MaxPool2D(pool_size=2))\n",
        "model.add(keras.layers.Flatten())\n",
        "model.add(keras.layers.Dense(128, activation='selu'))\n",
        "model.add(keras.layers.Dense(10, activation=\"softmax\"))\n",
        "\n",
        "model.compile(loss=\"sparse_categorical_crossentropy\",\n",
        "              optimizer = \"sgd\",\n",
        "              metrics = [\"accuracy\"])"
      ],
      "execution_count": null,
      "outputs": []
    },
    {
      "cell_type": "code",
      "metadata": {
        "id": "oBsqhOlPIc9R",
        "colab_type": "code",
        "colab": {},
        "outputId": "a86f5d2e-a3d2-46f8-ceff-fb3a4f9be129"
      },
      "source": [
        "model.summary()"
      ],
      "execution_count": null,
      "outputs": [
        {
          "output_type": "stream",
          "text": [
            "Model: \"sequential\"\n",
            "_________________________________________________________________\n",
            "Layer (type)                 Output Shape              Param #   \n",
            "=================================================================\n",
            "conv2d (Conv2D)              (None, 28, 28, 32)        320       \n",
            "_________________________________________________________________\n",
            "conv2d_1 (Conv2D)            (None, 28, 28, 32)        9248      \n",
            "_________________________________________________________________\n",
            "max_pooling2d (MaxPooling2D) (None, 14, 14, 32)        0         \n",
            "_________________________________________________________________\n",
            "conv2d_2 (Conv2D)            (None, 14, 14, 64)        18496     \n",
            "_________________________________________________________________\n",
            "conv2d_3 (Conv2D)            (None, 14, 14, 64)        36928     \n",
            "_________________________________________________________________\n",
            "max_pooling2d_1 (MaxPooling2 (None, 7, 7, 64)          0         \n",
            "_________________________________________________________________\n",
            "conv2d_4 (Conv2D)            (None, 7, 7, 128)         73856     \n",
            "_________________________________________________________________\n",
            "conv2d_5 (Conv2D)            (None, 7, 7, 128)         147584    \n",
            "_________________________________________________________________\n",
            "max_pooling2d_2 (MaxPooling2 (None, 3, 3, 128)         0         \n",
            "_________________________________________________________________\n",
            "flatten (Flatten)            (None, 1152)              0         \n",
            "_________________________________________________________________\n",
            "dense (Dense)                (None, 128)               147584    \n",
            "_________________________________________________________________\n",
            "dense_1 (Dense)              (None, 10)                1290      \n",
            "=================================================================\n",
            "Total params: 435,306\n",
            "Trainable params: 435,306\n",
            "Non-trainable params: 0\n",
            "_________________________________________________________________\n"
          ],
          "name": "stdout"
        }
      ]
    },
    {
      "cell_type": "code",
      "metadata": {
        "id": "3IvYT_3rIc9T",
        "colab_type": "code",
        "colab": {},
        "outputId": "bc3f2b1e-0a62-4b9f-d11e-6a5d1841944a"
      },
      "source": [
        "logdir = './cnn-selu-callbacks'\n",
        "if not os.path.exists(logdir):\n",
        "    os.mkdir(logdir)\n",
        "output_model_file = os.path.join(logdir,\n",
        "                                 \"fashion_mnist_model.h5\")\n",
        "\n",
        "callbacks = [\n",
        "    keras.callbacks.TensorBoard(logdir),\n",
        "    keras.callbacks.ModelCheckpoint(output_model_file,\n",
        "                                    save_best_only = True),\n",
        "    keras.callbacks.EarlyStopping(patience=5, min_delta=1e-3),\n",
        "]\n",
        "history = model.fit(x_train_scaled, y_train, epochs=10,\n",
        "                    validation_data=(x_valid_scaled, y_valid),\n",
        "                    callbacks = callbacks)"
      ],
      "execution_count": null,
      "outputs": [
        {
          "output_type": "stream",
          "text": [
            "Train on 55000 samples, validate on 5000 samples\n",
            "Epoch 1/10\n",
            "   32/55000 [..............................] - ETA: 1:48:04 - loss: 2.8398 - accuracy: 0.0312WARNING:tensorflow:Method (on_train_batch_end) is slow compared to the batch update (0.289902). Check your callbacks.\n",
            "55000/55000 [==============================] - 12s 225us/sample - loss: 0.4287 - accuracy: 0.8460 - val_loss: 0.3314 - val_accuracy: 0.8836\n",
            "Epoch 2/10\n",
            "55000/55000 [==============================] - 8s 152us/sample - loss: 0.2857 - accuracy: 0.8966 - val_loss: 0.2873 - val_accuracy: 0.8958\n",
            "Epoch 3/10\n",
            "55000/55000 [==============================] - 8s 150us/sample - loss: 0.2355 - accuracy: 0.9141 - val_loss: 0.2495 - val_accuracy: 0.9094\n",
            "Epoch 4/10\n",
            "55000/55000 [==============================] - 8s 150us/sample - loss: 0.2008 - accuracy: 0.9269 - val_loss: 0.2399 - val_accuracy: 0.9150\n",
            "Epoch 5/10\n",
            "55000/55000 [==============================] - 8s 150us/sample - loss: 0.1736 - accuracy: 0.9375 - val_loss: 0.2332 - val_accuracy: 0.9154\n",
            "Epoch 6/10\n",
            "55000/55000 [==============================] - 8s 151us/sample - loss: 0.1462 - accuracy: 0.9480 - val_loss: 0.2384 - val_accuracy: 0.9144\n",
            "Epoch 7/10\n",
            "55000/55000 [==============================] - 9s 155us/sample - loss: 0.1261 - accuracy: 0.9553 - val_loss: 0.2407 - val_accuracy: 0.9192\n",
            "Epoch 8/10\n",
            "55000/55000 [==============================] - 8s 153us/sample - loss: 0.1050 - accuracy: 0.9632 - val_loss: 0.2648 - val_accuracy: 0.9160\n",
            "Epoch 9/10\n",
            "55000/55000 [==============================] - 8s 149us/sample - loss: 0.0874 - accuracy: 0.9696 - val_loss: 0.2805 - val_accuracy: 0.9126\n",
            "Epoch 10/10\n",
            "55000/55000 [==============================] - 8s 151us/sample - loss: 0.0703 - accuracy: 0.9764 - val_loss: 0.2590 - val_accuracy: 0.9202\n"
          ],
          "name": "stdout"
        }
      ]
    },
    {
      "cell_type": "code",
      "metadata": {
        "id": "PnT_85gNIc9W",
        "colab_type": "code",
        "colab": {},
        "outputId": "80c25ea4-370e-465b-ed00-85b0dbfe8c01"
      },
      "source": [
        "def plot_learning_curves(history):\n",
        "    pd.DataFrame(history.history).plot(figsize=(8, 5))\n",
        "    plt.grid(True)\n",
        "    plt.gca().set_ylim(0, 1)\n",
        "    plt.show()\n",
        "\n",
        "plot_learning_curves(history)"
      ],
      "execution_count": null,
      "outputs": [
        {
          "output_type": "display_data",
          "data": {
            "image/png": "[encoded data removed]",
            "text/plain": [
              "<Figure size 576x360 with 1 Axes>"
            ]
          },
          "metadata": {
            "tags": [],
            "needs_background": "light"
          }
        }
      ]
    },
    {
      "cell_type": "code",
      "metadata": {
        "id": "ZTFYaBTrIc9Z",
        "colab_type": "code",
        "colab": {},
        "outputId": "fd9c4855-35a9-4504-f41b-e902d83e8b71"
      },
      "source": [
        "model.evaluate(x_test_scaled, y_test, verbose = 0)"
      ],
      "execution_count": null,
      "outputs": [
        {
          "output_type": "execute_result",
          "data": {
            "text/plain": [
              "[0.2709400880843401, 0.9166]"
            ]
          },
          "metadata": {
            "tags": []
          },
          "execution_count": 8
        }
      ]
    },
    {
      "cell_type": "code",
      "metadata": {
        "id": "KFTBz2VUIc9b",
        "colab_type": "code",
        "colab": {}
      },
      "source": [
        ""
      ],
      "execution_count": null,
      "outputs": []
    }
  ]
}