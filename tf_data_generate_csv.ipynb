{
  "nbformat": 4,
  "nbformat_minor": 0,
  "metadata": {
    "kernelspec": {
      "display_name": "Python 3",
      "language": "python",
      "name": "python3"
    },
    "language_info": {
      "codemirror_mode": {
        "name": "ipython",
        "version": 3
      },
      "file_extension": ".py",
      "mimetype": "text/x-python",
      "name": "python",
      "nbconvert_exporter": "python",
      "pygments_lexer": "ipython3",
      "version": "3.7.3"
    },
    "colab": {
      "name": "tf_data_generate_csv.ipynb",
      "provenance": [],
      "include_colab_link": true
    }
  },
  "cells": [
    {
      "cell_type": "markdown",
      "metadata": {
        "id": "view-in-github",
        "colab_type": "text"
      },
      "source": [
        "<a href=\"https://colab.research.google.com/github/KarlYang2013/tf_study/blob/master/tf_data_generate_csv.ipynb\" target=\"_parent\"><img src=\"https://colab.research.google.com/assets/colab-badge.svg\" alt=\"Open In Colab\"/></a>"
      ]
    },
    {
      "cell_type": "code",
      "metadata": {
        "id": "ktcD16V-ZcHv",
        "colab_type": "code",
        "colab": {
          "base_uri": "https://localhost:8080/",
          "height": 153
        },
        "outputId": "ef1a7fc0-8cd6-4660-947b-dd77ee835356"
      },
      "source": [
        "import matplotlib as mpl\n",
        "import matplotlib.pyplot as plt\n",
        "%matplotlib inline\n",
        "import numpy as np\n",
        "import sklearn\n",
        "import pandas as pd\n",
        "import os\n",
        "import sys\n",
        "import time\n",
        "import tensorflow as tf\n",
        "\n",
        "from tensorflow import keras\n",
        "\n",
        "print(tf.__version__)\n",
        "print(sys.version_info)\n",
        "for module in mpl, np, pd, sklearn, tf, keras:\n",
        "    print(module.__name__, module.__version__)"
      ],
      "execution_count": 1,
      "outputs": [
        {
          "output_type": "stream",
          "text": [
            "2.2.0\n",
            "sys.version_info(major=3, minor=6, micro=9, releaselevel='final', serial=0)\n",
            "matplotlib 3.2.2\n",
            "numpy 1.18.5\n",
            "pandas 1.0.5\n",
            "sklearn 0.22.2.post1\n",
            "tensorflow 2.2.0\n",
            "tensorflow.keras 2.3.0-tf\n"
          ],
          "name": "stdout"
        }
      ]
    },
    {
      "cell_type": "code",
      "metadata": {
        "id": "xFTIzF7oZcHz",
        "colab_type": "code",
        "colab": {
          "base_uri": "https://localhost:8080/",
          "height": 34
        },
        "outputId": "a27b9ae0-f6ce-49d7-e6b3-2ca716573e07"
      },
      "source": [
        "from sklearn.datasets import fetch_california_housing\n",
        "\n",
        "housing = fetch_california_housing()"
      ],
      "execution_count": 4,
      "outputs": [
        {
          "output_type": "stream",
          "text": [
            "Downloading Cal. housing from https://ndownloader.figshare.com/files/5976036 to /root/scikit_learn_data\n"
          ],
          "name": "stderr"
        }
      ]
    },
    {
      "cell_type": "code",
      "metadata": {
        "id": "pnyQBNFLZcH2",
        "colab_type": "code",
        "colab": {
          "base_uri": "https://localhost:8080/",
          "height": 68
        },
        "outputId": "3dfe4413-c9ac-4b99-cbd1-aad6549be082"
      },
      "source": [
        "from sklearn.model_selection import train_test_split\n",
        "\n",
        "x_train_all, x_test, y_train_all, y_test = train_test_split(\n",
        "    housing.data, housing.target, random_state = 7)\n",
        "x_train, x_valid, y_train, y_valid = train_test_split(\n",
        "    x_train_all, y_train_all, random_state = 11)\n",
        "print(x_train.shape, y_train.shape)\n",
        "print(x_valid.shape, y_valid.shape)\n",
        "print(x_test.shape, y_test.shape)\n"
      ],
      "execution_count": 5,
      "outputs": [
        {
          "output_type": "stream",
          "text": [
            "(11610, 8) (11610,)\n",
            "(3870, 8) (3870,)\n",
            "(5160, 8) (5160,)\n"
          ],
          "name": "stdout"
        }
      ]
    },
    {
      "cell_type": "code",
      "metadata": {
        "id": "WvpOdpMxZcH4",
        "colab_type": "code",
        "colab": {}
      },
      "source": [
        "from sklearn.preprocessing import StandardScaler\n",
        "\n",
        "scaler = StandardScaler()\n",
        "x_train_scaled = scaler.fit_transform(x_train)\n",
        "x_valid_scaled = scaler.transform(x_valid)\n",
        "x_test_scaled = scaler.transform(x_test)"
      ],
      "execution_count": 7,
      "outputs": []
    },
    {
      "cell_type": "code",
      "metadata": {
        "id": "Z_DoCjfUZcH7",
        "colab_type": "code",
        "colab": {}
      },
      "source": [
        "output_dir = \"generate_csv\"\n",
        "if not os.path.exists(output_dir):\n",
        "    os.mkdir(output_dir)\n",
        "\n",
        "def save_to_csv(output_dir, data, name_prefix,\n",
        "                header=None, n_parts=10):\n",
        "    path_format = os.path.join(output_dir, \"{}_{:02d}.csv\")\n",
        "    filenames = []\n",
        "    \n",
        "    for file_idx, row_indices in enumerate(\n",
        "        np.array_split(np.arange(len(data)), n_parts)):\n",
        "        part_csv = path_format.format(name_prefix, file_idx)\n",
        "        filenames.append(part_csv)\n",
        "        with open(part_csv, \"wt\", encoding=\"utf-8\") as f:\n",
        "            if header is not None:\n",
        "                f.write(header + \"\\n\")\n",
        "            for row_index in row_indices:\n",
        "                f.write(\",\".join(\n",
        "                    [repr(col) for col in data[row_index]]))\n",
        "                f.write('\\n')\n",
        "    return filenames\n",
        "\n",
        "train_data = np.c_[x_train_scaled, y_train]\n",
        "valid_data = np.c_[x_valid_scaled, y_valid]\n",
        "test_data = np.c_[x_test_scaled, y_test]\n",
        "header_cols = housing.feature_names + [\"MidianHouseValue\"]\n",
        "header_str = \",\".join(header_cols)\n",
        "\n",
        "train_filenames = save_to_csv(output_dir, train_data, \"train\",\n",
        "                              header_str, n_parts=20)\n",
        "valid_filenames = save_to_csv(output_dir, valid_data, \"valid\",\n",
        "                              header_str, n_parts=10)\n",
        "test_filenames = save_to_csv(output_dir, test_data, \"test\",\n",
        "                             header_str, n_parts=10)"
      ],
      "execution_count": 8,
      "outputs": []
    },
    {
      "cell_type": "code",
      "metadata": {
        "id": "C8P-2dFEZcH9",
        "colab_type": "code",
        "colab": {
          "base_uri": "https://localhost:8080/",
          "height": 748
        },
        "outputId": "ee323d7b-9858-4c24-a70a-e6aba428997c"
      },
      "source": [
        "import pprint\n",
        "print(\"train filenames:\")\n",
        "pprint.pprint(train_filenames)\n",
        "print(\"valid filenames:\")\n",
        "pprint.pprint(valid_filenames)\n",
        "print(\"test filenames:\")\n",
        "pprint.pprint(test_filenames)"
      ],
      "execution_count": 9,
      "outputs": [
        {
          "output_type": "stream",
          "text": [
            "train filenames:\n",
            "['generate_csv/train_00.csv',\n",
            " 'generate_csv/train_01.csv',\n",
            " 'generate_csv/train_02.csv',\n",
            " 'generate_csv/train_03.csv',\n",
            " 'generate_csv/train_04.csv',\n",
            " 'generate_csv/train_05.csv',\n",
            " 'generate_csv/train_06.csv',\n",
            " 'generate_csv/train_07.csv',\n",
            " 'generate_csv/train_08.csv',\n",
            " 'generate_csv/train_09.csv',\n",
            " 'generate_csv/train_10.csv',\n",
            " 'generate_csv/train_11.csv',\n",
            " 'generate_csv/train_12.csv',\n",
            " 'generate_csv/train_13.csv',\n",
            " 'generate_csv/train_14.csv',\n",
            " 'generate_csv/train_15.csv',\n",
            " 'generate_csv/train_16.csv',\n",
            " 'generate_csv/train_17.csv',\n",
            " 'generate_csv/train_18.csv',\n",
            " 'generate_csv/train_19.csv']\n",
            "valid filenames:\n",
            "['generate_csv/valid_00.csv',\n",
            " 'generate_csv/valid_01.csv',\n",
            " 'generate_csv/valid_02.csv',\n",
            " 'generate_csv/valid_03.csv',\n",
            " 'generate_csv/valid_04.csv',\n",
            " 'generate_csv/valid_05.csv',\n",
            " 'generate_csv/valid_06.csv',\n",
            " 'generate_csv/valid_07.csv',\n",
            " 'generate_csv/valid_08.csv',\n",
            " 'generate_csv/valid_09.csv']\n",
            "test filenames:\n",
            "['generate_csv/test_00.csv',\n",
            " 'generate_csv/test_01.csv',\n",
            " 'generate_csv/test_02.csv',\n",
            " 'generate_csv/test_03.csv',\n",
            " 'generate_csv/test_04.csv',\n",
            " 'generate_csv/test_05.csv',\n",
            " 'generate_csv/test_06.csv',\n",
            " 'generate_csv/test_07.csv',\n",
            " 'generate_csv/test_08.csv',\n",
            " 'generate_csv/test_09.csv']\n"
          ],
          "name": "stdout"
        }
      ]
    },
    {
      "cell_type": "code",
      "metadata": {
        "id": "l07t2SjxZcH_",
        "colab_type": "code",
        "colab": {
          "base_uri": "https://localhost:8080/",
          "height": 357
        },
        "outputId": "ab4970f9-3a49-49d0-d7f5-20bbcc1fdd6b"
      },
      "source": [
        "# 1. filename -> dataset\n",
        "# 2. read file -> dataset -> datasets -> merge\n",
        "# 3. parse csv\n",
        "\n",
        "filename_dataset = tf.data.Dataset.list_files(train_filenames)\n",
        "for filename in filename_dataset:\n",
        "    print(filename)"
      ],
      "execution_count": 10,
      "outputs": [
        {
          "output_type": "stream",
          "text": [
            "tf.Tensor(b'generate_csv/train_07.csv', shape=(), dtype=string)\n",
            "tf.Tensor(b'generate_csv/train_13.csv', shape=(), dtype=string)\n",
            "tf.Tensor(b'generate_csv/train_15.csv', shape=(), dtype=string)\n",
            "tf.Tensor(b'generate_csv/train_08.csv', shape=(), dtype=string)\n",
            "tf.Tensor(b'generate_csv/train_03.csv', shape=(), dtype=string)\n",
            "tf.Tensor(b'generate_csv/train_10.csv', shape=(), dtype=string)\n",
            "tf.Tensor(b'generate_csv/train_12.csv', shape=(), dtype=string)\n",
            "tf.Tensor(b'generate_csv/train_18.csv', shape=(), dtype=string)\n",
            "tf.Tensor(b'generate_csv/train_02.csv', shape=(), dtype=string)\n",
            "tf.Tensor(b'generate_csv/train_11.csv', shape=(), dtype=string)\n",
            "tf.Tensor(b'generate_csv/train_19.csv', shape=(), dtype=string)\n",
            "tf.Tensor(b'generate_csv/train_06.csv', shape=(), dtype=string)\n",
            "tf.Tensor(b'generate_csv/train_04.csv', shape=(), dtype=string)\n",
            "tf.Tensor(b'generate_csv/train_01.csv', shape=(), dtype=string)\n",
            "tf.Tensor(b'generate_csv/train_00.csv', shape=(), dtype=string)\n",
            "tf.Tensor(b'generate_csv/train_09.csv', shape=(), dtype=string)\n",
            "tf.Tensor(b'generate_csv/train_05.csv', shape=(), dtype=string)\n",
            "tf.Tensor(b'generate_csv/train_16.csv', shape=(), dtype=string)\n",
            "tf.Tensor(b'generate_csv/train_14.csv', shape=(), dtype=string)\n",
            "tf.Tensor(b'generate_csv/train_17.csv', shape=(), dtype=string)\n"
          ],
          "name": "stdout"
        }
      ]
    },
    {
      "cell_type": "code",
      "metadata": {
        "id": "rtDHQTTuZcIC",
        "colab_type": "code",
        "colab": {
          "base_uri": "https://localhost:8080/",
          "height": 292
        },
        "outputId": "8c18dde4-5393-43b2-fa71-753e566511e2"
      },
      "source": [
        "n_readers = 5\n",
        "dataset = filename_dataset.interleave(\n",
        "    lambda filename: tf.data.TextLineDataset(filename).skip(1),##记得skip(1)把列名去掉\n",
        "    cycle_length = n_readers\n",
        ")\n",
        "for line in dataset.take(15):\n",
        "    print(line.numpy())"
      ],
      "execution_count": 11,
      "outputs": [
        {
          "output_type": "stream",
          "text": [
            "b'0.4853051504718848,-0.8492418886278699,-0.06530126513877861,-0.023379656040017353,1.4974350551260218,-0.07790657783453239,-0.9023632702857819,0.7814514907892068,2.956'\n",
            "b'0.04971034572063198,-0.8492418886278699,-0.06214699417830008,0.17878747064657746,-0.8025354230744277,0.0005066066922077538,0.6466457006743215,-1.1060793768010604,2.286'\n",
            "b'-0.6672227549433569,-0.04823952235146133,0.34529405473316743,0.5382668657200925,1.8521839533415545,-0.0611253832474835,-0.8417093045554153,1.520484740533546,1.59'\n",
            "b'-0.8219588176953616,1.874166156711919,0.18212349433218608,-0.03170019246279883,-0.6011178900722581,-0.14337494105109344,1.0852205298015787,-0.8613994495208361,1.054'\n",
            "b'0.15782311132800697,0.43236189741438374,0.3379948076652917,-0.015880306122244434,-0.3733890577139493,-0.05305245634489608,0.8006134598360177,-1.2359095422966828,3.169'\n",
            "b'-0.7432054083470616,0.9129633171802288,-0.644320243857189,-0.1479096959813185,0.7398510909061499,0.11427691039226903,-0.7950524078397521,0.6815821327156534,1.438'\n",
            "b'-1.453851024367546,1.874166156711919,-1.1315714708271856,0.3611276016530489,-0.3978857847006997,-0.03273859332533962,-0.7390641317809511,0.646627857389904,1.875'\n",
            "b'1.5180511450515526,-0.5288409421173064,0.8102470510967439,-0.1921416982863481,0.44135393614167334,0.027335058055345158,-0.8183808561975836,0.8563535093443789,2.898'\n",
            "b'-0.46794146200516895,-0.9293421252555106,0.11909925912590703,-0.060470113038678074,0.30344643606811583,-0.021851890609536125,1.873722084296329,-1.0411642940532422,1.012'\n",
            "b'2.2878417437355094,-1.8905449647872008,0.6607106467795992,-0.14964778023694128,-0.06672632728722275,0.44788055801575993,-0.5337737862320228,0.5667323709310584,3.59'\n",
            "b'-0.8246762898717912,-0.04823952235146133,-0.3448658166118309,-0.08477587145199328,0.5012348243315076,-0.034699996532417135,0.5300034588851571,-0.08741192445075467,0.717'\n",
            "b'-1.1179501498535522,0.3522616607867429,-0.17415480367337632,0.1029357335256435,-0.24364713330264193,-0.06195252491676357,1.9063819119972951,-1.1210597805120879,0.603'\n",
            "b'-0.3295635160799086,0.9930635538078697,-0.8771740525217612,-0.3636710820906513,-1.1164564429787098,-0.08510593365640572,1.0665577711153127,-1.38571357940702,1.563'\n",
            "b'-0.060214068004363165,0.7527628439249472,0.0835940301935345,-0.06250122441959183,-0.03497131082291674,-0.026442380178345683,1.0712234607868782,-1.3707331756959855,1.651'\n",
            "b'0.3798565732727743,-1.5701440182766375,0.4541195259524651,-0.13374802152613807,-0.28356772542919806,-0.04747003172530946,-0.3191520613399599,-0.41698080609349797,1.901'\n"
          ],
          "name": "stdout"
        }
      ]
    },
    {
      "cell_type": "code",
      "metadata": {
        "id": "lXcUOSdLZcIF",
        "colab_type": "code",
        "colab": {
          "base_uri": "https://localhost:8080/",
          "height": 54
        },
        "outputId": "a9ce383e-8054-448c-8fbc-f45a89ad8eb0"
      },
      "source": [
        "# tf.io.decode_csv(str, record_defaults)\n",
        "\n",
        "sample_str = '1,2,3,4,5'\n",
        "record_defaults = [\n",
        "    tf.constant(0, dtype=tf.int32),\n",
        "    0,\n",
        "    np.nan,\n",
        "    \"hello\",\n",
        "    tf.constant([])\n",
        "]\n",
        "parsed_fields = tf.io.decode_csv(sample_str, record_defaults)\n",
        "print(parsed_fields)"
      ],
      "execution_count": 12,
      "outputs": [
        {
          "output_type": "stream",
          "text": [
            "[<tf.Tensor: shape=(), dtype=int32, numpy=1>, <tf.Tensor: shape=(), dtype=int32, numpy=2>, <tf.Tensor: shape=(), dtype=float32, numpy=3.0>, <tf.Tensor: shape=(), dtype=string, numpy=b'4'>, <tf.Tensor: shape=(), dtype=float32, numpy=5.0>]\n"
          ],
          "name": "stdout"
        }
      ]
    },
    {
      "cell_type": "code",
      "metadata": {
        "id": "uEYKVFaKZcIH",
        "colab_type": "code",
        "colab": {
          "base_uri": "https://localhost:8080/",
          "height": 34
        },
        "outputId": "1483c2fb-90fa-4746-fc60-64a67fe51bb1"
      },
      "source": [
        "try:\n",
        "    parsed_fields = tf.io.decode_csv(',,,,', record_defaults)\n",
        "except tf.errors.InvalidArgumentError as ex:\n",
        "    print(ex)"
      ],
      "execution_count": 13,
      "outputs": [
        {
          "output_type": "stream",
          "text": [
            "Field 4 is required but missing in record 0! [Op:DecodeCSV]\n"
          ],
          "name": "stdout"
        }
      ]
    },
    {
      "cell_type": "code",
      "metadata": {
        "id": "J66LtoglZcIJ",
        "colab_type": "code",
        "colab": {},
        "outputId": "8efea279-7d8c-4879-8720-c039a6d102c2"
      },
      "source": [
        "try:\n",
        "    parsed_fields = tf.io.decode_csv('1,2,3,4,5,6,7', record_defaults)\n",
        "except tf.errors.InvalidArgumentError as ex:\n",
        "    print(ex)"
      ],
      "execution_count": null,
      "outputs": [
        {
          "output_type": "stream",
          "text": [
            "Expect 5 fields but have 7 in record 0 [Op:DecodeCSV]\n"
          ],
          "name": "stdout"
        }
      ]
    },
    {
      "cell_type": "code",
      "metadata": {
        "id": "dBG_CWA8ZcIL",
        "colab_type": "code",
        "colab": {
          "base_uri": "https://localhost:8080/",
          "height": 85
        },
        "outputId": "6e6591b0-a398-4240-ccdd-a02794aa2010"
      },
      "source": [
        "#定义一个函数来解析一行文本\n",
        "def parse_csv_line(line, n_fields = 9):\n",
        "    defs = [tf.constant(np.nan)] * n_fields\n",
        "    parsed_fields = tf.io.decode_csv(line, record_defaults=defs)\n",
        "    x = tf.stack(parsed_fields[0:-1])\n",
        "    y = tf.stack(parsed_fields[-1:])\n",
        "    return x, y\n",
        "\n",
        "parse_csv_line(b'-0.9868720801669367,0.832863080552588,-0.18684708416901633,-0.14888949288707784,-0.4532302419670616,-0.11504995754593579,1.6730974284189664,-0.7465496877362412,1.138',\n",
        "               n_fields=9)"
      ],
      "execution_count": 14,
      "outputs": [
        {
          "output_type": "execute_result",
          "data": {
            "text/plain": [
              "(<tf.Tensor: shape=(8,), dtype=float32, numpy=\n",
              " array([-0.9868721 ,  0.8328631 , -0.18684709, -0.1488895 , -0.45323023,\n",
              "        -0.11504996,  1.6730974 , -0.74654967], dtype=float32)>,\n",
              " <tf.Tensor: shape=(1,), dtype=float32, numpy=array([1.138], dtype=float32)>)"
            ]
          },
          "metadata": {
            "tags": []
          },
          "execution_count": 14
        }
      ]
    },
    {
      "cell_type": "code",
      "metadata": {
        "id": "RO9JPEuiZcIO",
        "colab_type": "code",
        "colab": {
          "base_uri": "https://localhost:8080/",
          "height": 459
        },
        "outputId": "d8d37922-249b-4de5-fd72-40c4d710edaf"
      },
      "source": [
        "# 1. filename -> dataset\n",
        "# 2. read file -> dataset -> datasets -> merge\n",
        "# 3. parse csv\n",
        "def csv_reader_dataset(filenames, n_readers=5,\n",
        "                       batch_size=32, n_parse_threads=5,\n",
        "                       shuffle_buffer_size=10000):\n",
        "    dataset = tf.data.Dataset.list_files(filenames)\n",
        "    dataset = dataset.repeat()\n",
        "    dataset = dataset.interleave(\n",
        "        lambda filename: tf.data.TextLineDataset(filename).skip(1),\n",
        "        cycle_length = n_readers\n",
        "    )\n",
        "    dataset.shuffle(shuffle_buffer_size)\n",
        "    dataset = dataset.map(parse_csv_line,\n",
        "                          num_parallel_calls=n_parse_threads)\n",
        "    dataset = dataset.batch(batch_size)\n",
        "    return dataset\n",
        "\n",
        "train_set = csv_reader_dataset(train_filenames, batch_size=3)\n",
        "for x_batch, y_batch in train_set.take(2):\n",
        "    print(\"x:\")\n",
        "    pprint.pprint(x_batch)\n",
        "    print(\"y:\")\n",
        "    pprint.pprint(y_batch)"
      ],
      "execution_count": 15,
      "outputs": [
        {
          "output_type": "stream",
          "text": [
            "x:\n",
            "<tf.Tensor: shape=(3, 8), dtype=float32, numpy=\n",
            "array([[-1.0775077 , -0.4487407 , -0.5680568 , -0.14269263, -0.09666677,\n",
            "         0.12326469, -0.31448638, -0.4818959 ],\n",
            "       [-0.097193  , -1.2497431 ,  0.36232963,  0.02690608,  1.0338118 ,\n",
            "         0.04588159,  1.3418335 , -1.635387  ],\n",
            "       [ 0.15782312,  0.4323619 ,  0.3379948 , -0.01588031, -0.37338907,\n",
            "        -0.05305246,  0.80061346, -1.2359096 ]], dtype=float32)>\n",
            "y:\n",
            "<tf.Tensor: shape=(3, 1), dtype=float32, numpy=\n",
            "array([[0.978],\n",
            "       [1.832],\n",
            "       [3.169]], dtype=float32)>\n",
            "x:\n",
            "<tf.Tensor: shape=(3, 8), dtype=float32, numpy=\n",
            "array([[ 0.81150836, -0.04823952,  0.5187339 , -0.0293864 , -0.03406402,\n",
            "        -0.05081595, -0.7157357 ,  0.91627514],\n",
            "       [ 2.5150437 ,  1.0731637 ,  0.5574401 , -0.17273512, -0.6129126 ,\n",
            "        -0.01909157, -0.5710993 , -0.02749031],\n",
            "       [-1.2310716 ,  0.91296333, -0.19194563,  0.12851463, -0.1873954 ,\n",
            "         0.1460428 , -0.785721  ,  0.6566148 ]], dtype=float32)>\n",
            "y:\n",
            "<tf.Tensor: shape=(3, 1), dtype=float32, numpy=\n",
            "array([[2.147  ],\n",
            "       [5.00001],\n",
            "       [0.953  ]], dtype=float32)>\n"
          ],
          "name": "stdout"
        }
      ]
    },
    {
      "cell_type": "code",
      "metadata": {
        "id": "gQ3afnZsZcIQ",
        "colab_type": "code",
        "colab": {}
      },
      "source": [
        "batch_size = 32\n",
        "train_set = csv_reader_dataset(train_filenames,\n",
        "                               batch_size = batch_size)\n",
        "valid_set = csv_reader_dataset(valid_filenames,\n",
        "                               batch_size = batch_size)\n",
        "test_set = csv_reader_dataset(test_filenames,\n",
        "                              batch_size = batch_size)\n"
      ],
      "execution_count": 16,
      "outputs": []
    },
    {
      "cell_type": "code",
      "metadata": {
        "id": "R-yzB-o-ZcIS",
        "colab_type": "code",
        "colab": {
          "base_uri": "https://localhost:8080/",
          "height": 527
        },
        "outputId": "016b49d3-a4ac-46a3-fc2f-ec6265565680"
      },
      "source": [
        "model = keras.models.Sequential([\n",
        "    keras.layers.Dense(30, activation='relu',\n",
        "                       input_shape=[8]),\n",
        "    keras.layers.Dense(1),\n",
        "])\n",
        "model.compile(loss=\"mean_squared_error\", optimizer=\"sgd\")\n",
        "callbacks = [keras.callbacks.EarlyStopping(\n",
        "    patience=5, min_delta=1e-2)]\n",
        "\n",
        "history = model.fit(train_set,\n",
        "                    validation_data = valid_set,\n",
        "                    steps_per_epoch = 11160 // batch_size,#总量除以batch_size也就是需要多少step才能处理完一个epoch的数据\n",
        "                    validation_steps = 3870 // batch_size,\n",
        "                    epochs = 100,\n",
        "                    callbacks = callbacks)"
      ],
      "execution_count": 17,
      "outputs": [
        {
          "output_type": "stream",
          "text": [
            "Epoch 1/100\n",
            "348/348 [==============================] - 1s 3ms/step - loss: 2.0559 - val_loss: 0.7420\n",
            "Epoch 2/100\n",
            "348/348 [==============================] - 1s 2ms/step - loss: 0.4417 - val_loss: 0.4237\n",
            "Epoch 3/100\n",
            "348/348 [==============================] - 1s 2ms/step - loss: 0.3910 - val_loss: 0.4034\n",
            "Epoch 4/100\n",
            "348/348 [==============================] - 1s 2ms/step - loss: 0.3911 - val_loss: 0.3898\n",
            "Epoch 5/100\n",
            "348/348 [==============================] - 1s 2ms/step - loss: 0.4182 - val_loss: 0.4076\n",
            "Epoch 6/100\n",
            "348/348 [==============================] - 1s 3ms/step - loss: 0.3824 - val_loss: 0.3851\n",
            "Epoch 7/100\n",
            "348/348 [==============================] - 1s 3ms/step - loss: 0.3708 - val_loss: 0.3779\n",
            "Epoch 8/100\n",
            "348/348 [==============================] - 1s 2ms/step - loss: 0.3638 - val_loss: 0.3748\n",
            "Epoch 9/100\n",
            "348/348 [==============================] - 1s 3ms/step - loss: 0.3599 - val_loss: 0.3700\n",
            "Epoch 10/100\n",
            "348/348 [==============================] - 1s 2ms/step - loss: 0.3597 - val_loss: 0.3662\n",
            "Epoch 11/100\n",
            "348/348 [==============================] - 1s 2ms/step - loss: 0.3646 - val_loss: 0.3668\n",
            "Epoch 12/100\n",
            "348/348 [==============================] - 1s 3ms/step - loss: 0.3752 - val_loss: 0.3623\n",
            "Epoch 13/100\n",
            "348/348 [==============================] - 1s 2ms/step - loss: 0.3583 - val_loss: 0.3673\n",
            "Epoch 14/100\n",
            "348/348 [==============================] - 1s 2ms/step - loss: 0.3675 - val_loss: 0.3614\n",
            "Epoch 15/100\n",
            "348/348 [==============================] - 1s 3ms/step - loss: 0.3573 - val_loss: 0.3604\n"
          ],
          "name": "stdout"
        }
      ]
    },
    {
      "cell_type": "code",
      "metadata": {
        "id": "6GwVVvRMZcIU",
        "colab_type": "code",
        "colab": {
          "base_uri": "https://localhost:8080/",
          "height": 51
        },
        "outputId": "bf35fd03-de32-4ed8-c277-bae3d6ae372a"
      },
      "source": [
        "model.evaluate(test_set, steps = 5160 // batch_size)"
      ],
      "execution_count": 18,
      "outputs": [
        {
          "output_type": "stream",
          "text": [
            "161/161 [==============================] - 0s 2ms/step - loss: 0.3692\n"
          ],
          "name": "stdout"
        },
        {
          "output_type": "execute_result",
          "data": {
            "text/plain": [
              "0.36924684047698975"
            ]
          },
          "metadata": {
            "tags": []
          },
          "execution_count": 18
        }
      ]
    },
    {
      "cell_type": "code",
      "metadata": {
        "id": "rWp6c3RYZcIW",
        "colab_type": "code",
        "colab": {}
      },
      "source": [
        ""
      ],
      "execution_count": null,
      "outputs": []
    }
  ]
}