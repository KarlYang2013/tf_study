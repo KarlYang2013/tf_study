{
  "nbformat": 4,
  "nbformat_minor": 0,
  "metadata": {
    "kernelspec": {
      "display_name": "Python 3",
      "language": "python",
      "name": "python3"
    },
    "language_info": {
      "codemirror_mode": {
        "name": "ipython",
        "version": 3
      },
      "file_extension": ".py",
      "mimetype": "text/x-python",
      "name": "python",
      "nbconvert_exporter": "python",
      "pygments_lexer": "ipython3",
      "version": "3.7.3"
    },
    "colab": {
      "name": "tf_premade_estimators.ipynb",
      "provenance": [],
      "include_colab_link": true
    }
  },
  "cells": [
    {
      "cell_type": "markdown",
      "metadata": {
        "id": "view-in-github",
        "colab_type": "text"
      },
      "source": [
        "<a href=\"https://colab.research.google.com/github/KarlYang2013/tf_study/blob/master/tf_premade_estimators.ipynb\" target=\"_parent\"><img src=\"https://colab.research.google.com/assets/colab-badge.svg\" alt=\"Open In Colab\"/></a>"
      ]
    },
    {
      "cell_type": "code",
      "metadata": {
        "id": "BBQdds7fzE86",
        "colab_type": "code",
        "colab": {},
        "outputId": "a7392731-00d2-4c17-8831-c8831718763a"
      },
      "source": [
        "import matplotlib as mpl\n",
        "import matplotlib.pyplot as plt\n",
        "%matplotlib inline\n",
        "import numpy as np\n",
        "import sklearn\n",
        "import pandas as pd\n",
        "import os\n",
        "import sys\n",
        "import time\n",
        "import tensorflow as tf\n",
        "\n",
        "from tensorflow import keras\n",
        "\n",
        "print(tf.__version__)\n",
        "print(sys.version_info)\n",
        "for module in mpl, np, pd, sklearn, tf, keras:\n",
        "    print(module.__name__, module.__version__)"
      ],
      "execution_count": null,
      "outputs": [
        {
          "output_type": "stream",
          "text": [
            "2.0.0\n",
            "sys.version_info(major=3, minor=7, micro=3, releaselevel='final', serial=0)\n",
            "matplotlib 3.1.1\n",
            "numpy 1.17.3\n",
            "pandas 0.25.3\n",
            "sklearn 0.21.3\n",
            "tensorflow 2.0.0\n",
            "tensorflow_core.keras 2.2.4-tf\n"
          ],
          "name": "stdout"
        }
      ]
    },
    {
      "cell_type": "code",
      "metadata": {
        "id": "MMppySKKzE8_",
        "colab_type": "code",
        "colab": {},
        "outputId": "dbf71188-6b97-4ce9-baad-602efd761e54"
      },
      "source": [
        "# https://storage.googleapis.com/tf-datasets/titanic/train.csv\n",
        "# https://storage.googleapis.com/tf-datasets/titanic/eval.csv\n",
        "train_file = \"./data/titanic/train.csv\"\n",
        "eval_file = \"./data/titanic/eval.csv\"\n",
        "\n",
        "train_df = pd.read_csv(train_file)\n",
        "eval_df = pd.read_csv(eval_file)\n",
        "\n",
        "print(train_df.head())\n",
        "print(eval_df.head())"
      ],
      "execution_count": null,
      "outputs": [
        {
          "output_type": "stream",
          "text": [
            "   survived     sex   age  n_siblings_spouses  parch     fare  class     deck  \\\n",
            "0         0    male  22.0                   1      0   7.2500  Third  unknown   \n",
            "1         1  female  38.0                   1      0  71.2833  First        C   \n",
            "2         1  female  26.0                   0      0   7.9250  Third  unknown   \n",
            "3         1  female  35.0                   1      0  53.1000  First        C   \n",
            "4         0    male  28.0                   0      0   8.4583  Third  unknown   \n",
            "\n",
            "   embark_town alone  \n",
            "0  Southampton     n  \n",
            "1    Cherbourg     n  \n",
            "2  Southampton     y  \n",
            "3  Southampton     n  \n",
            "4   Queenstown     y  \n",
            "   survived     sex   age  n_siblings_spouses  parch     fare   class  \\\n",
            "0         0    male  35.0                   0      0   8.0500   Third   \n",
            "1         0    male  54.0                   0      0  51.8625   First   \n",
            "2         1  female  58.0                   0      0  26.5500   First   \n",
            "3         1  female  55.0                   0      0  16.0000  Second   \n",
            "4         1    male  34.0                   0      0  13.0000  Second   \n",
            "\n",
            "      deck  embark_town alone  \n",
            "0  unknown  Southampton     y  \n",
            "1        E  Southampton     y  \n",
            "2        C  Southampton     y  \n",
            "3  unknown  Southampton     y  \n",
            "4        D  Southampton     y  \n"
          ],
          "name": "stdout"
        }
      ]
    },
    {
      "cell_type": "code",
      "metadata": {
        "id": "GSLq_EfyzE9B",
        "colab_type": "code",
        "colab": {},
        "outputId": "211dd5ee-1759-48f8-a084-d181533ea9ca"
      },
      "source": [
        "y_train = train_df.pop('survived')\n",
        "y_eval = eval_df.pop('survived')\n",
        "\n",
        "print(train_df.head())\n",
        "print(eval_df.head())\n",
        "print(y_train.head())\n",
        "print(y_eval.head())"
      ],
      "execution_count": null,
      "outputs": [
        {
          "output_type": "stream",
          "text": [
            "      sex   age  n_siblings_spouses  parch     fare  class     deck  \\\n",
            "0    male  22.0                   1      0   7.2500  Third  unknown   \n",
            "1  female  38.0                   1      0  71.2833  First        C   \n",
            "2  female  26.0                   0      0   7.9250  Third  unknown   \n",
            "3  female  35.0                   1      0  53.1000  First        C   \n",
            "4    male  28.0                   0      0   8.4583  Third  unknown   \n",
            "\n",
            "   embark_town alone  \n",
            "0  Southampton     n  \n",
            "1    Cherbourg     n  \n",
            "2  Southampton     y  \n",
            "3  Southampton     n  \n",
            "4   Queenstown     y  \n",
            "      sex   age  n_siblings_spouses  parch     fare   class     deck  \\\n",
            "0    male  35.0                   0      0   8.0500   Third  unknown   \n",
            "1    male  54.0                   0      0  51.8625   First        E   \n",
            "2  female  58.0                   0      0  26.5500   First        C   \n",
            "3  female  55.0                   0      0  16.0000  Second  unknown   \n",
            "4    male  34.0                   0      0  13.0000  Second        D   \n",
            "\n",
            "   embark_town alone  \n",
            "0  Southampton     y  \n",
            "1  Southampton     y  \n",
            "2  Southampton     y  \n",
            "3  Southampton     y  \n",
            "4  Southampton     y  \n",
            "0    0\n",
            "1    1\n",
            "2    1\n",
            "3    1\n",
            "4    0\n",
            "Name: survived, dtype: int64\n",
            "0    0\n",
            "1    0\n",
            "2    1\n",
            "3    1\n",
            "4    1\n",
            "Name: survived, dtype: int64\n"
          ],
          "name": "stdout"
        }
      ]
    },
    {
      "cell_type": "code",
      "metadata": {
        "id": "f6ZwdrJozE9F",
        "colab_type": "code",
        "colab": {},
        "outputId": "266feb7c-36ae-4598-9aa9-89f87fc37c5a"
      },
      "source": [
        "train_df.describe()"
      ],
      "execution_count": null,
      "outputs": [
        {
          "output_type": "execute_result",
          "data": {
            "text/html": [
              "<div>\n",
              "<style scoped>\n",
              "    .dataframe tbody tr th:only-of-type {\n",
              "        vertical-align: middle;\n",
              "    }\n",
              "\n",
              "    .dataframe tbody tr th {\n",
              "        vertical-align: top;\n",
              "    }\n",
              "\n",
              "    .dataframe thead th {\n",
              "        text-align: right;\n",
              "    }\n",
              "</style>\n",
              "<table border=\"1\" class=\"dataframe\">\n",
              "  <thead>\n",
              "    <tr style=\"text-align: right;\">\n",
              "      <th></th>\n",
              "      <th>age</th>\n",
              "      <th>n_siblings_spouses</th>\n",
              "      <th>parch</th>\n",
              "      <th>fare</th>\n",
              "    </tr>\n",
              "  </thead>\n",
              "  <tbody>\n",
              "    <tr>\n",
              "      <th>count</th>\n",
              "      <td>627.000000</td>\n",
              "      <td>627.000000</td>\n",
              "      <td>627.000000</td>\n",
              "      <td>627.000000</td>\n",
              "    </tr>\n",
              "    <tr>\n",
              "      <th>mean</th>\n",
              "      <td>29.631308</td>\n",
              "      <td>0.545455</td>\n",
              "      <td>0.379585</td>\n",
              "      <td>34.385399</td>\n",
              "    </tr>\n",
              "    <tr>\n",
              "      <th>std</th>\n",
              "      <td>12.511818</td>\n",
              "      <td>1.151090</td>\n",
              "      <td>0.792999</td>\n",
              "      <td>54.597730</td>\n",
              "    </tr>\n",
              "    <tr>\n",
              "      <th>min</th>\n",
              "      <td>0.750000</td>\n",
              "      <td>0.000000</td>\n",
              "      <td>0.000000</td>\n",
              "      <td>0.000000</td>\n",
              "    </tr>\n",
              "    <tr>\n",
              "      <th>25%</th>\n",
              "      <td>23.000000</td>\n",
              "      <td>0.000000</td>\n",
              "      <td>0.000000</td>\n",
              "      <td>7.895800</td>\n",
              "    </tr>\n",
              "    <tr>\n",
              "      <th>50%</th>\n",
              "      <td>28.000000</td>\n",
              "      <td>0.000000</td>\n",
              "      <td>0.000000</td>\n",
              "      <td>15.045800</td>\n",
              "    </tr>\n",
              "    <tr>\n",
              "      <th>75%</th>\n",
              "      <td>35.000000</td>\n",
              "      <td>1.000000</td>\n",
              "      <td>0.000000</td>\n",
              "      <td>31.387500</td>\n",
              "    </tr>\n",
              "    <tr>\n",
              "      <th>max</th>\n",
              "      <td>80.000000</td>\n",
              "      <td>8.000000</td>\n",
              "      <td>5.000000</td>\n",
              "      <td>512.329200</td>\n",
              "    </tr>\n",
              "  </tbody>\n",
              "</table>\n",
              "</div>"
            ],
            "text/plain": [
              "              age  n_siblings_spouses       parch        fare\n",
              "count  627.000000          627.000000  627.000000  627.000000\n",
              "mean    29.631308            0.545455    0.379585   34.385399\n",
              "std     12.511818            1.151090    0.792999   54.597730\n",
              "min      0.750000            0.000000    0.000000    0.000000\n",
              "25%     23.000000            0.000000    0.000000    7.895800\n",
              "50%     28.000000            0.000000    0.000000   15.045800\n",
              "75%     35.000000            1.000000    0.000000   31.387500\n",
              "max     80.000000            8.000000    5.000000  512.329200"
            ]
          },
          "metadata": {
            "tags": []
          },
          "execution_count": 4
        }
      ]
    },
    {
      "cell_type": "code",
      "metadata": {
        "id": "4oAH0GD3zE9H",
        "colab_type": "code",
        "colab": {},
        "outputId": "cf4230aa-1ded-41b4-81bd-d44a08bc33c3"
      },
      "source": [
        "categorical_columns = ['sex', 'n_siblings_spouses', 'parch', 'class',\n",
        "                       'deck', 'embark_town', 'alone']\n",
        "numeric_columns = ['age', 'fare']\n",
        "\n",
        "feature_columns = []\n",
        "for categorical_column in categorical_columns:\n",
        "    vocab = train_df[categorical_column].unique()\n",
        "    print(categorical_column, vocab)\n",
        "    feature_columns.append(\n",
        "        tf.feature_column.indicator_column(\n",
        "            tf.feature_column.categorical_column_with_vocabulary_list(\n",
        "                categorical_column, vocab)))\n",
        "\n",
        "for categorical_column in numeric_columns:\n",
        "    feature_columns.append(\n",
        "        tf.feature_column.numeric_column(\n",
        "            categorical_column, dtype=tf.float32))"
      ],
      "execution_count": null,
      "outputs": [
        {
          "output_type": "stream",
          "text": [
            "sex ['male' 'female']\n",
            "n_siblings_spouses [1 0 3 4 2 5 8]\n",
            "parch [0 1 2 5 3 4]\n",
            "class ['Third' 'First' 'Second']\n",
            "deck ['unknown' 'C' 'G' 'A' 'B' 'D' 'F' 'E']\n",
            "embark_town ['Southampton' 'Cherbourg' 'Queenstown' 'unknown']\n",
            "alone ['n' 'y']\n"
          ],
          "name": "stdout"
        }
      ]
    },
    {
      "cell_type": "code",
      "metadata": {
        "id": "Je9_kWJozE9K",
        "colab_type": "code",
        "colab": {}
      },
      "source": [
        "def make_dataset(data_df, label_df, epochs = 10, shuffle = True,\n",
        "                 batch_size = 32):\n",
        "    dataset = tf.data.Dataset.from_tensor_slices(\n",
        "        (dict(data_df), label_df))\n",
        "    if shuffle:\n",
        "        dataset = dataset.shuffle(10000)\n",
        "    dataset = dataset.repeat(epochs).batch(batch_size)\n",
        "    return dataset"
      ],
      "execution_count": null,
      "outputs": []
    },
    {
      "cell_type": "code",
      "metadata": {
        "id": "WxPSyw7gzE9M",
        "colab_type": "code",
        "colab": {},
        "outputId": "1b93441d-ec6b-47a3-f8cb-e0bc01f86c8f"
      },
      "source": [
        "linear_output_dir = 'linear_model'\n",
        "if not os.path.exists(linear_output_dir):\n",
        "    os.mkdir(linear_output_dir)\n",
        "linear_estimator = tf.estimator.LinearClassifier(\n",
        "    model_dir = linear_output_dir,\n",
        "    n_classes = 2,\n",
        "    feature_columns = feature_columns)\n",
        "linear_estimator.train(input_fn = lambda : make_dataset(\n",
        "    train_df, y_train, epochs = 100))"
      ],
      "execution_count": null,
      "outputs": [
        {
          "output_type": "stream",
          "text": [
            "INFO:tensorflow:Using default config.\n",
            "INFO:tensorflow:Using config: {'_model_dir': 'linear_model', '_tf_random_seed': None, '_save_summary_steps': 100, '_save_checkpoints_steps': None, '_save_checkpoints_secs': 600, '_session_config': allow_soft_placement: true\n",
            "graph_options {\n",
            "  rewrite_options {\n",
            "    meta_optimizer_iterations: ONE\n",
            "  }\n",
            "}\n",
            ", '_keep_checkpoint_max': 5, '_keep_checkpoint_every_n_hours': 10000, '_log_step_count_steps': 100, '_train_distribute': None, '_device_fn': None, '_protocol': None, '_eval_distribute': None, '_experimental_distribute': None, '_experimental_max_worker_delay_secs': None, '_session_creation_timeout_secs': 7200, '_service': None, '_cluster_spec': <tensorflow.python.training.server_lib.ClusterSpec object at 0x7fa9982d29b0>, '_task_type': 'worker', '_task_id': 0, '_global_id_in_cluster': 0, '_master': '', '_evaluation_master': '', '_is_chief': True, '_num_ps_replicas': 0, '_num_worker_replicas': 1}\n",
            "INFO:tensorflow:Calling model_fn.\n",
            "WARNING:tensorflow:Layer linear/linear_model is casting an input tensor from dtype float64 to the layer's dtype of float32, which is new behavior in TensorFlow 2.  The layer has dtype float32 because it's dtype defaults to floatx.\n",
            "\n",
            "If you intended to run this layer in float32, you can safely ignore this warning. If in doubt, this warning is likely only an issue if you are porting a TensorFlow 1.X model to TensorFlow 2.\n",
            "\n",
            "To change all layers to have dtype float64 by default, call `tf.keras.backend.set_floatx('float64')`. To change just this layer, pass dtype='float64' to the layer constructor. If you are the author of this layer, you can disable autocasting by passing autocast=False to the base Layer constructor.\n",
            "\n",
            "WARNING:tensorflow:From /usr/local/google/home/zhangyx/workspace/environment/tf2_py3/lib/python3.7/site-packages/tensorflow_core/python/feature_column/feature_column_v2.py:518: Layer.add_variable (from tensorflow.python.keras.engine.base_layer) is deprecated and will be removed in a future version.\n",
            "Instructions for updating:\n",
            "Please use `layer.add_weight` method instead.\n",
            "WARNING:tensorflow:From /usr/local/google/home/zhangyx/workspace/environment/tf2_py3/lib/python3.7/site-packages/tensorflow_core/python/feature_column/feature_column_v2.py:4276: IndicatorColumn._variable_shape (from tensorflow.python.feature_column.feature_column_v2) is deprecated and will be removed in a future version.\n",
            "Instructions for updating:\n",
            "The old _FeatureColumn APIs are being deprecated. Please use the new FeatureColumn APIs instead.\n",
            "WARNING:tensorflow:From /usr/local/google/home/zhangyx/workspace/environment/tf2_py3/lib/python3.7/site-packages/tensorflow_core/python/feature_column/feature_column_v2.py:4331: VocabularyListCategoricalColumn._num_buckets (from tensorflow.python.feature_column.feature_column_v2) is deprecated and will be removed in a future version.\n",
            "Instructions for updating:\n",
            "The old _FeatureColumn APIs are being deprecated. Please use the new FeatureColumn APIs instead.\n",
            "INFO:tensorflow:Done calling model_fn.\n",
            "INFO:tensorflow:Create CheckpointSaverHook.\n",
            "INFO:tensorflow:Graph was finalized.\n",
            "INFO:tensorflow:Running local_init_op.\n",
            "INFO:tensorflow:Done running local_init_op.\n",
            "INFO:tensorflow:Saving checkpoints for 0 into linear_model/model.ckpt.\n",
            "INFO:tensorflow:loss = 0.6931472, step = 0\n",
            "INFO:tensorflow:global_step/sec: 325.807\n",
            "INFO:tensorflow:loss = 0.42389417, step = 100 (0.307 sec)\n",
            "INFO:tensorflow:global_step/sec: 538.789\n",
            "INFO:tensorflow:loss = 0.41794586, step = 200 (0.187 sec)\n",
            "INFO:tensorflow:global_step/sec: 488.346\n",
            "INFO:tensorflow:loss = 0.44366908, step = 300 (0.206 sec)\n",
            "INFO:tensorflow:global_step/sec: 423.734\n",
            "INFO:tensorflow:loss = 0.4619617, step = 400 (0.236 sec)\n",
            "INFO:tensorflow:global_step/sec: 428.93\n",
            "INFO:tensorflow:loss = 0.36795616, step = 500 (0.233 sec)\n",
            "INFO:tensorflow:global_step/sec: 407.899\n",
            "INFO:tensorflow:loss = 0.42971158, step = 600 (0.244 sec)\n",
            "INFO:tensorflow:global_step/sec: 475.927\n",
            "INFO:tensorflow:loss = 0.44661593, step = 700 (0.210 sec)\n",
            "INFO:tensorflow:global_step/sec: 442.412\n",
            "INFO:tensorflow:loss = 0.5238398, step = 800 (0.227 sec)\n",
            "INFO:tensorflow:global_step/sec: 421.272\n",
            "INFO:tensorflow:loss = 0.45866603, step = 900 (0.237 sec)\n",
            "INFO:tensorflow:global_step/sec: 454.903\n",
            "INFO:tensorflow:loss = 0.66123474, step = 1000 (0.220 sec)\n",
            "INFO:tensorflow:global_step/sec: 410.987\n",
            "INFO:tensorflow:loss = 0.34859017, step = 1100 (0.243 sec)\n",
            "INFO:tensorflow:global_step/sec: 416.168\n",
            "INFO:tensorflow:loss = 0.53695357, step = 1200 (0.240 sec)\n",
            "INFO:tensorflow:global_step/sec: 409.937\n",
            "INFO:tensorflow:loss = 0.47836226, step = 1300 (0.244 sec)\n",
            "INFO:tensorflow:global_step/sec: 419.925\n",
            "INFO:tensorflow:loss = 0.57110643, step = 1400 (0.238 sec)\n",
            "INFO:tensorflow:global_step/sec: 416.44\n",
            "INFO:tensorflow:loss = 0.5414425, step = 1500 (0.240 sec)\n",
            "INFO:tensorflow:global_step/sec: 412.75\n",
            "INFO:tensorflow:loss = 0.34419733, step = 1600 (0.242 sec)\n",
            "INFO:tensorflow:global_step/sec: 431.737\n",
            "INFO:tensorflow:loss = 0.36417055, step = 1700 (0.232 sec)\n",
            "INFO:tensorflow:global_step/sec: 394.296\n",
            "INFO:tensorflow:loss = 0.438832, step = 1800 (0.254 sec)\n",
            "INFO:tensorflow:global_step/sec: 459.109\n",
            "INFO:tensorflow:loss = 0.5237286, step = 1900 (0.218 sec)\n",
            "INFO:tensorflow:Saving checkpoints for 1960 into linear_model/model.ckpt.\n",
            "INFO:tensorflow:Loss for final step: 0.46595487.\n"
          ],
          "name": "stdout"
        },
        {
          "output_type": "execute_result",
          "data": {
            "text/plain": [
              "<tensorflow_estimator.python.estimator.canned.linear.LinearClassifierV2 at 0x7fa9982d2908>"
            ]
          },
          "metadata": {
            "tags": []
          },
          "execution_count": 9
        }
      ]
    },
    {
      "cell_type": "code",
      "metadata": {
        "id": "tUzmSQhizE9P",
        "colab_type": "code",
        "colab": {},
        "outputId": "43b51a1e-c3e8-4179-dc8a-8b1a02fb100d"
      },
      "source": [
        "linear_estimator.evaluate(input_fn = lambda : make_dataset(\n",
        "    eval_df, y_eval, epochs = 1, shuffle = False))"
      ],
      "execution_count": null,
      "outputs": [
        {
          "output_type": "stream",
          "text": [
            "INFO:tensorflow:Calling model_fn.\n",
            "WARNING:tensorflow:Layer linear/linear_model is casting an input tensor from dtype float64 to the layer's dtype of float32, which is new behavior in TensorFlow 2.  The layer has dtype float32 because it's dtype defaults to floatx.\n",
            "\n",
            "If you intended to run this layer in float32, you can safely ignore this warning. If in doubt, this warning is likely only an issue if you are porting a TensorFlow 1.X model to TensorFlow 2.\n",
            "\n",
            "To change all layers to have dtype float64 by default, call `tf.keras.backend.set_floatx('float64')`. To change just this layer, pass dtype='float64' to the layer constructor. If you are the author of this layer, you can disable autocasting by passing autocast=False to the base Layer constructor.\n",
            "\n",
            "INFO:tensorflow:Done calling model_fn.\n",
            "INFO:tensorflow:Starting evaluation at 2019-11-27T23:06:27Z\n",
            "INFO:tensorflow:Graph was finalized.\n",
            "INFO:tensorflow:Restoring parameters from linear_model/model.ckpt-1960\n",
            "INFO:tensorflow:Running local_init_op.\n",
            "INFO:tensorflow:Done running local_init_op.\n",
            "INFO:tensorflow:Finished evaluation at 2019-11-27-23:06:28\n",
            "INFO:tensorflow:Saving dict for global step 1960: accuracy = 0.7689394, accuracy_baseline = 0.625, auc = 0.83731246, auc_precision_recall = 0.7854023, average_loss = 0.48175895, global_step = 1960, label/mean = 0.375, loss = 0.4659178, precision = 0.6759259, prediction/mean = 0.43150055, recall = 0.7373737\n",
            "INFO:tensorflow:Saving 'checkpoint_path' summary for global step 1960: linear_model/model.ckpt-1960\n"
          ],
          "name": "stdout"
        },
        {
          "output_type": "execute_result",
          "data": {
            "text/plain": [
              "{'accuracy': 0.7689394,\n",
              " 'accuracy_baseline': 0.625,\n",
              " 'auc': 0.83731246,\n",
              " 'auc_precision_recall': 0.7854023,\n",
              " 'average_loss': 0.48175895,\n",
              " 'label/mean': 0.375,\n",
              " 'loss': 0.4659178,\n",
              " 'precision': 0.6759259,\n",
              " 'prediction/mean': 0.43150055,\n",
              " 'recall': 0.7373737,\n",
              " 'global_step': 1960}"
            ]
          },
          "metadata": {
            "tags": []
          },
          "execution_count": 10
        }
      ]
    },
    {
      "cell_type": "code",
      "metadata": {
        "id": "ZsgUa-WUzE9R",
        "colab_type": "code",
        "colab": {},
        "outputId": "39d9cec6-7eea-4ac7-dbdc-efe961d45b2f"
      },
      "source": [
        "dnn_output_dir = './dnn_model'\n",
        "if not os.path.exists(dnn_output_dir):\n",
        "    os.mkdir(dnn_output_dir)\n",
        "dnn_estimator = tf.estimator.DNNClassifier(\n",
        "    model_dir = dnn_output_dir,\n",
        "    n_classes = 2,\n",
        "    feature_columns=feature_columns,\n",
        "    hidden_units = [128, 128],\n",
        "    activation_fn = tf.nn.relu,\n",
        "    optimizer = 'Adam')\n",
        "dnn_estimator.train(input_fn = lambda : make_dataset(\n",
        "    train_df, y_train, epochs = 100))"
      ],
      "execution_count": null,
      "outputs": [
        {
          "output_type": "stream",
          "text": [
            "INFO:tensorflow:Using default config.\n",
            "INFO:tensorflow:Using config: {'_model_dir': './dnn_model', '_tf_random_seed': None, '_save_summary_steps': 100, '_save_checkpoints_steps': None, '_save_checkpoints_secs': 600, '_session_config': allow_soft_placement: true\n",
            "graph_options {\n",
            "  rewrite_options {\n",
            "    meta_optimizer_iterations: ONE\n",
            "  }\n",
            "}\n",
            ", '_keep_checkpoint_max': 5, '_keep_checkpoint_every_n_hours': 10000, '_log_step_count_steps': 100, '_train_distribute': None, '_device_fn': None, '_protocol': None, '_eval_distribute': None, '_experimental_distribute': None, '_experimental_max_worker_delay_secs': None, '_session_creation_timeout_secs': 7200, '_service': None, '_cluster_spec': <tensorflow.python.training.server_lib.ClusterSpec object at 0x7fa929ef59b0>, '_task_type': 'worker', '_task_id': 0, '_global_id_in_cluster': 0, '_master': '', '_evaluation_master': '', '_is_chief': True, '_num_ps_replicas': 0, '_num_worker_replicas': 1}\n",
            "INFO:tensorflow:Calling model_fn.\n",
            "WARNING:tensorflow:Layer dnn is casting an input tensor from dtype float64 to the layer's dtype of float32, which is new behavior in TensorFlow 2.  The layer has dtype float32 because it's dtype defaults to floatx.\n",
            "\n",
            "If you intended to run this layer in float32, you can safely ignore this warning. If in doubt, this warning is likely only an issue if you are porting a TensorFlow 1.X model to TensorFlow 2.\n",
            "\n",
            "To change all layers to have dtype float64 by default, call `tf.keras.backend.set_floatx('float64')`. To change just this layer, pass dtype='float64' to the layer constructor. If you are the author of this layer, you can disable autocasting by passing autocast=False to the base Layer constructor.\n",
            "\n",
            "INFO:tensorflow:Done calling model_fn.\n",
            "INFO:tensorflow:Create CheckpointSaverHook.\n",
            "INFO:tensorflow:Graph was finalized.\n",
            "INFO:tensorflow:Running local_init_op.\n",
            "INFO:tensorflow:Done running local_init_op.\n",
            "INFO:tensorflow:Saving checkpoints for 0 into ./dnn_model/model.ckpt.\n",
            "INFO:tensorflow:loss = 1.1271487, step = 0\n",
            "INFO:tensorflow:global_step/sec: 296.998\n",
            "INFO:tensorflow:loss = 0.5400552, step = 100 (0.339 sec)\n",
            "INFO:tensorflow:global_step/sec: 359.348\n",
            "INFO:tensorflow:loss = 0.4437003, step = 200 (0.279 sec)\n",
            "INFO:tensorflow:global_step/sec: 337.308\n",
            "INFO:tensorflow:loss = 0.33601594, step = 300 (0.296 sec)\n",
            "INFO:tensorflow:global_step/sec: 387.487\n",
            "INFO:tensorflow:loss = 0.49424666, step = 400 (0.258 sec)\n",
            "INFO:tensorflow:global_step/sec: 347.063\n",
            "INFO:tensorflow:loss = 0.7322088, step = 500 (0.289 sec)\n",
            "INFO:tensorflow:global_step/sec: 344.348\n",
            "INFO:tensorflow:loss = 0.43665266, step = 600 (0.290 sec)\n",
            "INFO:tensorflow:global_step/sec: 344.982\n",
            "INFO:tensorflow:loss = 0.406223, step = 700 (0.290 sec)\n",
            "INFO:tensorflow:global_step/sec: 339.888\n",
            "INFO:tensorflow:loss = 0.6561513, step = 800 (0.295 sec)\n",
            "INFO:tensorflow:global_step/sec: 351.597\n",
            "INFO:tensorflow:loss = 0.43918383, step = 900 (0.284 sec)\n",
            "INFO:tensorflow:global_step/sec: 347.3\n",
            "INFO:tensorflow:loss = 0.38795522, step = 1000 (0.288 sec)\n",
            "INFO:tensorflow:global_step/sec: 344.659\n",
            "INFO:tensorflow:loss = 0.34792003, step = 1100 (0.290 sec)\n",
            "INFO:tensorflow:global_step/sec: 358.702\n",
            "INFO:tensorflow:loss = 0.45083064, step = 1200 (0.278 sec)\n",
            "INFO:tensorflow:global_step/sec: 413.591\n",
            "INFO:tensorflow:loss = 0.5417055, step = 1300 (0.242 sec)\n",
            "INFO:tensorflow:global_step/sec: 406.694\n",
            "INFO:tensorflow:loss = 0.44747913, step = 1400 (0.245 sec)\n",
            "INFO:tensorflow:global_step/sec: 406.194\n",
            "INFO:tensorflow:loss = 0.3141278, step = 1500 (0.246 sec)\n",
            "INFO:tensorflow:global_step/sec: 373.633\n",
            "INFO:tensorflow:loss = 0.21304882, step = 1600 (0.269 sec)\n",
            "INFO:tensorflow:global_step/sec: 377.23\n",
            "INFO:tensorflow:loss = 0.588811, step = 1700 (0.264 sec)\n",
            "INFO:tensorflow:global_step/sec: 367.503\n",
            "INFO:tensorflow:loss = 0.35748476, step = 1800 (0.272 sec)\n",
            "INFO:tensorflow:global_step/sec: 370.83\n",
            "INFO:tensorflow:loss = 0.24618372, step = 1900 (0.270 sec)\n",
            "INFO:tensorflow:Saving checkpoints for 1960 into ./dnn_model/model.ckpt.\n",
            "INFO:tensorflow:Loss for final step: 0.52054244.\n"
          ],
          "name": "stdout"
        },
        {
          "output_type": "execute_result",
          "data": {
            "text/plain": [
              "<tensorflow_estimator.python.estimator.canned.dnn.DNNClassifierV2 at 0x7fa929ef5fd0>"
            ]
          },
          "metadata": {
            "tags": []
          },
          "execution_count": 11
        }
      ]
    },
    {
      "cell_type": "code",
      "metadata": {
        "id": "QdwcJ9RszE9U",
        "colab_type": "code",
        "colab": {},
        "outputId": "b47b5705-4a7f-470f-f3bc-7b1219d6ae36"
      },
      "source": [
        "dnn_estimator.evaluate(input_fn = lambda : make_dataset(\n",
        "    eval_df, y_eval, epochs = 1, shuffle = False))"
      ],
      "execution_count": null,
      "outputs": [
        {
          "output_type": "stream",
          "text": [
            "INFO:tensorflow:Calling model_fn.\n",
            "WARNING:tensorflow:Layer dnn is casting an input tensor from dtype float64 to the layer's dtype of float32, which is new behavior in TensorFlow 2.  The layer has dtype float32 because it's dtype defaults to floatx.\n",
            "\n",
            "If you intended to run this layer in float32, you can safely ignore this warning. If in doubt, this warning is likely only an issue if you are porting a TensorFlow 1.X model to TensorFlow 2.\n",
            "\n",
            "To change all layers to have dtype float64 by default, call `tf.keras.backend.set_floatx('float64')`. To change just this layer, pass dtype='float64' to the layer constructor. If you are the author of this layer, you can disable autocasting by passing autocast=False to the base Layer constructor.\n",
            "\n",
            "INFO:tensorflow:Done calling model_fn.\n",
            "INFO:tensorflow:Starting evaluation at 2019-11-27T23:06:41Z\n",
            "INFO:tensorflow:Graph was finalized.\n",
            "INFO:tensorflow:Restoring parameters from ./dnn_model/model.ckpt-1960\n",
            "INFO:tensorflow:Running local_init_op.\n",
            "INFO:tensorflow:Done running local_init_op.\n",
            "INFO:tensorflow:Finished evaluation at 2019-11-27-23:06:42\n",
            "INFO:tensorflow:Saving dict for global step 1960: accuracy = 0.8030303, accuracy_baseline = 0.625, auc = 0.83826137, auc_precision_recall = 0.80377775, average_loss = 0.47656488, global_step = 1960, label/mean = 0.375, loss = 0.4588796, precision = 0.7326733, prediction/mean = 0.39838743, recall = 0.74747473\n",
            "INFO:tensorflow:Saving 'checkpoint_path' summary for global step 1960: ./dnn_model/model.ckpt-1960\n"
          ],
          "name": "stdout"
        },
        {
          "output_type": "execute_result",
          "data": {
            "text/plain": [
              "{'accuracy': 0.8030303,\n",
              " 'accuracy_baseline': 0.625,\n",
              " 'auc': 0.83826137,\n",
              " 'auc_precision_recall': 0.80377775,\n",
              " 'average_loss': 0.47656488,\n",
              " 'label/mean': 0.375,\n",
              " 'loss': 0.4588796,\n",
              " 'precision': 0.7326733,\n",
              " 'prediction/mean': 0.39838743,\n",
              " 'recall': 0.74747473,\n",
              " 'global_step': 1960}"
            ]
          },
          "metadata": {
            "tags": []
          },
          "execution_count": 12
        }
      ]
    },
    {
      "cell_type": "code",
      "metadata": {
        "id": "I2n5SE2yzE9W",
        "colab_type": "code",
        "colab": {}
      },
      "source": [
        ""
      ],
      "execution_count": null,
      "outputs": []
    }
  ]
}