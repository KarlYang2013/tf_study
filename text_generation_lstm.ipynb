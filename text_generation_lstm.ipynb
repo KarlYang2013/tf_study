{
  "nbformat": 4,
  "nbformat_minor": 0,
  "metadata": {
    "kernelspec": {
      "display_name": "Python 3",
      "language": "python",
      "name": "python3"
    },
    "language_info": {
      "codemirror_mode": {
        "name": "ipython",
        "version": 3
      },
      "file_extension": ".py",
      "mimetype": "text/x-python",
      "name": "python",
      "nbconvert_exporter": "python",
      "pygments_lexer": "ipython3",
      "version": "3.6.9"
    },
    "colab": {
      "name": "text_generation_lstm.ipynb",
      "provenance": [],
      "include_colab_link": true
    }
  },
  "cells": [
    {
      "cell_type": "markdown",
      "metadata": {
        "id": "view-in-github",
        "colab_type": "text"
      },
      "source": [
        "<a href=\"https://colab.research.google.com/github/KarlYang2013/tf_study/blob/master/text_generation_lstm.ipynb\" target=\"_parent\"><img src=\"https://colab.research.google.com/assets/colab-badge.svg\" alt=\"Open In Colab\"/></a>"
      ]
    },
    {
      "cell_type": "code",
      "metadata": {
        "id": "9kAC98EVoz1Z",
        "colab_type": "code",
        "colab": {},
        "outputId": "75486a67-9cd4-42ba-bbca-e6f4a71e17bf"
      },
      "source": [
        "import matplotlib as mpl\n",
        "import matplotlib.pyplot as plt\n",
        "%matplotlib inline\n",
        "import numpy as np\n",
        "import sklearn\n",
        "import pandas as pd\n",
        "import os\n",
        "import sys\n",
        "import time\n",
        "import tensorflow as tf\n",
        "\n",
        "from tensorflow import keras\n",
        "\n",
        "print(tf.__version__)\n",
        "print(sys.version_info)\n",
        "for module in mpl, np, pd, sklearn, tf, keras:\n",
        "    print(module.__name__, module.__version__)"
      ],
      "execution_count": null,
      "outputs": [
        {
          "output_type": "stream",
          "text": [
            "2.0.0\n",
            "sys.version_info(major=3, minor=6, micro=9, releaselevel='final', serial=0)\n",
            "matplotlib 3.1.2\n",
            "numpy 1.17.4\n",
            "pandas 0.25.3\n",
            "sklearn 0.21.3\n",
            "tensorflow 2.0.0\n",
            "tensorflow_core.keras 2.2.4-tf\n"
          ],
          "name": "stdout"
        }
      ]
    },
    {
      "cell_type": "code",
      "metadata": {
        "id": "TpOlCraIoz1d",
        "colab_type": "code",
        "colab": {},
        "outputId": "4ae369f2-12aa-4faf-f5dc-77d2380478f7"
      },
      "source": [
        "# https://storage.googleapis.com/download.tensorflow.org/data/shakespeare.txt\n",
        "input_filepath = \"./shakespeare.txt\"\n",
        "text = open(input_filepath, 'r').read()\n",
        "\n",
        "print(len(text))\n",
        "print(text[0:100])"
      ],
      "execution_count": null,
      "outputs": [
        {
          "output_type": "stream",
          "text": [
            "1115394\n",
            "First Citizen:\n",
            "Before we proceed any further, hear me speak.\n",
            "\n",
            "All:\n",
            "Speak, speak.\n",
            "\n",
            "First Citizen:\n",
            "You\n"
          ],
          "name": "stdout"
        }
      ]
    },
    {
      "cell_type": "code",
      "metadata": {
        "id": "p1An6EKroz1g",
        "colab_type": "code",
        "colab": {},
        "outputId": "190860d6-656b-4c7e-80b6-57046c175ed7"
      },
      "source": [
        "# 1. generate vocab\n",
        "# 2. build mapping char->id\n",
        "# 3. data -> id_data\n",
        "# 4. abcd -> bcd<eos>\n",
        "\n",
        "vocab = sorted(set(text))\n",
        "print(len(vocab))\n",
        "print(vocab)"
      ],
      "execution_count": null,
      "outputs": [
        {
          "output_type": "stream",
          "text": [
            "65\n",
            "['\\n', ' ', '!', '$', '&', \"'\", ',', '-', '.', '3', ':', ';', '?', 'A', 'B', 'C', 'D', 'E', 'F', 'G', 'H', 'I', 'J', 'K', 'L', 'M', 'N', 'O', 'P', 'Q', 'R', 'S', 'T', 'U', 'V', 'W', 'X', 'Y', 'Z', 'a', 'b', 'c', 'd', 'e', 'f', 'g', 'h', 'i', 'j', 'k', 'l', 'm', 'n', 'o', 'p', 'q', 'r', 's', 't', 'u', 'v', 'w', 'x', 'y', 'z']\n"
          ],
          "name": "stdout"
        }
      ]
    },
    {
      "cell_type": "code",
      "metadata": {
        "id": "PBSE4UrGoz1i",
        "colab_type": "code",
        "colab": {},
        "outputId": "98df85e3-9559-4672-fb3c-23e40534af05"
      },
      "source": [
        "char2idx = {char:idx for idx, char in enumerate(vocab)}\n",
        "print(char2idx)"
      ],
      "execution_count": null,
      "outputs": [
        {
          "output_type": "stream",
          "text": [
            "{'\\n': 0, ' ': 1, '!': 2, '$': 3, '&': 4, \"'\": 5, ',': 6, '-': 7, '.': 8, '3': 9, ':': 10, ';': 11, '?': 12, 'A': 13, 'B': 14, 'C': 15, 'D': 16, 'E': 17, 'F': 18, 'G': 19, 'H': 20, 'I': 21, 'J': 22, 'K': 23, 'L': 24, 'M': 25, 'N': 26, 'O': 27, 'P': 28, 'Q': 29, 'R': 30, 'S': 31, 'T': 32, 'U': 33, 'V': 34, 'W': 35, 'X': 36, 'Y': 37, 'Z': 38, 'a': 39, 'b': 40, 'c': 41, 'd': 42, 'e': 43, 'f': 44, 'g': 45, 'h': 46, 'i': 47, 'j': 48, 'k': 49, 'l': 50, 'm': 51, 'n': 52, 'o': 53, 'p': 54, 'q': 55, 'r': 56, 's': 57, 't': 58, 'u': 59, 'v': 60, 'w': 61, 'x': 62, 'y': 63, 'z': 64}\n"
          ],
          "name": "stdout"
        }
      ]
    },
    {
      "cell_type": "code",
      "metadata": {
        "id": "u-8VzfpKoz1l",
        "colab_type": "code",
        "colab": {},
        "outputId": "b5d74e13-03e7-45f8-9f61-2c44e5c269c3"
      },
      "source": [
        "idx2char = np.array(vocab)\n",
        "print(idx2char)"
      ],
      "execution_count": null,
      "outputs": [
        {
          "output_type": "stream",
          "text": [
            "['\\n' ' ' '!' '$' '&' \"'\" ',' '-' '.' '3' ':' ';' '?' 'A' 'B' 'C' 'D' 'E'\n",
            " 'F' 'G' 'H' 'I' 'J' 'K' 'L' 'M' 'N' 'O' 'P' 'Q' 'R' 'S' 'T' 'U' 'V' 'W'\n",
            " 'X' 'Y' 'Z' 'a' 'b' 'c' 'd' 'e' 'f' 'g' 'h' 'i' 'j' 'k' 'l' 'm' 'n' 'o'\n",
            " 'p' 'q' 'r' 's' 't' 'u' 'v' 'w' 'x' 'y' 'z']\n"
          ],
          "name": "stdout"
        }
      ]
    },
    {
      "cell_type": "code",
      "metadata": {
        "id": "193xWVXKoz1n",
        "colab_type": "code",
        "colab": {},
        "outputId": "e44093eb-575e-4b5e-d2aa-27edf0f75cf9"
      },
      "source": [
        "text_as_int = np.array([char2idx[c] for c in text])\n",
        "print(text_as_int[0:10])\n",
        "print(text[0:10])"
      ],
      "execution_count": null,
      "outputs": [
        {
          "output_type": "stream",
          "text": [
            "[18 47 56 57 58  1 15 47 58 47]\n",
            "First Citi\n"
          ],
          "name": "stdout"
        }
      ]
    },
    {
      "cell_type": "code",
      "metadata": {
        "id": "9uVb7tbtoz1p",
        "colab_type": "code",
        "colab": {},
        "outputId": "855106af-ef0a-482e-d5f9-78e36aac30ce"
      },
      "source": [
        "def split_input_target(id_text):\n",
        "    \"\"\"\n",
        "    abcde -> abcd, bcde\n",
        "    \"\"\"\n",
        "    return id_text[0:-1], id_text[1:]\n",
        "\n",
        "char_dataset = tf.data.Dataset.from_tensor_slices(text_as_int)\n",
        "seq_length = 100\n",
        "seq_dataset = char_dataset.batch(seq_length + 1,\n",
        "                                 drop_remainder = True)\n",
        "for ch_id in char_dataset.take(2):\n",
        "    print(ch_id, idx2char[ch_id.numpy()])\n",
        "\n",
        "for seq_id in seq_dataset.take(2):\n",
        "    print(seq_id)\n",
        "    print(repr(''.join(idx2char[seq_id.numpy()])))"
      ],
      "execution_count": null,
      "outputs": [
        {
          "output_type": "stream",
          "text": [
            "tf.Tensor(18, shape=(), dtype=int64) F\n",
            "tf.Tensor(47, shape=(), dtype=int64) i\n",
            "tf.Tensor(\n",
            "[18 47 56 57 58  1 15 47 58 47 64 43 52 10  0 14 43 44 53 56 43  1 61 43\n",
            "  1 54 56 53 41 43 43 42  1 39 52 63  1 44 59 56 58 46 43 56  6  1 46 43\n",
            " 39 56  1 51 43  1 57 54 43 39 49  8  0  0 13 50 50 10  0 31 54 43 39 49\n",
            "  6  1 57 54 43 39 49  8  0  0 18 47 56 57 58  1 15 47 58 47 64 43 52 10\n",
            "  0 37 53 59  1], shape=(101,), dtype=int64)\n",
            "'First Citizen:\\nBefore we proceed any further, hear me speak.\\n\\nAll:\\nSpeak, speak.\\n\\nFirst Citizen:\\nYou '\n",
            "tf.Tensor(\n",
            "[39 56 43  1 39 50 50  1 56 43 57 53 50 60 43 42  1 56 39 58 46 43 56  1\n",
            " 58 53  1 42 47 43  1 58 46 39 52  1 58 53  1 44 39 51 47 57 46 12  0  0\n",
            " 13 50 50 10  0 30 43 57 53 50 60 43 42  8  1 56 43 57 53 50 60 43 42  8\n",
            "  0  0 18 47 56 57 58  1 15 47 58 47 64 43 52 10  0 18 47 56 57 58  6  1\n",
            " 63 53 59  1 49], shape=(101,), dtype=int64)\n",
            "'are all resolved rather to die than to famish?\\n\\nAll:\\nResolved. resolved.\\n\\nFirst Citizen:\\nFirst, you k'\n"
          ],
          "name": "stdout"
        }
      ]
    },
    {
      "cell_type": "code",
      "metadata": {
        "id": "Tq5hsX-Toz1s",
        "colab_type": "code",
        "colab": {},
        "outputId": "e4c80b19-6915-44a8-d7f4-cd7fbcdd3d48"
      },
      "source": [
        "seq_dataset = seq_dataset.map(split_input_target)\n",
        "\n",
        "for item_input, item_output in seq_dataset.take(2):\n",
        "    print(item_input.numpy())\n",
        "    print(item_output.numpy())"
      ],
      "execution_count": null,
      "outputs": [
        {
          "output_type": "stream",
          "text": [
            "[18 47 56 57 58  1 15 47 58 47 64 43 52 10  0 14 43 44 53 56 43  1 61 43\n",
            "  1 54 56 53 41 43 43 42  1 39 52 63  1 44 59 56 58 46 43 56  6  1 46 43\n",
            " 39 56  1 51 43  1 57 54 43 39 49  8  0  0 13 50 50 10  0 31 54 43 39 49\n",
            "  6  1 57 54 43 39 49  8  0  0 18 47 56 57 58  1 15 47 58 47 64 43 52 10\n",
            "  0 37 53 59]\n",
            "[47 56 57 58  1 15 47 58 47 64 43 52 10  0 14 43 44 53 56 43  1 61 43  1\n",
            " 54 56 53 41 43 43 42  1 39 52 63  1 44 59 56 58 46 43 56  6  1 46 43 39\n",
            " 56  1 51 43  1 57 54 43 39 49  8  0  0 13 50 50 10  0 31 54 43 39 49  6\n",
            "  1 57 54 43 39 49  8  0  0 18 47 56 57 58  1 15 47 58 47 64 43 52 10  0\n",
            " 37 53 59  1]\n",
            "[39 56 43  1 39 50 50  1 56 43 57 53 50 60 43 42  1 56 39 58 46 43 56  1\n",
            " 58 53  1 42 47 43  1 58 46 39 52  1 58 53  1 44 39 51 47 57 46 12  0  0\n",
            " 13 50 50 10  0 30 43 57 53 50 60 43 42  8  1 56 43 57 53 50 60 43 42  8\n",
            "  0  0 18 47 56 57 58  1 15 47 58 47 64 43 52 10  0 18 47 56 57 58  6  1\n",
            " 63 53 59  1]\n",
            "[56 43  1 39 50 50  1 56 43 57 53 50 60 43 42  1 56 39 58 46 43 56  1 58\n",
            " 53  1 42 47 43  1 58 46 39 52  1 58 53  1 44 39 51 47 57 46 12  0  0 13\n",
            " 50 50 10  0 30 43 57 53 50 60 43 42  8  1 56 43 57 53 50 60 43 42  8  0\n",
            "  0 18 47 56 57 58  1 15 47 58 47 64 43 52 10  0 18 47 56 57 58  6  1 63\n",
            " 53 59  1 49]\n"
          ],
          "name": "stdout"
        }
      ]
    },
    {
      "cell_type": "code",
      "metadata": {
        "id": "zAVX4Zmqoz1u",
        "colab_type": "code",
        "colab": {}
      },
      "source": [
        "batch_size = 64\n",
        "buffer_size = 10000\n",
        "\n",
        "seq_dataset = seq_dataset.shuffle(buffer_size).batch(\n",
        "    batch_size, drop_remainder=True)\n"
      ],
      "execution_count": null,
      "outputs": []
    },
    {
      "cell_type": "code",
      "metadata": {
        "id": "z1FNsZPfoz1w",
        "colab_type": "code",
        "colab": {},
        "outputId": "60c7035b-f9ad-4a25-fe54-07d519bd0dff"
      },
      "source": [
        "vocab_size = len(vocab)\n",
        "embedding_dim = 256\n",
        "rnn_units = 1024\n",
        "\n",
        "def build_model(vocab_size, embedding_dim, rnn_units, batch_size):\n",
        "    model = keras.models.Sequential([\n",
        "        keras.layers.Embedding(vocab_size, embedding_dim,\n",
        "                               batch_input_shape = [batch_size, None]),\n",
        "        keras.layers.LSTM(units = rnn_units,\n",
        "                          stateful = True,\n",
        "                          recurrent_initializer = 'glorot_uniform',\n",
        "                          return_sequences = True),\n",
        "        keras.layers.Dense(vocab_size),\n",
        "    ])\n",
        "    return model\n",
        "\n",
        "model = build_model(\n",
        "    vocab_size = vocab_size,\n",
        "    embedding_dim = embedding_dim,\n",
        "    rnn_units = rnn_units,\n",
        "    batch_size = batch_size)\n",
        "\n",
        "model.summary()"
      ],
      "execution_count": null,
      "outputs": [
        {
          "output_type": "stream",
          "text": [
            "Model: \"sequential\"\n",
            "_________________________________________________________________\n",
            "Layer (type)                 Output Shape              Param #   \n",
            "=================================================================\n",
            "embedding (Embedding)        (64, None, 256)           16640     \n",
            "_________________________________________________________________\n",
            "lstm (LSTM)                  (64, None, 1024)          5246976   \n",
            "_________________________________________________________________\n",
            "dense (Dense)                (64, None, 65)            66625     \n",
            "=================================================================\n",
            "Total params: 5,330,241\n",
            "Trainable params: 5,330,241\n",
            "Non-trainable params: 0\n",
            "_________________________________________________________________\n"
          ],
          "name": "stdout"
        }
      ]
    },
    {
      "cell_type": "code",
      "metadata": {
        "id": "rOjahZYQoz1y",
        "colab_type": "code",
        "colab": {},
        "outputId": "e16e9411-a061-4e38-a4c2-8002d474c5d3"
      },
      "source": [
        "for input_example_batch, target_example_batch in seq_dataset.take(1):\n",
        "    example_batch_predictions = model(input_example_batch)\n",
        "    print(example_batch_predictions.shape)"
      ],
      "execution_count": null,
      "outputs": [
        {
          "output_type": "stream",
          "text": [
            "(64, 100, 65)\n"
          ],
          "name": "stdout"
        }
      ]
    },
    {
      "cell_type": "code",
      "metadata": {
        "id": "w4ZDkONmoz10",
        "colab_type": "code",
        "colab": {},
        "outputId": "b73dc103-84b4-4124-a210-793932d8b867"
      },
      "source": [
        "# random sampling.\n",
        "# greedy, random.\n",
        "sample_indices = tf.random.categorical(\n",
        "    logits = example_batch_predictions[0], num_samples = 1)\n",
        "print(sample_indices)\n",
        "# (100, 65) -> (100, 1)\n",
        "sample_indices = tf.squeeze(sample_indices, axis = -1)\n",
        "print(sample_indices)"
      ],
      "execution_count": null,
      "outputs": [
        {
          "output_type": "stream",
          "text": [
            "tf.Tensor(\n",
            "[[25]\n",
            " [45]\n",
            " [14]\n",
            " [30]\n",
            " [55]\n",
            " [42]\n",
            " [11]\n",
            " [38]\n",
            " [43]\n",
            " [19]\n",
            " [ 8]\n",
            " [39]\n",
            " [37]\n",
            " [ 3]\n",
            " [56]\n",
            " [24]\n",
            " [59]\n",
            " [61]\n",
            " [51]\n",
            " [59]\n",
            " [ 1]\n",
            " [52]\n",
            " [41]\n",
            " [31]\n",
            " [61]\n",
            " [ 0]\n",
            " [11]\n",
            " [ 5]\n",
            " [57]\n",
            " [29]\n",
            " [37]\n",
            " [26]\n",
            " [32]\n",
            " [12]\n",
            " [11]\n",
            " [64]\n",
            " [13]\n",
            " [21]\n",
            " [14]\n",
            " [54]\n",
            " [17]\n",
            " [29]\n",
            " [39]\n",
            " [20]\n",
            " [ 0]\n",
            " [16]\n",
            " [59]\n",
            " [13]\n",
            " [14]\n",
            " [ 4]\n",
            " [ 4]\n",
            " [48]\n",
            " [16]\n",
            " [60]\n",
            " [14]\n",
            " [33]\n",
            " [21]\n",
            " [28]\n",
            " [54]\n",
            " [18]\n",
            " [46]\n",
            " [16]\n",
            " [32]\n",
            " [39]\n",
            " [49]\n",
            " [54]\n",
            " [42]\n",
            " [53]\n",
            " [51]\n",
            " [14]\n",
            " [25]\n",
            " [32]\n",
            " [59]\n",
            " [23]\n",
            " [14]\n",
            " [ 7]\n",
            " [ 8]\n",
            " [36]\n",
            " [30]\n",
            " [62]\n",
            " [ 6]\n",
            " [29]\n",
            " [22]\n",
            " [49]\n",
            " [34]\n",
            " [18]\n",
            " [29]\n",
            " [62]\n",
            " [ 2]\n",
            " [52]\n",
            " [51]\n",
            " [41]\n",
            " [24]\n",
            " [ 1]\n",
            " [59]\n",
            " [45]\n",
            " [11]\n",
            " [53]\n",
            " [ 8]\n",
            " [12]], shape=(100, 1), dtype=int64)\n",
            "tf.Tensor(\n",
            "[25 45 14 30 55 42 11 38 43 19  8 39 37  3 56 24 59 61 51 59  1 52 41 31\n",
            " 61  0 11  5 57 29 37 26 32 12 11 64 13 21 14 54 17 29 39 20  0 16 59 13\n",
            " 14  4  4 48 16 60 14 33 21 28 54 18 46 16 32 39 49 54 42 53 51 14 25 32\n",
            " 59 23 14  7  8 36 30 62  6 29 22 49 34 18 29 62  2 52 51 41 24  1 59 45\n",
            " 11 53  8 12], shape=(100,), dtype=int64)\n"
          ],
          "name": "stdout"
        }
      ]
    },
    {
      "cell_type": "code",
      "metadata": {
        "id": "z2Ux1Rbhoz12",
        "colab_type": "code",
        "colab": {},
        "outputId": "0df7ddc3-4c8a-4f7f-c66e-ede698f99cfa"
      },
      "source": [
        "print(\"Input: \", repr(\"\".join(idx2char[input_example_batch[0]])))\n",
        "print()\n",
        "print(\"Output: \", repr(\"\".join(idx2char[target_example_batch[0]])))\n",
        "print()\n",
        "print(\"Predictions: \", repr(\"\".join(idx2char[sample_indices])))"
      ],
      "execution_count": null,
      "outputs": [
        {
          "output_type": "stream",
          "text": [
            "Input:  \"oubly portcullis'd with my teeth and lips;\\nAnd dull unfeeling barren ignorance\\nIs made my gaoler to \"\n",
            "\n",
            "Output:  \"ubly portcullis'd with my teeth and lips;\\nAnd dull unfeeling barren ignorance\\nIs made my gaoler to a\"\n",
            "\n",
            "Predictions:  \"MgBRqd;ZeG.aY$rLuwmu ncSw\\n;'sQYNT?;zAIBpEQaH\\nDuAB&&jDvBUIPpFhDTakpdomBMTuKB-.XRx,QJkVFQx!nmcL ug;o.?\"\n"
          ],
          "name": "stdout"
        }
      ]
    },
    {
      "cell_type": "code",
      "metadata": {
        "id": "EHkwle1Uoz14",
        "colab_type": "code",
        "colab": {},
        "outputId": "fdd069e1-4b3a-44bf-a882-4fb5bfb89be0"
      },
      "source": [
        "def loss(labels, logits):\n",
        "    return keras.losses.sparse_categorical_crossentropy(\n",
        "        labels, logits, from_logits=True)\n",
        "\n",
        "model.compile(optimizer = 'adam', loss = loss)\n",
        "example_loss = loss(target_example_batch, example_batch_predictions)\n",
        "print(example_loss.shape)\n",
        "print(example_loss.numpy().mean())"
      ],
      "execution_count": null,
      "outputs": [
        {
          "output_type": "stream",
          "text": [
            "(64, 100)\n",
            "4.172506\n"
          ],
          "name": "stdout"
        }
      ]
    },
    {
      "cell_type": "code",
      "metadata": {
        "id": "cm7NFGNQoz16",
        "colab_type": "code",
        "colab": {},
        "outputId": "53be528f-c959-4ef3-c67c-de2cfa84f10e"
      },
      "source": [
        "output_dir = \"./text_generation_lstm3_checkpoints\"\n",
        "if not os.path.exists(output_dir):\n",
        "    os.mkdir(output_dir)\n",
        "checkpoint_prefix = os.path.join(output_dir, 'ckpt_{epoch}')\n",
        "checkpoint_callback = keras.callbacks.ModelCheckpoint(\n",
        "    filepath = checkpoint_prefix,\n",
        "    save_weights_only = True)\n",
        "\n",
        "epochs = 100\n",
        "history = model.fit(seq_dataset, epochs = epochs,\n",
        "                    callbacks = [checkpoint_callback])\n"
      ],
      "execution_count": null,
      "outputs": [
        {
          "output_type": "stream",
          "text": [
            "Epoch 1/100\n",
            "172/172 [==============================] - 8s 46ms/step - loss: 2.6223\n",
            "Epoch 2/100\n",
            "172/172 [==============================] - 6s 36ms/step - loss: 1.9224\n",
            "Epoch 3/100\n",
            "172/172 [==============================] - 6s 36ms/step - loss: 1.6677\n",
            "Epoch 4/100\n",
            "172/172 [==============================] - 6s 37ms/step - loss: 1.5270\n",
            "Epoch 5/100\n",
            "172/172 [==============================] - 6s 37ms/step - loss: 1.4431\n",
            "Epoch 6/100\n",
            "172/172 [==============================] - 6s 37ms/step - loss: 1.3843\n",
            "Epoch 7/100\n",
            "172/172 [==============================] - 6s 37ms/step - loss: 1.3394\n",
            "Epoch 8/100\n",
            "172/172 [==============================] - 6s 36ms/step - loss: 1.3003\n",
            "Epoch 9/100\n",
            "172/172 [==============================] - 6s 36ms/step - loss: 1.2657\n",
            "Epoch 10/100\n",
            "172/172 [==============================] - 6s 37ms/step - loss: 1.2313\n",
            "Epoch 11/100\n",
            "172/172 [==============================] - 6s 38ms/step - loss: 1.1988\n",
            "Epoch 12/100\n",
            "172/172 [==============================] - 6s 36ms/step - loss: 1.1642\n",
            "Epoch 13/100\n",
            "172/172 [==============================] - 6s 36ms/step - loss: 1.1298\n",
            "Epoch 14/100\n",
            "172/172 [==============================] - 6s 36ms/step - loss: 1.0930\n",
            "Epoch 15/100\n",
            "172/172 [==============================] - 6s 37ms/step - loss: 1.0551\n",
            "Epoch 16/100\n",
            "172/172 [==============================] - 6s 36ms/step - loss: 1.0167\n",
            "Epoch 17/100\n",
            "172/172 [==============================] - 6s 36ms/step - loss: 0.9761\n",
            "Epoch 18/100\n",
            "172/172 [==============================] - 6s 36ms/step - loss: 0.9352\n",
            "Epoch 19/100\n",
            "172/172 [==============================] - 6s 37ms/step - loss: 0.8939\n",
            "Epoch 20/100\n",
            "172/172 [==============================] - 6s 37ms/step - loss: 0.8569\n",
            "Epoch 21/100\n",
            "172/172 [==============================] - 6s 36ms/step - loss: 0.8188\n",
            "Epoch 22/100\n",
            "172/172 [==============================] - 6s 36ms/step - loss: 0.7823\n",
            "Epoch 23/100\n",
            "172/172 [==============================] - 6s 36ms/step - loss: 0.7489\n",
            "Epoch 24/100\n",
            "172/172 [==============================] - 6s 36ms/step - loss: 0.7166\n",
            "Epoch 25/100\n",
            "172/172 [==============================] - 6s 36ms/step - loss: 0.6877\n",
            "Epoch 26/100\n",
            "172/172 [==============================] - 6s 37ms/step - loss: 0.6599\n",
            "Epoch 27/100\n",
            "172/172 [==============================] - 6s 36ms/step - loss: 0.6369\n",
            "Epoch 28/100\n",
            "172/172 [==============================] - 6s 37ms/step - loss: 0.6146\n",
            "Epoch 29/100\n",
            "172/172 [==============================] - 6s 37ms/step - loss: 0.5933\n",
            "Epoch 30/100\n",
            "172/172 [==============================] - 6s 37ms/step - loss: 0.5748\n",
            "Epoch 31/100\n",
            "172/172 [==============================] - 6s 37ms/step - loss: 0.5587\n",
            "Epoch 32/100\n",
            "172/172 [==============================] - 6s 37ms/step - loss: 0.5449\n",
            "Epoch 33/100\n",
            "172/172 [==============================] - 6s 36ms/step - loss: 0.5324\n",
            "Epoch 34/100\n",
            "172/172 [==============================] - 6s 36ms/step - loss: 0.5184\n",
            "Epoch 35/100\n",
            "172/172 [==============================] - 6s 37ms/step - loss: 0.5080\n",
            "Epoch 36/100\n",
            "172/172 [==============================] - 6s 36ms/step - loss: 0.4989\n",
            "Epoch 37/100\n",
            "172/172 [==============================] - 6s 36ms/step - loss: 0.4901\n",
            "Epoch 38/100\n",
            "172/172 [==============================] - 6s 36ms/step - loss: 0.4821\n",
            "Epoch 39/100\n",
            "172/172 [==============================] - 7s 38ms/step - loss: 0.4736\n",
            "Epoch 40/100\n",
            "172/172 [==============================] - 6s 36ms/step - loss: 0.4690\n",
            "Epoch 41/100\n",
            "172/172 [==============================] - 6s 36ms/step - loss: 0.4614\n",
            "Epoch 42/100\n",
            "172/172 [==============================] - 6s 37ms/step - loss: 0.4552\n",
            "Epoch 43/100\n",
            "172/172 [==============================] - 6s 36ms/step - loss: 0.4504\n",
            "Epoch 44/100\n",
            "172/172 [==============================] - 6s 36ms/step - loss: 0.4453\n",
            "Epoch 45/100\n",
            "172/172 [==============================] - 6s 36ms/step - loss: 0.4424\n",
            "Epoch 46/100\n",
            "172/172 [==============================] - 6s 37ms/step - loss: 0.4398\n",
            "Epoch 47/100\n",
            "172/172 [==============================] - 6s 37ms/step - loss: 0.4341\n",
            "Epoch 48/100\n",
            "172/172 [==============================] - 6s 36ms/step - loss: 0.4310\n",
            "Epoch 49/100\n",
            "172/172 [==============================] - 6s 36ms/step - loss: 0.4272\n",
            "Epoch 50/100\n",
            "172/172 [==============================] - 6s 37ms/step - loss: 0.4256\n",
            "Epoch 51/100\n",
            "172/172 [==============================] - 6s 36ms/step - loss: 0.4223\n",
            "Epoch 52/100\n",
            "172/172 [==============================] - 6s 36ms/step - loss: 0.4177\n",
            "Epoch 53/100\n",
            "172/172 [==============================] - 6s 36ms/step - loss: 0.4167\n",
            "Epoch 54/100\n",
            "172/172 [==============================] - 6s 37ms/step - loss: 0.4167\n",
            "Epoch 55/100\n",
            "172/172 [==============================] - 6s 36ms/step - loss: 0.4136\n",
            "Epoch 56/100\n",
            "172/172 [==============================] - 6s 37ms/step - loss: 0.4107\n",
            "Epoch 57/100\n",
            "172/172 [==============================] - 6s 36ms/step - loss: 0.4115\n",
            "Epoch 58/100\n",
            "172/172 [==============================] - 6s 36ms/step - loss: 0.4091\n",
            "Epoch 59/100\n",
            "172/172 [==============================] - 6s 37ms/step - loss: 0.4090\n",
            "Epoch 60/100\n",
            "172/172 [==============================] - 6s 36ms/step - loss: 0.4075\n",
            "Epoch 61/100\n",
            "172/172 [==============================] - 6s 36ms/step - loss: 0.4043\n",
            "Epoch 62/100\n",
            "172/172 [==============================] - 6s 36ms/step - loss: 0.4029\n",
            "Epoch 63/100\n",
            "172/172 [==============================] - 6s 36ms/step - loss: 0.4011\n",
            "Epoch 64/100\n",
            "172/172 [==============================] - 6s 36ms/step - loss: 0.3984\n",
            "Epoch 65/100\n",
            "172/172 [==============================] - 6s 36ms/step - loss: 0.3985\n",
            "Epoch 66/100\n",
            "172/172 [==============================] - 6s 37ms/step - loss: 0.3988\n",
            "Epoch 67/100\n",
            "172/172 [==============================] - 6s 36ms/step - loss: 0.3968\n",
            "Epoch 68/100\n",
            "172/172 [==============================] - 6s 36ms/step - loss: 0.3938\n",
            "Epoch 69/100\n",
            "172/172 [==============================] - 6s 36ms/step - loss: 0.3942\n",
            "Epoch 70/100\n",
            "172/172 [==============================] - 6s 37ms/step - loss: 0.3952\n",
            "Epoch 71/100\n",
            "172/172 [==============================] - 6s 36ms/step - loss: 0.3927\n",
            "Epoch 72/100\n",
            "172/172 [==============================] - 6s 37ms/step - loss: 0.3927\n",
            "Epoch 73/100\n",
            "172/172 [==============================] - 6s 37ms/step - loss: 0.3939\n",
            "Epoch 74/100\n",
            "172/172 [==============================] - 6s 36ms/step - loss: 0.3920\n",
            "Epoch 75/100\n",
            "172/172 [==============================] - 6s 36ms/step - loss: 0.3904\n",
            "Epoch 76/100\n",
            "172/172 [==============================] - 6s 37ms/step - loss: 0.3887\n",
            "Epoch 77/100\n",
            "172/172 [==============================] - 6s 36ms/step - loss: 0.3872\n",
            "Epoch 78/100\n",
            "172/172 [==============================] - 6s 36ms/step - loss: 0.3868\n",
            "Epoch 79/100\n",
            "172/172 [==============================] - 6s 36ms/step - loss: 0.3872\n",
            "Epoch 80/100\n",
            "172/172 [==============================] - 6s 36ms/step - loss: 0.3866\n",
            "Epoch 81/100\n",
            "172/172 [==============================] - 6s 36ms/step - loss: 0.3862\n",
            "Epoch 82/100\n",
            "172/172 [==============================] - 6s 36ms/step - loss: 0.3860\n",
            "Epoch 83/100\n",
            "172/172 [==============================] - 6s 36ms/step - loss: 0.3880\n",
            "Epoch 84/100\n",
            "172/172 [==============================] - 6s 36ms/step - loss: 0.3866\n",
            "Epoch 85/100\n",
            "172/172 [==============================] - 6s 37ms/step - loss: 0.3900\n",
            "Epoch 86/100\n",
            "172/172 [==============================] - 6s 37ms/step - loss: 0.3877\n",
            "Epoch 87/100\n",
            "172/172 [==============================] - 6s 36ms/step - loss: 0.3870\n",
            "Epoch 88/100\n",
            "172/172 [==============================] - 6s 36ms/step - loss: 0.3864\n",
            "Epoch 89/100\n",
            "172/172 [==============================] - 6s 36ms/step - loss: 0.3850\n",
            "Epoch 90/100\n",
            "172/172 [==============================] - 6s 37ms/step - loss: 0.3838\n",
            "Epoch 91/100\n",
            "172/172 [==============================] - 6s 36ms/step - loss: 0.3838\n",
            "Epoch 92/100\n",
            "172/172 [==============================] - 6s 37ms/step - loss: 0.3836\n",
            "Epoch 93/100\n",
            "172/172 [==============================] - 6s 36ms/step - loss: 0.3827\n",
            "Epoch 94/100\n",
            "172/172 [==============================] - 6s 37ms/step - loss: 0.3801\n",
            "Epoch 95/100\n",
            "172/172 [==============================] - 6s 36ms/step - loss: 0.3813\n",
            "Epoch 96/100\n",
            "172/172 [==============================] - 6s 37ms/step - loss: 0.3830\n",
            "Epoch 97/100\n",
            "172/172 [==============================] - 6s 37ms/step - loss: 0.3832\n",
            "Epoch 98/100\n"
          ],
          "name": "stdout"
        },
        {
          "output_type": "stream",
          "text": [
            "172/172 [==============================] - 6s 36ms/step - loss: 0.3830\n",
            "Epoch 99/100\n",
            "172/172 [==============================] - 6s 37ms/step - loss: 0.3836\n",
            "Epoch 100/100\n",
            "172/172 [==============================] - 6s 36ms/step - loss: 0.3849\n"
          ],
          "name": "stdout"
        }
      ]
    },
    {
      "cell_type": "code",
      "metadata": {
        "id": "_KhYcdChoz18",
        "colab_type": "code",
        "colab": {},
        "outputId": "f24dc630-3eb5-4fa4-b815-88debb8a01ff"
      },
      "source": [
        "tf.train.latest_checkpoint(output_dir)"
      ],
      "execution_count": null,
      "outputs": [
        {
          "output_type": "execute_result",
          "data": {
            "text/plain": [
              "'./text_generation_lstm3_checkpoints/ckpt_100'"
            ]
          },
          "metadata": {
            "tags": []
          },
          "execution_count": 16
        }
      ]
    },
    {
      "cell_type": "code",
      "metadata": {
        "id": "wLNbSKFRoz1-",
        "colab_type": "code",
        "colab": {},
        "outputId": "c82c1128-af89-4462-909f-c50968799872"
      },
      "source": [
        "model2 = build_model(vocab_size,\n",
        "                     embedding_dim,\n",
        "                     rnn_units,\n",
        "                     batch_size = 1)\n",
        "model2.load_weights(tf.train.latest_checkpoint(output_dir))\n",
        "model2.build(tf.TensorShape([1, None]))\n",
        "# start ch sequence A,\n",
        "# A -> model -> b\n",
        "# A.append(b) -> B\n",
        "# B(Ab) -> model -> c\n",
        "# B.append(c) -> C\n",
        "# C(Abc) -> model -> ...\n",
        "model2.summary()"
      ],
      "execution_count": null,
      "outputs": [
        {
          "output_type": "stream",
          "text": [
            "Model: \"sequential_1\"\n",
            "_________________________________________________________________\n",
            "Layer (type)                 Output Shape              Param #   \n",
            "=================================================================\n",
            "embedding_1 (Embedding)      (1, None, 256)            16640     \n",
            "_________________________________________________________________\n",
            "lstm_1 (LSTM)                (1, None, 1024)           5246976   \n",
            "_________________________________________________________________\n",
            "dense_1 (Dense)              (1, None, 65)             66625     \n",
            "=================================================================\n",
            "Total params: 5,330,241\n",
            "Trainable params: 5,330,241\n",
            "Non-trainable params: 0\n",
            "_________________________________________________________________\n"
          ],
          "name": "stdout"
        }
      ]
    },
    {
      "cell_type": "code",
      "metadata": {
        "id": "pzBlg_lSoz2A",
        "colab_type": "code",
        "colab": {},
        "outputId": "894da100-45bc-465b-dcd5-3ffde26e905a"
      },
      "source": [
        "def generate_text(model, start_string, num_generate = 1000):\n",
        "    input_eval = [char2idx[ch] for ch in start_string]\n",
        "    input_eval = tf.expand_dims(input_eval, 0)\n",
        "    \n",
        "    text_generated = []\n",
        "    model.reset_states()\n",
        "    \n",
        "    # temperature > 1, random\n",
        "    # temperature < 1, greedy \n",
        "    temperature = 2\n",
        "    \n",
        "    for _ in range(num_generate):\n",
        "        # 1. model inference -> predictions\n",
        "        # 2. sample -> ch -> text_generated.\n",
        "        # 3. update input_eval\n",
        "        \n",
        "        # predictions : [batch_size, input_eval_len, vocab_size]\n",
        "        predictions = model(input_eval)\n",
        "        # predictions: logits -> softmax -> prob\n",
        "        # softmax: e^xi \n",
        "        # eg: 4,2 e^4/(e^4 + e^2) = 0.88, e^2 / (e^4 + e^2) = 0.12\n",
        "        # eg: 2,1 e^2/(e^2 + e) = 0.73, e / (e^2 + e) = 0.27\n",
        "        predictions = predictions / temperature\n",
        "        # predictions : [input_eval_len, vocab_size]\n",
        "        predictions = tf.squeeze(predictions, 0)\n",
        "        # predicted_ids: [input_eval_len, 1]\n",
        "        # a b c -> b c d\n",
        "        predicted_id = tf.random.categorical(\n",
        "            predictions, num_samples = 1)[-1, 0].numpy()\n",
        "        text_generated.append(idx2char[predicted_id])\n",
        "        # s, x -> rnn -> s', y\n",
        "        input_eval = tf.expand_dims([predicted_id], 0)\n",
        "    return start_string + ''.join(text_generated)\n",
        "\n",
        "new_text = generate_text(model2, \"All: \")\n",
        "print(new_text)\n"
      ],
      "execution_count": null,
      "outputs": [
        {
          "output_type": "stream",
          "text": [
            "All: and much new humour\n",
            "over\n",
            "A Juss'd savours: call him have your temits nobolk\n",
            "Soleife?\n",
            "No, nor more venefl.\n",
            "\n",
            "FLORIZEL:\n",
            "We\n",
            "\n",
            "PEThatu gods:\n",
            "But kill seven bruts is e of Warwick,\n",
            "And quite fell surFid CESTIO:\n",
            "'rl try, luke, you nger a go, I'ld\n",
            "lightful malates that doth quket. give room; and tell Northaves, blem Marianau was much all,\n",
            "Pardon it: in heaven, that\n",
            "Which move men's simple, 'tmore it as thy fiery Rust;\n",
            "Anciuntfully he kito thy\n",
            "behavish'd.\n",
            "O, how it yORK:\n",
            "Your migwith mere so near at me.\n",
            "When that, let's hate for this well-masing, and a\n",
            "dread 'Frict without Lord Ebell, Nay aptlice:\n",
            "who can:\n",
            "His valent of your coby Duke of York?\n",
            "\n",
            "KING HENRY VI:\n",
            "Warwick, ood my in isance that Richmond was wh,\n",
            "ISABELLA:\n",
            "Were hence, mill, one deny, to discharge\n",
            "This schoal tust.\n",
            "\n",
            "BAPTISTA:\n",
            "Lucence gentleman, why not\n",
            "she minister to run me a\n",
            "O that I do filk, deciee it:\n",
            "It isen out; and\n",
            "Wherein thy health are chreed me, gentleman:\n",
            "Yea, am ablets join'd top, and with right hadlow. How blust\n",
            "His, tyrremi\n"
          ],
          "name": "stdout"
        }
      ]
    },
    {
      "cell_type": "code",
      "metadata": {
        "id": "Ama3jz8Toz2E",
        "colab_type": "code",
        "colab": {}
      },
      "source": [
        ""
      ],
      "execution_count": null,
      "outputs": []
    }
  ]
}