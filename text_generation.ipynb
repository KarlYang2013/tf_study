{
  "nbformat": 4,
  "nbformat_minor": 0,
  "metadata": {
    "kernelspec": {
      "display_name": "Python 3",
      "language": "python",
      "name": "python3"
    },
    "language_info": {
      "codemirror_mode": {
        "name": "ipython",
        "version": 3
      },
      "file_extension": ".py",
      "mimetype": "text/x-python",
      "name": "python",
      "nbconvert_exporter": "python",
      "pygments_lexer": "ipython3",
      "version": "3.6.9"
    },
    "colab": {
      "name": "text_generation.ipynb",
      "provenance": [],
      "include_colab_link": true
    }
  },
  "cells": [
    {
      "cell_type": "markdown",
      "metadata": {
        "id": "view-in-github",
        "colab_type": "text"
      },
      "source": [
        "<a href=\"https://colab.research.google.com/github/KarlYang2013/tf_study/blob/master/text_generation.ipynb\" target=\"_parent\"><img src=\"https://colab.research.google.com/assets/colab-badge.svg\" alt=\"Open In Colab\"/></a>"
      ]
    },
    {
      "cell_type": "code",
      "metadata": {
        "id": "_sSbJ-VYfh_O",
        "colab_type": "code",
        "colab": {},
        "outputId": "216a3825-1e3d-42c9-aa46-c066852c26a5"
      },
      "source": [
        "import matplotlib as mpl\n",
        "import matplotlib.pyplot as plt\n",
        "%matplotlib inline\n",
        "import numpy as np\n",
        "import sklearn\n",
        "import pandas as pd\n",
        "import os\n",
        "import sys\n",
        "import time\n",
        "import tensorflow as tf\n",
        "\n",
        "from tensorflow import keras\n",
        "\n",
        "print(tf.__version__)\n",
        "print(sys.version_info)\n",
        "for module in mpl, np, pd, sklearn, tf, keras:\n",
        "    print(module.__name__, module.__version__)"
      ],
      "execution_count": null,
      "outputs": [
        {
          "output_type": "stream",
          "text": [
            "2.0.0\n",
            "sys.version_info(major=3, minor=6, micro=9, releaselevel='final', serial=0)\n",
            "matplotlib 3.1.2\n",
            "numpy 1.17.4\n",
            "pandas 0.25.3\n",
            "sklearn 0.21.3\n",
            "tensorflow 2.0.0\n",
            "tensorflow_core.keras 2.2.4-tf\n"
          ],
          "name": "stdout"
        }
      ]
    },
    {
      "cell_type": "code",
      "metadata": {
        "id": "3ODOcug9fh_T",
        "colab_type": "code",
        "colab": {},
        "outputId": "9b776d3f-c687-4ae6-a958-06b1465ed404"
      },
      "source": [
        "# https://storage.googleapis.com/download.tensorflow.org/data/shakespeare.txt\n",
        "input_filepath = \"./shakespeare.txt\"\n",
        "text = open(input_filepath, 'r').read()\n",
        "\n",
        "print(len(text))\n",
        "print(text[0:100])"
      ],
      "execution_count": null,
      "outputs": [
        {
          "output_type": "stream",
          "text": [
            "1115394\n",
            "First Citizen:\n",
            "Before we proceed any further, hear me speak.\n",
            "\n",
            "All:\n",
            "Speak, speak.\n",
            "\n",
            "First Citizen:\n",
            "You\n"
          ],
          "name": "stdout"
        }
      ]
    },
    {
      "cell_type": "code",
      "metadata": {
        "id": "gHEt15SUfh_V",
        "colab_type": "code",
        "colab": {},
        "outputId": "b973dd73-1078-492f-c167-a9ae94df809e"
      },
      "source": [
        "# 1. generate vocab\n",
        "# 2. build mapping char->id\n",
        "# 3. data -> id_data\n",
        "# 4. abcd -> bcd<eos>\n",
        "\n",
        "vocab = sorted(set(text))\n",
        "print(len(vocab))\n",
        "print(vocab)"
      ],
      "execution_count": null,
      "outputs": [
        {
          "output_type": "stream",
          "text": [
            "65\n",
            "['\\n', ' ', '!', '$', '&', \"'\", ',', '-', '.', '3', ':', ';', '?', 'A', 'B', 'C', 'D', 'E', 'F', 'G', 'H', 'I', 'J', 'K', 'L', 'M', 'N', 'O', 'P', 'Q', 'R', 'S', 'T', 'U', 'V', 'W', 'X', 'Y', 'Z', 'a', 'b', 'c', 'd', 'e', 'f', 'g', 'h', 'i', 'j', 'k', 'l', 'm', 'n', 'o', 'p', 'q', 'r', 's', 't', 'u', 'v', 'w', 'x', 'y', 'z']\n"
          ],
          "name": "stdout"
        }
      ]
    },
    {
      "cell_type": "code",
      "metadata": {
        "id": "dKnwMc0Gfh_Z",
        "colab_type": "code",
        "colab": {},
        "outputId": "387124bd-7be5-4171-b385-eac76f3ac477"
      },
      "source": [
        "char2idx = {char:idx for idx, char in enumerate(vocab)}\n",
        "print(char2idx)"
      ],
      "execution_count": null,
      "outputs": [
        {
          "output_type": "stream",
          "text": [
            "{'\\n': 0, ' ': 1, '!': 2, '$': 3, '&': 4, \"'\": 5, ',': 6, '-': 7, '.': 8, '3': 9, ':': 10, ';': 11, '?': 12, 'A': 13, 'B': 14, 'C': 15, 'D': 16, 'E': 17, 'F': 18, 'G': 19, 'H': 20, 'I': 21, 'J': 22, 'K': 23, 'L': 24, 'M': 25, 'N': 26, 'O': 27, 'P': 28, 'Q': 29, 'R': 30, 'S': 31, 'T': 32, 'U': 33, 'V': 34, 'W': 35, 'X': 36, 'Y': 37, 'Z': 38, 'a': 39, 'b': 40, 'c': 41, 'd': 42, 'e': 43, 'f': 44, 'g': 45, 'h': 46, 'i': 47, 'j': 48, 'k': 49, 'l': 50, 'm': 51, 'n': 52, 'o': 53, 'p': 54, 'q': 55, 'r': 56, 's': 57, 't': 58, 'u': 59, 'v': 60, 'w': 61, 'x': 62, 'y': 63, 'z': 64}\n"
          ],
          "name": "stdout"
        }
      ]
    },
    {
      "cell_type": "code",
      "metadata": {
        "id": "rAVxjkHJfh_b",
        "colab_type": "code",
        "colab": {},
        "outputId": "94e53f51-f8c6-48d5-c435-5df185c3fcaa"
      },
      "source": [
        "idx2char = np.array(vocab)\n",
        "print(idx2char)"
      ],
      "execution_count": null,
      "outputs": [
        {
          "output_type": "stream",
          "text": [
            "['\\n' ' ' '!' '$' '&' \"'\" ',' '-' '.' '3' ':' ';' '?' 'A' 'B' 'C' 'D' 'E'\n",
            " 'F' 'G' 'H' 'I' 'J' 'K' 'L' 'M' 'N' 'O' 'P' 'Q' 'R' 'S' 'T' 'U' 'V' 'W'\n",
            " 'X' 'Y' 'Z' 'a' 'b' 'c' 'd' 'e' 'f' 'g' 'h' 'i' 'j' 'k' 'l' 'm' 'n' 'o'\n",
            " 'p' 'q' 'r' 's' 't' 'u' 'v' 'w' 'x' 'y' 'z']\n"
          ],
          "name": "stdout"
        }
      ]
    },
    {
      "cell_type": "code",
      "metadata": {
        "id": "isHsixbjfh_e",
        "colab_type": "code",
        "colab": {},
        "outputId": "7663609d-2f6b-450d-cf7e-b1f6aa0bdff1"
      },
      "source": [
        "text_as_int = np.array([char2idx[c] for c in text])\n",
        "print(text_as_int[0:10])\n",
        "print(text[0:10])"
      ],
      "execution_count": null,
      "outputs": [
        {
          "output_type": "stream",
          "text": [
            "[18 47 56 57 58  1 15 47 58 47]\n",
            "First Citi\n"
          ],
          "name": "stdout"
        }
      ]
    },
    {
      "cell_type": "code",
      "metadata": {
        "id": "auEarW-Pfh_g",
        "colab_type": "code",
        "colab": {},
        "outputId": "f177a5ca-42a3-46ef-87ee-4a8182a1ea51"
      },
      "source": [
        "def split_input_target(id_text):\n",
        "    \"\"\"\n",
        "    abcde -> abcd, bcde\n",
        "    \"\"\"\n",
        "    return id_text[0:-1], id_text[1:]\n",
        "\n",
        "char_dataset = tf.data.Dataset.from_tensor_slices(text_as_int)\n",
        "seq_length = 100\n",
        "seq_dataset = char_dataset.batch(seq_length + 1,\n",
        "                                 drop_remainder = True)\n",
        "for ch_id in char_dataset.take(2):\n",
        "    print(ch_id, idx2char[ch_id.numpy()])\n",
        "\n",
        "for seq_id in seq_dataset.take(2):\n",
        "    print(seq_id)\n",
        "    print(repr(''.join(idx2char[seq_id.numpy()])))"
      ],
      "execution_count": null,
      "outputs": [
        {
          "output_type": "stream",
          "text": [
            "tf.Tensor(18, shape=(), dtype=int64) F\n",
            "tf.Tensor(47, shape=(), dtype=int64) i\n",
            "tf.Tensor(\n",
            "[18 47 56 57 58  1 15 47 58 47 64 43 52 10  0 14 43 44 53 56 43  1 61 43\n",
            "  1 54 56 53 41 43 43 42  1 39 52 63  1 44 59 56 58 46 43 56  6  1 46 43\n",
            " 39 56  1 51 43  1 57 54 43 39 49  8  0  0 13 50 50 10  0 31 54 43 39 49\n",
            "  6  1 57 54 43 39 49  8  0  0 18 47 56 57 58  1 15 47 58 47 64 43 52 10\n",
            "  0 37 53 59  1], shape=(101,), dtype=int64)\n",
            "'First Citizen:\\nBefore we proceed any further, hear me speak.\\n\\nAll:\\nSpeak, speak.\\n\\nFirst Citizen:\\nYou '\n",
            "tf.Tensor(\n",
            "[39 56 43  1 39 50 50  1 56 43 57 53 50 60 43 42  1 56 39 58 46 43 56  1\n",
            " 58 53  1 42 47 43  1 58 46 39 52  1 58 53  1 44 39 51 47 57 46 12  0  0\n",
            " 13 50 50 10  0 30 43 57 53 50 60 43 42  8  1 56 43 57 53 50 60 43 42  8\n",
            "  0  0 18 47 56 57 58  1 15 47 58 47 64 43 52 10  0 18 47 56 57 58  6  1\n",
            " 63 53 59  1 49], shape=(101,), dtype=int64)\n",
            "'are all resolved rather to die than to famish?\\n\\nAll:\\nResolved. resolved.\\n\\nFirst Citizen:\\nFirst, you k'\n"
          ],
          "name": "stdout"
        }
      ]
    },
    {
      "cell_type": "code",
      "metadata": {
        "id": "NwNMnVhUfh_j",
        "colab_type": "code",
        "colab": {},
        "outputId": "f876e70c-d7fb-48ad-d41c-8ebfd8fb00f6"
      },
      "source": [
        "seq_dataset = seq_dataset.map(split_input_target)\n",
        "\n",
        "for item_input, item_output in seq_dataset.take(2):\n",
        "    print(item_input.numpy())\n",
        "    print(item_output.numpy())"
      ],
      "execution_count": null,
      "outputs": [
        {
          "output_type": "stream",
          "text": [
            "[18 47 56 57 58  1 15 47 58 47 64 43 52 10  0 14 43 44 53 56 43  1 61 43\n",
            "  1 54 56 53 41 43 43 42  1 39 52 63  1 44 59 56 58 46 43 56  6  1 46 43\n",
            " 39 56  1 51 43  1 57 54 43 39 49  8  0  0 13 50 50 10  0 31 54 43 39 49\n",
            "  6  1 57 54 43 39 49  8  0  0 18 47 56 57 58  1 15 47 58 47 64 43 52 10\n",
            "  0 37 53 59]\n",
            "[47 56 57 58  1 15 47 58 47 64 43 52 10  0 14 43 44 53 56 43  1 61 43  1\n",
            " 54 56 53 41 43 43 42  1 39 52 63  1 44 59 56 58 46 43 56  6  1 46 43 39\n",
            " 56  1 51 43  1 57 54 43 39 49  8  0  0 13 50 50 10  0 31 54 43 39 49  6\n",
            "  1 57 54 43 39 49  8  0  0 18 47 56 57 58  1 15 47 58 47 64 43 52 10  0\n",
            " 37 53 59  1]\n",
            "[39 56 43  1 39 50 50  1 56 43 57 53 50 60 43 42  1 56 39 58 46 43 56  1\n",
            " 58 53  1 42 47 43  1 58 46 39 52  1 58 53  1 44 39 51 47 57 46 12  0  0\n",
            " 13 50 50 10  0 30 43 57 53 50 60 43 42  8  1 56 43 57 53 50 60 43 42  8\n",
            "  0  0 18 47 56 57 58  1 15 47 58 47 64 43 52 10  0 18 47 56 57 58  6  1\n",
            " 63 53 59  1]\n",
            "[56 43  1 39 50 50  1 56 43 57 53 50 60 43 42  1 56 39 58 46 43 56  1 58\n",
            " 53  1 42 47 43  1 58 46 39 52  1 58 53  1 44 39 51 47 57 46 12  0  0 13\n",
            " 50 50 10  0 30 43 57 53 50 60 43 42  8  1 56 43 57 53 50 60 43 42  8  0\n",
            "  0 18 47 56 57 58  1 15 47 58 47 64 43 52 10  0 18 47 56 57 58  6  1 63\n",
            " 53 59  1 49]\n"
          ],
          "name": "stdout"
        }
      ]
    },
    {
      "cell_type": "code",
      "metadata": {
        "id": "rAGmGRWZfh_l",
        "colab_type": "code",
        "colab": {}
      },
      "source": [
        "batch_size = 64\n",
        "buffer_size = 10000\n",
        "\n",
        "seq_dataset = seq_dataset.shuffle(buffer_size).batch(\n",
        "    batch_size, drop_remainder=True)\n"
      ],
      "execution_count": null,
      "outputs": []
    },
    {
      "cell_type": "code",
      "metadata": {
        "id": "C1qbbBv0fh_n",
        "colab_type": "code",
        "colab": {},
        "outputId": "4870502b-de51-4eed-c8c3-6d7cd2cab8fe"
      },
      "source": [
        "vocab_size = len(vocab)\n",
        "embedding_dim = 256\n",
        "rnn_units = 1024\n",
        "\n",
        "def build_model(vocab_size, embedding_dim, rnn_units, batch_size):\n",
        "    model = keras.models.Sequential([\n",
        "        keras.layers.Embedding(vocab_size, embedding_dim,\n",
        "                               batch_input_shape = [batch_size, None]),\n",
        "        keras.layers.SimpleRNN(units = rnn_units,\n",
        "                               stateful = True,\n",
        "                               recurrent_initializer = 'glorot_uniform',\n",
        "                               return_sequences = True),\n",
        "        keras.layers.Dense(vocab_size),\n",
        "    ])\n",
        "    return model\n",
        "\n",
        "model = build_model(\n",
        "    vocab_size = vocab_size,\n",
        "    embedding_dim = embedding_dim,\n",
        "    rnn_units = rnn_units,\n",
        "    batch_size = batch_size)\n",
        "\n",
        "model.summary()"
      ],
      "execution_count": null,
      "outputs": [
        {
          "output_type": "stream",
          "text": [
            "Model: \"sequential\"\n",
            "_________________________________________________________________\n",
            "Layer (type)                 Output Shape              Param #   \n",
            "=================================================================\n",
            "embedding (Embedding)        (64, None, 256)           16640     \n",
            "_________________________________________________________________\n",
            "simple_rnn (SimpleRNN)       (64, None, 1024)          1311744   \n",
            "_________________________________________________________________\n",
            "dense (Dense)                (64, None, 65)            66625     \n",
            "=================================================================\n",
            "Total params: 1,395,009\n",
            "Trainable params: 1,395,009\n",
            "Non-trainable params: 0\n",
            "_________________________________________________________________\n"
          ],
          "name": "stdout"
        }
      ]
    },
    {
      "cell_type": "code",
      "metadata": {
        "id": "GniktJxwfh_p",
        "colab_type": "code",
        "colab": {},
        "outputId": "25f09d8f-122c-4211-d802-57c5358b1c32"
      },
      "source": [
        "for input_example_batch, target_example_batch in seq_dataset.take(1):\n",
        "    example_batch_predictions = model(input_example_batch)\n",
        "    print(example_batch_predictions.shape)"
      ],
      "execution_count": null,
      "outputs": [
        {
          "output_type": "stream",
          "text": [
            "(64, 100, 65)\n"
          ],
          "name": "stdout"
        }
      ]
    },
    {
      "cell_type": "code",
      "metadata": {
        "id": "Fr6pIj8Yfh_r",
        "colab_type": "code",
        "colab": {},
        "outputId": "61fed6f3-215a-4dff-a06c-84e9996db095"
      },
      "source": [
        "# random sampling.\n",
        "# greedy, random.\n",
        "sample_indices = tf.random.categorical(\n",
        "    logits = example_batch_predictions[0], num_samples = 1)\n",
        "print(sample_indices)\n",
        "# (100, 65) -> (100, 1)\n",
        "sample_indices = tf.squeeze(sample_indices, axis = -1)\n",
        "print(sample_indices)"
      ],
      "execution_count": null,
      "outputs": [
        {
          "output_type": "stream",
          "text": [
            "tf.Tensor(\n",
            "[[12]\n",
            " [ 8]\n",
            " [37]\n",
            " [43]\n",
            " [44]\n",
            " [40]\n",
            " [ 9]\n",
            " [ 6]\n",
            " [13]\n",
            " [24]\n",
            " [64]\n",
            " [26]\n",
            " [30]\n",
            " [57]\n",
            " [32]\n",
            " [51]\n",
            " [30]\n",
            " [41]\n",
            " [30]\n",
            " [ 7]\n",
            " [46]\n",
            " [58]\n",
            " [ 6]\n",
            " [50]\n",
            " [10]\n",
            " [57]\n",
            " [51]\n",
            " [ 1]\n",
            " [20]\n",
            " [41]\n",
            " [38]\n",
            " [45]\n",
            " [28]\n",
            " [45]\n",
            " [33]\n",
            " [11]\n",
            " [52]\n",
            " [26]\n",
            " [11]\n",
            " [32]\n",
            " [45]\n",
            " [31]\n",
            " [26]\n",
            " [61]\n",
            " [55]\n",
            " [15]\n",
            " [26]\n",
            " [60]\n",
            " [54]\n",
            " [28]\n",
            " [61]\n",
            " [44]\n",
            " [ 7]\n",
            " [ 8]\n",
            " [53]\n",
            " [42]\n",
            " [64]\n",
            " [44]\n",
            " [41]\n",
            " [32]\n",
            " [11]\n",
            " [31]\n",
            " [46]\n",
            " [24]\n",
            " [49]\n",
            " [12]\n",
            " [ 4]\n",
            " [ 3]\n",
            " [46]\n",
            " [14]\n",
            " [55]\n",
            " [59]\n",
            " [ 4]\n",
            " [54]\n",
            " [29]\n",
            " [32]\n",
            " [34]\n",
            " [23]\n",
            " [60]\n",
            " [41]\n",
            " [34]\n",
            " [57]\n",
            " [ 5]\n",
            " [15]\n",
            " [61]\n",
            " [52]\n",
            " [13]\n",
            " [ 0]\n",
            " [15]\n",
            " [22]\n",
            " [64]\n",
            " [45]\n",
            " [16]\n",
            " [22]\n",
            " [48]\n",
            " [49]\n",
            " [51]\n",
            " [25]\n",
            " [55]\n",
            " [31]], shape=(100, 1), dtype=int64)\n",
            "tf.Tensor(\n",
            "[12  8 37 43 44 40  9  6 13 24 64 26 30 57 32 51 30 41 30  7 46 58  6 50\n",
            " 10 57 51  1 20 41 38 45 28 45 33 11 52 26 11 32 45 31 26 61 55 15 26 60\n",
            " 54 28 61 44  7  8 53 42 64 44 41 32 11 31 46 24 49 12  4  3 46 14 55 59\n",
            "  4 54 29 32 34 23 60 41 34 57  5 15 61 52 13  0 15 22 64 45 16 22 48 49\n",
            " 51 25 55 31], shape=(100,), dtype=int64)\n"
          ],
          "name": "stdout"
        }
      ]
    },
    {
      "cell_type": "code",
      "metadata": {
        "id": "A4Grjq20fh_t",
        "colab_type": "code",
        "colab": {},
        "outputId": "10a25628-e080-42c2-de6b-683508bd7bb8"
      },
      "source": [
        "print(\"Input: \", repr(\"\".join(idx2char[input_example_batch[0]])))\n",
        "print()\n",
        "print(\"Output: \", repr(\"\".join(idx2char[target_example_batch[0]])))\n",
        "print()\n",
        "print(\"Predictions: \", repr(\"\".join(idx2char[sample_indices])))"
      ],
      "execution_count": null,
      "outputs": [
        {
          "output_type": "stream",
          "text": [
            "Input:  'nd furbish new the name of John a Gaunt,\\nEven in the lusty havior of his son.\\n\\nJOHN OF GAUNT:\\nGod in'\n",
            "\n",
            "Output:  'd furbish new the name of John a Gaunt,\\nEven in the lusty havior of his son.\\n\\nJOHN OF GAUNT:\\nGod in '\n",
            "\n",
            "Predictions:  \"?.Yefb3,ALzNRsTmRcR-ht,l:sm HcZgPgU;nN;TgSNwqCNvpPwf-.odzfcT;ShLk?&$hBqu&pQTVKvcVs'CwnA\\nCJzgDJjkmMqS\"\n"
          ],
          "name": "stdout"
        }
      ]
    },
    {
      "cell_type": "code",
      "metadata": {
        "id": "cplxQ-Y9fh_x",
        "colab_type": "code",
        "colab": {},
        "outputId": "0d395200-6b91-422a-c6f2-7927c44b750f"
      },
      "source": [
        "def loss(labels, logits):\n",
        "    return keras.losses.sparse_categorical_crossentropy(\n",
        "        labels, logits, from_logits=True)\n",
        "\n",
        "model.compile(optimizer = 'adam', loss = loss)\n",
        "example_loss = loss(target_example_batch, example_batch_predictions)\n",
        "print(example_loss.shape)\n",
        "print(example_loss.numpy().mean())"
      ],
      "execution_count": null,
      "outputs": [
        {
          "output_type": "stream",
          "text": [
            "(64, 100)\n",
            "4.178501\n"
          ],
          "name": "stdout"
        }
      ]
    },
    {
      "cell_type": "code",
      "metadata": {
        "id": "9HdhcNgtfh_z",
        "colab_type": "code",
        "colab": {},
        "outputId": "cff5ae6e-763e-47fc-cdc2-e0931e284a01"
      },
      "source": [
        "output_dir = \"./text_generation_checkpoints\"\n",
        "if not os.path.exists(output_dir):\n",
        "    os.mkdir(output_dir)\n",
        "checkpoint_prefix = os.path.join(output_dir, 'ckpt_{epoch}')\n",
        "checkpoint_callback = keras.callbacks.ModelCheckpoint(\n",
        "    filepath = checkpoint_prefix,\n",
        "    save_weights_only = True)\n",
        "\n",
        "epochs = 100\n",
        "history = model.fit(seq_dataset, epochs = epochs,\n",
        "                    callbacks = [checkpoint_callback])\n"
      ],
      "execution_count": null,
      "outputs": [
        {
          "output_type": "stream",
          "text": [
            "Epoch 1/100\n",
            "172/172 [==============================] - 10s 60ms/step - loss: 2.9559\n",
            "Epoch 2/100\n",
            "172/172 [==============================] - 8s 49ms/step - loss: 2.1363\n",
            "Epoch 3/100\n",
            "172/172 [==============================] - 8s 48ms/step - loss: 1.9579\n",
            "Epoch 4/100\n",
            "172/172 [==============================] - 9s 50ms/step - loss: 1.8244\n",
            "Epoch 5/100\n",
            "172/172 [==============================] - 9s 49ms/step - loss: 1.7198\n",
            "Epoch 6/100\n",
            "172/172 [==============================] - 9s 50ms/step - loss: 1.6412\n",
            "Epoch 7/100\n",
            "172/172 [==============================] - 8s 49ms/step - loss: 1.5801\n",
            "Epoch 8/100\n",
            "172/172 [==============================] - 9s 50ms/step - loss: 1.5330\n",
            "Epoch 9/100\n",
            "172/172 [==============================] - 9s 50ms/step - loss: 1.4988\n",
            "Epoch 10/100\n",
            "172/172 [==============================] - 9s 52ms/step - loss: 1.4671\n",
            "Epoch 11/100\n",
            "172/172 [==============================] - 9s 50ms/step - loss: 1.4405\n",
            "Epoch 12/100\n",
            "172/172 [==============================] - 9s 51ms/step - loss: 1.4180\n",
            "Epoch 13/100\n",
            "172/172 [==============================] - 9s 50ms/step - loss: 1.3990\n",
            "Epoch 14/100\n",
            "172/172 [==============================] - 9s 50ms/step - loss: 1.3819\n",
            "Epoch 15/100\n",
            "172/172 [==============================] - 8s 49ms/step - loss: 1.3645\n",
            "Epoch 16/100\n",
            "172/172 [==============================] - 8s 48ms/step - loss: 1.3497\n",
            "Epoch 17/100\n",
            "172/172 [==============================] - 8s 49ms/step - loss: 1.3360\n",
            "Epoch 18/100\n",
            "172/172 [==============================] - 8s 49ms/step - loss: 1.3241\n",
            "Epoch 19/100\n",
            "172/172 [==============================] - 8s 48ms/step - loss: 1.3097\n",
            "Epoch 20/100\n",
            "172/172 [==============================] - 8s 49ms/step - loss: 1.2992\n",
            "Epoch 21/100\n",
            "172/172 [==============================] - 9s 50ms/step - loss: 1.2865\n",
            "Epoch 22/100\n",
            "172/172 [==============================] - 9s 51ms/step - loss: 1.2763\n",
            "Epoch 23/100\n",
            "172/172 [==============================] - 8s 49ms/step - loss: 1.2629\n",
            "Epoch 24/100\n",
            "172/172 [==============================] - 8s 49ms/step - loss: 1.2552\n",
            "Epoch 25/100\n",
            "172/172 [==============================] - 9s 50ms/step - loss: 1.2419\n",
            "Epoch 26/100\n",
            "172/172 [==============================] - 8s 48ms/step - loss: 1.2315\n",
            "Epoch 27/100\n",
            "172/172 [==============================] - 8s 48ms/step - loss: 1.2209\n",
            "Epoch 28/100\n",
            "172/172 [==============================] - 8s 48ms/step - loss: 1.2100\n",
            "Epoch 29/100\n",
            "172/172 [==============================] - 8s 49ms/step - loss: 1.2017\n",
            "Epoch 30/100\n",
            "172/172 [==============================] - 9s 50ms/step - loss: 1.1925\n",
            "Epoch 31/100\n",
            "172/172 [==============================] - 9s 50ms/step - loss: 1.1800\n",
            "Epoch 32/100\n",
            "172/172 [==============================] - 9s 51ms/step - loss: 1.1702\n",
            "Epoch 33/100\n",
            "172/172 [==============================] - 8s 48ms/step - loss: 1.1603\n",
            "Epoch 34/100\n",
            "172/172 [==============================] - 8s 49ms/step - loss: 1.1521\n",
            "Epoch 35/100\n",
            "172/172 [==============================] - 9s 50ms/step - loss: 1.1426\n",
            "Epoch 36/100\n",
            "172/172 [==============================] - 9s 50ms/step - loss: 1.1333\n",
            "Epoch 37/100\n",
            "172/172 [==============================] - 8s 48ms/step - loss: 1.1246\n",
            "Epoch 38/100\n",
            "172/172 [==============================] - 8s 48ms/step - loss: 1.1175\n",
            "Epoch 39/100\n",
            "172/172 [==============================] - 8s 49ms/step - loss: 1.1090\n",
            "Epoch 40/100\n",
            "172/172 [==============================] - 8s 49ms/step - loss: 1.1016\n",
            "Epoch 41/100\n",
            "172/172 [==============================] - 8s 48ms/step - loss: 1.0986\n",
            "Epoch 42/100\n",
            "172/172 [==============================] - 8s 49ms/step - loss: 1.0890\n",
            "Epoch 43/100\n",
            "172/172 [==============================] - 8s 49ms/step - loss: 1.0820\n",
            "Epoch 44/100\n",
            "172/172 [==============================] - 8s 49ms/step - loss: 1.0784\n",
            "Epoch 45/100\n",
            "172/172 [==============================] - 8s 48ms/step - loss: 1.0730\n",
            "Epoch 46/100\n",
            "172/172 [==============================] - 8s 48ms/step - loss: 1.0662\n",
            "Epoch 47/100\n",
            "172/172 [==============================] - 8s 49ms/step - loss: 1.0632\n",
            "Epoch 48/100\n",
            "172/172 [==============================] - 8s 49ms/step - loss: 1.0600\n",
            "Epoch 49/100\n",
            "172/172 [==============================] - 9s 51ms/step - loss: 1.0558\n",
            "Epoch 50/100\n",
            "172/172 [==============================] - 8s 49ms/step - loss: 1.0500\n",
            "Epoch 51/100\n",
            "172/172 [==============================] - 8s 49ms/step - loss: 1.0480\n",
            "Epoch 52/100\n",
            "172/172 [==============================] - 9s 51ms/step - loss: 1.0479\n",
            "Epoch 53/100\n",
            "172/172 [==============================] - 9s 50ms/step - loss: 1.0436\n",
            "Epoch 54/100\n",
            "172/172 [==============================] - 8s 48ms/step - loss: 1.0421\n",
            "Epoch 55/100\n",
            "172/172 [==============================] - 8s 49ms/step - loss: 1.0423\n",
            "Epoch 56/100\n",
            "172/172 [==============================] - 8s 48ms/step - loss: 1.0405\n",
            "Epoch 57/100\n",
            "172/172 [==============================] - 8s 49ms/step - loss: 1.0378\n",
            "Epoch 58/100\n",
            "172/172 [==============================] - 8s 48ms/step - loss: 1.0360\n",
            "Epoch 59/100\n",
            "172/172 [==============================] - 8s 48ms/step - loss: 1.0366\n",
            "Epoch 60/100\n",
            "172/172 [==============================] - 8s 49ms/step - loss: 1.0375\n",
            "Epoch 61/100\n",
            "172/172 [==============================] - 8s 49ms/step - loss: 1.0390\n",
            "Epoch 62/100\n",
            "172/172 [==============================] - 8s 48ms/step - loss: 1.0355\n",
            "Epoch 63/100\n",
            "172/172 [==============================] - 8s 48ms/step - loss: 1.0350\n",
            "Epoch 64/100\n",
            "172/172 [==============================] - 8s 49ms/step - loss: 1.0364\n",
            "Epoch 65/100\n",
            "172/172 [==============================] - 8s 49ms/step - loss: 1.0383\n",
            "Epoch 66/100\n",
            "172/172 [==============================] - 8s 49ms/step - loss: 1.0397\n",
            "Epoch 67/100\n",
            "172/172 [==============================] - 9s 50ms/step - loss: 1.0375\n",
            "Epoch 68/100\n",
            "172/172 [==============================] - 8s 49ms/step - loss: 1.0391\n",
            "Epoch 69/100\n",
            "172/172 [==============================] - 8s 49ms/step - loss: 1.0408\n",
            "Epoch 70/100\n",
            "172/172 [==============================] - 9s 51ms/step - loss: 1.0436\n",
            "Epoch 71/100\n",
            "172/172 [==============================] - 9s 49ms/step - loss: 1.0435\n",
            "Epoch 72/100\n",
            "172/172 [==============================] - 8s 48ms/step - loss: 1.0490\n",
            "Epoch 73/100\n",
            "172/172 [==============================] - 8s 49ms/step - loss: 1.0471\n",
            "Epoch 74/100\n",
            "172/172 [==============================] - 8s 48ms/step - loss: 1.0505\n",
            "Epoch 75/100\n",
            "172/172 [==============================] - 8s 48ms/step - loss: 1.0531\n",
            "Epoch 76/100\n",
            "172/172 [==============================] - 9s 49ms/step - loss: 1.0528\n",
            "Epoch 77/100\n",
            "172/172 [==============================] - 8s 48ms/step - loss: 1.0534\n",
            "Epoch 78/100\n",
            "172/172 [==============================] - 8s 49ms/step - loss: 1.0591\n",
            "Epoch 79/100\n",
            "172/172 [==============================] - 8s 49ms/step - loss: 1.0614\n",
            "Epoch 80/100\n",
            "172/172 [==============================] - 9s 50ms/step - loss: 1.0622\n",
            "Epoch 81/100\n",
            "172/172 [==============================] - 8s 48ms/step - loss: 1.0673\n",
            "Epoch 82/100\n",
            "172/172 [==============================] - 8s 49ms/step - loss: 1.0705\n",
            "Epoch 83/100\n",
            "172/172 [==============================] - 9s 51ms/step - loss: 1.0704\n",
            "Epoch 84/100\n",
            "172/172 [==============================] - 8s 49ms/step - loss: 1.0741\n",
            "Epoch 85/100\n",
            "172/172 [==============================] - 8s 49ms/step - loss: 1.0793\n",
            "Epoch 86/100\n",
            "172/172 [==============================] - 9s 52ms/step - loss: 1.0765\n",
            "Epoch 87/100\n",
            "172/172 [==============================] - 8s 49ms/step - loss: 1.0815\n",
            "Epoch 88/100\n",
            "172/172 [==============================] - 8s 49ms/step - loss: 1.0889\n",
            "Epoch 89/100\n",
            "172/172 [==============================] - 9s 50ms/step - loss: 1.0913\n",
            "Epoch 90/100\n",
            "172/172 [==============================] - 8s 49ms/step - loss: 1.0931\n",
            "Epoch 91/100\n",
            "172/172 [==============================] - 8s 48ms/step - loss: 1.0966\n",
            "Epoch 92/100\n",
            "172/172 [==============================] - 8s 49ms/step - loss: 1.1032\n",
            "Epoch 93/100\n",
            "172/172 [==============================] - 9s 51ms/step - loss: 1.1060\n",
            "Epoch 94/100\n",
            "172/172 [==============================] - 8s 48ms/step - loss: 1.1080\n",
            "Epoch 95/100\n",
            "172/172 [==============================] - 8s 49ms/step - loss: 1.1124\n",
            "Epoch 96/100\n",
            "172/172 [==============================] - 9s 50ms/step - loss: 1.1170\n",
            "Epoch 97/100\n",
            "172/172 [==============================] - 8s 48ms/step - loss: 1.1193\n",
            "Epoch 98/100\n"
          ],
          "name": "stdout"
        },
        {
          "output_type": "stream",
          "text": [
            "172/172 [==============================] - 8s 47ms/step - loss: 1.1244\n",
            "Epoch 99/100\n",
            "172/172 [==============================] - 9s 50ms/step - loss: 1.1305\n",
            "Epoch 100/100\n",
            "172/172 [==============================] - 8s 49ms/step - loss: 1.1337\n"
          ],
          "name": "stdout"
        }
      ]
    },
    {
      "cell_type": "code",
      "metadata": {
        "id": "jez-MHdEfh_1",
        "colab_type": "code",
        "colab": {},
        "outputId": "4e4e6809-14a1-4f43-e4ce-5b04300d72c0"
      },
      "source": [
        "tf.train.latest_checkpoint(output_dir)"
      ],
      "execution_count": null,
      "outputs": [
        {
          "output_type": "execute_result",
          "data": {
            "text/plain": [
              "'./text_generation_checkpoints/ckpt_100'"
            ]
          },
          "metadata": {
            "tags": []
          },
          "execution_count": 16
        }
      ]
    },
    {
      "cell_type": "code",
      "metadata": {
        "id": "9Cvl-Pz7fh_3",
        "colab_type": "code",
        "colab": {},
        "outputId": "e5c67052-abd6-4fa2-ae69-9195db56c021"
      },
      "source": [
        "model2 = build_model(vocab_size,\n",
        "                     embedding_dim,\n",
        "                     rnn_units,\n",
        "                     batch_size = 1)\n",
        "model2.load_weights(tf.train.latest_checkpoint(output_dir))\n",
        "model2.build(tf.TensorShape([1, None]))\n",
        "# start ch sequence A,\n",
        "# A -> model -> b\n",
        "# A.append(b) -> B\n",
        "# B(Ab) -> model -> c\n",
        "# B.append(c) -> C\n",
        "# C(Abc) -> model -> ...\n",
        "model2.summary()"
      ],
      "execution_count": null,
      "outputs": [
        {
          "output_type": "stream",
          "text": [
            "Model: \"sequential_1\"\n",
            "_________________________________________________________________\n",
            "Layer (type)                 Output Shape              Param #   \n",
            "=================================================================\n",
            "embedding_1 (Embedding)      (1, None, 256)            16640     \n",
            "_________________________________________________________________\n",
            "simple_rnn_1 (SimpleRNN)     (1, None, 1024)           1311744   \n",
            "_________________________________________________________________\n",
            "dense_1 (Dense)              (1, None, 65)             66625     \n",
            "=================================================================\n",
            "Total params: 1,395,009\n",
            "Trainable params: 1,395,009\n",
            "Non-trainable params: 0\n",
            "_________________________________________________________________\n"
          ],
          "name": "stdout"
        }
      ]
    },
    {
      "cell_type": "code",
      "metadata": {
        "id": "z3Kp4mfhfh_5",
        "colab_type": "code",
        "colab": {},
        "outputId": "d24b2b14-c569-496c-c97e-7b7d501bac0c"
      },
      "source": [
        "def generate_text(model, start_string, num_generate = 1000):\n",
        "    input_eval = [char2idx[ch] for ch in start_string]\n",
        "    input_eval = tf.expand_dims(input_eval, 0)\n",
        "    \n",
        "    text_generated = []\n",
        "    model.reset_states()\n",
        "    \n",
        "    for _ in range(num_generate):\n",
        "        # 1. model inference -> predictions\n",
        "        # 2. sample -> ch -> text_generated.\n",
        "        # 3. update input_eval\n",
        "        \n",
        "        # predictions : [batch_size, input_eval_len, vocab_size]\n",
        "        predictions = model(input_eval)\n",
        "        # predictions : [input_eval_len, vocab_size]\n",
        "        predictions = tf.squeeze(predictions, 0)\n",
        "        # predicted_ids: [input_eval_len, 1]\n",
        "        # a b c -> b c d\n",
        "        predicted_id = tf.random.categorical(\n",
        "            predictions, num_samples = 1)[-1, 0].numpy()\n",
        "        text_generated.append(idx2char[predicted_id])\n",
        "        # s, x -> rnn -> s', y\n",
        "        input_eval = tf.expand_dims([predicted_id], 0)\n",
        "    return start_string + ''.join(text_generated)\n",
        "\n",
        "new_text = generate_text(model2, \"All: \")\n",
        "print(new_text)\n"
      ],
      "execution_count": null,
      "outputs": [
        {
          "output_type": "stream",
          "text": [
            "All: am come to me.\n",
            "The people wilding it out,\n",
            "And heal in municles.\n",
            "\n",
            "PETRUCHIO:\n",
            "I have most thy foes o' your worship and mine\n",
            "Only back that loved him lip as thy chasting:\n",
            "Methinks I slip To perpet cleave that interument. Bring him to this excy.\n",
            "\n",
            "DUKE VINCENTIO:\n",
            "Not only to seek she cursed his body too?\n",
            "Alas,\n",
            "My sister Kathare commanded grave, if what most foul discourse, the great and honour is meaning and at Bolingbroke: I am gle\n",
            "That coldly and holds erost not lightly to help,\n",
            "And the tribuner.\n",
            "And, Clifford came to me, I am no soul is appear'd by that rdsterl'd\n",
            "Even then adversain,\n",
            "Clain' the world will not come to me but foretanators: when I can heartited be of justice;\n",
            "For whenhted send thy was;\n",
            "Come which they say the dove-contenting her on\n",
            "twelve Ergar!\n",
            "This she does full as Sicide.\n",
            "\n",
            "BUCKINGHAM:\n",
            "But were to be possible that\n",
            "Ins never gentle hin right too.\n",
            "\n",
            "LUCENTIO:\n",
            "Richard look you rele'd, my life-handed, sowdo these\n",
            "Seen indee to Angelo is bestip; 'Tis he consured the world colou\n"
          ],
          "name": "stdout"
        }
      ]
    },
    {
      "cell_type": "code",
      "metadata": {
        "id": "vNYEHlKffh_8",
        "colab_type": "code",
        "colab": {}
      },
      "source": [
        ""
      ],
      "execution_count": null,
      "outputs": []
    }
  ]
}