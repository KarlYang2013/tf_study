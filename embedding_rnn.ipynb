{
  "nbformat": 4,
  "nbformat_minor": 0,
  "metadata": {
    "kernelspec": {
      "display_name": "Python 3",
      "language": "python",
      "name": "python3"
    },
    "language_info": {
      "codemirror_mode": {
        "name": "ipython",
        "version": 3
      },
      "file_extension": ".py",
      "mimetype": "text/x-python",
      "name": "python",
      "nbconvert_exporter": "python",
      "pygments_lexer": "ipython3",
      "version": "3.6.9"
    },
    "colab": {
      "name": "embedding_rnn.ipynb",
      "provenance": [],
      "include_colab_link": true
    }
  },
  "cells": [
    {
      "cell_type": "markdown",
      "metadata": {
        "id": "view-in-github",
        "colab_type": "text"
      },
      "source": [
        "<a href=\"https://colab.research.google.com/github/KarlYang2013/tf_study/blob/master/embedding_rnn.ipynb\" target=\"_parent\"><img src=\"https://colab.research.google.com/assets/colab-badge.svg\" alt=\"Open In Colab\"/></a>"
      ]
    },
    {
      "cell_type": "code",
      "metadata": {
        "id": "Oz0gUjw8groS",
        "colab_type": "code",
        "colab": {},
        "outputId": "6d32fd33-9467-4b80-892b-330b25a23018"
      },
      "source": [
        "import matplotlib as mpl\n",
        "import matplotlib.pyplot as plt\n",
        "%matplotlib inline\n",
        "import numpy as np\n",
        "import sklearn\n",
        "import pandas as pd\n",
        "import os\n",
        "import sys\n",
        "import time\n",
        "import tensorflow as tf\n",
        "\n",
        "from tensorflow import keras\n",
        "\n",
        "print(tf.__version__)\n",
        "print(sys.version_info)\n",
        "for module in mpl, np, pd, sklearn, tf, keras:\n",
        "    print(module.__name__, module.__version__)\n"
      ],
      "execution_count": null,
      "outputs": [
        {
          "output_type": "stream",
          "text": [
            "2.0.0\n",
            "sys.version_info(major=3, minor=6, micro=9, releaselevel='final', serial=0)\n",
            "matplotlib 3.1.2\n",
            "numpy 1.17.4\n",
            "pandas 0.25.3\n",
            "sklearn 0.21.3\n",
            "tensorflow 2.0.0\n",
            "tensorflow_core.keras 2.2.4-tf\n"
          ],
          "name": "stdout"
        }
      ]
    },
    {
      "cell_type": "code",
      "metadata": {
        "id": "NJ8rWsTegroX",
        "colab_type": "code",
        "colab": {}
      },
      "source": [
        "imdb = keras.datasets.imdb\n",
        "vocab_size = 10000\n",
        "index_from = 3\n",
        "(train_data, train_labels), (test_data, test_labels) = imdb.load_data(\n",
        "    num_words = vocab_size, index_from = index_from)"
      ],
      "execution_count": null,
      "outputs": []
    },
    {
      "cell_type": "code",
      "metadata": {
        "id": "gJUuUUE2groa",
        "colab_type": "code",
        "colab": {},
        "outputId": "a9af5d3c-5ecf-40f2-abb4-ee9bee79bcd8"
      },
      "source": [
        "word_index = imdb.get_word_index()\n",
        "print(len(word_index))"
      ],
      "execution_count": null,
      "outputs": [
        {
          "output_type": "stream",
          "text": [
            "88584\n"
          ],
          "name": "stdout"
        }
      ]
    },
    {
      "cell_type": "code",
      "metadata": {
        "id": "Ifp9rCXogroc",
        "colab_type": "code",
        "colab": {}
      },
      "source": [
        "word_index = {k:(v+3) for k, v in word_index.items()}"
      ],
      "execution_count": null,
      "outputs": []
    },
    {
      "cell_type": "code",
      "metadata": {
        "id": "36oNESyfgrof",
        "colab_type": "code",
        "colab": {},
        "outputId": "86a682d1-502a-4e3b-b177-e3b3a852cd7e"
      },
      "source": [
        "word_index['<PAD>'] = 0\n",
        "word_index['<START>'] = 1\n",
        "word_index['<UNK>'] = 2\n",
        "word_index['<END>'] = 3\n",
        "\n",
        "reverse_word_index = dict(\n",
        "    [(value, key) for key, value in word_index.items()])\n",
        "\n",
        "def decode_review(text_ids):\n",
        "    return ' '.join(\n",
        "        [reverse_word_index.get(word_id, \"<UNK>\") for word_id in text_ids])\n",
        "\n",
        "decode_review(train_data[0])"
      ],
      "execution_count": null,
      "outputs": [
        {
          "output_type": "execute_result",
          "data": {
            "text/plain": [
              "\"<START> this film was just brilliant casting location scenery story direction everyone's really suited the part they played and you could just imagine being there robert <UNK> is an amazing actor and now the same being director <UNK> father came from the same scottish island as myself so i loved the fact there was a real connection with this film the witty remarks throughout the film were great it was just brilliant so much that i bought the film as soon as it was released for <UNK> and would recommend it to everyone to watch and the fly fishing was amazing really cried at the end it was so sad and you know what they say if you cry at a film it must have been good and this definitely was also <UNK> to the two little boy's that played the <UNK> of norman and paul they were just brilliant children are often left out of the <UNK> list i think because the stars that play them all grown up are such a big profile for the whole film but these children are amazing and should be praised for what they have done don't you think the whole story was so lovely because it was true and was someone's life after all that was shared with us all\""
            ]
          },
          "metadata": {
            "tags": []
          },
          "execution_count": 5
        }
      ]
    },
    {
      "cell_type": "code",
      "metadata": {
        "id": "leKBZXr9groi",
        "colab_type": "code",
        "colab": {},
        "outputId": "0225e4ca-36e6-4ca5-87b9-62e468dd081b"
      },
      "source": [
        "max_length = 500\n",
        "\n",
        "train_data = keras.preprocessing.sequence.pad_sequences(\n",
        "    train_data, # list of list\n",
        "    value = word_index['<PAD>'],\n",
        "    padding = 'post', # post, pre\n",
        "    maxlen = max_length)\n",
        "\n",
        "test_data = keras.preprocessing.sequence.pad_sequences(\n",
        "    test_data, # list of list\n",
        "    value = word_index['<PAD>'],\n",
        "    padding = 'post', # post, pre\n",
        "    maxlen = max_length)\n",
        "\n",
        "print(train_data[0])"
      ],
      "execution_count": null,
      "outputs": [
        {
          "output_type": "stream",
          "text": [
            "[   1   14   22   16   43  530  973 1622 1385   65  458 4468   66 3941\n",
            "    4  173   36  256    5   25  100   43  838  112   50  670    2    9\n",
            "   35  480  284    5  150    4  172  112  167    2  336  385   39    4\n",
            "  172 4536 1111   17  546   38   13  447    4  192   50   16    6  147\n",
            " 2025   19   14   22    4 1920 4613  469    4   22   71   87   12   16\n",
            "   43  530   38   76   15   13 1247    4   22   17  515   17   12   16\n",
            "  626   18    2    5   62  386   12    8  316    8  106    5    4 2223\n",
            " 5244   16  480   66 3785   33    4  130   12   16   38  619    5   25\n",
            "  124   51   36  135   48   25 1415   33    6   22   12  215   28   77\n",
            "   52    5   14  407   16   82    2    8    4  107  117 5952   15  256\n",
            "    4    2    7 3766    5  723   36   71   43  530  476   26  400  317\n",
            "   46    7    4    2 1029   13  104   88    4  381   15  297   98   32\n",
            " 2071   56   26  141    6  194 7486   18    4  226   22   21  134  476\n",
            "   26  480    5  144   30 5535   18   51   36   28  224   92   25  104\n",
            "    4  226   65   16   38 1334   88   12   16  283    5   16 4472  113\n",
            "  103   32   15   16 5345   19  178   32    0    0    0    0    0    0\n",
            "    0    0    0    0    0    0    0    0    0    0    0    0    0    0\n",
            "    0    0    0    0    0    0    0    0    0    0    0    0    0    0\n",
            "    0    0    0    0    0    0    0    0    0    0    0    0    0    0\n",
            "    0    0    0    0    0    0    0    0    0    0    0    0    0    0\n",
            "    0    0    0    0    0    0    0    0    0    0    0    0    0    0\n",
            "    0    0    0    0    0    0    0    0    0    0    0    0    0    0\n",
            "    0    0    0    0    0    0    0    0    0    0    0    0    0    0\n",
            "    0    0    0    0    0    0    0    0    0    0    0    0    0    0\n",
            "    0    0    0    0    0    0    0    0    0    0    0    0    0    0\n",
            "    0    0    0    0    0    0    0    0    0    0    0    0    0    0\n",
            "    0    0    0    0    0    0    0    0    0    0    0    0    0    0\n",
            "    0    0    0    0    0    0    0    0    0    0    0    0    0    0\n",
            "    0    0    0    0    0    0    0    0    0    0    0    0    0    0\n",
            "    0    0    0    0    0    0    0    0    0    0    0    0    0    0\n",
            "    0    0    0    0    0    0    0    0    0    0    0    0    0    0\n",
            "    0    0    0    0    0    0    0    0    0    0    0    0    0    0\n",
            "    0    0    0    0    0    0    0    0    0    0    0    0    0    0\n",
            "    0    0    0    0    0    0    0    0    0    0    0    0    0    0\n",
            "    0    0    0    0    0    0    0    0    0    0    0    0    0    0\n",
            "    0    0    0    0    0    0    0    0    0    0]\n"
          ],
          "name": "stdout"
        }
      ]
    },
    {
      "cell_type": "code",
      "metadata": {
        "id": "B_-uwk23grok",
        "colab_type": "code",
        "colab": {},
        "outputId": "b521751a-bfdc-4f8a-e3a2-26eb00c3df09"
      },
      "source": [
        "embedding_dim = 16\n",
        "batch_size = 512\n",
        "\n",
        "single_rnn_model = keras.models.Sequential([\n",
        "    # 1. define matrix: [vocab_size, embedding_dim]\n",
        "    # 2. [1,2,3,4..], max_length * embedding_dim\n",
        "    # 3. batch_size * max_length * embedding_dim\n",
        "    keras.layers.Embedding(vocab_size, embedding_dim,\n",
        "                           input_length = max_length),\n",
        "    keras.layers.SimpleRNN(units = 64, return_sequences = False),\n",
        "    keras.layers.Dense(64, activation = 'relu'),\n",
        "    keras.layers.Dense(1, activation='sigmoid'),\n",
        "])\n",
        "\n",
        "single_rnn_model.summary()\n",
        "single_rnn_model.compile(optimizer = 'adam',\n",
        "                         loss = 'binary_crossentropy',\n",
        "                         metrics = ['accuracy'])\n"
      ],
      "execution_count": null,
      "outputs": [
        {
          "output_type": "stream",
          "text": [
            "Model: \"sequential\"\n",
            "_________________________________________________________________\n",
            "Layer (type)                 Output Shape              Param #   \n",
            "=================================================================\n",
            "embedding (Embedding)        (None, 500, 16)           160000    \n",
            "_________________________________________________________________\n",
            "simple_rnn (SimpleRNN)       (None, 64)                5184      \n",
            "_________________________________________________________________\n",
            "dense (Dense)                (None, 64)                4160      \n",
            "_________________________________________________________________\n",
            "dense_1 (Dense)              (None, 1)                 65        \n",
            "=================================================================\n",
            "Total params: 169,409\n",
            "Trainable params: 169,409\n",
            "Non-trainable params: 0\n",
            "_________________________________________________________________\n"
          ],
          "name": "stdout"
        }
      ]
    },
    {
      "cell_type": "code",
      "metadata": {
        "id": "OXfawzHSgron",
        "colab_type": "code",
        "colab": {},
        "outputId": "f4309095-b497-4712-acf3-5ca1511c1e00"
      },
      "source": [
        "history_single_rnn = single_rnn_model.fit(\n",
        "    train_data, train_labels,\n",
        "    epochs = 30,\n",
        "    batch_size = batch_size,\n",
        "    validation_split = 0.2)\n"
      ],
      "execution_count": null,
      "outputs": [
        {
          "output_type": "stream",
          "text": [
            "Train on 20000 samples, validate on 5000 samples\n",
            "Epoch 1/30\n",
            "20000/20000 [==============================] - 11s 531us/sample - loss: 0.6941 - accuracy: 0.4974 - val_loss: 0.6930 - val_accuracy: 0.5068\n",
            "Epoch 2/30\n",
            "20000/20000 [==============================] - 9s 437us/sample - loss: 0.6956 - accuracy: 0.4978 - val_loss: 0.7026 - val_accuracy: 0.5034\n",
            "Epoch 3/30\n",
            "20000/20000 [==============================] - 9s 436us/sample - loss: 0.6961 - accuracy: 0.4983 - val_loss: 0.6932 - val_accuracy: 0.5076\n",
            "Epoch 4/30\n",
            "20000/20000 [==============================] - 9s 444us/sample - loss: 0.6942 - accuracy: 0.5103 - val_loss: 0.7005 - val_accuracy: 0.4938\n",
            "Epoch 5/30\n",
            "20000/20000 [==============================] - 9s 440us/sample - loss: 0.6952 - accuracy: 0.5023 - val_loss: 0.6933 - val_accuracy: 0.5062\n",
            "Epoch 6/30\n",
            "20000/20000 [==============================] - 9s 439us/sample - loss: 0.6936 - accuracy: 0.5044 - val_loss: 0.6969 - val_accuracy: 0.5042\n",
            "Epoch 7/30\n",
            "20000/20000 [==============================] - 9s 432us/sample - loss: 0.6971 - accuracy: 0.4937 - val_loss: 0.6940 - val_accuracy: 0.4938\n",
            "Epoch 8/30\n",
            "20000/20000 [==============================] - 9s 434us/sample - loss: 0.6929 - accuracy: 0.5030 - val_loss: 0.6933 - val_accuracy: 0.5086\n",
            "Epoch 9/30\n",
            "20000/20000 [==============================] - 9s 439us/sample - loss: 0.6940 - accuracy: 0.5022 - val_loss: 0.6931 - val_accuracy: 0.4944\n",
            "Epoch 10/30\n",
            "20000/20000 [==============================] - 9s 437us/sample - loss: 0.6927 - accuracy: 0.5100 - val_loss: 0.6933 - val_accuracy: 0.5042\n",
            "Epoch 11/30\n",
            "20000/20000 [==============================] - 9s 451us/sample - loss: 0.6930 - accuracy: 0.5050 - val_loss: 0.6931 - val_accuracy: 0.5048\n",
            "Epoch 12/30\n",
            "20000/20000 [==============================] - 9s 449us/sample - loss: 0.6926 - accuracy: 0.5049 - val_loss: 0.6941 - val_accuracy: 0.4938\n",
            "Epoch 13/30\n",
            "20000/20000 [==============================] - 9s 439us/sample - loss: 0.6918 - accuracy: 0.5041 - val_loss: 0.6929 - val_accuracy: 0.5070\n",
            "Epoch 14/30\n",
            "20000/20000 [==============================] - 9s 437us/sample - loss: 0.6920 - accuracy: 0.5112 - val_loss: 0.6935 - val_accuracy: 0.4942\n",
            "Epoch 15/30\n",
            "20000/20000 [==============================] - 9s 449us/sample - loss: 0.6908 - accuracy: 0.5113 - val_loss: 0.6933 - val_accuracy: 0.5046\n",
            "Epoch 16/30\n",
            "20000/20000 [==============================] - 9s 426us/sample - loss: 0.6899 - accuracy: 0.5077 - val_loss: 0.6934 - val_accuracy: 0.4992\n",
            "Epoch 17/30\n",
            "20000/20000 [==============================] - 9s 428us/sample - loss: 0.6883 - accuracy: 0.5041 - val_loss: 0.6926 - val_accuracy: 0.5086\n",
            "Epoch 18/30\n",
            "20000/20000 [==============================] - 9s 432us/sample - loss: 0.6865 - accuracy: 0.5127 - val_loss: 0.6927 - val_accuracy: 0.5044\n",
            "Epoch 19/30\n",
            "20000/20000 [==============================] - 9s 437us/sample - loss: 0.6842 - accuracy: 0.5200 - val_loss: 0.6920 - val_accuracy: 0.5056\n",
            "Epoch 20/30\n",
            "20000/20000 [==============================] - 9s 442us/sample - loss: 0.6793 - accuracy: 0.5267 - val_loss: 0.6925 - val_accuracy: 0.4968\n",
            "Epoch 21/30\n",
            "20000/20000 [==============================] - 9s 462us/sample - loss: 0.6735 - accuracy: 0.5257 - val_loss: 0.6927 - val_accuracy: 0.5112\n",
            "Epoch 22/30\n",
            "20000/20000 [==============================] - 9s 439us/sample - loss: 0.6656 - accuracy: 0.5336 - val_loss: 0.6946 - val_accuracy: 0.5056\n",
            "Epoch 23/30\n",
            "20000/20000 [==============================] - 9s 460us/sample - loss: 0.6562 - accuracy: 0.5441 - val_loss: 0.7015 - val_accuracy: 0.5174\n",
            "Epoch 24/30\n",
            "20000/20000 [==============================] - 9s 444us/sample - loss: 0.6484 - accuracy: 0.5400 - val_loss: 0.7128 - val_accuracy: 0.5172\n",
            "Epoch 25/30\n",
            "20000/20000 [==============================] - 8s 424us/sample - loss: 0.6425 - accuracy: 0.5479 - val_loss: 0.7178 - val_accuracy: 0.5078\n",
            "Epoch 26/30\n",
            "20000/20000 [==============================] - 9s 443us/sample - loss: 0.6435 - accuracy: 0.5452 - val_loss: 0.7338 - val_accuracy: 0.5058\n",
            "Epoch 27/30\n",
            "20000/20000 [==============================] - 9s 432us/sample - loss: 0.6484 - accuracy: 0.5449 - val_loss: 0.7059 - val_accuracy: 0.5128\n",
            "Epoch 28/30\n",
            "20000/20000 [==============================] - 9s 442us/sample - loss: 0.6584 - accuracy: 0.5327 - val_loss: 0.7044 - val_accuracy: 0.5032\n",
            "Epoch 29/30\n",
            "20000/20000 [==============================] - 9s 433us/sample - loss: 0.6507 - accuracy: 0.5358 - val_loss: 0.7111 - val_accuracy: 0.5030\n",
            "Epoch 30/30\n",
            "20000/20000 [==============================] - 9s 425us/sample - loss: 0.6473 - accuracy: 0.5441 - val_loss: 0.7142 - val_accuracy: 0.5124\n"
          ],
          "name": "stdout"
        }
      ]
    },
    {
      "cell_type": "code",
      "metadata": {
        "id": "wbeic3aEgrop",
        "colab_type": "code",
        "colab": {},
        "outputId": "e2dd65ec-16be-4d1c-b27b-f36e9c10553b"
      },
      "source": [
        "def plot_learning_curves(history, label, epochs, min_value, max_value):\n",
        "    data = {}\n",
        "    data[label] = history.history[label]\n",
        "    data['val_'+label] = history.history['val_'+label]\n",
        "    pd.DataFrame(data).plot(figsize=(8, 5))\n",
        "    plt.grid(True)\n",
        "    plt.axis([0, epochs, min_value, max_value])\n",
        "    plt.show()\n",
        "    \n",
        "plot_learning_curves(history_single_rnn, 'accuracy', 30, 0, 1)\n",
        "plot_learning_curves(history_single_rnn, 'loss', 30, 0, 1)"
      ],
      "execution_count": null,
      "outputs": [
        {
          "output_type": "display_data",
          "data": {
            "image/png": "[encoded data removed]",
            "text/plain": [
              "<Figure size 576x360 with 1 Axes>"
            ]
          },
          "metadata": {
            "tags": [],
            "needs_background": "light"
          }
        },
        {
          "output_type": "display_data",
          "data": {
            "image/png": "[encoded data removed]",
            "text/plain": [
              "<Figure size 576x360 with 1 Axes>"
            ]
          },
          "metadata": {
            "tags": [],
            "needs_background": "light"
          }
        }
      ]
    },
    {
      "cell_type": "code",
      "metadata": {
        "id": "IBuqLYWogros",
        "colab_type": "code",
        "colab": {},
        "outputId": "f0c80384-73f1-437a-e953-ad5d6bd4f970"
      },
      "source": [
        "single_rnn_model.evaluate(\n",
        "    test_data, test_labels,\n",
        "    batch_size = batch_size,\n",
        "    verbose = 0)"
      ],
      "execution_count": null,
      "outputs": [
        {
          "output_type": "execute_result",
          "data": {
            "text/plain": [
              "[0.7214788125038147, 0.5078]"
            ]
          },
          "metadata": {
            "tags": []
          },
          "execution_count": 11
        }
      ]
    },
    {
      "cell_type": "code",
      "metadata": {
        "id": "klpoLMGOgrou",
        "colab_type": "code",
        "colab": {},
        "outputId": "26f1c086-b8b3-465d-eff4-df41a3cf87b6"
      },
      "source": [
        "embedding_dim = 16\n",
        "batch_size = 512\n",
        "\n",
        "model = keras.models.Sequential([\n",
        "    # 1. define matrix: [vocab_size, embedding_dim]\n",
        "    # 2. [1,2,3,4..], max_length * embedding_dim\n",
        "    # 3. batch_size * max_length * embedding_dim\n",
        "    keras.layers.Embedding(vocab_size, embedding_dim,\n",
        "                           input_length = max_length),\n",
        "    keras.layers.Bidirectional(\n",
        "        keras.layers.SimpleRNN(\n",
        "            units = 64, return_sequences = True)),\n",
        "    keras.layers.Bidirectional(\n",
        "        keras.layers.SimpleRNN(\n",
        "            units = 64, return_sequences = False)),\n",
        "    keras.layers.Dense(64, activation = 'relu'),\n",
        "    keras.layers.Dense(1, activation='sigmoid'),\n",
        "])\n",
        "\n",
        "model.summary()\n",
        "model.compile(optimizer = 'adam',\n",
        "              loss = 'binary_crossentropy',\n",
        "              metrics = ['accuracy'])"
      ],
      "execution_count": null,
      "outputs": [
        {
          "output_type": "stream",
          "text": [
            "Model: \"sequential_1\"\n",
            "_________________________________________________________________\n",
            "Layer (type)                 Output Shape              Param #   \n",
            "=================================================================\n",
            "embedding_1 (Embedding)      (None, 500, 16)           160000    \n",
            "_________________________________________________________________\n",
            "bidirectional (Bidirectional (None, 500, 128)          10368     \n",
            "_________________________________________________________________\n",
            "bidirectional_1 (Bidirection (None, 128)               24704     \n",
            "_________________________________________________________________\n",
            "dense_2 (Dense)              (None, 64)                8256      \n",
            "_________________________________________________________________\n",
            "dense_3 (Dense)              (None, 1)                 65        \n",
            "=================================================================\n",
            "Total params: 203,393\n",
            "Trainable params: 203,393\n",
            "Non-trainable params: 0\n",
            "_________________________________________________________________\n"
          ],
          "name": "stdout"
        }
      ]
    },
    {
      "cell_type": "code",
      "metadata": {
        "id": "0130Os_egrow",
        "colab_type": "code",
        "colab": {},
        "outputId": "b21188f2-48dc-4561-ad17-49517fcab504"
      },
      "source": [
        "history = model.fit(\n",
        "    train_data, train_labels,\n",
        "    epochs = 30,\n",
        "    batch_size = batch_size,\n",
        "    validation_split = 0.2)\n"
      ],
      "execution_count": null,
      "outputs": [
        {
          "output_type": "stream",
          "text": [
            "Train on 20000 samples, validate on 5000 samples\n",
            "Epoch 1/30\n",
            "20000/20000 [==============================] - 36s 2ms/sample - loss: 0.6964 - accuracy: 0.5000 - val_loss: 0.6975 - val_accuracy: 0.4938\n",
            "Epoch 2/30\n",
            "20000/20000 [==============================] - 32s 2ms/sample - loss: 0.6920 - accuracy: 0.5148 - val_loss: 0.6924 - val_accuracy: 0.5250\n",
            "Epoch 3/30\n",
            "20000/20000 [==============================] - 32s 2ms/sample - loss: 0.6564 - accuracy: 0.6069 - val_loss: 0.7537 - val_accuracy: 0.5460\n",
            "Epoch 4/30\n",
            "20000/20000 [==============================] - 32s 2ms/sample - loss: 0.5272 - accuracy: 0.7392 - val_loss: 0.7063 - val_accuracy: 0.6110\n",
            "Epoch 5/30\n",
            "20000/20000 [==============================] - 33s 2ms/sample - loss: 0.3512 - accuracy: 0.8525 - val_loss: 0.8607 - val_accuracy: 0.6026\n",
            "Epoch 6/30\n",
            "20000/20000 [==============================] - 33s 2ms/sample - loss: 0.1953 - accuracy: 0.9291 - val_loss: 1.2574 - val_accuracy: 0.5882\n",
            "Epoch 7/30\n",
            "20000/20000 [==============================] - 32s 2ms/sample - loss: 0.1034 - accuracy: 0.9648 - val_loss: 1.3065 - val_accuracy: 0.6310\n",
            "Epoch 8/30\n",
            "20000/20000 [==============================] - 32s 2ms/sample - loss: 0.0385 - accuracy: 0.9893 - val_loss: 1.6823 - val_accuracy: 0.6132\n",
            "Epoch 9/30\n",
            "20000/20000 [==============================] - 33s 2ms/sample - loss: 0.0162 - accuracy: 0.9963 - val_loss: 1.9595 - val_accuracy: 0.6182\n",
            "Epoch 10/30\n",
            "20000/20000 [==============================] - 32s 2ms/sample - loss: 0.0142 - accuracy: 0.9958 - val_loss: 2.0237 - val_accuracy: 0.6222\n",
            "Epoch 11/30\n",
            "20000/20000 [==============================] - 32s 2ms/sample - loss: 0.0146 - accuracy: 0.9954 - val_loss: 2.1647 - val_accuracy: 0.6184\n",
            "Epoch 12/30\n",
            "20000/20000 [==============================] - 32s 2ms/sample - loss: 0.0326 - accuracy: 0.9890 - val_loss: 2.0015 - val_accuracy: 0.6106\n",
            "Epoch 13/30\n",
            "20000/20000 [==============================] - 32s 2ms/sample - loss: 0.0215 - accuracy: 0.9923 - val_loss: 2.0104 - val_accuracy: 0.6396\n",
            "Epoch 14/30\n",
            "20000/20000 [==============================] - 32s 2ms/sample - loss: 0.0081 - accuracy: 0.9971 - val_loss: 2.2710 - val_accuracy: 0.6190\n",
            "Epoch 15/30\n",
            "20000/20000 [==============================] - 32s 2ms/sample - loss: 0.0041 - accuracy: 0.9987 - val_loss: 2.2618 - val_accuracy: 0.6396\n",
            "Epoch 16/30\n",
            "20000/20000 [==============================] - 32s 2ms/sample - loss: 9.5319e-04 - accuracy: 0.9999 - val_loss: 2.3496 - val_accuracy: 0.6314\n",
            "Epoch 17/30\n",
            "20000/20000 [==============================] - 32s 2ms/sample - loss: 3.9576e-04 - accuracy: 0.9999 - val_loss: 2.4506 - val_accuracy: 0.6368\n",
            "Epoch 18/30\n",
            "20000/20000 [==============================] - 32s 2ms/sample - loss: 4.9479e-04 - accuracy: 0.9999 - val_loss: 2.4369 - val_accuracy: 0.6390\n",
            "Epoch 19/30\n",
            "20000/20000 [==============================] - 32s 2ms/sample - loss: 1.9959e-04 - accuracy: 0.9999 - val_loss: 2.5069 - val_accuracy: 0.6366\n",
            "Epoch 20/30\n",
            "20000/20000 [==============================] - 32s 2ms/sample - loss: 2.4834e-04 - accuracy: 0.9999 - val_loss: 2.5132 - val_accuracy: 0.6402\n",
            "Epoch 21/30\n",
            "20000/20000 [==============================] - 32s 2ms/sample - loss: 1.1707e-04 - accuracy: 1.0000 - val_loss: 2.5411 - val_accuracy: 0.6416\n",
            "Epoch 22/30\n",
            "20000/20000 [==============================] - 32s 2ms/sample - loss: 8.9213e-05 - accuracy: 1.0000 - val_loss: 2.5877 - val_accuracy: 0.6396\n",
            "Epoch 23/30\n",
            "20000/20000 [==============================] - 32s 2ms/sample - loss: 6.5414e-05 - accuracy: 1.0000 - val_loss: 2.6258 - val_accuracy: 0.6402\n",
            "Epoch 24/30\n",
            "20000/20000 [==============================] - 32s 2ms/sample - loss: 5.4151e-05 - accuracy: 1.0000 - val_loss: 2.6427 - val_accuracy: 0.6418\n",
            "Epoch 25/30\n",
            "20000/20000 [==============================] - 33s 2ms/sample - loss: 4.6540e-05 - accuracy: 1.0000 - val_loss: 2.6732 - val_accuracy: 0.6406\n",
            "Epoch 26/30\n",
            "20000/20000 [==============================] - 32s 2ms/sample - loss: 4.1065e-05 - accuracy: 1.0000 - val_loss: 2.7009 - val_accuracy: 0.6412\n",
            "Epoch 27/30\n",
            "20000/20000 [==============================] - 32s 2ms/sample - loss: 3.6741e-05 - accuracy: 1.0000 - val_loss: 2.7213 - val_accuracy: 0.6420\n",
            "Epoch 28/30\n",
            "20000/20000 [==============================] - 32s 2ms/sample - loss: 3.3111e-05 - accuracy: 1.0000 - val_loss: 2.7480 - val_accuracy: 0.6410\n",
            "Epoch 29/30\n",
            "20000/20000 [==============================] - 32s 2ms/sample - loss: 3.0180e-05 - accuracy: 1.0000 - val_loss: 2.7697 - val_accuracy: 0.6416\n",
            "Epoch 30/30\n",
            "20000/20000 [==============================] - 32s 2ms/sample - loss: 2.7643e-05 - accuracy: 1.0000 - val_loss: 2.7887 - val_accuracy: 0.6418\n"
          ],
          "name": "stdout"
        }
      ]
    },
    {
      "cell_type": "code",
      "metadata": {
        "id": "xdm9Opcngroy",
        "colab_type": "code",
        "colab": {},
        "outputId": "7e7a1c36-44a9-4a47-9b53-85271787f4a9"
      },
      "source": [
        "plot_learning_curves(history, 'accuracy', 30, 0, 1)\n",
        "plot_learning_curves(history, 'loss', 30, 0, 3.8)"
      ],
      "execution_count": null,
      "outputs": [
        {
          "output_type": "display_data",
          "data": {
            "image/png": "[encoded data removed]",
            "text/plain": [
              "<Figure size 576x360 with 1 Axes>"
            ]
          },
          "metadata": {
            "tags": [],
            "needs_background": "light"
          }
        },
        {
          "output_type": "display_data",
          "data": {
            "image/png": "[encoded data removed]",
            "text/plain": [
              "<Figure size 576x360 with 1 Axes>"
            ]
          },
          "metadata": {
            "tags": [],
            "needs_background": "light"
          }
        }
      ]
    },
    {
      "cell_type": "code",
      "metadata": {
        "id": "Uym4Ft3Agro0",
        "colab_type": "code",
        "colab": {},
        "outputId": "20033e1a-c343-4c8b-835f-b14ca4815ce7"
      },
      "source": [
        "embedding_dim = 16\n",
        "batch_size = 512\n",
        "\n",
        "bi_rnn_model = keras.models.Sequential([\n",
        "    # 1. define matrix: [vocab_size, embedding_dim]\n",
        "    # 2. [1,2,3,4..], max_length * embedding_dim\n",
        "    # 3. batch_size * max_length * embedding_dim\n",
        "    keras.layers.Embedding(vocab_size, embedding_dim,\n",
        "                           input_length = max_length),\n",
        "    keras.layers.Bidirectional(\n",
        "        keras.layers.SimpleRNN(\n",
        "            units = 32, return_sequences = False)),\n",
        "    keras.layers.Dense(32, activation = 'relu'),\n",
        "    keras.layers.Dense(1, activation='sigmoid'),\n",
        "])\n",
        "\n",
        "bi_rnn_model.summary()\n",
        "bi_rnn_model.compile(optimizer = 'adam',\n",
        "                     loss = 'binary_crossentropy',\n",
        "                     metrics = ['accuracy'])"
      ],
      "execution_count": null,
      "outputs": [
        {
          "output_type": "stream",
          "text": [
            "Model: \"sequential_2\"\n",
            "_________________________________________________________________\n",
            "Layer (type)                 Output Shape              Param #   \n",
            "=================================================================\n",
            "embedding_2 (Embedding)      (None, 500, 16)           160000    \n",
            "_________________________________________________________________\n",
            "bidirectional_2 (Bidirection (None, 64)                3136      \n",
            "_________________________________________________________________\n",
            "dense_4 (Dense)              (None, 32)                2080      \n",
            "_________________________________________________________________\n",
            "dense_5 (Dense)              (None, 1)                 33        \n",
            "=================================================================\n",
            "Total params: 165,249\n",
            "Trainable params: 165,249\n",
            "Non-trainable params: 0\n",
            "_________________________________________________________________\n"
          ],
          "name": "stdout"
        }
      ]
    },
    {
      "cell_type": "code",
      "metadata": {
        "id": "0CiAw7OOgro3",
        "colab_type": "code",
        "colab": {},
        "outputId": "e466e34f-f0d8-4ae8-d09c-0ff75f728904"
      },
      "source": [
        "history = bi_rnn_model.fit(\n",
        "    train_data, train_labels,\n",
        "    epochs = 30,\n",
        "    batch_size = batch_size,\n",
        "    validation_split = 0.2)"
      ],
      "execution_count": null,
      "outputs": [
        {
          "output_type": "stream",
          "text": [
            "Train on 20000 samples, validate on 5000 samples\n",
            "Epoch 1/30\n",
            "20000/20000 [==============================] - 19s 934us/sample - loss: 0.6938 - accuracy: 0.5035 - val_loss: 0.6924 - val_accuracy: 0.5178\n",
            "Epoch 2/30\n",
            "20000/20000 [==============================] - 16s 821us/sample - loss: 0.6850 - accuracy: 0.5620 - val_loss: 0.6940 - val_accuracy: 0.5134\n",
            "Epoch 3/30\n",
            "20000/20000 [==============================] - 16s 824us/sample - loss: 0.6709 - accuracy: 0.5946 - val_loss: 0.6929 - val_accuracy: 0.5302\n",
            "Epoch 4/30\n",
            "20000/20000 [==============================] - 16s 818us/sample - loss: 0.6000 - accuracy: 0.6970 - val_loss: 0.7320 - val_accuracy: 0.5406\n",
            "Epoch 5/30\n",
            "20000/20000 [==============================] - 16s 824us/sample - loss: 0.4243 - accuracy: 0.8185 - val_loss: 0.7997 - val_accuracy: 0.5772\n",
            "Epoch 6/30\n",
            "20000/20000 [==============================] - 17s 850us/sample - loss: 0.2009 - accuracy: 0.9283 - val_loss: 0.9703 - val_accuracy: 0.6172\n",
            "Epoch 7/30\n",
            "20000/20000 [==============================] - 17s 841us/sample - loss: 0.0942 - accuracy: 0.9703 - val_loss: 0.9938 - val_accuracy: 0.6628\n",
            "Epoch 8/30\n",
            "20000/20000 [==============================] - 16s 822us/sample - loss: 0.0269 - accuracy: 0.9956 - val_loss: 1.2468 - val_accuracy: 0.6476\n",
            "Epoch 9/30\n",
            "20000/20000 [==============================] - 16s 823us/sample - loss: 0.0103 - accuracy: 0.9993 - val_loss: 1.3134 - val_accuracy: 0.6564\n",
            "Epoch 10/30\n",
            "20000/20000 [==============================] - 17s 837us/sample - loss: 0.0033 - accuracy: 0.9999 - val_loss: 1.3599 - val_accuracy: 0.6648\n",
            "Epoch 11/30\n",
            "20000/20000 [==============================] - 17s 834us/sample - loss: 0.0019 - accuracy: 1.0000 - val_loss: 1.4471 - val_accuracy: 0.6608\n",
            "Epoch 12/30\n",
            "20000/20000 [==============================] - 17s 828us/sample - loss: 0.0013 - accuracy: 1.0000 - val_loss: 1.4994 - val_accuracy: 0.6582\n",
            "Epoch 13/30\n",
            "20000/20000 [==============================] - 17s 834us/sample - loss: 9.5971e-04 - accuracy: 1.0000 - val_loss: 1.5181 - val_accuracy: 0.6606\n",
            "Epoch 14/30\n",
            "20000/20000 [==============================] - 17s 834us/sample - loss: 7.5435e-04 - accuracy: 1.0000 - val_loss: 1.5333 - val_accuracy: 0.6652\n",
            "Epoch 15/30\n",
            "20000/20000 [==============================] - 17s 836us/sample - loss: 6.2123e-04 - accuracy: 1.0000 - val_loss: 1.5684 - val_accuracy: 0.6652\n",
            "Epoch 16/30\n",
            "20000/20000 [==============================] - 17s 832us/sample - loss: 5.0848e-04 - accuracy: 1.0000 - val_loss: 1.5595 - val_accuracy: 0.6728\n",
            "Epoch 17/30\n",
            "20000/20000 [==============================] - 17s 834us/sample - loss: 4.2867e-04 - accuracy: 1.0000 - val_loss: 1.6016 - val_accuracy: 0.6696\n",
            "Epoch 18/30\n",
            "20000/20000 [==============================] - 17s 832us/sample - loss: 3.7255e-04 - accuracy: 1.0000 - val_loss: 1.5970 - val_accuracy: 0.6740\n",
            "Epoch 19/30\n",
            "20000/20000 [==============================] - 16s 819us/sample - loss: 3.2666e-04 - accuracy: 1.0000 - val_loss: 1.6178 - val_accuracy: 0.6736\n",
            "Epoch 20/30\n",
            "20000/20000 [==============================] - 16s 821us/sample - loss: 2.8507e-04 - accuracy: 1.0000 - val_loss: 1.6449 - val_accuracy: 0.6714\n",
            "Epoch 21/30\n",
            "20000/20000 [==============================] - 17s 827us/sample - loss: 2.5627e-04 - accuracy: 1.0000 - val_loss: 1.6691 - val_accuracy: 0.6712\n",
            "Epoch 22/30\n",
            "20000/20000 [==============================] - 17s 839us/sample - loss: 2.2715e-04 - accuracy: 1.0000 - val_loss: 1.6621 - val_accuracy: 0.6766\n",
            "Epoch 23/30\n",
            "20000/20000 [==============================] - 16s 818us/sample - loss: 2.0512e-04 - accuracy: 1.0000 - val_loss: 1.6799 - val_accuracy: 0.6758\n",
            "Epoch 24/30\n",
            "20000/20000 [==============================] - 17s 849us/sample - loss: 1.8576e-04 - accuracy: 1.0000 - val_loss: 1.6924 - val_accuracy: 0.6760\n",
            "Epoch 25/30\n",
            "20000/20000 [==============================] - 17s 848us/sample - loss: 1.7062e-04 - accuracy: 1.0000 - val_loss: 1.7083 - val_accuracy: 0.6752\n",
            "Epoch 26/30\n",
            "20000/20000 [==============================] - 17s 827us/sample - loss: 1.5449e-04 - accuracy: 1.0000 - val_loss: 1.7108 - val_accuracy: 0.6786\n",
            "Epoch 27/30\n",
            "20000/20000 [==============================] - 17s 828us/sample - loss: 1.4235e-04 - accuracy: 1.0000 - val_loss: 1.7316 - val_accuracy: 0.6774\n",
            "Epoch 28/30\n",
            "20000/20000 [==============================] - 16s 820us/sample - loss: 1.3473e-04 - accuracy: 1.0000 - val_loss: 1.7491 - val_accuracy: 0.6774\n",
            "Epoch 29/30\n",
            "20000/20000 [==============================] - 16s 823us/sample - loss: 1.2039e-04 - accuracy: 1.0000 - val_loss: 1.7565 - val_accuracy: 0.6776\n",
            "Epoch 30/30\n",
            "20000/20000 [==============================] - 17s 830us/sample - loss: 1.1145e-04 - accuracy: 1.0000 - val_loss: 1.7641 - val_accuracy: 0.6778\n"
          ],
          "name": "stdout"
        }
      ]
    },
    {
      "cell_type": "code",
      "metadata": {
        "id": "CTrsmwxGgro5",
        "colab_type": "code",
        "colab": {},
        "outputId": "5117635d-f68e-4070-c9c7-b4c6c0af4349"
      },
      "source": [
        "plot_learning_curves(history, 'accuracy', 30, 0, 1.1)\n",
        "plot_learning_curves(history, 'loss', 30, 0, 2.5)"
      ],
      "execution_count": null,
      "outputs": [
        {
          "output_type": "display_data",
          "data": {
            "image/png": "[encoded data removed]",
            "text/plain": [
              "<Figure size 576x360 with 1 Axes>"
            ]
          },
          "metadata": {
            "tags": [],
            "needs_background": "light"
          }
        },
        {
          "output_type": "display_data",
          "data": {
            "image/png": "[encoded data removed]",
            "text/plain": [
              "<Figure size 576x360 with 1 Axes>"
            ]
          },
          "metadata": {
            "tags": [],
            "needs_background": "light"
          }
        }
      ]
    },
    {
      "cell_type": "code",
      "metadata": {
        "id": "FZy9mN15gro8",
        "colab_type": "code",
        "colab": {},
        "outputId": "4769a154-6b3b-4607-ffcf-8c21172bf974"
      },
      "source": [
        "bi_rnn_model.evaluate(test_data, test_labels, batch_size = batch_size, verbose = 0)"
      ],
      "execution_count": null,
      "outputs": [
        {
          "output_type": "execute_result",
          "data": {
            "text/plain": [
              "[1.8091703971099853, 0.67688]"
            ]
          },
          "metadata": {
            "tags": []
          },
          "execution_count": 19
        }
      ]
    },
    {
      "cell_type": "code",
      "metadata": {
        "id": "nb7-UmLqgro-",
        "colab_type": "code",
        "colab": {}
      },
      "source": [
        ""
      ],
      "execution_count": null,
      "outputs": []
    }
  ]
}