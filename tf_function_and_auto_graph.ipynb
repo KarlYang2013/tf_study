{
  "nbformat": 4,
  "nbformat_minor": 0,
  "metadata": {
    "kernelspec": {
      "display_name": "Python 3",
      "language": "python",
      "name": "python3"
    },
    "language_info": {
      "codemirror_mode": {
        "name": "ipython",
        "version": 3
      },
      "file_extension": ".py",
      "mimetype": "text/x-python",
      "name": "python",
      "nbconvert_exporter": "python",
      "pygments_lexer": "ipython3",
      "version": "3.7.3"
    },
    "colab": {
      "name": "tf_function_and_auto_graph.ipynb",
      "provenance": [],
      "include_colab_link": true
    }
  },
  "cells": [
    {
      "cell_type": "markdown",
      "metadata": {
        "id": "view-in-github",
        "colab_type": "text"
      },
      "source": [
        "<a href=\"https://colab.research.google.com/github/KarlYang2013/tf_study/blob/master/tf_function_and_auto_graph.ipynb\" target=\"_parent\"><img src=\"https://colab.research.google.com/assets/colab-badge.svg\" alt=\"Open In Colab\"/></a>"
      ]
    },
    {
      "cell_type": "code",
      "metadata": {
        "id": "-cxq-eSn0DXk",
        "colab_type": "code",
        "colab": {},
        "outputId": "7273ed47-457d-44e4-ce56-b737034e2c7c"
      },
      "source": [
        "import matplotlib as mpl\n",
        "import matplotlib.pyplot as plt\n",
        "%matplotlib inline\n",
        "import numpy as np\n",
        "import sklearn\n",
        "import pandas as pd\n",
        "import os\n",
        "import sys\n",
        "import time\n",
        "import tensorflow as tf\n",
        "\n",
        "from tensorflow import keras\n",
        "\n",
        "print(tf.__version__)\n",
        "print(sys.version_info)\n",
        "for module in mpl, np, pd, sklearn, tf, keras:\n",
        "    print(module.__name__, module.__version__)"
      ],
      "execution_count": null,
      "outputs": [
        {
          "output_type": "stream",
          "text": [
            "2.0.0\n",
            "sys.version_info(major=3, minor=7, micro=3, releaselevel='final', serial=0)\n",
            "matplotlib 3.1.1\n",
            "numpy 1.17.3\n",
            "pandas 0.25.3\n",
            "sklearn 0.21.3\n",
            "tensorflow 2.0.0\n",
            "tensorflow_core.keras 2.2.4-tf\n"
          ],
          "name": "stdout"
        }
      ]
    },
    {
      "cell_type": "code",
      "metadata": {
        "id": "QPq-B7pc0DXp",
        "colab_type": "code",
        "colab": {},
        "outputId": "ed08db20-8ad9-4a8e-df93-980a771b2648"
      },
      "source": [
        "# tf.function and auto-graph.\n",
        "def scaled_elu(z, scale=1.0, alpha=1.0):\n",
        "    # z >= 0 ? scale * z : scale * alpha * tf.nn.elu(z)\n",
        "    is_positive = tf.greater_equal(z, 0.0)\n",
        "    #tf.where( condition, x=None, y=None, name=None) \n",
        "    return scale * tf.where(is_positive, z, alpha * tf.nn.elu(z)) \n",
        "\n",
        "print(scaled_elu(tf.constant(-3.)))\n",
        "print(scaled_elu(tf.constant([-3., -2.5])))\n",
        "\n",
        "scaled_elu_tf = tf.function(scaled_elu)\n",
        "print(scaled_elu_tf(tf.constant(-3.)))\n",
        "print(scaled_elu_tf(tf.constant([-3., -2.5])))\n",
        "\n",
        "print(scaled_elu_tf.python_function is scaled_elu)"
      ],
      "execution_count": null,
      "outputs": [
        {
          "output_type": "stream",
          "text": [
            "tf.Tensor(-0.95021296, shape=(), dtype=float32)\n",
            "tf.Tensor([-0.95021296 -0.917915  ], shape=(2,), dtype=float32)\n",
            "tf.Tensor(-0.95021296, shape=(), dtype=float32)\n",
            "tf.Tensor([-0.95021296 -0.917915  ], shape=(2,), dtype=float32)\n",
            "True\n"
          ],
          "name": "stdout"
        }
      ]
    },
    {
      "cell_type": "code",
      "metadata": {
        "id": "ZpqnThVK0DXs",
        "colab_type": "code",
        "colab": {},
        "outputId": "cc14e447-7f49-4d7b-bdbd-2f0d203ec9d7"
      },
      "source": [
        "%timeit scaled_elu(tf.random.normal((1000, 1000)))\n",
        "%timeit scaled_elu_tf(tf.random.normal((1000, 1000)))"
      ],
      "execution_count": null,
      "outputs": [
        {
          "output_type": "stream",
          "text": [
            "3.8 ms ± 245 µs per loop (mean ± std. dev. of 7 runs, 100 loops each)\n",
            "3.58 ms ± 63.9 µs per loop (mean ± std. dev. of 7 runs, 100 loops each)\n"
          ],
          "name": "stdout"
        }
      ]
    },
    {
      "cell_type": "code",
      "metadata": {
        "id": "4I4cAHhM0DXv",
        "colab_type": "code",
        "colab": {},
        "outputId": "c80752d0-3d72-476d-8579-36c2b4f5743c"
      },
      "source": [
        "# 1 + 1/2 + 1/2^2 + ... + 1/2^n\n",
        "\n",
        "@tf.function\n",
        "def converge_to_2(n_iters):\n",
        "    total = tf.constant(0.)\n",
        "    increment = tf.constant(1.)\n",
        "    for _ in range(n_iters):\n",
        "        total += increment\n",
        "        increment /= 2.0\n",
        "    return total\n",
        "\n",
        "print(converge_to_2(20))"
      ],
      "execution_count": null,
      "outputs": [
        {
          "output_type": "stream",
          "text": [
            "tf.Tensor(1.9999981, shape=(), dtype=float32)\n"
          ],
          "name": "stdout"
        }
      ]
    },
    {
      "cell_type": "code",
      "metadata": {
        "id": "EUaCG2aT0DXx",
        "colab_type": "code",
        "colab": {}
      },
      "source": [
        "def display_tf_code(func):\n",
        "    code = tf.autograph.to_code(func)\n",
        "    from IPython.display import display, Markdown\n",
        "    display(Markdown('```python\\n{}\\n```'.format(code)))"
      ],
      "execution_count": null,
      "outputs": []
    },
    {
      "cell_type": "code",
      "metadata": {
        "id": "XBcAtcQz0DXz",
        "colab_type": "code",
        "colab": {},
        "outputId": "d45a7f1c-4083-4a0a-fb5c-3b23b2a569b3"
      },
      "source": [
        "display_tf_code(scaled_elu)"
      ],
      "execution_count": null,
      "outputs": [
        {
          "output_type": "display_data",
          "data": {
            "text/markdown": "```python\ndef tf__scaled_elu(z, scale=None, alpha=None):\n  do_return = False\n  retval_ = ag__.UndefinedReturnValue()\n  with ag__.FunctionScope('scaled_elu', 'scaled_elu_scope', ag__.ConversionOptions(recursive=True, user_requested=True, optional_features=(), internal_convert_user_code=True)) as scaled_elu_scope:\n    is_positive = ag__.converted_call(tf.greater_equal, scaled_elu_scope.callopts, (z, 0.0), None, scaled_elu_scope)\n    do_return = True\n    retval_ = scaled_elu_scope.mark_return_value(scale * ag__.converted_call(tf.where, scaled_elu_scope.callopts, (is_positive, z, alpha * ag__.converted_call(tf.nn.elu, scaled_elu_scope.callopts, (z,), None, scaled_elu_scope)), None, scaled_elu_scope))\n  do_return,\n  return ag__.retval(retval_)\n\n```",
            "text/plain": [
              "<IPython.core.display.Markdown object>"
            ]
          },
          "metadata": {
            "tags": []
          }
        }
      ]
    },
    {
      "cell_type": "code",
      "metadata": {
        "id": "MKrPrVgs0DX2",
        "colab_type": "code",
        "colab": {},
        "outputId": "60f64927-4ea6-434c-d7c6-b15afa4c1311"
      },
      "source": [
        "var = tf.Variable(0.)\n",
        "\n",
        "@tf.function\n",
        "def add_21():\n",
        "    return var.assign_add(21) # += \n",
        "\n",
        "print(add_21())"
      ],
      "execution_count": null,
      "outputs": [
        {
          "output_type": "stream",
          "text": [
            "tf.Tensor(21.0, shape=(), dtype=float32)\n"
          ],
          "name": "stdout"
        }
      ]
    },
    {
      "cell_type": "code",
      "metadata": {
        "id": "vhseXTYA0DX5",
        "colab_type": "code",
        "colab": {},
        "outputId": "b8a96e61-5e76-4d1a-b84e-a973f7d747b4"
      },
      "source": [
        "@tf.function(input_signature=[tf.TensorSpec([None], tf.int32, name='x')])\n",
        "def cube(z):\n",
        "    return tf.pow(z, 3)\n",
        "\n",
        "try:\n",
        "    print(cube(tf.constant([1., 2., 3.])))\n",
        "except ValueError as ex:\n",
        "    print(ex)\n",
        "    \n",
        "print(cube(tf.constant([1, 2, 3])))\n"
      ],
      "execution_count": null,
      "outputs": [
        {
          "output_type": "stream",
          "text": [
            "Python inputs incompatible with input_signature:\n",
            "  inputs: (\n",
            "    tf.Tensor([1. 2. 3.], shape=(3,), dtype=float32))\n",
            "  input_signature: (\n",
            "    TensorSpec(shape=(None,), dtype=tf.int32, name='x'))\n",
            "tf.Tensor([ 1  8 27], shape=(3,), dtype=int32)\n"
          ],
          "name": "stdout"
        }
      ]
    },
    {
      "cell_type": "code",
      "metadata": {
        "id": "gDSaMcLJ0DX8",
        "colab_type": "code",
        "colab": {},
        "outputId": "b40858f3-f5a3-49af-d7eb-038f96c0c9e6"
      },
      "source": [
        "# @tf.function py func -> tf graph\n",
        "# get_concrete_function -> add input signature -> SavedModel\n",
        "\n",
        "cube_func_int32 = cube.get_concrete_function(\n",
        "    tf.TensorSpec([None], tf.int32))\n",
        "print(cube_func_int32)"
      ],
      "execution_count": null,
      "outputs": [
        {
          "output_type": "stream",
          "text": [
            "<tensorflow.python.eager.function.ConcreteFunction object at 0x7f766a385cf8>\n"
          ],
          "name": "stdout"
        }
      ]
    },
    {
      "cell_type": "code",
      "metadata": {
        "id": "cmDu2b9X0DX-",
        "colab_type": "code",
        "colab": {},
        "outputId": "f1ef9130-1749-4771-c9f8-664c452f48fa"
      },
      "source": [
        "print(cube_func_int32 is cube.get_concrete_function(\n",
        "    tf.TensorSpec([5], tf.int32)))\n",
        "print(cube_func_int32 is cube.get_concrete_function(\n",
        "    tf.constant([1, 2, 3])))"
      ],
      "execution_count": null,
      "outputs": [
        {
          "output_type": "stream",
          "text": [
            "True\n",
            "True\n"
          ],
          "name": "stdout"
        }
      ]
    },
    {
      "cell_type": "code",
      "metadata": {
        "id": "dWuTu47m0DYA",
        "colab_type": "code",
        "colab": {},
        "outputId": "e036a111-120b-46ca-fea5-c287beb8e7aa"
      },
      "source": [
        "cube_func_int32.graph"
      ],
      "execution_count": null,
      "outputs": [
        {
          "output_type": "execute_result",
          "data": {
            "text/plain": [
              "<tensorflow.python.framework.func_graph.FuncGraph at 0x7f766a3854e0>"
            ]
          },
          "metadata": {
            "tags": []
          },
          "execution_count": 11
        }
      ]
    },
    {
      "cell_type": "code",
      "metadata": {
        "id": "sfSniKB_0DYC",
        "colab_type": "code",
        "colab": {},
        "outputId": "23b9f626-b4c6-4d32-9d5d-dc4696f6ea4d"
      },
      "source": [
        "cube_func_int32.graph.get_operations()"
      ],
      "execution_count": null,
      "outputs": [
        {
          "output_type": "execute_result",
          "data": {
            "text/plain": [
              "[<tf.Operation 'x' type=Placeholder>,\n",
              " <tf.Operation 'Pow/y' type=Const>,\n",
              " <tf.Operation 'Pow' type=Pow>,\n",
              " <tf.Operation 'Identity' type=Identity>]"
            ]
          },
          "metadata": {
            "tags": []
          },
          "execution_count": 12
        }
      ]
    },
    {
      "cell_type": "code",
      "metadata": {
        "id": "MgRZZkgz0DYF",
        "colab_type": "code",
        "colab": {},
        "outputId": "966aebc6-4659-4822-ac26-a765c902597e"
      },
      "source": [
        "pow_op = cube_func_int32.graph.get_operations()[2]\n",
        "print(pow_op)"
      ],
      "execution_count": null,
      "outputs": [
        {
          "output_type": "stream",
          "text": [
            "name: \"Pow\"\n",
            "op: \"Pow\"\n",
            "input: \"x\"\n",
            "input: \"Pow/y\"\n",
            "attr {\n",
            "  key: \"T\"\n",
            "  value {\n",
            "    type: DT_INT32\n",
            "  }\n",
            "}\n",
            "\n"
          ],
          "name": "stdout"
        }
      ]
    },
    {
      "cell_type": "code",
      "metadata": {
        "id": "QrRlBgP20DYH",
        "colab_type": "code",
        "colab": {},
        "outputId": "e16b7e1f-8960-4fb9-d91c-be6d32a45703"
      },
      "source": [
        "print(list(pow_op.inputs))\n",
        "print(list(pow_op.outputs))\n"
      ],
      "execution_count": null,
      "outputs": [
        {
          "output_type": "stream",
          "text": [
            "[<tf.Tensor 'x:0' shape=(None,) dtype=int32>, <tf.Tensor 'Pow/y:0' shape=() dtype=int32>]\n",
            "[<tf.Tensor 'Pow:0' shape=(None,) dtype=int32>]\n"
          ],
          "name": "stdout"
        }
      ]
    },
    {
      "cell_type": "code",
      "metadata": {
        "id": "0m8vteTk0DYJ",
        "colab_type": "code",
        "colab": {},
        "outputId": "7eb2c852-8997-4e97-ce8e-f578209dd5a7"
      },
      "source": [
        "cube_func_int32.graph.get_operation_by_name(\"x\")"
      ],
      "execution_count": null,
      "outputs": [
        {
          "output_type": "execute_result",
          "data": {
            "text/plain": [
              "<tf.Operation 'x' type=Placeholder>"
            ]
          },
          "metadata": {
            "tags": []
          },
          "execution_count": 15
        }
      ]
    },
    {
      "cell_type": "code",
      "metadata": {
        "id": "JyAOyMgN0DYL",
        "colab_type": "code",
        "colab": {},
        "outputId": "589c1c80-257c-4f59-84a8-f9e81cd3a76f"
      },
      "source": [
        "cube_func_int32.graph.get_tensor_by_name(\"x:0\")"
      ],
      "execution_count": null,
      "outputs": [
        {
          "output_type": "execute_result",
          "data": {
            "text/plain": [
              "<tf.Tensor 'x:0' shape=(None,) dtype=int32>"
            ]
          },
          "metadata": {
            "tags": []
          },
          "execution_count": 16
        }
      ]
    },
    {
      "cell_type": "code",
      "metadata": {
        "id": "6b588d2k0DYN",
        "colab_type": "code",
        "colab": {},
        "outputId": "9ec761e4-f944-4298-a941-8ea1b8d919da"
      },
      "source": [
        "cube_func_int32.graph.as_graph_def()"
      ],
      "execution_count": null,
      "outputs": [
        {
          "output_type": "execute_result",
          "data": {
            "text/plain": [
              "node {\n",
              "  name: \"x\"\n",
              "  op: \"Placeholder\"\n",
              "  attr {\n",
              "    key: \"_user_specified_name\"\n",
              "    value {\n",
              "      s: \"x\"\n",
              "    }\n",
              "  }\n",
              "  attr {\n",
              "    key: \"dtype\"\n",
              "    value {\n",
              "      type: DT_INT32\n",
              "    }\n",
              "  }\n",
              "  attr {\n",
              "    key: \"shape\"\n",
              "    value {\n",
              "      shape {\n",
              "        dim {\n",
              "          size: -1\n",
              "        }\n",
              "      }\n",
              "    }\n",
              "  }\n",
              "}\n",
              "node {\n",
              "  name: \"Pow/y\"\n",
              "  op: \"Const\"\n",
              "  attr {\n",
              "    key: \"dtype\"\n",
              "    value {\n",
              "      type: DT_INT32\n",
              "    }\n",
              "  }\n",
              "  attr {\n",
              "    key: \"value\"\n",
              "    value {\n",
              "      tensor {\n",
              "        dtype: DT_INT32\n",
              "        tensor_shape {\n",
              "        }\n",
              "        int_val: 3\n",
              "      }\n",
              "    }\n",
              "  }\n",
              "}\n",
              "node {\n",
              "  name: \"Pow\"\n",
              "  op: \"Pow\"\n",
              "  input: \"x\"\n",
              "  input: \"Pow/y\"\n",
              "  attr {\n",
              "    key: \"T\"\n",
              "    value {\n",
              "      type: DT_INT32\n",
              "    }\n",
              "  }\n",
              "}\n",
              "node {\n",
              "  name: \"Identity\"\n",
              "  op: \"Identity\"\n",
              "  input: \"Pow\"\n",
              "  attr {\n",
              "    key: \"T\"\n",
              "    value {\n",
              "      type: DT_INT32\n",
              "    }\n",
              "  }\n",
              "}\n",
              "versions {\n",
              "  producer: 119\n",
              "}"
            ]
          },
          "metadata": {
            "tags": []
          },
          "execution_count": 17
        }
      ]
    },
    {
      "cell_type": "code",
      "metadata": {
        "id": "ADeqxgSc0DYP",
        "colab_type": "code",
        "colab": {}
      },
      "source": [
        ""
      ],
      "execution_count": null,
      "outputs": []
    }
  ]
}