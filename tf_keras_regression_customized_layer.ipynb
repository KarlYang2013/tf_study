{
  "nbformat": 4,
  "nbformat_minor": 0,
  "metadata": {
    "kernelspec": {
      "display_name": "Python 3",
      "language": "python",
      "name": "python3"
    },
    "language_info": {
      "codemirror_mode": {
        "name": "ipython",
        "version": 3
      },
      "file_extension": ".py",
      "mimetype": "text/x-python",
      "name": "python",
      "nbconvert_exporter": "python",
      "pygments_lexer": "ipython3",
      "version": "3.7.3"
    },
    "colab": {
      "name": "tf_keras_regression-customized_layer.ipynb",
      "provenance": [],
      "include_colab_link": true
    }
  },
  "cells": [
    {
      "cell_type": "markdown",
      "metadata": {
        "id": "view-in-github",
        "colab_type": "text"
      },
      "source": [
        "<a href=\"https://colab.research.google.com/github/KarlYang2013/tf_study/blob/master/tf_keras_regression_customized_layer.ipynb\" target=\"_parent\"><img src=\"https://colab.research.google.com/assets/colab-badge.svg\" alt=\"Open In Colab\"/></a>"
      ]
    },
    {
      "cell_type": "code",
      "metadata": {
        "id": "LTo-fttVWiWe",
        "colab_type": "code",
        "colab": {
          "base_uri": "https://localhost:8080/",
          "height": 153
        },
        "outputId": "e2af3248-2a98-4688-f340-fb2fda68bfc7"
      },
      "source": [
        "import matplotlib as mpl\n",
        "import matplotlib.pyplot as plt\n",
        "%matplotlib inline\n",
        "import numpy as np\n",
        "import sklearn\n",
        "import pandas as pd\n",
        "import os\n",
        "import sys\n",
        "import time\n",
        "import tensorflow as tf\n",
        "\n",
        "from tensorflow import keras\n",
        "\n",
        "print(tf.__version__)\n",
        "print(sys.version_info)\n",
        "for module in mpl, np, pd, sklearn, tf, keras:\n",
        "    print(module.__name__, module.__version__)"
      ],
      "execution_count": 1,
      "outputs": [
        {
          "output_type": "stream",
          "text": [
            "2.2.0\n",
            "sys.version_info(major=3, minor=6, micro=9, releaselevel='final', serial=0)\n",
            "matplotlib 3.2.2\n",
            "numpy 1.18.5\n",
            "pandas 1.0.5\n",
            "sklearn 0.22.2.post1\n",
            "tensorflow 2.2.0\n",
            "tensorflow.keras 2.3.0-tf\n"
          ],
          "name": "stdout"
        }
      ]
    },
    {
      "cell_type": "code",
      "metadata": {
        "id": "8im-mNL-WiWj",
        "colab_type": "code",
        "colab": {
          "base_uri": "https://localhost:8080/",
          "height": 1000
        },
        "outputId": "ece8f340-24d5-440e-eb4b-f927d841a208"
      },
      "source": [
        "layer = tf.keras.layers.Dense(100)\n",
        "layer = tf.keras.layers.Dense(100, input_shape=(None, 5))\n",
        "layer(tf.zeros([10, 5]))"
      ],
      "execution_count": 2,
      "outputs": [
        {
          "output_type": "execute_result",
          "data": {
            "text/plain": [
              "<tf.Tensor: shape=(10, 100), dtype=float32, numpy=\n",
              "array([[0., 0., 0., 0., 0., 0., 0., 0., 0., 0., 0., 0., 0., 0., 0., 0.,\n",
              "        0., 0., 0., 0., 0., 0., 0., 0., 0., 0., 0., 0., 0., 0., 0., 0.,\n",
              "        0., 0., 0., 0., 0., 0., 0., 0., 0., 0., 0., 0., 0., 0., 0., 0.,\n",
              "        0., 0., 0., 0., 0., 0., 0., 0., 0., 0., 0., 0., 0., 0., 0., 0.,\n",
              "        0., 0., 0., 0., 0., 0., 0., 0., 0., 0., 0., 0., 0., 0., 0., 0.,\n",
              "        0., 0., 0., 0., 0., 0., 0., 0., 0., 0., 0., 0., 0., 0., 0., 0.,\n",
              "        0., 0., 0., 0.],\n",
              "       [0., 0., 0., 0., 0., 0., 0., 0., 0., 0., 0., 0., 0., 0., 0., 0.,\n",
              "        0., 0., 0., 0., 0., 0., 0., 0., 0., 0., 0., 0., 0., 0., 0., 0.,\n",
              "        0., 0., 0., 0., 0., 0., 0., 0., 0., 0., 0., 0., 0., 0., 0., 0.,\n",
              "        0., 0., 0., 0., 0., 0., 0., 0., 0., 0., 0., 0., 0., 0., 0., 0.,\n",
              "        0., 0., 0., 0., 0., 0., 0., 0., 0., 0., 0., 0., 0., 0., 0., 0.,\n",
              "        0., 0., 0., 0., 0., 0., 0., 0., 0., 0., 0., 0., 0., 0., 0., 0.,\n",
              "        0., 0., 0., 0.],\n",
              "       [0., 0., 0., 0., 0., 0., 0., 0., 0., 0., 0., 0., 0., 0., 0., 0.,\n",
              "        0., 0., 0., 0., 0., 0., 0., 0., 0., 0., 0., 0., 0., 0., 0., 0.,\n",
              "        0., 0., 0., 0., 0., 0., 0., 0., 0., 0., 0., 0., 0., 0., 0., 0.,\n",
              "        0., 0., 0., 0., 0., 0., 0., 0., 0., 0., 0., 0., 0., 0., 0., 0.,\n",
              "        0., 0., 0., 0., 0., 0., 0., 0., 0., 0., 0., 0., 0., 0., 0., 0.,\n",
              "        0., 0., 0., 0., 0., 0., 0., 0., 0., 0., 0., 0., 0., 0., 0., 0.,\n",
              "        0., 0., 0., 0.],\n",
              "       [0., 0., 0., 0., 0., 0., 0., 0., 0., 0., 0., 0., 0., 0., 0., 0.,\n",
              "        0., 0., 0., 0., 0., 0., 0., 0., 0., 0., 0., 0., 0., 0., 0., 0.,\n",
              "        0., 0., 0., 0., 0., 0., 0., 0., 0., 0., 0., 0., 0., 0., 0., 0.,\n",
              "        0., 0., 0., 0., 0., 0., 0., 0., 0., 0., 0., 0., 0., 0., 0., 0.,\n",
              "        0., 0., 0., 0., 0., 0., 0., 0., 0., 0., 0., 0., 0., 0., 0., 0.,\n",
              "        0., 0., 0., 0., 0., 0., 0., 0., 0., 0., 0., 0., 0., 0., 0., 0.,\n",
              "        0., 0., 0., 0.],\n",
              "       [0., 0., 0., 0., 0., 0., 0., 0., 0., 0., 0., 0., 0., 0., 0., 0.,\n",
              "        0., 0., 0., 0., 0., 0., 0., 0., 0., 0., 0., 0., 0., 0., 0., 0.,\n",
              "        0., 0., 0., 0., 0., 0., 0., 0., 0., 0., 0., 0., 0., 0., 0., 0.,\n",
              "        0., 0., 0., 0., 0., 0., 0., 0., 0., 0., 0., 0., 0., 0., 0., 0.,\n",
              "        0., 0., 0., 0., 0., 0., 0., 0., 0., 0., 0., 0., 0., 0., 0., 0.,\n",
              "        0., 0., 0., 0., 0., 0., 0., 0., 0., 0., 0., 0., 0., 0., 0., 0.,\n",
              "        0., 0., 0., 0.],\n",
              "       [0., 0., 0., 0., 0., 0., 0., 0., 0., 0., 0., 0., 0., 0., 0., 0.,\n",
              "        0., 0., 0., 0., 0., 0., 0., 0., 0., 0., 0., 0., 0., 0., 0., 0.,\n",
              "        0., 0., 0., 0., 0., 0., 0., 0., 0., 0., 0., 0., 0., 0., 0., 0.,\n",
              "        0., 0., 0., 0., 0., 0., 0., 0., 0., 0., 0., 0., 0., 0., 0., 0.,\n",
              "        0., 0., 0., 0., 0., 0., 0., 0., 0., 0., 0., 0., 0., 0., 0., 0.,\n",
              "        0., 0., 0., 0., 0., 0., 0., 0., 0., 0., 0., 0., 0., 0., 0., 0.,\n",
              "        0., 0., 0., 0.],\n",
              "       [0., 0., 0., 0., 0., 0., 0., 0., 0., 0., 0., 0., 0., 0., 0., 0.,\n",
              "        0., 0., 0., 0., 0., 0., 0., 0., 0., 0., 0., 0., 0., 0., 0., 0.,\n",
              "        0., 0., 0., 0., 0., 0., 0., 0., 0., 0., 0., 0., 0., 0., 0., 0.,\n",
              "        0., 0., 0., 0., 0., 0., 0., 0., 0., 0., 0., 0., 0., 0., 0., 0.,\n",
              "        0., 0., 0., 0., 0., 0., 0., 0., 0., 0., 0., 0., 0., 0., 0., 0.,\n",
              "        0., 0., 0., 0., 0., 0., 0., 0., 0., 0., 0., 0., 0., 0., 0., 0.,\n",
              "        0., 0., 0., 0.],\n",
              "       [0., 0., 0., 0., 0., 0., 0., 0., 0., 0., 0., 0., 0., 0., 0., 0.,\n",
              "        0., 0., 0., 0., 0., 0., 0., 0., 0., 0., 0., 0., 0., 0., 0., 0.,\n",
              "        0., 0., 0., 0., 0., 0., 0., 0., 0., 0., 0., 0., 0., 0., 0., 0.,\n",
              "        0., 0., 0., 0., 0., 0., 0., 0., 0., 0., 0., 0., 0., 0., 0., 0.,\n",
              "        0., 0., 0., 0., 0., 0., 0., 0., 0., 0., 0., 0., 0., 0., 0., 0.,\n",
              "        0., 0., 0., 0., 0., 0., 0., 0., 0., 0., 0., 0., 0., 0., 0., 0.,\n",
              "        0., 0., 0., 0.],\n",
              "       [0., 0., 0., 0., 0., 0., 0., 0., 0., 0., 0., 0., 0., 0., 0., 0.,\n",
              "        0., 0., 0., 0., 0., 0., 0., 0., 0., 0., 0., 0., 0., 0., 0., 0.,\n",
              "        0., 0., 0., 0., 0., 0., 0., 0., 0., 0., 0., 0., 0., 0., 0., 0.,\n",
              "        0., 0., 0., 0., 0., 0., 0., 0., 0., 0., 0., 0., 0., 0., 0., 0.,\n",
              "        0., 0., 0., 0., 0., 0., 0., 0., 0., 0., 0., 0., 0., 0., 0., 0.,\n",
              "        0., 0., 0., 0., 0., 0., 0., 0., 0., 0., 0., 0., 0., 0., 0., 0.,\n",
              "        0., 0., 0., 0.],\n",
              "       [0., 0., 0., 0., 0., 0., 0., 0., 0., 0., 0., 0., 0., 0., 0., 0.,\n",
              "        0., 0., 0., 0., 0., 0., 0., 0., 0., 0., 0., 0., 0., 0., 0., 0.,\n",
              "        0., 0., 0., 0., 0., 0., 0., 0., 0., 0., 0., 0., 0., 0., 0., 0.,\n",
              "        0., 0., 0., 0., 0., 0., 0., 0., 0., 0., 0., 0., 0., 0., 0., 0.,\n",
              "        0., 0., 0., 0., 0., 0., 0., 0., 0., 0., 0., 0., 0., 0., 0., 0.,\n",
              "        0., 0., 0., 0., 0., 0., 0., 0., 0., 0., 0., 0., 0., 0., 0., 0.,\n",
              "        0., 0., 0., 0.]], dtype=float32)>"
            ]
          },
          "metadata": {
            "tags": []
          },
          "execution_count": 2
        }
      ]
    },
    {
      "cell_type": "code",
      "metadata": {
        "id": "e7IMJEqFWiWn",
        "colab_type": "code",
        "colab": {
          "base_uri": "https://localhost:8080/",
          "height": 1000
        },
        "outputId": "3c444a36-53bb-4786-c9e4-e1330b9ab767"
      },
      "source": [
        "# layer.variables\n",
        "# x * w + b\n",
        "layer.trainable_variables"
      ],
      "execution_count": 3,
      "outputs": [
        {
          "output_type": "execute_result",
          "data": {
            "text/plain": [
              "[<tf.Variable 'dense_1/kernel:0' shape=(5, 100) dtype=float32, numpy=\n",
              " array([[-1.05016157e-01, -4.80891615e-02, -8.17205012e-03,\n",
              "          1.27841786e-01, -1.89877748e-01,  1.55232087e-01,\n",
              "         -7.18348175e-02,  2.57210881e-02, -2.15967804e-01,\n",
              "          2.19314545e-02,  2.02184513e-01, -5.26333302e-02,\n",
              "          1.45932421e-01,  2.93375701e-02,  1.09949574e-01,\n",
              "          1.68704644e-01, -1.47075355e-01, -2.05540940e-01,\n",
              "         -2.00106725e-01,  3.68132144e-02,  1.81100816e-02,\n",
              "          9.36157554e-02, -1.78339630e-01,  2.36815348e-01,\n",
              "          8.68814141e-02, -1.44363239e-01,  1.90820917e-01,\n",
              "          5.53948134e-02, -1.45935893e-01,  4.74319905e-02,\n",
              "         -1.05049789e-01, -6.43603653e-02, -1.71198696e-01,\n",
              "          3.25793177e-02,  2.01853737e-01,  1.18799612e-01,\n",
              "         -1.54137760e-01, -2.09539622e-01,  2.22852036e-01,\n",
              "         -1.61469042e-01, -1.95633456e-01, -6.16704673e-02,\n",
              "         -1.04165152e-01,  6.03623539e-02,  1.65850267e-01,\n",
              "          2.15776190e-01,  1.51242808e-01,  3.68405133e-02,\n",
              "          1.02364048e-01, -4.90477830e-02, -1.26190990e-01,\n",
              "         -2.20057726e-01, -4.02942300e-04, -5.54875284e-02,\n",
              "          7.87497014e-02,  1.09697729e-02, -1.10430896e-01,\n",
              "         -1.76394239e-01,  4.51632589e-02, -1.35033667e-01,\n",
              "          7.34216720e-02, -3.62089872e-02,  1.31625995e-01,\n",
              "          9.76169109e-03,  1.35899439e-01,  1.17401704e-01,\n",
              "         -3.26813459e-02, -1.99446410e-01, -1.23544060e-01,\n",
              "         -1.77937150e-02, -1.96983457e-01,  1.18225470e-01,\n",
              "         -9.24948156e-02,  2.44829208e-02, -1.23136729e-01,\n",
              "          1.34231672e-01, -1.46966279e-01,  9.05154496e-02,\n",
              "         -8.53077173e-02, -1.19672753e-01, -2.38911226e-01,\n",
              "          9.14248973e-02, -1.47118330e-01,  2.05325291e-01,\n",
              "          1.26507118e-01, -7.93962926e-02,  1.57585248e-01,\n",
              "         -9.45426226e-02,  3.65900993e-03,  3.95326465e-02,\n",
              "          1.48814961e-01,  9.27705318e-02, -1.30911022e-02,\n",
              "         -1.34778798e-01,  3.33632082e-02,  4.39141691e-03,\n",
              "         -1.15079805e-01,  2.14689150e-01,  1.96068600e-01,\n",
              "          1.96812764e-01],\n",
              "        [ 2.86072046e-02, -7.13297427e-02,  1.79000646e-02,\n",
              "          2.08438471e-01, -1.97743282e-01,  1.38776913e-01,\n",
              "         -4.24857885e-02, -4.68173623e-02, -1.73039123e-01,\n",
              "          2.09896415e-02,  2.30170324e-01,  5.70002347e-02,\n",
              "          8.14214200e-02, -2.10018769e-01,  2.37858608e-01,\n",
              "          2.75670439e-02,  1.82694942e-02, -3.26552987e-02,\n",
              "          5.93802482e-02, -1.59353286e-01, -4.13684398e-02,\n",
              "          2.06184462e-01, -2.32958138e-01,  2.34387174e-01,\n",
              "          6.96620196e-02, -4.07974273e-02,  4.43195850e-02,\n",
              "         -1.65180773e-01,  9.22839493e-02,  1.38242707e-01,\n",
              "         -2.29593903e-01,  4.65174168e-02, -1.90624237e-01,\n",
              "         -1.49590462e-01, -7.45000839e-02, -1.79415777e-01,\n",
              "          3.65689546e-02, -2.13908255e-02,  5.15182316e-03,\n",
              "         -9.67777818e-02,  1.90542921e-01,  1.68768018e-02,\n",
              "         -9.88511294e-02,  1.96761802e-01,  1.03661850e-01,\n",
              "          2.05528870e-01,  4.52654511e-02,  4.94954735e-02,\n",
              "         -1.89848691e-02, -5.66642135e-02,  1.45907924e-01,\n",
              "          1.05554312e-02,  1.18978694e-01,  2.26062343e-01,\n",
              "          1.84952691e-01, -1.36716545e-01, -9.60741490e-02,\n",
              "          2.05859646e-01, -1.11124262e-01, -8.91664326e-02,\n",
              "         -1.03317320e-01,  1.37406096e-01, -5.60605526e-03,\n",
              "         -1.27530709e-01, -1.23532660e-01, -1.66594133e-01,\n",
              "         -2.16395766e-01, -1.31769001e-01,  9.26147252e-02,\n",
              "          3.84274870e-02, -1.69466227e-01, -6.52679801e-02,\n",
              "         -1.18599176e-01,  1.07815042e-01, -6.35980815e-02,\n",
              "         -1.26493961e-01, -9.27512795e-02, -1.23133212e-02,\n",
              "          2.17972174e-01, -7.02326298e-02,  1.68114200e-01,\n",
              "          3.21611613e-02,  1.56259254e-01, -5.81967533e-02,\n",
              "          1.76758751e-01, -1.95537597e-01, -1.92588866e-02,\n",
              "         -1.16287433e-01,  1.53671309e-01, -2.37657726e-02,\n",
              "          2.20758185e-01,  9.22504812e-02, -2.15730712e-01,\n",
              "         -1.90336943e-01,  2.15766281e-02,  4.82545644e-02,\n",
              "         -1.14685699e-01,  1.56609699e-01, -2.38295019e-01,\n",
              "          1.00490406e-01],\n",
              "        [-2.12747306e-01, -4.43420410e-02,  1.13065228e-01,\n",
              "          1.01119086e-01, -2.32437342e-01, -4.68981862e-02,\n",
              "          1.99930817e-02,  1.74599692e-01,  2.23339215e-01,\n",
              "          1.31216660e-01, -2.23392159e-01, -2.15125382e-01,\n",
              "          1.20080128e-01, -1.72025159e-01,  6.89635128e-02,\n",
              "         -7.82216191e-02,  6.59256727e-02,  2.26368457e-02,\n",
              "         -1.25939190e-01,  1.40733019e-01, -2.22785011e-01,\n",
              "          5.10163754e-02, -5.12163639e-02, -1.26919180e-01,\n",
              "         -1.73210502e-01,  6.33444637e-02, -1.53765470e-01,\n",
              "         -1.21413372e-01,  2.17369542e-01, -9.48373973e-02,\n",
              "         -8.76798779e-02,  1.27445951e-01, -1.51669383e-01,\n",
              "         -1.86673373e-01,  1.20497212e-01,  2.30770007e-01,\n",
              "          2.35121354e-01, -7.16449171e-02, -9.87494439e-02,\n",
              "         -2.29611173e-01,  6.84105009e-02,  2.55159587e-02,\n",
              "          1.98438659e-01,  9.97532159e-02, -6.91883266e-03,\n",
              "         -7.20309317e-02, -2.27694437e-01, -6.10037595e-02,\n",
              "          2.29757741e-01,  9.70394760e-02,  1.64907888e-01,\n",
              "         -1.97534457e-01, -2.07174927e-01, -9.22605097e-02,\n",
              "         -1.79682165e-01, -9.59847271e-02, -5.18172383e-02,\n",
              "         -9.65092331e-02, -3.62261385e-02,  6.58333302e-05,\n",
              "         -1.45264745e-01, -1.38691932e-01, -8.11396539e-03,\n",
              "         -2.34264702e-01,  1.94200501e-01, -3.27368528e-02,\n",
              "         -1.01041988e-01,  9.50582474e-02,  1.33379266e-01,\n",
              "         -1.94507837e-02,  1.33815959e-01, -1.19167000e-01,\n",
              "          2.31919453e-01, -2.27928847e-01,  1.49113640e-01,\n",
              "          7.07644373e-02,  6.18860275e-02, -9.21888649e-03,\n",
              "          1.27134547e-01, -1.66337609e-01, -2.58499980e-02,\n",
              "         -7.45534897e-02,  2.52855569e-02, -1.90694898e-01,\n",
              "         -1.96659222e-01, -2.27755308e-03,  2.39634365e-02,\n",
              "          4.19844836e-02, -1.39559805e-02,  9.37528163e-02,\n",
              "         -1.17483884e-01, -1.01163954e-01,  2.06400007e-02,\n",
              "          1.77144274e-01, -2.24835157e-01, -2.11263090e-01,\n",
              "         -8.34238678e-02, -6.37647808e-02,  1.44827321e-01,\n",
              "         -8.56381655e-02],\n",
              "        [-2.01390594e-01,  2.25309744e-01,  2.30486467e-01,\n",
              "          1.12534314e-02,  8.22622925e-02,  1.23346344e-01,\n",
              "          9.83180106e-03, -9.37370956e-02,  2.15334669e-01,\n",
              "         -5.08616418e-02,  1.23614773e-01, -8.09785873e-02,\n",
              "          2.20762447e-01,  4.90595847e-02, -2.27827579e-01,\n",
              "         -2.38844305e-01, -3.36027592e-02, -2.16208398e-02,\n",
              "         -7.55747557e-02,  2.04158738e-01,  2.12675199e-01,\n",
              "         -7.38844573e-02,  8.38282853e-02, -8.59508812e-02,\n",
              "         -1.01584196e-02, -1.30282164e-01,  1.09567270e-01,\n",
              "          1.05109230e-01, -8.15169513e-03, -7.80147314e-03,\n",
              "          1.49551317e-01,  1.04118183e-01, -1.44458234e-01,\n",
              "         -1.54093698e-01,  3.90787572e-02, -2.38895893e-01,\n",
              "         -1.10735744e-01, -2.29039639e-01,  1.06996849e-01,\n",
              "          9.23765451e-02,  1.13375485e-03, -2.18691602e-01,\n",
              "         -2.35108197e-01, -2.18552202e-01, -6.68908507e-02,\n",
              "         -1.99307680e-01,  5.74652404e-02,  3.15358490e-02,\n",
              "          8.20565075e-02,  9.60964710e-02, -1.70008302e-01,\n",
              "          2.24356070e-01,  9.01341587e-02,  1.69460490e-01,\n",
              "          1.35214165e-01,  7.52042383e-02,  1.84225067e-01,\n",
              "         -9.20340866e-02, -9.18712020e-02,  3.62038463e-02,\n",
              "          1.62728176e-01,  1.14953503e-01,  3.34341079e-02,\n",
              "          9.65192467e-02, -6.90545291e-02, -2.91776508e-02,\n",
              "          8.73085111e-02,  1.63426682e-01,  6.15186989e-03,\n",
              "          4.75963503e-02, -1.04276448e-01, -9.19403881e-02,\n",
              "         -5.62333465e-02, -3.97705883e-02, -1.99145198e-01,\n",
              "         -1.38513356e-01,  4.47279364e-02, -1.56828612e-02,\n",
              "          6.03826493e-02,  8.27234983e-03,  2.04656228e-01,\n",
              "          1.81192592e-01,  2.21356079e-01, -1.45876452e-01,\n",
              "         -2.24758849e-01,  8.28993171e-02, -1.55062288e-01,\n",
              "         -7.87449181e-02,  6.56282157e-02,  8.78489017e-03,\n",
              "         -1.65297151e-01,  1.89680010e-02,  4.43227738e-02,\n",
              "          7.98469931e-02,  1.96984634e-01,  8.76448900e-02,\n",
              "         -1.48693472e-02, -1.79142833e-01, -1.46432757e-01,\n",
              "          1.35166690e-01],\n",
              "        [ 8.03784579e-02, -2.05631390e-01,  1.25558361e-01,\n",
              "          3.10257524e-02, -1.01724312e-01,  6.55676872e-02,\n",
              "          2.10864410e-01,  3.34277302e-02,  1.18848249e-01,\n",
              "         -2.06538767e-01, -1.90139681e-01, -4.68388498e-02,\n",
              "         -1.03822395e-01, -1.83332682e-01,  1.27637789e-01,\n",
              "         -8.37721527e-02,  1.18388757e-01,  6.57305121e-04,\n",
              "         -4.13908958e-02,  1.53348461e-01,  2.38591880e-02,\n",
              "         -1.51146531e-01,  1.17575124e-01,  2.28023008e-01,\n",
              "         -3.78087759e-02,  4.89936918e-02, -2.25094646e-01,\n",
              "          1.51376054e-01,  2.20725223e-01, -9.78359133e-02,\n",
              "          2.33705208e-01, -2.21946299e-01,  2.85720974e-02,\n",
              "         -1.73200965e-02,  1.53898910e-01,  2.16589466e-01,\n",
              "         -1.41515762e-01, -1.97903827e-01,  8.88390690e-02,\n",
              "          1.34683713e-01, -5.59919775e-02, -3.34183872e-02,\n",
              "         -2.32287794e-02,  1.76474318e-01, -9.72912312e-02,\n",
              "         -3.05383056e-02,  6.22323155e-03, -7.69931376e-02,\n",
              "         -1.80528507e-01, -1.32885873e-02,  7.04642385e-02,\n",
              "         -6.69635087e-02, -2.38341346e-01, -1.54932737e-01,\n",
              "          2.18988761e-01,  1.09388039e-01, -2.27411762e-01,\n",
              "          1.28286794e-01,  1.32090300e-02,  1.83955655e-01,\n",
              "         -1.64319724e-02, -2.78420746e-02,  4.01194841e-02,\n",
              "          5.61350733e-02,  3.68085355e-02,  9.75483209e-02,\n",
              "         -1.95217758e-01, -4.63274568e-02, -1.79785371e-01,\n",
              "         -8.62140805e-02,  1.63128629e-01, -1.10227421e-01,\n",
              "          4.90559191e-02,  3.47159952e-02, -1.65948510e-01,\n",
              "         -5.35506755e-02,  7.51298517e-02,  1.82262167e-01,\n",
              "          1.91934720e-01, -1.54570043e-01, -2.88551301e-02,\n",
              "          1.13405570e-01,  1.21529117e-01,  1.36517063e-01,\n",
              "         -1.59616202e-01,  1.55441359e-01,  1.34798959e-01,\n",
              "         -5.12611866e-03, -1.60234392e-01,  1.01551905e-01,\n",
              "         -2.35619932e-01,  4.47028726e-02,  5.09622842e-02,\n",
              "         -8.11099559e-02, -8.43974948e-03,  2.31887117e-01,\n",
              "         -9.53690261e-02, -1.75674990e-01,  1.32311895e-01,\n",
              "         -7.27663040e-02]], dtype=float32)>,\n",
              " <tf.Variable 'dense_1/bias:0' shape=(100,) dtype=float32, numpy=\n",
              " array([0., 0., 0., 0., 0., 0., 0., 0., 0., 0., 0., 0., 0., 0., 0., 0., 0.,\n",
              "        0., 0., 0., 0., 0., 0., 0., 0., 0., 0., 0., 0., 0., 0., 0., 0., 0.,\n",
              "        0., 0., 0., 0., 0., 0., 0., 0., 0., 0., 0., 0., 0., 0., 0., 0., 0.,\n",
              "        0., 0., 0., 0., 0., 0., 0., 0., 0., 0., 0., 0., 0., 0., 0., 0., 0.,\n",
              "        0., 0., 0., 0., 0., 0., 0., 0., 0., 0., 0., 0., 0., 0., 0., 0., 0.,\n",
              "        0., 0., 0., 0., 0., 0., 0., 0., 0., 0., 0., 0., 0., 0., 0.],\n",
              "       dtype=float32)>]"
            ]
          },
          "metadata": {
            "tags": []
          },
          "execution_count": 3
        }
      ]
    },
    {
      "cell_type": "code",
      "metadata": {
        "id": "vW9Vci-CWiWp",
        "colab_type": "code",
        "colab": {
          "base_uri": "https://localhost:8080/",
          "height": 765
        },
        "outputId": "90295c0d-f627-4979-c3be-9a8cf1006ab5"
      },
      "source": [
        "from sklearn.datasets import fetch_california_housing\n",
        "\n",
        "housing = fetch_california_housing()\n",
        "print(housing.DESCR)\n",
        "print(housing.data.shape)\n",
        "print(housing.target.shape)"
      ],
      "execution_count": 4,
      "outputs": [
        {
          "output_type": "stream",
          "text": [
            "Downloading Cal. housing from https://ndownloader.figshare.com/files/5976036 to /root/scikit_learn_data\n"
          ],
          "name": "stderr"
        },
        {
          "output_type": "stream",
          "text": [
            ".. _california_housing_dataset:\n",
            "\n",
            "California Housing dataset\n",
            "--------------------------\n",
            "\n",
            "**Data Set Characteristics:**\n",
            "\n",
            "    :Number of Instances: 20640\n",
            "\n",
            "    :Number of Attributes: 8 numeric, predictive attributes and the target\n",
            "\n",
            "    :Attribute Information:\n",
            "        - MedInc        median income in block\n",
            "        - HouseAge      median house age in block\n",
            "        - AveRooms      average number of rooms\n",
            "        - AveBedrms     average number of bedrooms\n",
            "        - Population    block population\n",
            "        - AveOccup      average house occupancy\n",
            "        - Latitude      house block latitude\n",
            "        - Longitude     house block longitude\n",
            "\n",
            "    :Missing Attribute Values: None\n",
            "\n",
            "This dataset was obtained from the StatLib repository.\n",
            "http://lib.stat.cmu.edu/datasets/\n",
            "\n",
            "The target variable is the median house value for California districts.\n",
            "\n",
            "This dataset was derived from the 1990 U.S. census, using one row per census\n",
            "block group. A block group is the smallest geographical unit for which the U.S.\n",
            "Census Bureau publishes sample data (a block group typically has a population\n",
            "of 600 to 3,000 people).\n",
            "\n",
            "It can be downloaded/loaded using the\n",
            ":func:`sklearn.datasets.fetch_california_housing` function.\n",
            "\n",
            ".. topic:: References\n",
            "\n",
            "    - Pace, R. Kelley and Ronald Barry, Sparse Spatial Autoregressions,\n",
            "      Statistics and Probability Letters, 33 (1997) 291-297\n",
            "\n",
            "(20640, 8)\n",
            "(20640,)\n"
          ],
          "name": "stdout"
        }
      ]
    },
    {
      "cell_type": "code",
      "metadata": {
        "id": "Tf6EesxdWiWr",
        "colab_type": "code",
        "colab": {
          "base_uri": "https://localhost:8080/",
          "height": 68
        },
        "outputId": "929d90b6-e015-4ab7-9ebb-6d3db8a1ee5d"
      },
      "source": [
        "from sklearn.model_selection import train_test_split\n",
        "\n",
        "x_train_all, x_test, y_train_all, y_test = train_test_split(\n",
        "    housing.data, housing.target, random_state = 7)\n",
        "x_train, x_valid, y_train, y_valid = train_test_split(\n",
        "    x_train_all, y_train_all, random_state = 11)\n",
        "print(x_train.shape, y_train.shape)\n",
        "print(x_valid.shape, y_valid.shape)\n",
        "print(x_test.shape, y_test.shape)\n"
      ],
      "execution_count": 5,
      "outputs": [
        {
          "output_type": "stream",
          "text": [
            "(11610, 8) (11610,)\n",
            "(3870, 8) (3870,)\n",
            "(5160, 8) (5160,)\n"
          ],
          "name": "stdout"
        }
      ]
    },
    {
      "cell_type": "code",
      "metadata": {
        "id": "hluISRgeWiWu",
        "colab_type": "code",
        "colab": {}
      },
      "source": [
        "from sklearn.preprocessing import StandardScaler\n",
        "\n",
        "scaler = StandardScaler()\n",
        "x_train_scaled = scaler.fit_transform(x_train)\n",
        "x_valid_scaled = scaler.transform(x_valid)\n",
        "x_test_scaled = scaler.transform(x_test)"
      ],
      "execution_count": 6,
      "outputs": []
    },
    {
      "cell_type": "code",
      "metadata": {
        "id": "1K87TFaEWiWw",
        "colab_type": "code",
        "colab": {
          "base_uri": "https://localhost:8080/",
          "height": 34
        },
        "outputId": "35dd7cbc-b189-4aef-fed1-a0df3949366f"
      },
      "source": [
        "# tf.nn.softplus : log(1+e^x)\n",
        "customized_softplus = keras.layers.Lambda(lambda x : tf.nn.softplus(x))\n",
        "print(customized_softplus([-10., -5., 0., 5., 10.]))"
      ],
      "execution_count": 7,
      "outputs": [
        {
          "output_type": "stream",
          "text": [
            "tf.Tensor([4.5417706e-05 6.7153489e-03 6.9314718e-01 5.0067153e+00 1.0000046e+01], shape=(5,), dtype=float32)\n"
          ],
          "name": "stdout"
        }
      ]
    },
    {
      "cell_type": "code",
      "metadata": {
        "id": "8mjKMd9-WiWz",
        "colab_type": "code",
        "colab": {
          "base_uri": "https://localhost:8080/",
          "height": 255
        },
        "outputId": "9e6c02d4-6df9-4321-8635-de797c1d5f8d"
      },
      "source": [
        "# customized dense layer.\n",
        "class CustomizedDenseLayer(keras.layers.Layer):\n",
        "    def __init__(self, units, activation=None, **kwargs):\n",
        "        self.units = units\n",
        "        self.activation = keras.layers.Activation(activation)\n",
        "        super(CustomizedDenseLayer, self).__init__(**kwargs)\n",
        "    \n",
        "    def build(self, input_shape):\n",
        "        \"\"\"构建所需要的参数\"\"\"\n",
        "        # x * w + b. input_shape:[None, a] w:[a,b]output_shape: [None, b]\n",
        "        self.kernel = self.add_weight(name = 'kernel',\n",
        "                                      shape = (input_shape[1], self.units),\n",
        "                                      initializer = 'uniform',\n",
        "                                      trainable = True)\n",
        "        self.bias = self.add_weight(name = 'bias',\n",
        "                                    shape = (self.units, ),\n",
        "                                    initializer = 'zeros',\n",
        "                                    trainable = True)\n",
        "        super(CustomizedDenseLayer, self).build(input_shape)\n",
        "    \n",
        "    def call(self, x):\n",
        "        \"\"\"完成正向计算\"\"\"\n",
        "        return self.activation(x @ self.kernel + self.bias)\n",
        "\n",
        "model = keras.models.Sequential([\n",
        "    CustomizedDenseLayer(30, activation='relu',\n",
        "                         input_shape=x_train.shape[1:]),\n",
        "    CustomizedDenseLayer(1),\n",
        "    customized_softplus,\n",
        "    # keras.layers.Dense(1, activation=\"softplus\"),\n",
        "    # keras.layers.Dense(1), keras.layers.Activation('softplus'),\n",
        "])\n",
        "model.summary()\n",
        "model.compile(loss=\"mean_squared_error\", optimizer=\"sgd\")\n",
        "callbacks = [keras.callbacks.EarlyStopping(\n",
        "    patience=5, min_delta=1e-2)]"
      ],
      "execution_count": 8,
      "outputs": [
        {
          "output_type": "stream",
          "text": [
            "Model: \"sequential\"\n",
            "_________________________________________________________________\n",
            "Layer (type)                 Output Shape              Param #   \n",
            "=================================================================\n",
            "customized_dense_layer (Cust (None, 30)                270       \n",
            "_________________________________________________________________\n",
            "customized_dense_layer_1 (Cu (None, 1)                 31        \n",
            "_________________________________________________________________\n",
            "lambda (Lambda)              (None, 1)                 0         \n",
            "=================================================================\n",
            "Total params: 301\n",
            "Trainable params: 301\n",
            "Non-trainable params: 0\n",
            "_________________________________________________________________\n"
          ],
          "name": "stdout"
        }
      ]
    },
    {
      "cell_type": "code",
      "metadata": {
        "id": "6pWjDGN4WiW2",
        "colab_type": "code",
        "colab": {
          "base_uri": "https://localhost:8080/",
          "height": 765
        },
        "outputId": "03d74381-f1cd-4774-cdc4-6119c05a46d6"
      },
      "source": [
        "history = model.fit(x_train_scaled, y_train,\n",
        "                    validation_data = (x_valid_scaled, y_valid),\n",
        "                    epochs = 100,\n",
        "                    callbacks = callbacks)"
      ],
      "execution_count": 9,
      "outputs": [
        {
          "output_type": "stream",
          "text": [
            "Epoch 1/100\n",
            "363/363 [==============================] - 1s 2ms/step - loss: 1.2211 - val_loss: 0.6743\n",
            "Epoch 2/100\n",
            "363/363 [==============================] - 1s 2ms/step - loss: 0.5877 - val_loss: 0.5816\n",
            "Epoch 3/100\n",
            "363/363 [==============================] - 1s 1ms/step - loss: 0.5160 - val_loss: 0.5195\n",
            "Epoch 4/100\n",
            "363/363 [==============================] - 1s 1ms/step - loss: 0.4749 - val_loss: 0.4962\n",
            "Epoch 5/100\n",
            "363/363 [==============================] - 1s 1ms/step - loss: 0.4569 - val_loss: 0.4715\n",
            "Epoch 6/100\n",
            "363/363 [==============================] - 1s 1ms/step - loss: 0.4425 - val_loss: 0.4505\n",
            "Epoch 7/100\n",
            "363/363 [==============================] - 1s 1ms/step - loss: 0.4516 - val_loss: 0.5154\n",
            "Epoch 8/100\n",
            "363/363 [==============================] - 1s 2ms/step - loss: 0.4520 - val_loss: 0.4531\n",
            "Epoch 9/100\n",
            "363/363 [==============================] - 1s 1ms/step - loss: 0.4197 - val_loss: 0.4284\n",
            "Epoch 10/100\n",
            "363/363 [==============================] - 1s 1ms/step - loss: 0.4046 - val_loss: 0.4157\n",
            "Epoch 11/100\n",
            "363/363 [==============================] - 1s 1ms/step - loss: 0.4007 - val_loss: 0.4149\n",
            "Epoch 12/100\n",
            "363/363 [==============================] - 1s 2ms/step - loss: 0.3930 - val_loss: 0.4068\n",
            "Epoch 13/100\n",
            "363/363 [==============================] - 1s 2ms/step - loss: 0.3891 - val_loss: 0.4042\n",
            "Epoch 14/100\n",
            "363/363 [==============================] - 1s 1ms/step - loss: 0.3849 - val_loss: 0.3981\n",
            "Epoch 15/100\n",
            "363/363 [==============================] - 1s 1ms/step - loss: 0.3825 - val_loss: 0.3964\n",
            "Epoch 16/100\n",
            "363/363 [==============================] - 1s 1ms/step - loss: 0.3799 - val_loss: 0.3972\n",
            "Epoch 17/100\n",
            "363/363 [==============================] - 1s 1ms/step - loss: 0.3779 - val_loss: 0.3915\n",
            "Epoch 18/100\n",
            "363/363 [==============================] - 1s 1ms/step - loss: 0.3762 - val_loss: 0.3936\n",
            "Epoch 19/100\n",
            "363/363 [==============================] - 1s 1ms/step - loss: 0.3743 - val_loss: 0.3885\n",
            "Epoch 20/100\n",
            "363/363 [==============================] - 1s 1ms/step - loss: 0.3727 - val_loss: 0.3899\n",
            "Epoch 21/100\n",
            "363/363 [==============================] - 1s 2ms/step - loss: 0.3716 - val_loss: 0.3871\n",
            "Epoch 22/100\n",
            "363/363 [==============================] - 1s 1ms/step - loss: 0.3705 - val_loss: 0.3849\n"
          ],
          "name": "stdout"
        }
      ]
    },
    {
      "cell_type": "code",
      "metadata": {
        "id": "fWVVuP-uWiW4",
        "colab_type": "code",
        "colab": {
          "base_uri": "https://localhost:8080/",
          "height": 324
        },
        "outputId": "684daa90-2ac3-42c0-c039-06bb3200a626"
      },
      "source": [
        "def plot_learning_curves(history):\n",
        "    pd.DataFrame(history.history).plot(figsize=(8, 5))\n",
        "    plt.grid(True)\n",
        "    plt.gca().set_ylim(0, 1)\n",
        "    plt.show()\n",
        "plot_learning_curves(history)"
      ],
      "execution_count": 10,
      "outputs": [
        {
          "output_type": "display_data",
          "data": {
            "image/png": "[encoded data removed]",
            "text/plain": [
              "<Figure size 576x360 with 1 Axes>"
            ]
          },
          "metadata": {
            "tags": [],
            "needs_background": "light"
          }
        }
      ]
    },
    {
      "cell_type": "code",
      "metadata": {
        "id": "LoKSE-wHWiW6",
        "colab_type": "code",
        "colab": {
          "base_uri": "https://localhost:8080/",
          "height": 34
        },
        "outputId": "07643fc4-d71f-42a4-a9e7-431778f7c05c"
      },
      "source": [
        "model.evaluate(x_test_scaled, y_test, verbose=0)"
      ],
      "execution_count": 11,
      "outputs": [
        {
          "output_type": "execute_result",
          "data": {
            "text/plain": [
              "0.3862929940223694"
            ]
          },
          "metadata": {
            "tags": []
          },
          "execution_count": 11
        }
      ]
    },
    {
      "cell_type": "code",
      "metadata": {
        "id": "zVE08_yvWiW8",
        "colab_type": "code",
        "colab": {}
      },
      "source": [
        ""
      ],
      "execution_count": 11,
      "outputs": []
    }
  ]
}