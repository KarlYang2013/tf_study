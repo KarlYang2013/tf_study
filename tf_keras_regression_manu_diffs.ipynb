{
  "nbformat": 4,
  "nbformat_minor": 0,
  "metadata": {
    "kernelspec": {
      "display_name": "Python 3",
      "language": "python",
      "name": "python3"
    },
    "language_info": {
      "codemirror_mode": {
        "name": "ipython",
        "version": 3
      },
      "file_extension": ".py",
      "mimetype": "text/x-python",
      "name": "python",
      "nbconvert_exporter": "python",
      "pygments_lexer": "ipython3",
      "version": "3.7.3"
    },
    "colab": {
      "name": "tf_keras_regression-manu-diffs.ipynb",
      "provenance": [],
      "collapsed_sections": [],
      "include_colab_link": true
    }
  },
  "cells": [
    {
      "cell_type": "markdown",
      "metadata": {
        "id": "view-in-github",
        "colab_type": "text"
      },
      "source": [
        "<a href=\"https://colab.research.google.com/github/KarlYang2013/tf_study/blob/master/tf_keras_regression_manu_diffs.ipynb\" target=\"_parent\"><img src=\"https://colab.research.google.com/assets/colab-badge.svg\" alt=\"Open In Colab\"/></a>"
      ]
    },
    {
      "cell_type": "code",
      "metadata": {
        "id": "iTblWcbX9xKw",
        "colab_type": "code",
        "colab": {
          "base_uri": "https://localhost:8080/",
          "height": 153
        },
        "outputId": "6b51e0dc-2c30-4be0-c460-e4ebd7dadc28"
      },
      "source": [
        "import matplotlib as mpl\n",
        "import matplotlib.pyplot as plt\n",
        "%matplotlib inline\n",
        "import numpy as np\n",
        "import sklearn\n",
        "import pandas as pd\n",
        "import os\n",
        "import sys\n",
        "import time\n",
        "import tensorflow as tf\n",
        "\n",
        "from tensorflow import keras\n",
        "\n",
        "print(tf.__version__)\n",
        "print(sys.version_info)\n",
        "for module in mpl, np, pd, sklearn, tf, keras:\n",
        "    print(module.__name__, module.__version__)"
      ],
      "execution_count": 1,
      "outputs": [
        {
          "output_type": "stream",
          "text": [
            "2.2.0\n",
            "sys.version_info(major=3, minor=6, micro=9, releaselevel='final', serial=0)\n",
            "matplotlib 3.2.2\n",
            "numpy 1.18.5\n",
            "pandas 1.0.5\n",
            "sklearn 0.22.2.post1\n",
            "tensorflow 2.2.0\n",
            "tensorflow.keras 2.3.0-tf\n"
          ],
          "name": "stdout"
        }
      ]
    },
    {
      "cell_type": "code",
      "metadata": {
        "id": "q5A8Lle99xK2",
        "colab_type": "code",
        "colab": {
          "base_uri": "https://localhost:8080/",
          "height": 765
        },
        "outputId": "563c45ef-98f9-4d07-db40-7f20b2687d6c"
      },
      "source": [
        "from sklearn.datasets import fetch_california_housing\n",
        "\n",
        "housing = fetch_california_housing()\n",
        "print(housing.DESCR)\n",
        "print(housing.data.shape)\n",
        "print(housing.target.shape)"
      ],
      "execution_count": 2,
      "outputs": [
        {
          "output_type": "stream",
          "text": [
            "Downloading Cal. housing from https://ndownloader.figshare.com/files/5976036 to /root/scikit_learn_data\n"
          ],
          "name": "stderr"
        },
        {
          "output_type": "stream",
          "text": [
            ".. _california_housing_dataset:\n",
            "\n",
            "California Housing dataset\n",
            "--------------------------\n",
            "\n",
            "**Data Set Characteristics:**\n",
            "\n",
            "    :Number of Instances: 20640\n",
            "\n",
            "    :Number of Attributes: 8 numeric, predictive attributes and the target\n",
            "\n",
            "    :Attribute Information:\n",
            "        - MedInc        median income in block\n",
            "        - HouseAge      median house age in block\n",
            "        - AveRooms      average number of rooms\n",
            "        - AveBedrms     average number of bedrooms\n",
            "        - Population    block population\n",
            "        - AveOccup      average house occupancy\n",
            "        - Latitude      house block latitude\n",
            "        - Longitude     house block longitude\n",
            "\n",
            "    :Missing Attribute Values: None\n",
            "\n",
            "This dataset was obtained from the StatLib repository.\n",
            "http://lib.stat.cmu.edu/datasets/\n",
            "\n",
            "The target variable is the median house value for California districts.\n",
            "\n",
            "This dataset was derived from the 1990 U.S. census, using one row per census\n",
            "block group. A block group is the smallest geographical unit for which the U.S.\n",
            "Census Bureau publishes sample data (a block group typically has a population\n",
            "of 600 to 3,000 people).\n",
            "\n",
            "It can be downloaded/loaded using the\n",
            ":func:`sklearn.datasets.fetch_california_housing` function.\n",
            "\n",
            ".. topic:: References\n",
            "\n",
            "    - Pace, R. Kelley and Ronald Barry, Sparse Spatial Autoregressions,\n",
            "      Statistics and Probability Letters, 33 (1997) 291-297\n",
            "\n",
            "(20640, 8)\n",
            "(20640,)\n"
          ],
          "name": "stdout"
        }
      ]
    },
    {
      "cell_type": "code",
      "metadata": {
        "id": "5UmcZ5mg9xK4",
        "colab_type": "code",
        "colab": {
          "base_uri": "https://localhost:8080/",
          "height": 68
        },
        "outputId": "656ab303-dfd1-45bb-e541-041f8aa3a366"
      },
      "source": [
        "from sklearn.model_selection import train_test_split\n",
        "\n",
        "x_train_all, x_test, y_train_all, y_test = train_test_split(\n",
        "    housing.data, housing.target, random_state = 7)\n",
        "x_train, x_valid, y_train, y_valid = train_test_split(\n",
        "    x_train_all, y_train_all, random_state = 11)\n",
        "print(x_train.shape, y_train.shape)\n",
        "print(x_valid.shape, y_valid.shape)\n",
        "print(x_test.shape, y_test.shape)\n"
      ],
      "execution_count": 3,
      "outputs": [
        {
          "output_type": "stream",
          "text": [
            "(11610, 8) (11610,)\n",
            "(3870, 8) (3870,)\n",
            "(5160, 8) (5160,)\n"
          ],
          "name": "stdout"
        }
      ]
    },
    {
      "cell_type": "code",
      "metadata": {
        "id": "CTdOSrsJ9xK7",
        "colab_type": "code",
        "colab": {}
      },
      "source": [
        "from sklearn.preprocessing import StandardScaler\n",
        "\n",
        "scaler = StandardScaler()\n",
        "x_train_scaled = scaler.fit_transform(x_train)\n",
        "x_valid_scaled = scaler.transform(x_valid)\n",
        "x_test_scaled = scaler.transform(x_test)"
      ],
      "execution_count": 4,
      "outputs": []
    },
    {
      "cell_type": "code",
      "metadata": {
        "id": "2MxdYKYf9xK9",
        "colab_type": "code",
        "colab": {
          "base_uri": "https://localhost:8080/",
          "height": 85
        },
        "outputId": "a5d27a4c-eb7f-4322-c9b9-37086e8b6806"
      },
      "source": [
        "# metric使用\n",
        "\n",
        "metric = keras.metrics.MeanSquaredError()\n",
        "print(metric([5.], [2.]))\n",
        "print(metric([0.], [1.]))\n",
        "print(metric.result())\n",
        "\n",
        "metric.reset_states()\n",
        "metric([1.], [3.])\n",
        "print(metric.result())"
      ],
      "execution_count": 7,
      "outputs": [
        {
          "output_type": "stream",
          "text": [
            "tf.Tensor(9.0, shape=(), dtype=float32)\n",
            "tf.Tensor(5.0, shape=(), dtype=float32)\n",
            "tf.Tensor(5.0, shape=(), dtype=float32)\n",
            "tf.Tensor(4.0, shape=(), dtype=float32)\n"
          ],
          "name": "stdout"
        }
      ]
    },
    {
      "cell_type": "code",
      "metadata": {
        "id": "yaPgY3qq9xLA",
        "colab_type": "code",
        "colab": {
          "base_uri": "https://localhost:8080/",
          "height": 1000
        },
        "outputId": "70f5074d-e0c8-49e5-fb2a-8e140975fadf"
      },
      "source": [
        "# 1. batch 遍历训练集 metric\n",
        "#    1.1 自动求导\n",
        "# 2. epoch结束 验证集 metric\n",
        "\n",
        "epochs = 100\n",
        "batch_size = 32\n",
        "steps_per_epoch = len(x_train_scaled) // batch_size\n",
        "optimizer = keras.optimizers.SGD()\n",
        "metric = keras.metrics.MeanSquaredError()\n",
        "\n",
        "def random_batch(x, y, batch_size=32):\n",
        "    idx = np.random.randint(0, len(x), size=batch_size)\n",
        "    return x[idx], y[idx]\n",
        "\n",
        "model = keras.models.Sequential([\n",
        "    keras.layers.Dense(30, activation='relu',\n",
        "                       input_shape=x_train.shape[1:]),\n",
        "    keras.layers.Dense(1),\n",
        "])\n",
        "\n",
        "for epoch in range(epochs):\n",
        "    metric.reset_states()#每轮都重置一下状态，避免累加\n",
        "    for step in range(steps_per_epoch):\n",
        "        x_batch, y_batch = random_batch(x_train_scaled, y_train,\n",
        "                                        batch_size)\n",
        "        with tf.GradientTape() as tape:\n",
        "            y_pred = model(x_batch)\n",
        "            y_pred = tf.squeeze(y_pred, 1)\n",
        "            loss = keras.losses.mean_squared_error(y_batch, y_pred)\n",
        "            metric(y_batch, y_pred)\n",
        "        grads = tape.gradient(loss, model.variables)#loss反向传播求导\n",
        "        grads_and_vars = zip(grads, model.variables)#把gradient和变量捆绑再起，方便使用应用梯度变量apply_gradients\n",
        "        optimizer.apply_gradients(grads_and_vars)\n",
        "        print(\"\\rEpoch\", epoch, \" train mse:\",\n",
        "              metric.result().numpy(), end=\"\")\n",
        "    y_valid_pred = model(x_valid_scaled)\n",
        "    y_valid_pred = tf.squeeze(y_valid_pred, 1)\n",
        "    valid_loss = keras.losses.mean_squared_error(y_valid_pred, y_valid)\n",
        "    print(\"\\t\", \"valid mse: \", valid_loss.numpy())\n",
        "        \n"
      ],
      "execution_count": 6,
      "outputs": [
        {
          "output_type": "stream",
          "text": [
            "Epoch 0  train mse: 1.491524\t valid mse:  0.6440194814904424\n",
            "Epoch 1  train mse: 0.47578207\t valid mse:  0.45485141399386925\n",
            "Epoch 2  train mse: 0.4087608\t valid mse:  0.42514726102742745\n",
            "Epoch 3  train mse: 0.41084918\t valid mse:  0.4333551433264226\n",
            "Epoch 4  train mse: 0.3729713\t valid mse:  0.3917337644576739\n",
            "Epoch 5  train mse: 0.38371184\t valid mse:  0.38906790798364266\n",
            "Epoch 6  train mse: 0.36619687\t valid mse:  0.38743407967957594\n",
            "Epoch 7  train mse: 0.37162477\t valid mse:  0.38001035835198305\n",
            "Epoch 8  train mse: 0.37276548\t valid mse:  0.3840220525318067\n",
            "Epoch 9  train mse: 0.36240813\t valid mse:  0.37124304547435566\n",
            "Epoch 10  train mse: 0.3666853\t valid mse:  0.3749971646716304\n",
            "Epoch 11  train mse: 0.35618308\t valid mse:  0.3679853393526786\n",
            "Epoch 12  train mse: 0.36963218\t valid mse:  0.37512865118850847\n",
            "Epoch 13  train mse: 0.39218238\t valid mse:  0.37530043884791053\n",
            "Epoch 14  train mse: 0.35154256\t valid mse:  0.36205367758151874\n",
            "Epoch 15  train mse: 0.36307955\t valid mse:  0.37011447588770413\n",
            "Epoch 16  train mse: 0.3588545\t valid mse:  0.36780659577736907\n",
            "Epoch 17  train mse: 0.34191543\t valid mse:  0.3590086296059228\n",
            "Epoch 18  train mse: 0.35664523\t valid mse:  0.35521822866712616\n",
            "Epoch 19  train mse: 0.34726825\t valid mse:  0.352891086503209\n",
            "Epoch 20  train mse: 0.3323068\t valid mse:  0.36964365637134494\n",
            "Epoch 21  train mse: 0.3427177\t valid mse:  0.3508803938418639\n",
            "Epoch 22  train mse: 0.34073028\t valid mse:  0.3557987721589801\n",
            "Epoch 23  train mse: 0.34331042\t valid mse:  0.3525792661089727\n",
            "Epoch 24  train mse: 0.33377126\t valid mse:  0.3993465997344997\n",
            "Epoch 25  train mse: 0.46645042\t valid mse:  0.3550867417963749\n",
            "Epoch 26  train mse: 0.33814868\t valid mse:  0.36162677041508307\n",
            "Epoch 27  train mse: 0.3465226\t valid mse:  0.34992733286641914\n",
            "Epoch 28  train mse: 0.34444395\t valid mse:  0.35529799088360287\n",
            "Epoch 29  train mse: 0.32469505\t valid mse:  0.34801052159956847\n",
            "Epoch 30  train mse: 0.33243555\t valid mse:  0.3424440448286085\n",
            "Epoch 31  train mse: 0.33825883\t valid mse:  0.3436239981188774\n",
            "Epoch 32  train mse: 0.3356575\t valid mse:  0.3440399523928704\n",
            "Epoch 33  train mse: 0.3251142\t valid mse:  0.3403137388724268\n",
            "Epoch 34  train mse: 0.3289741\t valid mse:  0.33868202218000243\n",
            "Epoch 35  train mse: 0.32447395\t valid mse:  0.337630874431167\n",
            "Epoch 36  train mse: 0.31391323\t valid mse:  0.35049876230511384\n",
            "Epoch 37  train mse: 0.31736386\t valid mse:  0.33899651322043683\n",
            "Epoch 38  train mse: 0.33649015\t valid mse:  0.3443378714241451\n",
            "Epoch 39  train mse: 0.40599173\t valid mse:  0.36679437382289376\n",
            "Epoch 40  train mse: 0.3479323\t valid mse:  0.3556577090447026\n",
            "Epoch 41  train mse: 0.3478056\t valid mse:  0.5523720718980312\n",
            "Epoch 42  train mse: 0.35176694\t valid mse:  0.3985047983019719\n",
            "Epoch 43  train mse: 0.3375324\t valid mse:  0.33756466886048275\n",
            "Epoch 44  train mse: 0.32903868\t valid mse:  0.3570063369719356\n",
            "Epoch 45  train mse: 0.3218353\t valid mse:  0.33492858912080575\n",
            "Epoch 46  train mse: 0.31578928\t valid mse:  0.33345933436757447\n",
            "Epoch 47  train mse: 0.311822\t valid mse:  0.3313206214795688\n",
            "Epoch 48  train mse: 0.3190061\t valid mse:  0.3345939936432689\n",
            "Epoch 49  train mse: 0.30587146\t valid mse:  0.3526818254179163\n",
            "Epoch 50  train mse: 0.32006353\t valid mse:  0.3284097675736209\n",
            "Epoch 51  train mse: 0.32051522\t valid mse:  0.32997084706106794\n",
            "Epoch 52  train mse: 0.47893664\t valid mse:  0.3549311401458275\n",
            "Epoch 53  train mse: 0.31811756\t valid mse:  0.3421255954493866\n",
            "Epoch 54  train mse: 0.32420304\t valid mse:  0.34626984936776944\n",
            "Epoch 55  train mse: 0.32188103\t valid mse:  0.3376150204615742\n",
            "Epoch 56  train mse: 0.3095173\t valid mse:  0.33637729833616226\n",
            "Epoch 57  train mse: 0.317144\t valid mse:  0.3329040448619841\n",
            "Epoch 58  train mse: 0.3150342\t valid mse:  0.33418749961675365\n",
            "Epoch 59  train mse: 0.31121963\t valid mse:  0.33291403986359364\n",
            "Epoch 60  train mse: 0.3141572\t valid mse:  0.329214853067988\n",
            "Epoch 61  train mse: 0.31535622\t valid mse:  0.32823323178567176\n",
            "Epoch 62  train mse: 0.32090354\t valid mse:  0.332358907843006\n",
            "Epoch 63  train mse: 0.31160453\t valid mse:  0.3331022378175953\n",
            "Epoch 64  train mse: 0.30966154\t valid mse:  0.3269571650915891\n",
            "Epoch 65  train mse: 0.31835514\t valid mse:  0.3294172022435879\n",
            "Epoch 66  train mse: 0.3229161\t valid mse:  0.32623767641626844\n",
            "Epoch 67  train mse: 0.2997924\t valid mse:  0.3238493355532075\n",
            "Epoch 68  train mse: 0.30030602\t valid mse:  0.32546498519244704\n",
            "Epoch 69  train mse: 0.3014605\t valid mse:  0.32902372962428794\n",
            "Epoch 70  train mse: 0.3044208\t valid mse:  0.3272264449674735\n",
            "Epoch 71  train mse: 0.31523836\t valid mse:  0.32556358956606823\n",
            "Epoch 72  train mse: 0.31179526\t valid mse:  0.3269183571546752\n",
            "Epoch 73  train mse: 0.30516768\t valid mse:  0.3226638847822181\n",
            "Epoch 74  train mse: 0.30985492\t valid mse:  0.3232851796123953\n",
            "Epoch 75  train mse: 0.31304127\t valid mse:  0.32219247432056775\n",
            "Epoch 76  train mse: 0.34315467\t valid mse:  0.3286228628220022\n",
            "Epoch 77  train mse: 0.30547574\t valid mse:  0.3269751232691345\n",
            "Epoch 78  train mse: 0.29439297\t valid mse:  0.32035076859604444\n",
            "Epoch 79  train mse: 0.31589195\t valid mse:  0.31886092828923157\n",
            "Epoch 80  train mse: 0.31728923\t valid mse:  0.317333327437002\n",
            "Epoch 81  train mse: 0.3168444\t valid mse:  0.3251438783396106\n",
            "Epoch 82  train mse: 0.30209485\t valid mse:  0.3300617862220189\n",
            "Epoch 83  train mse: 0.31276459\t valid mse:  0.32327246019656297\n",
            "Epoch 84  train mse: 0.30183408\t valid mse:  0.3197240059216215\n",
            "Epoch 85  train mse: 0.30691624\t valid mse:  0.32354477056324155\n",
            "Epoch 86  train mse: 0.31722188\t valid mse:  0.32968263843945594\n",
            "Epoch 87  train mse: 0.3080202\t valid mse:  0.3224104926147052\n",
            "Epoch 88  train mse: 0.31213713\t valid mse:  0.3207184455554418\n",
            "Epoch 89  train mse: 0.31420964\t valid mse:  0.31835304816911003\n",
            "Epoch 90  train mse: 0.31204897\t valid mse:  0.3183485520288872\n",
            "Epoch 91  train mse: 0.310927\t valid mse:  0.32161251475610225\n",
            "Epoch 92  train mse: 0.29841822\t valid mse:  0.31886865936916153\n",
            "Epoch 93  train mse: 0.30664814\t valid mse:  0.3198219636383426\n",
            "Epoch 94  train mse: 0.3039297\t valid mse:  0.32561264359324776\n",
            "Epoch 95  train mse: 0.30323374\t valid mse:  0.320935712900029\n",
            "Epoch 96  train mse: 0.30134112\t valid mse:  0.3229098355772219\n",
            "Epoch 97  train mse: 0.3091904\t valid mse:  0.3251546917942136\n",
            "Epoch 98  train mse: 0.30470696\t valid mse:  0.3172135336542057\n",
            "Epoch 99  train mse: 0.3041818\t valid mse:  0.3241265895523606\n"
          ],
          "name": "stdout"
        }
      ]
    },
    {
      "cell_type": "code",
      "metadata": {
        "id": "HDwYhGDSTHc4",
        "colab_type": "code",
        "colab": {}
      },
      "source": [
        ""
      ],
      "execution_count": null,
      "outputs": []
    },
    {
      "cell_type": "code",
      "metadata": {
        "id": "2oHezhhk9xLC",
        "colab_type": "code",
        "colab": {}
      },
      "source": [
        ""
      ],
      "execution_count": 6,
      "outputs": []
    }
  ]
}