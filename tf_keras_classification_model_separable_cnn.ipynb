{
  "nbformat": 4,
  "nbformat_minor": 0,
  "metadata": {
    "kernelspec": {
      "display_name": "Python 3",
      "language": "python",
      "name": "python3"
    },
    "language_info": {
      "codemirror_mode": {
        "name": "ipython",
        "version": 3
      },
      "file_extension": ".py",
      "mimetype": "text/x-python",
      "name": "python",
      "nbconvert_exporter": "python",
      "pygments_lexer": "ipython3",
      "version": "3.6.9"
    },
    "colab": {
      "name": "tf_keras_classification_model-separable_cnn.ipynb",
      "provenance": [],
      "include_colab_link": true
    }
  },
  "cells": [
    {
      "cell_type": "markdown",
      "metadata": {
        "id": "view-in-github",
        "colab_type": "text"
      },
      "source": [
        "<a href=\"https://colab.research.google.com/github/KarlYang2013/tf_study/blob/master/tf_keras_classification_model_separable_cnn.ipynb\" target=\"_parent\"><img src=\"https://colab.research.google.com/assets/colab-badge.svg\" alt=\"Open In Colab\"/></a>"
      ]
    },
    {
      "cell_type": "code",
      "metadata": {
        "id": "iYaCC5H0JfZt",
        "colab_type": "code",
        "colab": {},
        "outputId": "51c8dac4-051f-4d3b-84e6-ebbcc49f98e1"
      },
      "source": [
        "import matplotlib as mpl\n",
        "import matplotlib.pyplot as plt\n",
        "%matplotlib inline\n",
        "import numpy as np\n",
        "import sklearn\n",
        "import pandas as pd\n",
        "import os\n",
        "import sys\n",
        "import time\n",
        "import tensorflow as tf\n",
        "\n",
        "from tensorflow import keras\n",
        "\n",
        "print(tf.__version__)\n",
        "print(sys.version_info)\n",
        "for module in mpl, np, pd, sklearn, tf, keras:\n",
        "    print(module.__name__, module.__version__)\n"
      ],
      "execution_count": null,
      "outputs": [
        {
          "output_type": "stream",
          "text": [
            "2.0.0\n",
            "sys.version_info(major=3, minor=6, micro=9, releaselevel='final', serial=0)\n",
            "matplotlib 3.1.2\n",
            "numpy 1.17.4\n",
            "pandas 0.25.3\n",
            "sklearn 0.21.3\n",
            "tensorflow 2.0.0\n",
            "tensorflow_core.keras 2.2.4-tf\n"
          ],
          "name": "stdout"
        }
      ]
    },
    {
      "cell_type": "code",
      "metadata": {
        "id": "zJTiQR9TJfZz",
        "colab_type": "code",
        "colab": {},
        "outputId": "cd40258e-c574-44e1-c65d-476d5c7f4404"
      },
      "source": [
        "fashion_mnist = keras.datasets.fashion_mnist\n",
        "(x_train_all, y_train_all), (x_test, y_test) = fashion_mnist.load_data()\n",
        "x_valid, x_train = x_train_all[:5000], x_train_all[5000:]\n",
        "y_valid, y_train = y_train_all[:5000], y_train_all[5000:]\n",
        "\n",
        "print(x_valid.shape, y_valid.shape)\n",
        "print(x_train.shape, y_train.shape)\n",
        "print(x_test.shape, y_test.shape)"
      ],
      "execution_count": null,
      "outputs": [
        {
          "output_type": "stream",
          "text": [
            "(5000, 28, 28) (5000,)\n",
            "(55000, 28, 28) (55000,)\n",
            "(10000, 28, 28) (10000,)\n"
          ],
          "name": "stdout"
        }
      ]
    },
    {
      "cell_type": "code",
      "metadata": {
        "id": "XWmI3Br9JfZ2",
        "colab_type": "code",
        "colab": {}
      },
      "source": [
        "from sklearn.preprocessing import StandardScaler\n",
        "\n",
        "scaler = StandardScaler()\n",
        "x_train_scaled = scaler.fit_transform(\n",
        "    x_train.astype(np.float32).reshape(-1, 1)).reshape(-1, 28, 28, 1)\n",
        "x_valid_scaled = scaler.transform(\n",
        "    x_valid.astype(np.float32).reshape(-1, 1)).reshape(-1, 28, 28, 1)\n",
        "x_test_scaled = scaler.transform(\n",
        "    x_test.astype(np.float32).reshape(-1, 1)).reshape(-1, 28, 28, 1)\n"
      ],
      "execution_count": null,
      "outputs": []
    },
    {
      "cell_type": "code",
      "metadata": {
        "id": "Mp0SGpv5JfZ4",
        "colab_type": "code",
        "colab": {}
      },
      "source": [
        "model = keras.models.Sequential()\n",
        "model.add(keras.layers.Conv2D(filters=32, kernel_size=3,\n",
        "                              padding='same',\n",
        "                              activation='selu',\n",
        "                              input_shape=(28, 28, 1)))\n",
        "model.add(keras.layers.SeparableConv2D(filters=32, kernel_size=3,\n",
        "                                       padding='same',\n",
        "                                       activation='selu'))\n",
        "model.add(keras.layers.MaxPool2D(pool_size=2))\n",
        "model.add(keras.layers.SeparableConv2D(filters=64, kernel_size=3,\n",
        "                                       padding='same',\n",
        "                                       activation='selu'))\n",
        "model.add(keras.layers.SeparableConv2D(filters=64, kernel_size=3,\n",
        "                                       padding='same',\n",
        "                                       activation='selu'))\n",
        "model.add(keras.layers.MaxPool2D(pool_size=2))\n",
        "model.add(keras.layers.SeparableConv2D(filters=128, kernel_size=3,\n",
        "                                       padding='same',\n",
        "                                       activation='selu'))\n",
        "model.add(keras.layers.SeparableConv2D(filters=128, kernel_size=3,\n",
        "                                       padding='same',\n",
        "                                       activation='selu'))\n",
        "model.add(keras.layers.MaxPool2D(pool_size=2))\n",
        "model.add(keras.layers.Flatten())\n",
        "model.add(keras.layers.Dense(128, activation='selu'))\n",
        "model.add(keras.layers.Dense(10, activation=\"softmax\"))\n",
        "\n",
        "model.compile(loss=\"sparse_categorical_crossentropy\",\n",
        "              optimizer = \"sgd\",\n",
        "              metrics = [\"accuracy\"])"
      ],
      "execution_count": null,
      "outputs": []
    },
    {
      "cell_type": "code",
      "metadata": {
        "id": "5dz7KNnCJfZ7",
        "colab_type": "code",
        "colab": {},
        "outputId": "84ef24b2-c3d8-4f17-eca6-957d7d475e63"
      },
      "source": [
        "model.summary()"
      ],
      "execution_count": null,
      "outputs": [
        {
          "output_type": "stream",
          "text": [
            "Model: \"sequential\"\n",
            "_________________________________________________________________\n",
            "Layer (type)                 Output Shape              Param #   \n",
            "=================================================================\n",
            "conv2d (Conv2D)              (None, 28, 28, 32)        320       \n",
            "_________________________________________________________________\n",
            "separable_conv2d (SeparableC (None, 28, 28, 32)        1344      \n",
            "_________________________________________________________________\n",
            "max_pooling2d (MaxPooling2D) (None, 14, 14, 32)        0         \n",
            "_________________________________________________________________\n",
            "separable_conv2d_1 (Separabl (None, 14, 14, 64)        2400      \n",
            "_________________________________________________________________\n",
            "separable_conv2d_2 (Separabl (None, 14, 14, 64)        4736      \n",
            "_________________________________________________________________\n",
            "max_pooling2d_1 (MaxPooling2 (None, 7, 7, 64)          0         \n",
            "_________________________________________________________________\n",
            "separable_conv2d_3 (Separabl (None, 7, 7, 128)         8896      \n",
            "_________________________________________________________________\n",
            "separable_conv2d_4 (Separabl (None, 7, 7, 128)         17664     \n",
            "_________________________________________________________________\n",
            "max_pooling2d_2 (MaxPooling2 (None, 3, 3, 128)         0         \n",
            "_________________________________________________________________\n",
            "flatten (Flatten)            (None, 1152)              0         \n",
            "_________________________________________________________________\n",
            "dense (Dense)                (None, 128)               147584    \n",
            "_________________________________________________________________\n",
            "dense_1 (Dense)              (None, 10)                1290      \n",
            "=================================================================\n",
            "Total params: 184,234\n",
            "Trainable params: 184,234\n",
            "Non-trainable params: 0\n",
            "_________________________________________________________________\n"
          ],
          "name": "stdout"
        }
      ]
    },
    {
      "cell_type": "code",
      "metadata": {
        "id": "j9Cn214yJfZ9",
        "colab_type": "code",
        "colab": {},
        "outputId": "62e09e80-e893-4fe9-fec4-89c734256486"
      },
      "source": [
        "logdir = './separable-cnn-selu-callbacks'\n",
        "if not os.path.exists(logdir):\n",
        "    os.mkdir(logdir)\n",
        "output_model_file = os.path.join(logdir,\n",
        "                                 \"fashion_mnist_model.h5\")\n",
        "\n",
        "callbacks = [\n",
        "    keras.callbacks.TensorBoard(logdir),\n",
        "    keras.callbacks.ModelCheckpoint(output_model_file,\n",
        "                                    save_best_only = True),\n",
        "    keras.callbacks.EarlyStopping(patience=5, min_delta=1e-3),\n",
        "]\n",
        "history = model.fit(x_train_scaled, y_train, epochs=10,\n",
        "                    validation_data=(x_valid_scaled, y_valid),\n",
        "                    callbacks = callbacks)"
      ],
      "execution_count": null,
      "outputs": [
        {
          "output_type": "stream",
          "text": [
            "Train on 55000 samples, validate on 5000 samples\n",
            "Epoch 1/10\n",
            "   32/55000 [..............................] - ETA: 1:51:05 - loss: 2.3027 - accuracy: 0.0312WARNING:tensorflow:Method (on_train_batch_end) is slow compared to the batch update (0.290477). Check your callbacks.\n",
            "55000/55000 [==============================] - 13s 235us/sample - loss: 2.3028 - accuracy: 0.1034 - val_loss: 2.3014 - val_accuracy: 0.0986\n",
            "Epoch 2/10\n",
            "55000/55000 [==============================] - 9s 158us/sample - loss: 2.1139 - accuracy: 0.2202 - val_loss: 1.0229 - val_accuracy: 0.6126\n",
            "Epoch 3/10\n",
            "55000/55000 [==============================] - 9s 158us/sample - loss: 0.7974 - accuracy: 0.6990 - val_loss: 0.6952 - val_accuracy: 0.7324\n",
            "Epoch 4/10\n",
            "55000/55000 [==============================] - 9s 159us/sample - loss: 0.6599 - accuracy: 0.7501 - val_loss: 0.6082 - val_accuracy: 0.7672\n",
            "Epoch 5/10\n",
            "55000/55000 [==============================] - 9s 160us/sample - loss: 0.5776 - accuracy: 0.7835 - val_loss: 0.5294 - val_accuracy: 0.8042\n",
            "Epoch 6/10\n",
            "55000/55000 [==============================] - 9s 164us/sample - loss: 0.5215 - accuracy: 0.8069 - val_loss: 0.5053 - val_accuracy: 0.8120\n",
            "Epoch 7/10\n",
            "55000/55000 [==============================] - 9s 159us/sample - loss: 0.4806 - accuracy: 0.8228 - val_loss: 0.4634 - val_accuracy: 0.8384\n",
            "Epoch 8/10\n",
            "55000/55000 [==============================] - 9s 158us/sample - loss: 0.4516 - accuracy: 0.8328 - val_loss: 0.4756 - val_accuracy: 0.8292\n",
            "Epoch 9/10\n",
            "55000/55000 [==============================] - 9s 158us/sample - loss: 0.4281 - accuracy: 0.8428 - val_loss: 0.4126 - val_accuracy: 0.8508\n",
            "Epoch 10/10\n",
            "55000/55000 [==============================] - 9s 157us/sample - loss: 0.4074 - accuracy: 0.8497 - val_loss: 0.4259 - val_accuracy: 0.8550\n"
          ],
          "name": "stdout"
        }
      ]
    },
    {
      "cell_type": "code",
      "metadata": {
        "id": "NSiYD-hjJfaA",
        "colab_type": "code",
        "colab": {},
        "outputId": "409d35e1-5e2d-4b10-de99-52be3332440a"
      },
      "source": [
        "def plot_learning_curves(history):\n",
        "    pd.DataFrame(history.history).plot(figsize=(8, 5))\n",
        "    plt.grid(True)\n",
        "    plt.gca().set_ylim(0, 3)\n",
        "    plt.show()\n",
        "\n",
        "plot_learning_curves(history)"
      ],
      "execution_count": null,
      "outputs": [
        {
          "output_type": "display_data",
          "data": {
            "image/png": "[encoded data removed]",
            "text/plain": [
              "<Figure size 576x360 with 1 Axes>"
            ]
          },
          "metadata": {
            "tags": [],
            "needs_background": "light"
          }
        }
      ]
    },
    {
      "cell_type": "code",
      "metadata": {
        "id": "yKDNXeo3JfaC",
        "colab_type": "code",
        "colab": {},
        "outputId": "d56acd49-7081-4444-d81b-72b332d661b5"
      },
      "source": [
        "model.evaluate(x_test_scaled, y_test, verbose = 0)"
      ],
      "execution_count": null,
      "outputs": [
        {
          "output_type": "execute_result",
          "data": {
            "text/plain": [
              "[0.4578904517889023, 0.8374]"
            ]
          },
          "metadata": {
            "tags": []
          },
          "execution_count": 8
        }
      ]
    },
    {
      "cell_type": "code",
      "metadata": {
        "id": "awpzBUitJfaF",
        "colab_type": "code",
        "colab": {}
      },
      "source": [
        ""
      ],
      "execution_count": null,
      "outputs": []
    }
  ]
}