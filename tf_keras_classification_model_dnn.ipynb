{
  "nbformat": 4,
  "nbformat_minor": 0,
  "metadata": {
    "colab": {
      "name": "tf_keras_classification_model-dnn.ipynb",
      "provenance": [],
      "authorship_tag": "ABX9TyOt1F86iAE/uebecAkvBTr+",
      "include_colab_link": true
    },
    "kernelspec": {
      "name": "python3",
      "display_name": "Python 3"
    }
  },
  "cells": [
    {
      "cell_type": "markdown",
      "metadata": {
        "id": "view-in-github",
        "colab_type": "text"
      },
      "source": [
        "<a href=\"https://colab.research.google.com/github/KarlYang2013/tf_study/blob/master/tf_keras_classification_model_dnn.ipynb\" target=\"_parent\"><img src=\"https://colab.research.google.com/assets/colab-badge.svg\" alt=\"Open In Colab\"/></a>"
      ]
    },
    {
      "cell_type": "code",
      "metadata": {
        "id": "BOy11Qinuv6z",
        "colab_type": "code",
        "colab": {
          "base_uri": "https://localhost:8080/",
          "height": 646
        },
        "outputId": "309f98fa-49b3-4275-9a87-d554a2c3abf7"
      },
      "source": [
        "import matplotlib as mpl\n",
        "import matplotlib.pyplot as plt\n",
        "#%开头这样确保可以在notebook中使用matplotlib\n",
        "%matplotlib inline\n",
        "import numpy as np \n",
        "import pandas as pd\n",
        "import sklearn\n",
        "import os \n",
        "import sys\n",
        "import time\n",
        "import tensorflow as tf\n",
        "from tensorflow import keras\n",
        "\n",
        "print(tf.__version__)\n",
        "print(sys.version_info)\n",
        "for module in mpl, np, pd, sklearn, tf, keras:\n",
        "    print(module.__name__, module.__version__)\n",
        "#查看有哪些数据集 目前有7个\n",
        "help(keras.datasets)\n",
        "fashion_minist = keras.datasets.fashion_mnist\n",
        "(x_train_all,y_train_all),(x_test,y_test) = fashion_minist.load_data()\n",
        "#训练集再拆成校验集合和训练集合\n",
        "x_valid,x_train = x_train_all[:5000],x_train_all[5000:]\n",
        "y_valid,y_train = y_train_all[:5000],y_train_all[5000:]\n",
        "print(x_valid.shape,y_valid.shape)\n",
        "print(x_train.shape,y_train.shape)\n",
        "print(x_test.shape,y_test.shape)"
      ],
      "execution_count": 1,
      "outputs": [
        {
          "output_type": "stream",
          "text": [
            "2.2.0\n",
            "sys.version_info(major=3, minor=6, micro=9, releaselevel='final', serial=0)\n",
            "matplotlib 3.2.2\n",
            "numpy 1.18.5\n",
            "pandas 1.0.5\n",
            "sklearn 0.22.2.post1\n",
            "tensorflow 2.2.0\n",
            "tensorflow.keras 2.3.0-tf\n",
            "Help on package tensorflow.keras.datasets in tensorflow.keras:\n",
            "\n",
            "NAME\n",
            "    tensorflow.keras.datasets - Public API for tf.keras.datasets namespace.\n",
            "\n",
            "PACKAGE CONTENTS\n",
            "    boston_housing (package)\n",
            "    cifar10 (package)\n",
            "    cifar100 (package)\n",
            "    fashion_mnist (package)\n",
            "    imdb (package)\n",
            "    mnist (package)\n",
            "    reuters (package)\n",
            "\n",
            "FILE\n",
            "    /usr/local/lib/python3.6/dist-packages/tensorflow/keras/datasets/__init__.py\n",
            "\n",
            "\n",
            "Downloading data from https://storage.googleapis.com/tensorflow/tf-keras-datasets/train-labels-idx1-ubyte.gz\n",
            "32768/29515 [=================================] - 0s 0us/step\n",
            "Downloading data from https://storage.googleapis.com/tensorflow/tf-keras-datasets/train-images-idx3-ubyte.gz\n",
            "26427392/26421880 [==============================] - 0s 0us/step\n",
            "Downloading data from https://storage.googleapis.com/tensorflow/tf-keras-datasets/t10k-labels-idx1-ubyte.gz\n",
            "8192/5148 [===============================================] - 0s 0us/step\n",
            "Downloading data from https://storage.googleapis.com/tensorflow/tf-keras-datasets/t10k-images-idx3-ubyte.gz\n",
            "4423680/4422102 [==============================] - 0s 0us/step\n",
            "(5000, 28, 28) (5000,)\n",
            "(55000, 28, 28) (55000,)\n",
            "(10000, 28, 28) (10000,)\n"
          ],
          "name": "stdout"
        }
      ]
    },
    {
      "cell_type": "code",
      "metadata": {
        "id": "a_TvlBYh8rPB",
        "colab_type": "code",
        "colab": {}
      },
      "source": [
        ""
      ],
      "execution_count": 1,
      "outputs": []
    },
    {
      "cell_type": "markdown",
      "metadata": {
        "id": "YAbqRl2_8If-",
        "colab_type": "text"
      },
      "source": [
        "# 新段落"
      ]
    },
    {
      "cell_type": "code",
      "metadata": {
        "id": "kaiiYw3q-uos",
        "colab_type": "code",
        "colab": {
          "base_uri": "https://localhost:8080/",
          "height": 34
        },
        "outputId": "b94a5ebe-b8c6-4383-9ee2-fab37af0a9fc"
      },
      "source": [
        "print(np.max(x_train), np.min(x_train))"
      ],
      "execution_count": 2,
      "outputs": [
        {
          "output_type": "stream",
          "text": [
            "255 0\n"
          ],
          "name": "stdout"
        }
      ]
    },
    {
      "cell_type": "code",
      "metadata": {
        "id": "l7TKn-8w_E7b",
        "colab_type": "code",
        "colab": {}
      },
      "source": [
        "#标准化处理 x = (x - u) / std\n",
        "from sklearn.preprocessing import StandardScaler\n",
        "scaler = StandardScaler()#创建对象\n",
        "# x_train: [None, 28, 28] -> [None, 784]\n",
        "x_train_scaled = scaler.fit_transform(\n",
        "    x_train.astype(np.float32).reshape(-1,1)).reshape(-1, 28, 28)\n",
        "x_valid_scaled = scaler.transform(\n",
        "    x_valid.astype(np.float32).reshape(-1, 1)).reshape(-1, 28, 28)\n",
        "x_test_scaled = scaler.transform(\n",
        "    x_test.astype(np.float32).reshape(-1, 1)).reshape(-1, 28, 28)"
      ],
      "execution_count": 3,
      "outputs": []
    },
    {
      "cell_type": "code",
      "metadata": {
        "id": "rp39-VhN_tWv",
        "colab_type": "code",
        "colab": {
          "base_uri": "https://localhost:8080/",
          "height": 34
        },
        "outputId": "40d38d6a-2ee2-4342-d18c-3fcb5d415011"
      },
      "source": [
        "print(np.max(x_train_scaled),np.min(x_train_scaled))"
      ],
      "execution_count": 4,
      "outputs": [
        {
          "output_type": "stream",
          "text": [
            "2.0231433 -0.8105136\n"
          ],
          "name": "stdout"
        }
      ]
    },
    {
      "cell_type": "code",
      "metadata": {
        "id": "cISWWweohAz5",
        "colab_type": "code",
        "colab": {}
      },
      "source": [
        "#tf.keras.Sequential()使用\n",
        "model = keras.models.Sequential()\n",
        "model.add(keras.layers.Flatten(input_shape = [28, 28]))#Flatten把数据展平方便输入神经网络\n",
        "#添加20层的网络，激活函数都是reluctant\n",
        "for _ in range(20):\n",
        "    model.add(keras.layers.Dense(100, activation=\"relu\"))\n",
        "model.add(keras.layers.Dense(10, activation=\"softmax\"))#最后加一个softmax\n",
        "\n",
        "#损失函数和优化器设置\n",
        "model.compile(loss=\"sparse_categorical_crossentropy\",\n",
        "              #optimizer = keras.optimizers.Adagrad(0.001),\n",
        "              optimizer = keras.optimizers.SGD(0.001),\n",
        "              metrics = [\"accuracy\"])"
      ],
      "execution_count": 5,
      "outputs": []
    },
    {
      "cell_type": "code",
      "metadata": {
        "id": "8j20GnkOjtJs",
        "colab_type": "code",
        "colab": {
          "base_uri": "https://localhost:8080/",
          "height": 391
        },
        "outputId": "a754df40-f1f3-49f9-acc2-4751c07b0c1d"
      },
      "source": [
        "model.layers"
      ],
      "execution_count": 6,
      "outputs": [
        {
          "output_type": "execute_result",
          "data": {
            "text/plain": [
              "[<tensorflow.python.keras.layers.core.Flatten at 0x7f25bbb2ab38>,\n",
              " <tensorflow.python.keras.layers.core.Dense at 0x7f25bbad7208>,\n",
              " <tensorflow.python.keras.layers.core.Dense at 0x7f25bbad78d0>,\n",
              " <tensorflow.python.keras.layers.core.Dense at 0x7f25bbb2a978>,\n",
              " <tensorflow.python.keras.layers.core.Dense at 0x7f25bbb2a908>,\n",
              " <tensorflow.python.keras.layers.core.Dense at 0x7f25bbad7b00>,\n",
              " <tensorflow.python.keras.layers.core.Dense at 0x7f25bb28ef98>,\n",
              " <tensorflow.python.keras.layers.core.Dense at 0x7f25bb2a6da0>,\n",
              " <tensorflow.python.keras.layers.core.Dense at 0x7f25bb2b0be0>,\n",
              " <tensorflow.python.keras.layers.core.Dense at 0x7f25b557ba20>,\n",
              " <tensorflow.python.keras.layers.core.Dense at 0x7f25b5583860>,\n",
              " <tensorflow.python.keras.layers.core.Dense at 0x7f25b558b6a0>,\n",
              " <tensorflow.python.keras.layers.core.Dense at 0x7f25b5591588>,\n",
              " <tensorflow.python.keras.layers.core.Dense at 0x7f25b5591550>,\n",
              " <tensorflow.python.keras.layers.core.Dense at 0x7f25bbad7c50>,\n",
              " <tensorflow.python.keras.layers.core.Dense at 0x7f25b55a1f28>,\n",
              " <tensorflow.python.keras.layers.core.Dense at 0x7f25b55a6ef0>,\n",
              " <tensorflow.python.keras.layers.core.Dense at 0x7f25b55aeb38>,\n",
              " <tensorflow.python.keras.layers.core.Dense at 0x7f25b5538908>,\n",
              " <tensorflow.python.keras.layers.core.Dense at 0x7f25b553f6a0>,\n",
              " <tensorflow.python.keras.layers.core.Dense at 0x7f25b553f7b8>,\n",
              " <tensorflow.python.keras.layers.core.Dense at 0x7f25b5544fd0>]"
            ]
          },
          "metadata": {
            "tags": []
          },
          "execution_count": 6
        }
      ]
    },
    {
      "cell_type": "code",
      "metadata": {
        "id": "mPSontCkklNW",
        "colab_type": "code",
        "colab": {
          "base_uri": "https://localhost:8080/",
          "height": 901
        },
        "outputId": "71747aba-b840-44a9-dafb-d644fa21273c"
      },
      "source": [
        "#查看layer的shape 参数的总数等\n",
        "model.summary()"
      ],
      "execution_count": 7,
      "outputs": [
        {
          "output_type": "stream",
          "text": [
            "Model: \"sequential\"\n",
            "_________________________________________________________________\n",
            "Layer (type)                 Output Shape              Param #   \n",
            "=================================================================\n",
            "flatten (Flatten)            (None, 784)               0         \n",
            "_________________________________________________________________\n",
            "dense (Dense)                (None, 100)               78500     \n",
            "_________________________________________________________________\n",
            "dense_1 (Dense)              (None, 100)               10100     \n",
            "_________________________________________________________________\n",
            "dense_2 (Dense)              (None, 100)               10100     \n",
            "_________________________________________________________________\n",
            "dense_3 (Dense)              (None, 100)               10100     \n",
            "_________________________________________________________________\n",
            "dense_4 (Dense)              (None, 100)               10100     \n",
            "_________________________________________________________________\n",
            "dense_5 (Dense)              (None, 100)               10100     \n",
            "_________________________________________________________________\n",
            "dense_6 (Dense)              (None, 100)               10100     \n",
            "_________________________________________________________________\n",
            "dense_7 (Dense)              (None, 100)               10100     \n",
            "_________________________________________________________________\n",
            "dense_8 (Dense)              (None, 100)               10100     \n",
            "_________________________________________________________________\n",
            "dense_9 (Dense)              (None, 100)               10100     \n",
            "_________________________________________________________________\n",
            "dense_10 (Dense)             (None, 100)               10100     \n",
            "_________________________________________________________________\n",
            "dense_11 (Dense)             (None, 100)               10100     \n",
            "_________________________________________________________________\n",
            "dense_12 (Dense)             (None, 100)               10100     \n",
            "_________________________________________________________________\n",
            "dense_13 (Dense)             (None, 100)               10100     \n",
            "_________________________________________________________________\n",
            "dense_14 (Dense)             (None, 100)               10100     \n",
            "_________________________________________________________________\n",
            "dense_15 (Dense)             (None, 100)               10100     \n",
            "_________________________________________________________________\n",
            "dense_16 (Dense)             (None, 100)               10100     \n",
            "_________________________________________________________________\n",
            "dense_17 (Dense)             (None, 100)               10100     \n",
            "_________________________________________________________________\n",
            "dense_18 (Dense)             (None, 100)               10100     \n",
            "_________________________________________________________________\n",
            "dense_19 (Dense)             (None, 100)               10100     \n",
            "_________________________________________________________________\n",
            "dense_20 (Dense)             (None, 10)                1010      \n",
            "=================================================================\n",
            "Total params: 271,410\n",
            "Trainable params: 271,410\n",
            "Non-trainable params: 0\n",
            "_________________________________________________________________\n"
          ],
          "name": "stdout"
        }
      ]
    },
    {
      "cell_type": "code",
      "metadata": {
        "id": "ob4dG-UZk0Sb",
        "colab_type": "code",
        "colab": {
          "base_uri": "https://localhost:8080/",
          "height": 1000
        },
        "outputId": "a87c6820-6977-48f9-e199-1ea4f9048189"
      },
      "source": [
        "#训练模型 可以通过参数validation_split划分比例直接将训练集和中的部分样本作为验证集\n",
        "#也可以通过参数validation_data传入验证集\n",
        "logdir = './ddn_callbacks'\n",
        "if not os.path.exists(logdir):\n",
        "    os.mkdir(logdir)\n",
        "output_model_file = os.path.join(logdir,\n",
        "                                 \"fashion_mnist_model.h5\")\n",
        "#用一个list把callbacks放在一起\n",
        "callbacks = [\n",
        "    keras.callbacks.TensorBoard(logdir),\n",
        "    keras.callbacks.ModelCheckpoint(output_model_file,\n",
        "                                    save_best_only = True),\n",
        "    keras.callbacks.EarlyStopping(patience=5, min_delta=1e-3),\n",
        "]\n",
        "history = model.fit(x = x_train_scaled,y = y_train, validation_data = (x_valid_scaled, y_valid),epochs = 30, callbacks = callbacks )"
      ],
      "execution_count": 9,
      "outputs": [
        {
          "output_type": "stream",
          "text": [
            "Epoch 1/30\n",
            "1719/1719 [==============================] - 9s 5ms/step - loss: 2.3001 - accuracy: 0.1947 - val_loss: 2.2981 - val_accuracy: 0.2388\n",
            "Epoch 2/30\n",
            "1719/1719 [==============================] - 8s 5ms/step - loss: 2.2957 - accuracy: 0.2361 - val_loss: 2.2915 - val_accuracy: 0.2228\n",
            "Epoch 3/30\n",
            "1719/1719 [==============================] - 8s 5ms/step - loss: 2.2866 - accuracy: 0.2209 - val_loss: 2.2786 - val_accuracy: 0.2068\n",
            "Epoch 4/30\n",
            "1719/1719 [==============================] - 8s 5ms/step - loss: 2.2691 - accuracy: 0.2035 - val_loss: 2.2532 - val_accuracy: 0.2124\n",
            "Epoch 5/30\n",
            "1719/1719 [==============================] - 8s 5ms/step - loss: 2.2321 - accuracy: 0.2035 - val_loss: 2.1964 - val_accuracy: 0.2130\n",
            "Epoch 6/30\n",
            "1719/1719 [==============================] - 9s 5ms/step - loss: 2.1428 - accuracy: 0.2074 - val_loss: 2.0558 - val_accuracy: 0.2232\n",
            "Epoch 7/30\n",
            "1719/1719 [==============================] - 8s 5ms/step - loss: 1.9347 - accuracy: 0.2281 - val_loss: 1.7481 - val_accuracy: 0.2826\n",
            "Epoch 8/30\n",
            "1719/1719 [==============================] - 9s 5ms/step - loss: 1.5494 - accuracy: 0.4067 - val_loss: 1.2895 - val_accuracy: 0.4936\n",
            "Epoch 9/30\n",
            "1719/1719 [==============================] - 8s 5ms/step - loss: 1.1892 - accuracy: 0.5532 - val_loss: 1.0728 - val_accuracy: 0.5736\n",
            "Epoch 10/30\n",
            "1719/1719 [==============================] - 8s 5ms/step - loss: 0.9411 - accuracy: 0.6425 - val_loss: 0.8104 - val_accuracy: 0.7040\n",
            "Epoch 11/30\n",
            "1719/1719 [==============================] - 9s 5ms/step - loss: 0.8183 - accuracy: 0.6842 - val_loss: 0.7798 - val_accuracy: 0.6914\n",
            "Epoch 12/30\n",
            "1719/1719 [==============================] - 8s 5ms/step - loss: 0.7425 - accuracy: 0.7136 - val_loss: 0.6786 - val_accuracy: 0.7268\n",
            "Epoch 13/30\n",
            "1719/1719 [==============================] - 10s 6ms/step - loss: 0.6870 - accuracy: 0.7347 - val_loss: 0.6735 - val_accuracy: 0.7448\n",
            "Epoch 14/30\n",
            "1719/1719 [==============================] - 8s 5ms/step - loss: 0.6390 - accuracy: 0.7564 - val_loss: 0.6072 - val_accuracy: 0.7790\n",
            "Epoch 15/30\n",
            "1719/1719 [==============================] - 8s 5ms/step - loss: 0.5998 - accuracy: 0.7727 - val_loss: 0.6385 - val_accuracy: 0.7606\n",
            "Epoch 16/30\n",
            "1719/1719 [==============================] - 8s 5ms/step - loss: 0.5683 - accuracy: 0.7856 - val_loss: 0.5493 - val_accuracy: 0.7960\n",
            "Epoch 17/30\n",
            "1719/1719 [==============================] - 8s 5ms/step - loss: 0.5433 - accuracy: 0.7963 - val_loss: 0.5297 - val_accuracy: 0.8096\n",
            "Epoch 18/30\n",
            "1719/1719 [==============================] - 8s 5ms/step - loss: 0.5204 - accuracy: 0.8085 - val_loss: 0.5223 - val_accuracy: 0.8164\n",
            "Epoch 19/30\n",
            "1719/1719 [==============================] - 9s 5ms/step - loss: 0.4927 - accuracy: 0.8231 - val_loss: 0.5099 - val_accuracy: 0.8226\n",
            "Epoch 20/30\n",
            "1719/1719 [==============================] - 9s 5ms/step - loss: 0.4687 - accuracy: 0.8355 - val_loss: 0.4855 - val_accuracy: 0.8356\n",
            "Epoch 21/30\n",
            "1719/1719 [==============================] - 8s 5ms/step - loss: 0.4471 - accuracy: 0.8434 - val_loss: 0.4729 - val_accuracy: 0.8332\n",
            "Epoch 22/30\n",
            "1719/1719 [==============================] - 8s 5ms/step - loss: 0.4296 - accuracy: 0.8481 - val_loss: 0.4530 - val_accuracy: 0.8466\n",
            "Epoch 23/30\n",
            "1719/1719 [==============================] - 8s 5ms/step - loss: 0.4148 - accuracy: 0.8530 - val_loss: 0.4435 - val_accuracy: 0.8458\n",
            "Epoch 24/30\n",
            "1719/1719 [==============================] - 8s 5ms/step - loss: 0.4017 - accuracy: 0.8576 - val_loss: 0.4364 - val_accuracy: 0.8522\n",
            "Epoch 25/30\n",
            "1719/1719 [==============================] - 9s 5ms/step - loss: 0.3889 - accuracy: 0.8627 - val_loss: 0.4440 - val_accuracy: 0.8476\n",
            "Epoch 26/30\n",
            "1719/1719 [==============================] - 8s 5ms/step - loss: 0.3785 - accuracy: 0.8670 - val_loss: 0.4258 - val_accuracy: 0.8534\n",
            "Epoch 27/30\n",
            "1719/1719 [==============================] - 8s 5ms/step - loss: 0.3705 - accuracy: 0.8699 - val_loss: 0.4362 - val_accuracy: 0.8528\n",
            "Epoch 28/30\n",
            "1719/1719 [==============================] - 8s 5ms/step - loss: 0.3615 - accuracy: 0.8721 - val_loss: 0.4194 - val_accuracy: 0.8582\n",
            "Epoch 29/30\n",
            "1719/1719 [==============================] - 8s 5ms/step - loss: 0.3516 - accuracy: 0.8758 - val_loss: 0.4026 - val_accuracy: 0.8646\n",
            "Epoch 30/30\n",
            "1719/1719 [==============================] - 8s 5ms/step - loss: 0.3467 - accuracy: 0.8771 - val_loss: 0.4909 - val_accuracy: 0.8280\n"
          ],
          "name": "stdout"
        }
      ]
    },
    {
      "cell_type": "code",
      "metadata": {
        "id": "1gJiDgUlm5qT",
        "colab_type": "code",
        "colab": {}
      },
      "source": [
        "print(type(history))\n",
        "print(history.history)"
      ],
      "execution_count": null,
      "outputs": []
    },
    {
      "cell_type": "code",
      "metadata": {
        "id": "7p9F1XfGmxiX",
        "colab_type": "code",
        "colab": {
          "base_uri": "https://localhost:8080/",
          "height": 324
        },
        "outputId": "76e4e766-6135-4a6f-a1bc-aec3582e4012"
      },
      "source": [
        "#可视化学习曲线\n",
        "def plot_learning_curves(history):\n",
        "    pd.DataFrame(history.history).plot(figsize=(8, 5))\n",
        "    plt.grid(True)\n",
        "    plt.gca().set_ylim(0, 1)\n",
        "    plt.show()\n",
        "\n",
        "#深层DNN前期loss下降慢的可能原因：\n",
        "# 1. 参数众多，训练不充分，所以前期基本不变\n",
        "# 2. 梯度消失 -> 链式法则 -> 复合函数f(g(x)) --可以加上批归一化来缓解\n",
        "plot_learning_curves(history)"
      ],
      "execution_count": 10,
      "outputs": [
        {
          "output_type": "display_data",
          "data": {
            "image/png": "[encoded data removed]",
            "text/plain": [
              "<Figure size 576x360 with 1 Axes>"
            ]
          },
          "metadata": {
            "tags": [],
            "needs_background": "light"
          }
        }
      ]
    },
    {
      "cell_type": "code",
      "metadata": {
        "id": "yWZn-3R1ndQx",
        "colab_type": "code",
        "colab": {}
      },
      "source": [
        "#评估\n",
        "model.evaluate(x_test_scaled, y_test, verbose = 1)"
      ],
      "execution_count": null,
      "outputs": []
    }
  ]
}