{
  "nbformat": 4,
  "nbformat_minor": 0,
  "metadata": {
    "kernelspec": {
      "display_name": "Python 3",
      "language": "python",
      "name": "python3"
    },
    "language_info": {
      "codemirror_mode": {
        "name": "ipython",
        "version": 3
      },
      "file_extension": ".py",
      "mimetype": "text/x-python",
      "name": "python",
      "nbconvert_exporter": "python",
      "pygments_lexer": "ipython3",
      "version": "3.7.3"
    },
    "colab": {
      "name": "tf_keras_to_estimator.ipynb",
      "provenance": [],
      "include_colab_link": true
    }
  },
  "cells": [
    {
      "cell_type": "markdown",
      "metadata": {
        "id": "view-in-github",
        "colab_type": "text"
      },
      "source": [
        "<a href=\"https://colab.research.google.com/github/KarlYang2013/tf_study/blob/master/tf_keras_to_estimator.ipynb\" target=\"_parent\"><img src=\"https://colab.research.google.com/assets/colab-badge.svg\" alt=\"Open In Colab\"/></a>"
      ]
    },
    {
      "cell_type": "code",
      "metadata": {
        "id": "2KqdWIjTrBXC",
        "colab_type": "code",
        "colab": {},
        "outputId": "56667c80-4b0c-4d35-cbb5-66b70cbb1f88"
      },
      "source": [
        "import matplotlib as mpl\n",
        "import matplotlib.pyplot as plt\n",
        "%matplotlib inline\n",
        "import numpy as np\n",
        "import sklearn\n",
        "import pandas as pd\n",
        "import os\n",
        "import sys\n",
        "import time\n",
        "import tensorflow as tf\n",
        "\n",
        "from tensorflow import keras\n",
        "\n",
        "print(tf.__version__)\n",
        "print(sys.version_info)\n",
        "for module in mpl, np, pd, sklearn, tf, keras:\n",
        "    print(module.__name__, module.__version__)"
      ],
      "execution_count": null,
      "outputs": [
        {
          "output_type": "stream",
          "text": [
            "2.0.0\n",
            "sys.version_info(major=3, minor=7, micro=3, releaselevel='final', serial=0)\n",
            "matplotlib 3.1.1\n",
            "numpy 1.17.3\n",
            "pandas 0.25.3\n",
            "sklearn 0.21.3\n",
            "tensorflow 2.0.0\n",
            "tensorflow_core.keras 2.2.4-tf\n"
          ],
          "name": "stdout"
        }
      ]
    },
    {
      "cell_type": "code",
      "metadata": {
        "id": "UmOjndWgrBXI",
        "colab_type": "code",
        "colab": {},
        "outputId": "f759e839-c4f2-4ecd-c7c6-b233353a5212"
      },
      "source": [
        "# https://storage.googleapis.com/tf-datasets/titanic/train.csv\n",
        "# https://storage.googleapis.com/tf-datasets/titanic/eval.csv\n",
        "train_file = \"./data/titanic/train.csv\"\n",
        "eval_file = \"./data/titanic/eval.csv\"\n",
        "\n",
        "train_df = pd.read_csv(train_file)\n",
        "eval_df = pd.read_csv(eval_file)\n",
        "\n",
        "print(train_df.head())\n",
        "print(eval_df.head())"
      ],
      "execution_count": null,
      "outputs": [
        {
          "output_type": "stream",
          "text": [
            "   survived     sex   age  n_siblings_spouses  parch     fare  class     deck  \\\n",
            "0         0    male  22.0                   1      0   7.2500  Third  unknown   \n",
            "1         1  female  38.0                   1      0  71.2833  First        C   \n",
            "2         1  female  26.0                   0      0   7.9250  Third  unknown   \n",
            "3         1  female  35.0                   1      0  53.1000  First        C   \n",
            "4         0    male  28.0                   0      0   8.4583  Third  unknown   \n",
            "\n",
            "   embark_town alone  \n",
            "0  Southampton     n  \n",
            "1    Cherbourg     n  \n",
            "2  Southampton     y  \n",
            "3  Southampton     n  \n",
            "4   Queenstown     y  \n",
            "   survived     sex   age  n_siblings_spouses  parch     fare   class  \\\n",
            "0         0    male  35.0                   0      0   8.0500   Third   \n",
            "1         0    male  54.0                   0      0  51.8625   First   \n",
            "2         1  female  58.0                   0      0  26.5500   First   \n",
            "3         1  female  55.0                   0      0  16.0000  Second   \n",
            "4         1    male  34.0                   0      0  13.0000  Second   \n",
            "\n",
            "      deck  embark_town alone  \n",
            "0  unknown  Southampton     y  \n",
            "1        E  Southampton     y  \n",
            "2        C  Southampton     y  \n",
            "3  unknown  Southampton     y  \n",
            "4        D  Southampton     y  \n"
          ],
          "name": "stdout"
        }
      ]
    },
    {
      "cell_type": "code",
      "metadata": {
        "id": "dcG7A15RrBXL",
        "colab_type": "code",
        "colab": {},
        "outputId": "b1f26659-1da1-48e5-c4b7-e0351e48e9c3"
      },
      "source": [
        "y_train = train_df.pop('survived')\n",
        "y_eval = eval_df.pop('survived')\n",
        "\n",
        "print(train_df.head())\n",
        "print(eval_df.head())\n",
        "print(y_train.head())\n",
        "print(y_eval.head())"
      ],
      "execution_count": null,
      "outputs": [
        {
          "output_type": "stream",
          "text": [
            "      sex   age  n_siblings_spouses  parch     fare  class     deck  \\\n",
            "0    male  22.0                   1      0   7.2500  Third  unknown   \n",
            "1  female  38.0                   1      0  71.2833  First        C   \n",
            "2  female  26.0                   0      0   7.9250  Third  unknown   \n",
            "3  female  35.0                   1      0  53.1000  First        C   \n",
            "4    male  28.0                   0      0   8.4583  Third  unknown   \n",
            "\n",
            "   embark_town alone  \n",
            "0  Southampton     n  \n",
            "1    Cherbourg     n  \n",
            "2  Southampton     y  \n",
            "3  Southampton     n  \n",
            "4   Queenstown     y  \n",
            "      sex   age  n_siblings_spouses  parch     fare   class     deck  \\\n",
            "0    male  35.0                   0      0   8.0500   Third  unknown   \n",
            "1    male  54.0                   0      0  51.8625   First        E   \n",
            "2  female  58.0                   0      0  26.5500   First        C   \n",
            "3  female  55.0                   0      0  16.0000  Second  unknown   \n",
            "4    male  34.0                   0      0  13.0000  Second        D   \n",
            "\n",
            "   embark_town alone  \n",
            "0  Southampton     y  \n",
            "1  Southampton     y  \n",
            "2  Southampton     y  \n",
            "3  Southampton     y  \n",
            "4  Southampton     y  \n",
            "0    0\n",
            "1    1\n",
            "2    1\n",
            "3    1\n",
            "4    0\n",
            "Name: survived, dtype: int64\n",
            "0    0\n",
            "1    0\n",
            "2    1\n",
            "3    1\n",
            "4    1\n",
            "Name: survived, dtype: int64\n"
          ],
          "name": "stdout"
        }
      ]
    },
    {
      "cell_type": "code",
      "metadata": {
        "id": "Di-nT53crBXN",
        "colab_type": "code",
        "colab": {},
        "outputId": "92d36e60-4aa8-4ad5-a8a9-47c301346f83"
      },
      "source": [
        "train_df.describe()"
      ],
      "execution_count": null,
      "outputs": [
        {
          "output_type": "execute_result",
          "data": {
            "text/html": [
              "<div>\n",
              "<style scoped>\n",
              "    .dataframe tbody tr th:only-of-type {\n",
              "        vertical-align: middle;\n",
              "    }\n",
              "\n",
              "    .dataframe tbody tr th {\n",
              "        vertical-align: top;\n",
              "    }\n",
              "\n",
              "    .dataframe thead th {\n",
              "        text-align: right;\n",
              "    }\n",
              "</style>\n",
              "<table border=\"1\" class=\"dataframe\">\n",
              "  <thead>\n",
              "    <tr style=\"text-align: right;\">\n",
              "      <th></th>\n",
              "      <th>age</th>\n",
              "      <th>n_siblings_spouses</th>\n",
              "      <th>parch</th>\n",
              "      <th>fare</th>\n",
              "    </tr>\n",
              "  </thead>\n",
              "  <tbody>\n",
              "    <tr>\n",
              "      <th>count</th>\n",
              "      <td>627.000000</td>\n",
              "      <td>627.000000</td>\n",
              "      <td>627.000000</td>\n",
              "      <td>627.000000</td>\n",
              "    </tr>\n",
              "    <tr>\n",
              "      <th>mean</th>\n",
              "      <td>29.631308</td>\n",
              "      <td>0.545455</td>\n",
              "      <td>0.379585</td>\n",
              "      <td>34.385399</td>\n",
              "    </tr>\n",
              "    <tr>\n",
              "      <th>std</th>\n",
              "      <td>12.511818</td>\n",
              "      <td>1.151090</td>\n",
              "      <td>0.792999</td>\n",
              "      <td>54.597730</td>\n",
              "    </tr>\n",
              "    <tr>\n",
              "      <th>min</th>\n",
              "      <td>0.750000</td>\n",
              "      <td>0.000000</td>\n",
              "      <td>0.000000</td>\n",
              "      <td>0.000000</td>\n",
              "    </tr>\n",
              "    <tr>\n",
              "      <th>25%</th>\n",
              "      <td>23.000000</td>\n",
              "      <td>0.000000</td>\n",
              "      <td>0.000000</td>\n",
              "      <td>7.895800</td>\n",
              "    </tr>\n",
              "    <tr>\n",
              "      <th>50%</th>\n",
              "      <td>28.000000</td>\n",
              "      <td>0.000000</td>\n",
              "      <td>0.000000</td>\n",
              "      <td>15.045800</td>\n",
              "    </tr>\n",
              "    <tr>\n",
              "      <th>75%</th>\n",
              "      <td>35.000000</td>\n",
              "      <td>1.000000</td>\n",
              "      <td>0.000000</td>\n",
              "      <td>31.387500</td>\n",
              "    </tr>\n",
              "    <tr>\n",
              "      <th>max</th>\n",
              "      <td>80.000000</td>\n",
              "      <td>8.000000</td>\n",
              "      <td>5.000000</td>\n",
              "      <td>512.329200</td>\n",
              "    </tr>\n",
              "  </tbody>\n",
              "</table>\n",
              "</div>"
            ],
            "text/plain": [
              "              age  n_siblings_spouses       parch        fare\n",
              "count  627.000000          627.000000  627.000000  627.000000\n",
              "mean    29.631308            0.545455    0.379585   34.385399\n",
              "std     12.511818            1.151090    0.792999   54.597730\n",
              "min      0.750000            0.000000    0.000000    0.000000\n",
              "25%     23.000000            0.000000    0.000000    7.895800\n",
              "50%     28.000000            0.000000    0.000000   15.045800\n",
              "75%     35.000000            1.000000    0.000000   31.387500\n",
              "max     80.000000            8.000000    5.000000  512.329200"
            ]
          },
          "metadata": {
            "tags": []
          },
          "execution_count": 4
        }
      ]
    },
    {
      "cell_type": "code",
      "metadata": {
        "id": "Ggnxw94yrBXQ",
        "colab_type": "code",
        "colab": {},
        "outputId": "fc3e42d5-b68d-41f3-b9c6-9660005cdcd6"
      },
      "source": [
        "print(train_df.shape, eval_df.shape)"
      ],
      "execution_count": null,
      "outputs": [
        {
          "output_type": "stream",
          "text": [
            "(627, 9) (264, 9)\n"
          ],
          "name": "stdout"
        }
      ]
    },
    {
      "cell_type": "code",
      "metadata": {
        "id": "4t1NoHhfrBXS",
        "colab_type": "code",
        "colab": {},
        "outputId": "82862802-1640-4fe8-df34-3160ed3e6916"
      },
      "source": [
        "train_df.age.hist(bins = 20)"
      ],
      "execution_count": null,
      "outputs": [
        {
          "output_type": "execute_result",
          "data": {
            "text/plain": [
              "<matplotlib.axes._subplots.AxesSubplot at 0x7f7a12569cc0>"
            ]
          },
          "metadata": {
            "tags": []
          },
          "execution_count": 6
        },
        {
          "output_type": "display_data",
          "data": {
            "image/png": "[encoded data removed]",
            "text/plain": [
              "<Figure size 432x288 with 1 Axes>"
            ]
          },
          "metadata": {
            "tags": [],
            "needs_background": "light"
          }
        }
      ]
    },
    {
      "cell_type": "code",
      "metadata": {
        "id": "Z4p2hm4QrBXV",
        "colab_type": "code",
        "colab": {},
        "outputId": "d1f361ed-5ff1-4f10-9f88-3377b9e81237"
      },
      "source": [
        "train_df.sex.value_counts().plot(kind = 'barh')"
      ],
      "execution_count": null,
      "outputs": [
        {
          "output_type": "execute_result",
          "data": {
            "text/plain": [
              "<matplotlib.axes._subplots.AxesSubplot at 0x7f7a123dc438>"
            ]
          },
          "metadata": {
            "tags": []
          },
          "execution_count": 7
        },
        {
          "output_type": "display_data",
          "data": {
            "image/png": "[encoded data removed]",
            "text/plain": [
              "<Figure size 432x288 with 1 Axes>"
            ]
          },
          "metadata": {
            "tags": [],
            "needs_background": "light"
          }
        }
      ]
    },
    {
      "cell_type": "code",
      "metadata": {
        "id": "zgpC4qCrrBXY",
        "colab_type": "code",
        "colab": {},
        "outputId": "fa326a60-f40c-4d2b-e50d-df7ee88e64e0"
      },
      "source": [
        "train_df['class'].value_counts().plot(kind = 'barh')"
      ],
      "execution_count": null,
      "outputs": [
        {
          "output_type": "execute_result",
          "data": {
            "text/plain": [
              "<matplotlib.axes._subplots.AxesSubplot at 0x7f7a12160470>"
            ]
          },
          "metadata": {
            "tags": []
          },
          "execution_count": 8
        },
        {
          "output_type": "display_data",
          "data": {
            "image/png": "[encoded data removed]",
            "text/plain": [
              "<Figure size 432x288 with 1 Axes>"
            ]
          },
          "metadata": {
            "tags": [],
            "needs_background": "light"
          }
        }
      ]
    },
    {
      "cell_type": "code",
      "metadata": {
        "id": "t7KWvLwqrBXa",
        "colab_type": "code",
        "colab": {},
        "outputId": "a83533c1-bf6b-447c-8270-7ccd145f2339"
      },
      "source": [
        "pd.concat([train_df, y_train], axis = 1).groupby('sex').survived.mean().plot(kind='barh')"
      ],
      "execution_count": null,
      "outputs": [
        {
          "output_type": "execute_result",
          "data": {
            "text/plain": [
              "<matplotlib.axes._subplots.AxesSubplot at 0x7f7a12160be0>"
            ]
          },
          "metadata": {
            "tags": []
          },
          "execution_count": 9
        },
        {
          "output_type": "display_data",
          "data": {
            "image/png": "[encoded data removed]",
            "text/plain": [
              "<Figure size 432x288 with 1 Axes>"
            ]
          },
          "metadata": {
            "tags": [],
            "needs_background": "light"
          }
        }
      ]
    },
    {
      "cell_type": "code",
      "metadata": {
        "id": "I7ZQpQZerBXc",
        "colab_type": "code",
        "colab": {},
        "outputId": "c6430f27-5185-4bab-b410-162e84991e8d"
      },
      "source": [
        "categorical_columns = ['sex', 'n_siblings_spouses', 'parch', 'class',\n",
        "                       'deck', 'embark_town', 'alone']\n",
        "numeric_columns = ['age', 'fare']\n",
        "\n",
        "feature_columns = []\n",
        "for categorical_column in categorical_columns:\n",
        "    vocab = train_df[categorical_column].unique()\n",
        "    print(categorical_column, vocab)\n",
        "    feature_columns.append(\n",
        "        tf.feature_column.indicator_column(\n",
        "            tf.feature_column.categorical_column_with_vocabulary_list(\n",
        "                categorical_column, vocab)))\n",
        "\n",
        "for categorical_column in numeric_columns:\n",
        "    feature_columns.append(\n",
        "        tf.feature_column.numeric_column(\n",
        "            categorical_column, dtype=tf.float32))"
      ],
      "execution_count": null,
      "outputs": [
        {
          "output_type": "stream",
          "text": [
            "sex ['male' 'female']\n",
            "n_siblings_spouses [1 0 3 4 2 5 8]\n",
            "parch [0 1 2 5 3 4]\n",
            "class ['Third' 'First' 'Second']\n",
            "deck ['unknown' 'C' 'G' 'A' 'B' 'D' 'F' 'E']\n",
            "embark_town ['Southampton' 'Cherbourg' 'Queenstown' 'unknown']\n",
            "alone ['n' 'y']\n"
          ],
          "name": "stdout"
        }
      ]
    },
    {
      "cell_type": "code",
      "metadata": {
        "id": "orElIrXGrBXe",
        "colab_type": "code",
        "colab": {}
      },
      "source": [
        "def make_dataset(data_df, label_df, epochs = 10, shuffle = True,\n",
        "                 batch_size = 32):\n",
        "    dataset = tf.data.Dataset.from_tensor_slices(\n",
        "        (dict(data_df), label_df))\n",
        "    if shuffle:\n",
        "        dataset = dataset.shuffle(10000)\n",
        "    dataset = dataset.repeat(epochs).batch(batch_size)\n",
        "    return dataset"
      ],
      "execution_count": null,
      "outputs": []
    },
    {
      "cell_type": "code",
      "metadata": {
        "id": "77vrDd7erBXg",
        "colab_type": "code",
        "colab": {}
      },
      "source": [
        "train_dataset = make_dataset(train_df, y_train, batch_size = 5)"
      ],
      "execution_count": null,
      "outputs": []
    },
    {
      "cell_type": "code",
      "metadata": {
        "id": "skMS6o_PrBXi",
        "colab_type": "code",
        "colab": {},
        "outputId": "8ac0ef22-14c0-4db5-f33a-023ce60f665f"
      },
      "source": [
        "for x, y in train_dataset.take(1):\n",
        "    print(x, y)"
      ],
      "execution_count": null,
      "outputs": [
        {
          "output_type": "stream",
          "text": [
            "{'sex': <tf.Tensor: id=38, shape=(5,), dtype=string, numpy=array([b'male', b'female', b'male', b'male', b'male'], dtype=object)>, 'age': <tf.Tensor: id=30, shape=(5,), dtype=float64, numpy=array([36.,  5., 33., 39., 44.])>, 'n_siblings_spouses': <tf.Tensor: id=36, shape=(5,), dtype=int32, numpy=array([1, 2, 0, 0, 2], dtype=int32)>, 'parch': <tf.Tensor: id=37, shape=(5,), dtype=int32, numpy=array([2, 1, 0, 0, 0], dtype=int32)>, 'fare': <tf.Tensor: id=35, shape=(5,), dtype=float64, numpy=array([120.    ,  19.2583,   5.    ,  26.    ,  90.    ])>, 'class': <tf.Tensor: id=32, shape=(5,), dtype=string, numpy=array([b'First', b'Third', b'First', b'Second', b'First'], dtype=object)>, 'deck': <tf.Tensor: id=33, shape=(5,), dtype=string, numpy=array([b'B', b'unknown', b'B', b'unknown', b'C'], dtype=object)>, 'embark_town': <tf.Tensor: id=34, shape=(5,), dtype=string, numpy=\n",
            "array([b'Southampton', b'Cherbourg', b'Southampton', b'Southampton',\n",
            "       b'Queenstown'], dtype=object)>, 'alone': <tf.Tensor: id=31, shape=(5,), dtype=string, numpy=array([b'n', b'n', b'y', b'y', b'n'], dtype=object)>} tf.Tensor([1 1 0 0 0], shape=(5,), dtype=int32)\n"
          ],
          "name": "stdout"
        }
      ]
    },
    {
      "cell_type": "code",
      "metadata": {
        "id": "gAr9CNr8rBXk",
        "colab_type": "code",
        "colab": {},
        "outputId": "c33772ea-20f7-4d1a-931f-dd40c177ec0b"
      },
      "source": [
        "# keras.layers.DenseFeature\n",
        "for x, y in train_dataset.take(1):\n",
        "    age_column = feature_columns[7]\n",
        "    gender_column = feature_columns[0]\n",
        "    print(keras.layers.DenseFeatures(age_column)(x).numpy())\n",
        "    print(keras.layers.DenseFeatures(gender_column)(x).numpy())"
      ],
      "execution_count": null,
      "outputs": [
        {
          "output_type": "stream",
          "text": [
            "WARNING:tensorflow:Layer dense_features is casting an input tensor from dtype float64 to the layer's dtype of float32, which is new behavior in TensorFlow 2.  The layer has dtype float32 because it's dtype defaults to floatx.\n",
            "\n",
            "If you intended to run this layer in float32, you can safely ignore this warning. If in doubt, this warning is likely only an issue if you are porting a TensorFlow 1.X model to TensorFlow 2.\n",
            "\n",
            "To change all layers to have dtype float64 by default, call `tf.keras.backend.set_floatx('float64')`. To change just this layer, pass dtype='float64' to the layer constructor. If you are the author of this layer, you can disable autocasting by passing autocast=False to the base Layer constructor.\n",
            "\n",
            "[[22.]\n",
            " [28.]\n",
            " [27.]\n",
            " [29.]\n",
            " [21.]]\n",
            "WARNING:tensorflow:Layer dense_features_1 is casting an input tensor from dtype float64 to the layer's dtype of float32, which is new behavior in TensorFlow 2.  The layer has dtype float32 because it's dtype defaults to floatx.\n",
            "\n",
            "If you intended to run this layer in float32, you can safely ignore this warning. If in doubt, this warning is likely only an issue if you are porting a TensorFlow 1.X model to TensorFlow 2.\n",
            "\n",
            "To change all layers to have dtype float64 by default, call `tf.keras.backend.set_floatx('float64')`. To change just this layer, pass dtype='float64' to the layer constructor. If you are the author of this layer, you can disable autocasting by passing autocast=False to the base Layer constructor.\n",
            "\n",
            "WARNING:tensorflow:From /usr/local/google/home/zhangyx/workspace/environment/tf2_py3/lib/python3.7/site-packages/tensorflow_core/python/feature_column/feature_column_v2.py:4276: IndicatorColumn._variable_shape (from tensorflow.python.feature_column.feature_column_v2) is deprecated and will be removed in a future version.\n",
            "Instructions for updating:\n",
            "The old _FeatureColumn APIs are being deprecated. Please use the new FeatureColumn APIs instead.\n",
            "WARNING:tensorflow:From /usr/local/google/home/zhangyx/workspace/environment/tf2_py3/lib/python3.7/site-packages/tensorflow_core/python/feature_column/feature_column_v2.py:4331: VocabularyListCategoricalColumn._num_buckets (from tensorflow.python.feature_column.feature_column_v2) is deprecated and will be removed in a future version.\n",
            "Instructions for updating:\n",
            "The old _FeatureColumn APIs are being deprecated. Please use the new FeatureColumn APIs instead.\n",
            "[[0. 1.]\n",
            " [0. 1.]\n",
            " [0. 1.]\n",
            " [1. 0.]\n",
            " [1. 0.]]\n"
          ],
          "name": "stdout"
        }
      ]
    },
    {
      "cell_type": "code",
      "metadata": {
        "id": "YPt_TNQPrBXm",
        "colab_type": "code",
        "colab": {},
        "outputId": "ed7442a8-3eab-4d5d-e1ae-95eb2bdab29f"
      },
      "source": [
        "# keras.layers.DenseFeature\n",
        "for x, y in train_dataset.take(1):\n",
        "    print(keras.layers.DenseFeatures(feature_columns)(x).numpy())"
      ],
      "execution_count": null,
      "outputs": [
        {
          "output_type": "stream",
          "text": [
            "WARNING:tensorflow:Layer dense_features_2 is casting an input tensor from dtype float64 to the layer's dtype of float32, which is new behavior in TensorFlow 2.  The layer has dtype float32 because it's dtype defaults to floatx.\n",
            "\n",
            "If you intended to run this layer in float32, you can safely ignore this warning. If in doubt, this warning is likely only an issue if you are porting a TensorFlow 1.X model to TensorFlow 2.\n",
            "\n",
            "To change all layers to have dtype float64 by default, call `tf.keras.backend.set_floatx('float64')`. To change just this layer, pass dtype='float64' to the layer constructor. If you are the author of this layer, you can disable autocasting by passing autocast=False to the base Layer constructor.\n",
            "\n",
            "[[19.     0.     1.     0.     1.     0.     0.     0.     0.     0.\n",
            "   1.     0.     0.     0.     1.     0.     0.     0.    30.     0.\n",
            "   1.     0.     0.     0.     0.     0.     1.     0.     0.     0.\n",
            "   0.     0.     0.     1.   ]\n",
            " [38.     0.     1.     0.     0.     1.     1.     0.     0.     0.\n",
            "   0.     0.     0.     0.     1.     0.     0.     0.    13.     0.\n",
            "   1.     0.     0.     0.     0.     0.     1.     0.     0.     0.\n",
            "   0.     0.     0.     1.   ]\n",
            " [28.     0.     1.     0.     1.     0.     0.     1.     0.     0.\n",
            "   0.     0.     0.     0.     1.     0.     0.     0.    35.5    0.\n",
            "   1.     0.     0.     0.     0.     0.     1.     0.     0.     0.\n",
            "   0.     0.     1.     0.   ]\n",
            " [39.     1.     0.     1.     0.     0.     1.     0.     0.     0.\n",
            "   0.     0.     0.     0.     1.     0.     0.     0.    31.275  1.\n",
            "   0.     0.     0.     0.     0.     0.     0.     0.     0.     1.\n",
            "   0.     0.     1.     0.   ]\n",
            " [24.     0.     1.     0.     0.     1.     0.     0.     0.     0.\n",
            "   0.     0.     1.     0.     1.     0.     0.     0.    13.     0.\n",
            "   1.     0.     0.     0.     0.     0.     1.     0.     0.     0.\n",
            "   0.     0.     0.     1.   ]]\n"
          ],
          "name": "stdout"
        }
      ]
    },
    {
      "cell_type": "code",
      "metadata": {
        "id": "74Wd4DTMrBXo",
        "colab_type": "code",
        "colab": {}
      },
      "source": [
        "model = keras.models.Sequential([\n",
        "    keras.layers.DenseFeatures(feature_columns),\n",
        "    keras.layers.Dense(100, activation='relu'),\n",
        "    keras.layers.Dense(100, activation='relu'),\n",
        "    keras.layers.Dense(2, activation='softmax'),\n",
        "])\n",
        "model.compile(loss='sparse_categorical_crossentropy',\n",
        "              optimizer = keras.optimizers.SGD(lr=0.01),\n",
        "              metrics = ['accuracy'])\n"
      ],
      "execution_count": null,
      "outputs": []
    },
    {
      "cell_type": "code",
      "metadata": {
        "id": "Pcc-3sOirBXq",
        "colab_type": "code",
        "colab": {},
        "outputId": "d99b4f30-2dac-47aa-e903-34dbf999ad55"
      },
      "source": [
        "# 1. model.fit \n",
        "# 2. model -> estimator -> train\n",
        "\n",
        "train_dataset = make_dataset(train_df, y_train, epochs = 100)\n",
        "eval_dataset = make_dataset(eval_df, y_eval, epochs = 1, shuffle = False)\n",
        "history = model.fit(train_dataset,\n",
        "                    validation_data = eval_dataset,\n",
        "                    steps_per_epoch = 19,\n",
        "                    validation_steps = 8,\n",
        "                    epochs = 100)"
      ],
      "execution_count": null,
      "outputs": [
        {
          "output_type": "stream",
          "text": [
            "Train for 19 steps, validate for 8 steps\n",
            "Epoch 1/100\n",
            "19/19 [==============================] - 0s 5ms/step - loss: 0.5530 - accuracy: 0.7237 - val_loss: 0.4954 - val_accuracy: 0.7617\n",
            "Epoch 2/100\n",
            "19/19 [==============================] - 0s 5ms/step - loss: 0.5141 - accuracy: 0.7484 - val_loss: 0.4875 - val_accuracy: 0.7656\n",
            "Epoch 3/100\n",
            "19/19 [==============================] - 0s 5ms/step - loss: 0.5058 - accuracy: 0.7714 - val_loss: 0.4928 - val_accuracy: 0.7969\n",
            "Epoch 4/100\n",
            "19/19 [==============================] - 0s 5ms/step - loss: 0.5225 - accuracy: 0.7549 - val_loss: 0.4861 - val_accuracy: 0.7461\n",
            "Epoch 5/100\n",
            "19/19 [==============================] - 0s 6ms/step - loss: 0.5407 - accuracy: 0.7451 - val_loss: 0.5659 - val_accuracy: 0.7109\n",
            "Epoch 6/100\n",
            "19/19 [==============================] - 0s 5ms/step - loss: 0.5172 - accuracy: 0.7599 - val_loss: 0.4897 - val_accuracy: 0.7422\n",
            "Epoch 7/100\n",
            "19/19 [==============================] - 0s 6ms/step - loss: 0.4947 - accuracy: 0.7648 - val_loss: 0.5847 - val_accuracy: 0.7070\n",
            "Epoch 8/100\n",
            "19/19 [==============================] - 0s 6ms/step - loss: 0.4963 - accuracy: 0.7747 - val_loss: 0.6510 - val_accuracy: 0.6953\n",
            "Epoch 9/100\n",
            "19/19 [==============================] - 0s 6ms/step - loss: 0.5288 - accuracy: 0.7500 - val_loss: 0.5134 - val_accuracy: 0.7422\n",
            "Epoch 10/100\n",
            "19/19 [==============================] - 0s 6ms/step - loss: 0.5270 - accuracy: 0.7566 - val_loss: 0.4947 - val_accuracy: 0.7500\n",
            "Epoch 11/100\n",
            "19/19 [==============================] - 0s 5ms/step - loss: 0.4798 - accuracy: 0.7895 - val_loss: 0.5013 - val_accuracy: 0.7656\n",
            "Epoch 12/100\n",
            "19/19 [==============================] - 0s 6ms/step - loss: 0.5134 - accuracy: 0.7632 - val_loss: 0.5159 - val_accuracy: 0.7461\n",
            "Epoch 13/100\n",
            "19/19 [==============================] - 0s 6ms/step - loss: 0.4917 - accuracy: 0.7845 - val_loss: 0.4872 - val_accuracy: 0.7383\n",
            "Epoch 14/100\n",
            "19/19 [==============================] - 0s 6ms/step - loss: 0.5232 - accuracy: 0.7664 - val_loss: 0.5013 - val_accuracy: 0.7891\n",
            "Epoch 15/100\n",
            "19/19 [==============================] - 0s 5ms/step - loss: 0.4937 - accuracy: 0.7829 - val_loss: 0.5366 - val_accuracy: 0.7305\n",
            "Epoch 16/100\n",
            "19/19 [==============================] - 0s 6ms/step - loss: 0.5153 - accuracy: 0.7664 - val_loss: 0.4798 - val_accuracy: 0.7695\n",
            "Epoch 17/100\n",
            "19/19 [==============================] - 0s 6ms/step - loss: 0.5163 - accuracy: 0.7516 - val_loss: 0.4863 - val_accuracy: 0.7461\n",
            "Epoch 18/100\n",
            "19/19 [==============================] - 0s 6ms/step - loss: 0.5273 - accuracy: 0.7549 - val_loss: 0.5499 - val_accuracy: 0.7188\n",
            "Epoch 19/100\n",
            "19/19 [==============================] - 0s 6ms/step - loss: 0.5096 - accuracy: 0.7418 - val_loss: 0.4997 - val_accuracy: 0.7422\n",
            "Epoch 20/100\n",
            "19/19 [==============================] - 0s 5ms/step - loss: 0.5186 - accuracy: 0.7697 - val_loss: 0.4857 - val_accuracy: 0.7500\n",
            "Epoch 21/100\n",
            "19/19 [==============================] - 0s 4ms/step - loss: 0.5062 - accuracy: 0.7714 - val_loss: 0.4796 - val_accuracy: 0.7812\n",
            "Epoch 22/100\n",
            "19/19 [==============================] - 0s 5ms/step - loss: 0.4824 - accuracy: 0.7944 - val_loss: 0.4785 - val_accuracy: 0.7539\n",
            "Epoch 23/100\n",
            "19/19 [==============================] - 0s 6ms/step - loss: 0.4939 - accuracy: 0.7697 - val_loss: 0.5133 - val_accuracy: 0.7461\n",
            "Epoch 24/100\n",
            "19/19 [==============================] - 0s 6ms/step - loss: 0.5244 - accuracy: 0.7385 - val_loss: 0.4986 - val_accuracy: 0.7734\n",
            "Epoch 25/100\n",
            "19/19 [==============================] - 0s 6ms/step - loss: 0.5064 - accuracy: 0.7714 - val_loss: 0.4859 - val_accuracy: 0.7656\n",
            "Epoch 26/100\n",
            "19/19 [==============================] - 0s 6ms/step - loss: 0.4808 - accuracy: 0.7845 - val_loss: 0.6005 - val_accuracy: 0.7344\n",
            "Epoch 27/100\n",
            "19/19 [==============================] - 0s 5ms/step - loss: 0.5137 - accuracy: 0.7697 - val_loss: 0.4915 - val_accuracy: 0.7578\n",
            "Epoch 28/100\n",
            "19/19 [==============================] - 0s 5ms/step - loss: 0.4791 - accuracy: 0.7895 - val_loss: 0.5053 - val_accuracy: 0.7695\n",
            "Epoch 29/100\n",
            "19/19 [==============================] - 0s 6ms/step - loss: 0.4915 - accuracy: 0.7796 - val_loss: 0.5208 - val_accuracy: 0.7383\n",
            "Epoch 30/100\n",
            "19/19 [==============================] - 0s 5ms/step - loss: 0.5009 - accuracy: 0.7664 - val_loss: 0.5905 - val_accuracy: 0.7070\n",
            "Epoch 31/100\n",
            "19/19 [==============================] - 0s 5ms/step - loss: 0.4915 - accuracy: 0.7730 - val_loss: 0.4915 - val_accuracy: 0.7930\n",
            "Epoch 32/100\n",
            "19/19 [==============================] - 0s 5ms/step - loss: 0.5143 - accuracy: 0.7730 - val_loss: 0.4764 - val_accuracy: 0.7578\n",
            "Epoch 33/100\n",
            "19/19 [==============================] - 0s 5ms/step - loss: 0.5004 - accuracy: 0.7747 - val_loss: 0.5013 - val_accuracy: 0.7656\n",
            "Epoch 34/100\n",
            "19/19 [==============================] - 0s 6ms/step - loss: 0.5189 - accuracy: 0.7747 - val_loss: 0.4800 - val_accuracy: 0.7734\n",
            "Epoch 35/100\n",
            "19/19 [==============================] - 0s 5ms/step - loss: 0.5193 - accuracy: 0.7566 - val_loss: 0.4899 - val_accuracy: 0.7695\n",
            "Epoch 36/100\n",
            "19/19 [==============================] - 0s 6ms/step - loss: 0.4871 - accuracy: 0.7862 - val_loss: 0.5010 - val_accuracy: 0.7656\n",
            "Epoch 37/100\n",
            "19/19 [==============================] - 0s 4ms/step - loss: 0.4861 - accuracy: 0.7796 - val_loss: 0.5599 - val_accuracy: 0.7148\n",
            "Epoch 38/100\n",
            "19/19 [==============================] - 0s 6ms/step - loss: 0.5047 - accuracy: 0.7895 - val_loss: 0.5053 - val_accuracy: 0.7500\n",
            "Epoch 39/100\n",
            "19/19 [==============================] - 0s 5ms/step - loss: 0.4938 - accuracy: 0.7730 - val_loss: 0.5161 - val_accuracy: 0.7656\n",
            "Epoch 40/100\n",
            "19/19 [==============================] - 0s 4ms/step - loss: 0.5140 - accuracy: 0.7632 - val_loss: 0.4885 - val_accuracy: 0.7852\n",
            "Epoch 41/100\n",
            "19/19 [==============================] - 0s 5ms/step - loss: 0.4721 - accuracy: 0.7977 - val_loss: 0.4873 - val_accuracy: 0.7852\n",
            "Epoch 42/100\n",
            "19/19 [==============================] - 0s 6ms/step - loss: 0.5180 - accuracy: 0.7648 - val_loss: 0.4928 - val_accuracy: 0.7656\n",
            "Epoch 43/100\n",
            "19/19 [==============================] - 0s 6ms/step - loss: 0.4995 - accuracy: 0.7812 - val_loss: 0.4938 - val_accuracy: 0.7656\n",
            "Epoch 44/100\n",
            "19/19 [==============================] - 0s 6ms/step - loss: 0.4870 - accuracy: 0.8026 - val_loss: 0.4852 - val_accuracy: 0.7656\n",
            "Epoch 45/100\n",
            "19/19 [==============================] - 0s 6ms/step - loss: 0.4900 - accuracy: 0.7829 - val_loss: 0.4796 - val_accuracy: 0.7656\n",
            "Epoch 46/100\n",
            "19/19 [==============================] - 0s 5ms/step - loss: 0.5573 - accuracy: 0.7566 - val_loss: 0.4937 - val_accuracy: 0.7500\n",
            "Epoch 47/100\n",
            "19/19 [==============================] - 0s 5ms/step - loss: 0.4816 - accuracy: 0.7928 - val_loss: 0.4949 - val_accuracy: 0.7773\n",
            "Epoch 48/100\n",
            "19/19 [==============================] - 0s 5ms/step - loss: 0.5089 - accuracy: 0.7632 - val_loss: 0.5077 - val_accuracy: 0.7500\n",
            "Epoch 49/100\n",
            "19/19 [==============================] - 0s 5ms/step - loss: 0.4949 - accuracy: 0.7961 - val_loss: 0.5010 - val_accuracy: 0.7578\n",
            "Epoch 50/100\n",
            "19/19 [==============================] - 0s 6ms/step - loss: 0.4630 - accuracy: 0.7977 - val_loss: 0.4835 - val_accuracy: 0.7461\n",
            "Epoch 51/100\n",
            "19/19 [==============================] - 0s 6ms/step - loss: 0.4785 - accuracy: 0.8026 - val_loss: 0.4814 - val_accuracy: 0.7695\n",
            "Epoch 52/100\n",
            "19/19 [==============================] - 0s 5ms/step - loss: 0.5096 - accuracy: 0.7763 - val_loss: 0.5700 - val_accuracy: 0.7305\n",
            "Epoch 53/100\n",
            "19/19 [==============================] - 0s 4ms/step - loss: 0.4985 - accuracy: 0.7664 - val_loss: 0.4895 - val_accuracy: 0.7852\n",
            "Epoch 54/100\n",
            "19/19 [==============================] - 0s 5ms/step - loss: 0.5288 - accuracy: 0.7714 - val_loss: 0.4902 - val_accuracy: 0.7773\n",
            "Epoch 55/100\n",
            "19/19 [==============================] - 0s 5ms/step - loss: 0.4806 - accuracy: 0.7845 - val_loss: 0.4811 - val_accuracy: 0.7695\n",
            "Epoch 56/100\n",
            "19/19 [==============================] - 0s 6ms/step - loss: 0.4879 - accuracy: 0.7911 - val_loss: 0.6470 - val_accuracy: 0.6641\n",
            "Epoch 57/100\n",
            "19/19 [==============================] - 0s 6ms/step - loss: 0.5098 - accuracy: 0.7582 - val_loss: 0.5202 - val_accuracy: 0.7656\n",
            "Epoch 58/100\n"
          ],
          "name": "stdout"
        },
        {
          "output_type": "stream",
          "text": [
            "19/19 [==============================] - 0s 4ms/step - loss: 0.5035 - accuracy: 0.7632 - val_loss: 0.4962 - val_accuracy: 0.7539\n",
            "Epoch 59/100\n",
            "19/19 [==============================] - 0s 6ms/step - loss: 0.4565 - accuracy: 0.7895 - val_loss: 0.4960 - val_accuracy: 0.8047\n",
            "Epoch 60/100\n",
            "19/19 [==============================] - 0s 6ms/step - loss: 0.4873 - accuracy: 0.7862 - val_loss: 0.4904 - val_accuracy: 0.7422\n",
            "Epoch 61/100\n",
            "19/19 [==============================] - 0s 5ms/step - loss: 0.5040 - accuracy: 0.7632 - val_loss: 0.5312 - val_accuracy: 0.7539\n",
            "Epoch 62/100\n",
            "19/19 [==============================] - 0s 6ms/step - loss: 0.4861 - accuracy: 0.7681 - val_loss: 0.4771 - val_accuracy: 0.7773\n",
            "Epoch 63/100\n",
            "19/19 [==============================] - 0s 6ms/step - loss: 0.4958 - accuracy: 0.7878 - val_loss: 0.4797 - val_accuracy: 0.7695\n",
            "Epoch 64/100\n",
            "19/19 [==============================] - 0s 6ms/step - loss: 0.4623 - accuracy: 0.8076 - val_loss: 0.4859 - val_accuracy: 0.7891\n",
            "Epoch 65/100\n",
            "19/19 [==============================] - 0s 5ms/step - loss: 0.5164 - accuracy: 0.7648 - val_loss: 0.4788 - val_accuracy: 0.7695\n",
            "Epoch 66/100\n",
            "19/19 [==============================] - 0s 5ms/step - loss: 0.4957 - accuracy: 0.7829 - val_loss: 0.4787 - val_accuracy: 0.7734\n",
            "Epoch 67/100\n",
            "19/19 [==============================] - 0s 6ms/step - loss: 0.4704 - accuracy: 0.7961 - val_loss: 0.4864 - val_accuracy: 0.7422\n",
            "Epoch 68/100\n",
            "19/19 [==============================] - 0s 6ms/step - loss: 0.5030 - accuracy: 0.7845 - val_loss: 0.5514 - val_accuracy: 0.7344\n",
            "Epoch 69/100\n",
            "19/19 [==============================] - 0s 5ms/step - loss: 0.5122 - accuracy: 0.7780 - val_loss: 0.4883 - val_accuracy: 0.7656\n",
            "Epoch 70/100\n",
            "19/19 [==============================] - 0s 5ms/step - loss: 0.4990 - accuracy: 0.7812 - val_loss: 0.4894 - val_accuracy: 0.7891\n",
            "Epoch 71/100\n",
            "19/19 [==============================] - 0s 5ms/step - loss: 0.4458 - accuracy: 0.8158 - val_loss: 0.4765 - val_accuracy: 0.7617\n",
            "Epoch 72/100\n",
            "19/19 [==============================] - 0s 6ms/step - loss: 0.4935 - accuracy: 0.7664 - val_loss: 0.5665 - val_accuracy: 0.7148\n",
            "Epoch 73/100\n",
            "19/19 [==============================] - 0s 5ms/step - loss: 0.5092 - accuracy: 0.7566 - val_loss: 0.5217 - val_accuracy: 0.7461\n",
            "Epoch 74/100\n",
            "19/19 [==============================] - 0s 5ms/step - loss: 0.4911 - accuracy: 0.7928 - val_loss: 0.4954 - val_accuracy: 0.7461\n",
            "Epoch 75/100\n",
            "19/19 [==============================] - 0s 5ms/step - loss: 0.4877 - accuracy: 0.7878 - val_loss: 0.4865 - val_accuracy: 0.7500\n",
            "Epoch 76/100\n",
            "19/19 [==============================] - 0s 7ms/step - loss: 0.4841 - accuracy: 0.7911 - val_loss: 0.5074 - val_accuracy: 0.7461\n",
            "Epoch 77/100\n",
            "19/19 [==============================] - 0s 5ms/step - loss: 0.4729 - accuracy: 0.7878 - val_loss: 0.5191 - val_accuracy: 0.7539\n",
            "Epoch 78/100\n",
            "19/19 [==============================] - 0s 6ms/step - loss: 0.4971 - accuracy: 0.7862 - val_loss: 0.4825 - val_accuracy: 0.7578\n",
            "Epoch 79/100\n",
            "19/19 [==============================] - 0s 5ms/step - loss: 0.4946 - accuracy: 0.7747 - val_loss: 0.4938 - val_accuracy: 0.7969\n",
            "Epoch 80/100\n",
            "19/19 [==============================] - 0s 6ms/step - loss: 0.4696 - accuracy: 0.8010 - val_loss: 0.5635 - val_accuracy: 0.6836\n",
            "Epoch 81/100\n",
            "19/19 [==============================] - 0s 5ms/step - loss: 0.4940 - accuracy: 0.7944 - val_loss: 0.5094 - val_accuracy: 0.7656\n",
            "Epoch 82/100\n",
            "19/19 [==============================] - 0s 5ms/step - loss: 0.4890 - accuracy: 0.7747 - val_loss: 0.5262 - val_accuracy: 0.7461\n",
            "Epoch 83/100\n",
            "19/19 [==============================] - 0s 5ms/step - loss: 0.4783 - accuracy: 0.7829 - val_loss: 0.4819 - val_accuracy: 0.7500\n",
            "Epoch 84/100\n",
            "19/19 [==============================] - 0s 5ms/step - loss: 0.4946 - accuracy: 0.7895 - val_loss: 0.4904 - val_accuracy: 0.7773\n",
            "Epoch 85/100\n",
            "19/19 [==============================] - 0s 6ms/step - loss: 0.5011 - accuracy: 0.7829 - val_loss: 0.4974 - val_accuracy: 0.7656\n",
            "Epoch 86/100\n",
            "19/19 [==============================] - 0s 5ms/step - loss: 0.5015 - accuracy: 0.7796 - val_loss: 0.4831 - val_accuracy: 0.7539\n",
            "Epoch 87/100\n",
            "19/19 [==============================] - 0s 6ms/step - loss: 0.4968 - accuracy: 0.7582 - val_loss: 0.4946 - val_accuracy: 0.7734\n",
            "Epoch 88/100\n",
            "19/19 [==============================] - 0s 5ms/step - loss: 0.5029 - accuracy: 0.7648 - val_loss: 0.4807 - val_accuracy: 0.7734\n",
            "Epoch 89/100\n",
            "19/19 [==============================] - 0s 5ms/step - loss: 0.4733 - accuracy: 0.7878 - val_loss: 0.4786 - val_accuracy: 0.7812\n",
            "Epoch 90/100\n",
            "19/19 [==============================] - 0s 6ms/step - loss: 0.4693 - accuracy: 0.7993 - val_loss: 0.4740 - val_accuracy: 0.7812\n",
            "Epoch 91/100\n",
            "19/19 [==============================] - 0s 6ms/step - loss: 0.5231 - accuracy: 0.7582 - val_loss: 0.4743 - val_accuracy: 0.7812\n",
            "Epoch 92/100\n",
            "19/19 [==============================] - 0s 5ms/step - loss: 0.4959 - accuracy: 0.7697 - val_loss: 0.4775 - val_accuracy: 0.7734\n",
            "Epoch 93/100\n",
            "19/19 [==============================] - 0s 6ms/step - loss: 0.4724 - accuracy: 0.7993 - val_loss: 0.4791 - val_accuracy: 0.7578\n",
            "Epoch 94/100\n",
            "19/19 [==============================] - 0s 6ms/step - loss: 0.4679 - accuracy: 0.7977 - val_loss: 0.5713 - val_accuracy: 0.6836\n",
            "Epoch 95/100\n",
            "19/19 [==============================] - 0s 6ms/step - loss: 0.4751 - accuracy: 0.7895 - val_loss: 0.4803 - val_accuracy: 0.7578\n",
            "Epoch 96/100\n",
            "19/19 [==============================] - 0s 5ms/step - loss: 0.4789 - accuracy: 0.7928 - val_loss: 0.4832 - val_accuracy: 0.7539\n",
            "Epoch 97/100\n",
            "19/19 [==============================] - 0s 5ms/step - loss: 0.4847 - accuracy: 0.7845 - val_loss: 0.5104 - val_accuracy: 0.7422\n",
            "Epoch 98/100\n",
            "19/19 [==============================] - 0s 5ms/step - loss: 0.4826 - accuracy: 0.7878 - val_loss: 0.4762 - val_accuracy: 0.7812\n",
            "Epoch 99/100\n",
            "19/19 [==============================] - 0s 5ms/step - loss: 0.4665 - accuracy: 0.7944 - val_loss: 0.4930 - val_accuracy: 0.7695\n",
            "Epoch 100/100\n",
            "19/19 [==============================] - 0s 6ms/step - loss: 0.4574 - accuracy: 0.8076 - val_loss: 0.4831 - val_accuracy: 0.7617\n"
          ],
          "name": "stdout"
        }
      ]
    },
    {
      "cell_type": "code",
      "metadata": {
        "id": "7FMbbahXrBXt",
        "colab_type": "code",
        "colab": {},
        "outputId": "7a71c795-05b5-44be-f713-f34675582c7b"
      },
      "source": [
        "estimator = keras.estimator.model_to_estimator(model)\n",
        "# 1. function\n",
        "# 2. return a. (features, labels) b. dataset -> (feature, label)\n",
        "estimator.train(input_fn = lambda : make_dataset(\n",
        "    train_df, y_train, epochs=100))"
      ],
      "execution_count": null,
      "outputs": [
        {
          "output_type": "stream",
          "text": [
            "INFO:tensorflow:Using default config.\n",
            "WARNING:tensorflow:Using temporary folder as model directory: /tmp/tmppxevcovg\n",
            "INFO:tensorflow:Using the Keras model provided.\n",
            "WARNING:tensorflow:You are creating an Estimator from a Keras model manually subclassed from `Model`, that was already called on some inputs (and thus already had weights). We are currently unable to preserve the model's state (its weights) as part of the estimator in this case. Be warned that the estimator has been created using a freshly initialized version of your model.\n",
            "Note that this doesn't affect the state of the model instance you passed as `keras_model` argument.\n",
            "INFO:tensorflow:Using config: {'_model_dir': '/tmp/tmppxevcovg', '_tf_random_seed': None, '_save_summary_steps': 100, '_save_checkpoints_steps': None, '_save_checkpoints_secs': 600, '_session_config': allow_soft_placement: true\n",
            "graph_options {\n",
            "  rewrite_options {\n",
            "    meta_optimizer_iterations: ONE\n",
            "  }\n",
            "}\n",
            ", '_keep_checkpoint_max': 5, '_keep_checkpoint_every_n_hours': 10000, '_log_step_count_steps': 100, '_train_distribute': None, '_device_fn': None, '_protocol': None, '_eval_distribute': None, '_experimental_distribute': None, '_experimental_max_worker_delay_secs': None, '_session_creation_timeout_secs': 7200, '_service': None, '_cluster_spec': <tensorflow.python.training.server_lib.ClusterSpec object at 0x7f79741dca20>, '_task_type': 'worker', '_task_id': 0, '_global_id_in_cluster': 0, '_master': '', '_evaluation_master': '', '_is_chief': True, '_num_ps_replicas': 0, '_num_worker_replicas': 1}\n",
            "WARNING:tensorflow:From /usr/local/google/home/zhangyx/workspace/environment/tf2_py3/lib/python3.7/site-packages/tensorflow_core/python/ops/resource_variable_ops.py:1630: calling BaseResourceVariable.__init__ (from tensorflow.python.ops.resource_variable_ops) with constraint is deprecated and will be removed in a future version.\n",
            "Instructions for updating:\n",
            "If using Keras pass *_constraint arguments to layers.\n",
            "WARNING:tensorflow:From /usr/local/google/home/zhangyx/workspace/environment/tf2_py3/lib/python3.7/site-packages/tensorflow_core/python/training/training_util.py:236: Variable.initialized_value (from tensorflow.python.ops.variables) is deprecated and will be removed in a future version.\n",
            "Instructions for updating:\n",
            "Use Variable.read_value. Variables in 2.X are initialized automatically both in eager and graph (inside tf.defun) contexts.\n",
            "INFO:tensorflow:Calling model_fn.\n"
          ],
          "name": "stdout"
        },
        {
          "output_type": "error",
          "ename": "ValueError",
          "evalue": "Unexpectedly found an instance of type `<class 'dict'>`. Expected a symbolic tensor instance.",
          "traceback": [
            "\u001b[0;31m---------------------------------------------------------------------------\u001b[0m",
            "\u001b[0;31mValueError\u001b[0m                                Traceback (most recent call last)",
            "\u001b[0;32m<ipython-input-19-7904a567a5dd>\u001b[0m in \u001b[0;36m<module>\u001b[0;34m\u001b[0m\n\u001b[1;32m      2\u001b[0m \u001b[0;31m# 1. function\u001b[0m\u001b[0;34m\u001b[0m\u001b[0;34m\u001b[0m\u001b[0;34m\u001b[0m\u001b[0m\n\u001b[1;32m      3\u001b[0m \u001b[0;31m# 2. return a. (features, labels) b. dataset -> (feature, label)\u001b[0m\u001b[0;34m\u001b[0m\u001b[0;34m\u001b[0m\u001b[0;34m\u001b[0m\u001b[0m\n\u001b[0;32m----> 4\u001b[0;31m estimator.train(input_fn = lambda : make_dataset(\n\u001b[0m\u001b[1;32m      5\u001b[0m     train_df, y_train, epochs=100))\n",
            "\u001b[0;32m~/workspace/environment/tf2_py3/lib/python3.7/site-packages/tensorflow_estimator/python/estimator/estimator.py\u001b[0m in \u001b[0;36mtrain\u001b[0;34m(self, input_fn, hooks, steps, max_steps, saving_listeners)\u001b[0m\n\u001b[1;32m    368\u001b[0m \u001b[0;34m\u001b[0m\u001b[0m\n\u001b[1;32m    369\u001b[0m       \u001b[0msaving_listeners\u001b[0m \u001b[0;34m=\u001b[0m \u001b[0m_check_listeners_type\u001b[0m\u001b[0;34m(\u001b[0m\u001b[0msaving_listeners\u001b[0m\u001b[0;34m)\u001b[0m\u001b[0;34m\u001b[0m\u001b[0;34m\u001b[0m\u001b[0m\n\u001b[0;32m--> 370\u001b[0;31m       \u001b[0mloss\u001b[0m \u001b[0;34m=\u001b[0m \u001b[0mself\u001b[0m\u001b[0;34m.\u001b[0m\u001b[0m_train_model\u001b[0m\u001b[0;34m(\u001b[0m\u001b[0minput_fn\u001b[0m\u001b[0;34m,\u001b[0m \u001b[0mhooks\u001b[0m\u001b[0;34m,\u001b[0m \u001b[0msaving_listeners\u001b[0m\u001b[0;34m)\u001b[0m\u001b[0;34m\u001b[0m\u001b[0;34m\u001b[0m\u001b[0m\n\u001b[0m\u001b[1;32m    371\u001b[0m       \u001b[0mlogging\u001b[0m\u001b[0;34m.\u001b[0m\u001b[0minfo\u001b[0m\u001b[0;34m(\u001b[0m\u001b[0;34m'Loss for final step: %s.'\u001b[0m\u001b[0;34m,\u001b[0m \u001b[0mloss\u001b[0m\u001b[0;34m)\u001b[0m\u001b[0;34m\u001b[0m\u001b[0;34m\u001b[0m\u001b[0m\n\u001b[1;32m    372\u001b[0m       \u001b[0;32mreturn\u001b[0m \u001b[0mself\u001b[0m\u001b[0;34m\u001b[0m\u001b[0;34m\u001b[0m\u001b[0m\n",
            "\u001b[0;32m~/workspace/environment/tf2_py3/lib/python3.7/site-packages/tensorflow_estimator/python/estimator/estimator.py\u001b[0m in \u001b[0;36m_train_model\u001b[0;34m(self, input_fn, hooks, saving_listeners)\u001b[0m\n\u001b[1;32m   1158\u001b[0m       \u001b[0;32mreturn\u001b[0m \u001b[0mself\u001b[0m\u001b[0;34m.\u001b[0m\u001b[0m_train_model_distributed\u001b[0m\u001b[0;34m(\u001b[0m\u001b[0minput_fn\u001b[0m\u001b[0;34m,\u001b[0m \u001b[0mhooks\u001b[0m\u001b[0;34m,\u001b[0m \u001b[0msaving_listeners\u001b[0m\u001b[0;34m)\u001b[0m\u001b[0;34m\u001b[0m\u001b[0;34m\u001b[0m\u001b[0m\n\u001b[1;32m   1159\u001b[0m     \u001b[0;32melse\u001b[0m\u001b[0;34m:\u001b[0m\u001b[0;34m\u001b[0m\u001b[0;34m\u001b[0m\u001b[0m\n\u001b[0;32m-> 1160\u001b[0;31m       \u001b[0;32mreturn\u001b[0m \u001b[0mself\u001b[0m\u001b[0;34m.\u001b[0m\u001b[0m_train_model_default\u001b[0m\u001b[0;34m(\u001b[0m\u001b[0minput_fn\u001b[0m\u001b[0;34m,\u001b[0m \u001b[0mhooks\u001b[0m\u001b[0;34m,\u001b[0m \u001b[0msaving_listeners\u001b[0m\u001b[0;34m)\u001b[0m\u001b[0;34m\u001b[0m\u001b[0;34m\u001b[0m\u001b[0m\n\u001b[0m\u001b[1;32m   1161\u001b[0m \u001b[0;34m\u001b[0m\u001b[0m\n\u001b[1;32m   1162\u001b[0m   \u001b[0;32mdef\u001b[0m \u001b[0m_train_model_default\u001b[0m\u001b[0;34m(\u001b[0m\u001b[0mself\u001b[0m\u001b[0;34m,\u001b[0m \u001b[0minput_fn\u001b[0m\u001b[0;34m,\u001b[0m \u001b[0mhooks\u001b[0m\u001b[0;34m,\u001b[0m \u001b[0msaving_listeners\u001b[0m\u001b[0;34m)\u001b[0m\u001b[0;34m:\u001b[0m\u001b[0;34m\u001b[0m\u001b[0;34m\u001b[0m\u001b[0m\n",
            "\u001b[0;32m~/workspace/environment/tf2_py3/lib/python3.7/site-packages/tensorflow_estimator/python/estimator/estimator.py\u001b[0m in \u001b[0;36m_train_model_default\u001b[0;34m(self, input_fn, hooks, saving_listeners)\u001b[0m\n\u001b[1;32m   1188\u001b[0m       \u001b[0mworker_hooks\u001b[0m\u001b[0;34m.\u001b[0m\u001b[0mextend\u001b[0m\u001b[0;34m(\u001b[0m\u001b[0minput_hooks\u001b[0m\u001b[0;34m)\u001b[0m\u001b[0;34m\u001b[0m\u001b[0;34m\u001b[0m\u001b[0m\n\u001b[1;32m   1189\u001b[0m       estimator_spec = self._call_model_fn(\n\u001b[0;32m-> 1190\u001b[0;31m           features, labels, ModeKeys.TRAIN, self.config)\n\u001b[0m\u001b[1;32m   1191\u001b[0m       \u001b[0mglobal_step_tensor\u001b[0m \u001b[0;34m=\u001b[0m \u001b[0mtraining_util\u001b[0m\u001b[0;34m.\u001b[0m\u001b[0mget_global_step\u001b[0m\u001b[0;34m(\u001b[0m\u001b[0mg\u001b[0m\u001b[0;34m)\u001b[0m\u001b[0;34m\u001b[0m\u001b[0;34m\u001b[0m\u001b[0m\n\u001b[1;32m   1192\u001b[0m       return self._train_with_estimator_spec(estimator_spec, worker_hooks,\n",
            "\u001b[0;32m~/workspace/environment/tf2_py3/lib/python3.7/site-packages/tensorflow_estimator/python/estimator/estimator.py\u001b[0m in \u001b[0;36m_call_model_fn\u001b[0;34m(self, features, labels, mode, config)\u001b[0m\n\u001b[1;32m   1146\u001b[0m \u001b[0;34m\u001b[0m\u001b[0m\n\u001b[1;32m   1147\u001b[0m     \u001b[0mlogging\u001b[0m\u001b[0;34m.\u001b[0m\u001b[0minfo\u001b[0m\u001b[0;34m(\u001b[0m\u001b[0;34m'Calling model_fn.'\u001b[0m\u001b[0;34m)\u001b[0m\u001b[0;34m\u001b[0m\u001b[0;34m\u001b[0m\u001b[0m\n\u001b[0;32m-> 1148\u001b[0;31m     \u001b[0mmodel_fn_results\u001b[0m \u001b[0;34m=\u001b[0m \u001b[0mself\u001b[0m\u001b[0;34m.\u001b[0m\u001b[0m_model_fn\u001b[0m\u001b[0;34m(\u001b[0m\u001b[0mfeatures\u001b[0m\u001b[0;34m=\u001b[0m\u001b[0mfeatures\u001b[0m\u001b[0;34m,\u001b[0m \u001b[0;34m**\u001b[0m\u001b[0mkwargs\u001b[0m\u001b[0;34m)\u001b[0m\u001b[0;34m\u001b[0m\u001b[0;34m\u001b[0m\u001b[0m\n\u001b[0m\u001b[1;32m   1149\u001b[0m     \u001b[0mlogging\u001b[0m\u001b[0;34m.\u001b[0m\u001b[0minfo\u001b[0m\u001b[0;34m(\u001b[0m\u001b[0;34m'Done calling model_fn.'\u001b[0m\u001b[0;34m)\u001b[0m\u001b[0;34m\u001b[0m\u001b[0;34m\u001b[0m\u001b[0m\n\u001b[1;32m   1150\u001b[0m \u001b[0;34m\u001b[0m\u001b[0m\n",
            "\u001b[0;32m~/workspace/environment/tf2_py3/lib/python3.7/site-packages/tensorflow_estimator/python/estimator/keras.py\u001b[0m in \u001b[0;36mmodel_fn\u001b[0;34m(features, labels, mode)\u001b[0m\n\u001b[1;32m    286\u001b[0m         \u001b[0mfeatures\u001b[0m\u001b[0;34m=\u001b[0m\u001b[0mfeatures\u001b[0m\u001b[0;34m,\u001b[0m\u001b[0;34m\u001b[0m\u001b[0;34m\u001b[0m\u001b[0m\n\u001b[1;32m    287\u001b[0m         \u001b[0mlabels\u001b[0m\u001b[0;34m=\u001b[0m\u001b[0mlabels\u001b[0m\u001b[0;34m,\u001b[0m\u001b[0;34m\u001b[0m\u001b[0;34m\u001b[0m\u001b[0m\n\u001b[0;32m--> 288\u001b[0;31m         optimizer_config=optimizer_config)\n\u001b[0m\u001b[1;32m    289\u001b[0m     \u001b[0mmodel_output_names\u001b[0m \u001b[0;34m=\u001b[0m \u001b[0;34m[\u001b[0m\u001b[0;34m]\u001b[0m\u001b[0;34m\u001b[0m\u001b[0;34m\u001b[0m\u001b[0m\n\u001b[1;32m    290\u001b[0m     \u001b[0;31m# We need to make sure that the output names of the last layer in the model\u001b[0m\u001b[0;34m\u001b[0m\u001b[0;34m\u001b[0m\u001b[0;34m\u001b[0m\u001b[0m\n",
            "\u001b[0;32m~/workspace/environment/tf2_py3/lib/python3.7/site-packages/tensorflow_estimator/python/estimator/keras.py\u001b[0m in \u001b[0;36m_clone_and_build_model\u001b[0;34m(mode, keras_model, custom_objects, features, labels, optimizer_config)\u001b[0m\n\u001b[1;32m    225\u001b[0m       \u001b[0min_place_reset\u001b[0m\u001b[0;34m=\u001b[0m\u001b[0;34m(\u001b[0m\u001b[0;32mnot\u001b[0m \u001b[0mkeras_model\u001b[0m\u001b[0;34m.\u001b[0m\u001b[0m_is_graph_network\u001b[0m\u001b[0;34m)\u001b[0m\u001b[0;34m,\u001b[0m\u001b[0;34m\u001b[0m\u001b[0;34m\u001b[0m\u001b[0m\n\u001b[1;32m    226\u001b[0m       \u001b[0moptimizer_iterations\u001b[0m\u001b[0;34m=\u001b[0m\u001b[0mglobal_step\u001b[0m\u001b[0;34m,\u001b[0m\u001b[0;34m\u001b[0m\u001b[0;34m\u001b[0m\u001b[0m\n\u001b[0;32m--> 227\u001b[0;31m       optimizer_config=optimizer_config)\n\u001b[0m\u001b[1;32m    228\u001b[0m \u001b[0;34m\u001b[0m\u001b[0m\n\u001b[1;32m    229\u001b[0m   \u001b[0;32mif\u001b[0m \u001b[0msample_weight_tensors\u001b[0m \u001b[0;32mis\u001b[0m \u001b[0;32mnot\u001b[0m \u001b[0;32mNone\u001b[0m\u001b[0;34m:\u001b[0m\u001b[0;34m\u001b[0m\u001b[0;34m\u001b[0m\u001b[0m\n",
            "\u001b[0;32m~/workspace/environment/tf2_py3/lib/python3.7/site-packages/tensorflow_core/python/keras/models.py\u001b[0m in \u001b[0;36mclone_and_build_model\u001b[0;34m(model, input_tensors, target_tensors, custom_objects, compile_clone, in_place_reset, optimizer_iterations, optimizer_config)\u001b[0m\n\u001b[1;32m    632\u001b[0m         \u001b[0mclone\u001b[0m \u001b[0;34m=\u001b[0m \u001b[0mclone_model\u001b[0m\u001b[0;34m(\u001b[0m\u001b[0mmodel\u001b[0m\u001b[0;34m,\u001b[0m \u001b[0minput_tensors\u001b[0m\u001b[0;34m=\u001b[0m\u001b[0minput_tensors\u001b[0m\u001b[0;34m)\u001b[0m\u001b[0;34m\u001b[0m\u001b[0;34m\u001b[0m\u001b[0m\n\u001b[1;32m    633\u001b[0m     \u001b[0;32melse\u001b[0m\u001b[0;34m:\u001b[0m\u001b[0;34m\u001b[0m\u001b[0;34m\u001b[0m\u001b[0m\n\u001b[0;32m--> 634\u001b[0;31m       \u001b[0mclone\u001b[0m \u001b[0;34m=\u001b[0m \u001b[0mclone_model\u001b[0m\u001b[0;34m(\u001b[0m\u001b[0mmodel\u001b[0m\u001b[0;34m,\u001b[0m \u001b[0minput_tensors\u001b[0m\u001b[0;34m=\u001b[0m\u001b[0minput_tensors\u001b[0m\u001b[0;34m)\u001b[0m\u001b[0;34m\u001b[0m\u001b[0;34m\u001b[0m\u001b[0m\n\u001b[0m\u001b[1;32m    635\u001b[0m \u001b[0;34m\u001b[0m\u001b[0m\n\u001b[1;32m    636\u001b[0m     if all([isinstance(clone, Sequential),\n",
            "\u001b[0;32m~/workspace/environment/tf2_py3/lib/python3.7/site-packages/tensorflow_core/python/keras/models.py\u001b[0m in \u001b[0;36mclone_model\u001b[0;34m(model, input_tensors, clone_function)\u001b[0m\n\u001b[1;32m    417\u001b[0m   \u001b[0;32mif\u001b[0m \u001b[0misinstance\u001b[0m\u001b[0;34m(\u001b[0m\u001b[0mmodel\u001b[0m\u001b[0;34m,\u001b[0m \u001b[0mSequential\u001b[0m\u001b[0;34m)\u001b[0m\u001b[0;34m:\u001b[0m\u001b[0;34m\u001b[0m\u001b[0;34m\u001b[0m\u001b[0m\n\u001b[1;32m    418\u001b[0m     return _clone_sequential_model(\n\u001b[0;32m--> 419\u001b[0;31m         model, input_tensors=input_tensors, layer_fn=clone_function)\n\u001b[0m\u001b[1;32m    420\u001b[0m   \u001b[0;32melse\u001b[0m\u001b[0;34m:\u001b[0m\u001b[0;34m\u001b[0m\u001b[0;34m\u001b[0m\u001b[0m\n\u001b[1;32m    421\u001b[0m     return _clone_functional_model(\n",
            "\u001b[0;32m~/workspace/environment/tf2_py3/lib/python3.7/site-packages/tensorflow_core/python/keras/models.py\u001b[0m in \u001b[0;36m_clone_sequential_model\u001b[0;34m(model, input_tensors, layer_fn)\u001b[0m\n\u001b[1;32m    336\u001b[0m       \u001b[0minput_tensors\u001b[0m \u001b[0;34m=\u001b[0m \u001b[0mlist\u001b[0m\u001b[0;34m(\u001b[0m\u001b[0minput_tensors\u001b[0m\u001b[0;34m)\u001b[0m\u001b[0;34m\u001b[0m\u001b[0;34m\u001b[0m\u001b[0m\n\u001b[1;32m    337\u001b[0m     \u001b[0mx\u001b[0m \u001b[0;34m=\u001b[0m \u001b[0mgeneric_utils\u001b[0m\u001b[0;34m.\u001b[0m\u001b[0mto_list\u001b[0m\u001b[0;34m(\u001b[0m\u001b[0minput_tensors\u001b[0m\u001b[0;34m)\u001b[0m\u001b[0;34m[\u001b[0m\u001b[0;36m0\u001b[0m\u001b[0;34m]\u001b[0m\u001b[0;34m\u001b[0m\u001b[0;34m\u001b[0m\u001b[0m\n\u001b[0;32m--> 338\u001b[0;31m     \u001b[0;32mif\u001b[0m \u001b[0mK\u001b[0m\u001b[0;34m.\u001b[0m\u001b[0mis_keras_tensor\u001b[0m\u001b[0;34m(\u001b[0m\u001b[0mx\u001b[0m\u001b[0;34m)\u001b[0m\u001b[0;34m:\u001b[0m\u001b[0;34m\u001b[0m\u001b[0;34m\u001b[0m\u001b[0m\n\u001b[0m\u001b[1;32m    339\u001b[0m       \u001b[0morigin_layer\u001b[0m \u001b[0;34m=\u001b[0m \u001b[0mx\u001b[0m\u001b[0;34m.\u001b[0m\u001b[0m_keras_history\u001b[0m\u001b[0;34m.\u001b[0m\u001b[0mlayer\u001b[0m\u001b[0;34m\u001b[0m\u001b[0;34m\u001b[0m\u001b[0m\n\u001b[1;32m    340\u001b[0m       \u001b[0;32mif\u001b[0m \u001b[0misinstance\u001b[0m\u001b[0;34m(\u001b[0m\u001b[0morigin_layer\u001b[0m\u001b[0;34m,\u001b[0m \u001b[0mInputLayer\u001b[0m\u001b[0;34m)\u001b[0m\u001b[0;34m:\u001b[0m\u001b[0;34m\u001b[0m\u001b[0;34m\u001b[0m\u001b[0m\n",
            "\u001b[0;32m~/workspace/environment/tf2_py3/lib/python3.7/site-packages/tensorflow_core/python/keras/backend.py\u001b[0m in \u001b[0;36mis_keras_tensor\u001b[0;34m(x)\u001b[0m\n\u001b[1;32m    985\u001b[0m                         sparse_tensor.SparseTensor)):\n\u001b[1;32m    986\u001b[0m     raise ValueError('Unexpectedly found an instance of type `' + str(type(x)) +\n\u001b[0;32m--> 987\u001b[0;31m                      '`. Expected a symbolic tensor instance.')\n\u001b[0m\u001b[1;32m    988\u001b[0m   \u001b[0;32mreturn\u001b[0m \u001b[0mhasattr\u001b[0m\u001b[0;34m(\u001b[0m\u001b[0mx\u001b[0m\u001b[0;34m,\u001b[0m \u001b[0;34m'_keras_history'\u001b[0m\u001b[0;34m)\u001b[0m\u001b[0;34m\u001b[0m\u001b[0;34m\u001b[0m\u001b[0m\n\u001b[1;32m    989\u001b[0m \u001b[0;34m\u001b[0m\u001b[0m\n",
            "\u001b[0;31mValueError\u001b[0m: Unexpectedly found an instance of type `<class 'dict'>`. Expected a symbolic tensor instance."
          ]
        }
      ]
    },
    {
      "cell_type": "code",
      "metadata": {
        "id": "TtANwh6_rBXv",
        "colab_type": "code",
        "colab": {}
      },
      "source": [
        ""
      ],
      "execution_count": null,
      "outputs": []
    }
  ]
}