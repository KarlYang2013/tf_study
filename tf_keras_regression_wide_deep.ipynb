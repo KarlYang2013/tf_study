{
  "nbformat": 4,
  "nbformat_minor": 0,
  "metadata": {
    "colab": {
      "name": "tf_keras_regression-wide_deep.ipynb",
      "provenance": [],
      "authorship_tag": "ABX9TyN4vigw++DKDEuLUcKovvj7",
      "include_colab_link": true
    },
    "kernelspec": {
      "name": "python3",
      "display_name": "Python 3"
    }
  },
  "cells": [
    {
      "cell_type": "markdown",
      "metadata": {
        "id": "view-in-github",
        "colab_type": "text"
      },
      "source": [
        "<a href=\"https://colab.research.google.com/github/KarlYang2013/tf_study/blob/master/tf_keras_regression_wide_deep.ipynb\" target=\"_parent\"><img src=\"https://colab.research.google.com/assets/colab-badge.svg\" alt=\"Open In Colab\"/></a>"
      ]
    },
    {
      "cell_type": "code",
      "metadata": {
        "id": "ImZ1X3tujcS2",
        "colab_type": "code",
        "colab": {}
      },
      "source": [
        ""
      ],
      "execution_count": null,
      "outputs": []
    },
    {
      "cell_type": "code",
      "metadata": {
        "id": "BOy11Qinuv6z",
        "colab_type": "code",
        "colab": {
          "base_uri": "https://localhost:8080/",
          "height": 459
        },
        "outputId": "5999f500-434f-4af7-a3c8-0545c65a4a9b"
      },
      "source": [
        "import matplotlib as mpl\n",
        "import matplotlib.pyplot as plt\n",
        "#%开头这样确保可以在notebook中使用matplotlib\n",
        "%matplotlib inline\n",
        "import numpy as np \n",
        "import pandas as pd\n",
        "import sklearn\n",
        "import os \n",
        "import sys\n",
        "import time\n",
        "import tensorflow as tf\n",
        "from tensorflow import keras\n",
        "\n",
        "print(tf.__version__)\n",
        "print(sys.version_info)\n",
        "for module in mpl, np, pd, sklearn, tf, keras:\n",
        "    print(module.__name__, module.__version__)\n",
        "#查看有哪些数据集 目前有7个\n",
        "help(keras.datasets)\n"
      ],
      "execution_count": 2,
      "outputs": [
        {
          "output_type": "stream",
          "text": [
            "2.2.0\n",
            "sys.version_info(major=3, minor=6, micro=9, releaselevel='final', serial=0)\n",
            "matplotlib 3.2.2\n",
            "numpy 1.18.5\n",
            "pandas 1.0.5\n",
            "sklearn 0.22.2.post1\n",
            "tensorflow 2.2.0\n",
            "tensorflow.keras 2.3.0-tf\n",
            "Help on package tensorflow.keras.datasets in tensorflow.keras:\n",
            "\n",
            "NAME\n",
            "    tensorflow.keras.datasets - Public API for tf.keras.datasets namespace.\n",
            "\n",
            "PACKAGE CONTENTS\n",
            "    boston_housing (package)\n",
            "    cifar10 (package)\n",
            "    cifar100 (package)\n",
            "    fashion_mnist (package)\n",
            "    imdb (package)\n",
            "    mnist (package)\n",
            "    reuters (package)\n",
            "\n",
            "FILE\n",
            "    /usr/local/lib/python3.6/dist-packages/tensorflow/keras/datasets/__init__.py\n",
            "\n",
            "\n"
          ],
          "name": "stdout"
        }
      ]
    },
    {
      "cell_type": "code",
      "metadata": {
        "id": "z3dOQ3JWm8G-",
        "colab_type": "code",
        "colab": {
          "base_uri": "https://localhost:8080/",
          "height": 901
        },
        "outputId": "b1cf0d89-a48e-4888-afaa-80344c1ca0db"
      },
      "source": [
        "from sklearn.datasets import fetch_california_housing\n",
        "\n",
        "fashion_minist = keras.datasets.fashion_mnist\n",
        "housing = fetch_california_housing()\n",
        "print(housing.DESCR)\n",
        "print(housing.data.shape)\n",
        "print(housing.target.shape)"
      ],
      "execution_count": 3,
      "outputs": [
        {
          "output_type": "stream",
          "text": [
            "Downloading Cal. housing from https://ndownloader.figshare.com/files/5976036 to /root/scikit_learn_data\n"
          ],
          "name": "stderr"
        },
        {
          "output_type": "stream",
          "text": [
            ".. _california_housing_dataset:\n",
            "\n",
            "California Housing dataset\n",
            "--------------------------\n",
            "\n",
            "**Data Set Characteristics:**\n",
            "\n",
            "    :Number of Instances: 20640\n",
            "\n",
            "    :Number of Attributes: 8 numeric, predictive attributes and the target\n",
            "\n",
            "    :Attribute Information:\n",
            "        - MedInc        median income in block\n",
            "        - HouseAge      median house age in block\n",
            "        - AveRooms      average number of rooms\n",
            "        - AveBedrms     average number of bedrooms\n",
            "        - Population    block population\n",
            "        - AveOccup      average house occupancy\n",
            "        - Latitude      house block latitude\n",
            "        - Longitude     house block longitude\n",
            "\n",
            "    :Missing Attribute Values: None\n",
            "\n",
            "This dataset was obtained from the StatLib repository.\n",
            "http://lib.stat.cmu.edu/datasets/\n",
            "\n",
            "The target variable is the median house value for California districts.\n",
            "\n",
            "This dataset was derived from the 1990 U.S. census, using one row per census\n",
            "block group. A block group is the smallest geographical unit for which the U.S.\n",
            "Census Bureau publishes sample data (a block group typically has a population\n",
            "of 600 to 3,000 people).\n",
            "\n",
            "It can be downloaded/loaded using the\n",
            ":func:`sklearn.datasets.fetch_california_housing` function.\n",
            "\n",
            ".. topic:: References\n",
            "\n",
            "    - Pace, R. Kelley and Ronald Barry, Sparse Spatial Autoregressions,\n",
            "      Statistics and Probability Letters, 33 (1997) 291-297\n",
            "\n",
            "(20640, 8)\n",
            "(20640,)\n",
            "Downloading data from https://storage.googleapis.com/tensorflow/tf-keras-datasets/train-labels-idx1-ubyte.gz\n",
            "32768/29515 [=================================] - 0s 0us/step\n",
            "Downloading data from https://storage.googleapis.com/tensorflow/tf-keras-datasets/train-images-idx3-ubyte.gz\n",
            "26427392/26421880 [==============================] - 0s 0us/step\n",
            "Downloading data from https://storage.googleapis.com/tensorflow/tf-keras-datasets/t10k-labels-idx1-ubyte.gz\n",
            "8192/5148 [===============================================] - 0s 0us/step\n",
            "Downloading data from https://storage.googleapis.com/tensorflow/tf-keras-datasets/t10k-images-idx3-ubyte.gz\n",
            "4423680/4422102 [==============================] - 0s 0us/step\n"
          ],
          "name": "stdout"
        }
      ]
    },
    {
      "cell_type": "code",
      "metadata": {
        "id": "a_TvlBYh8rPB",
        "colab_type": "code",
        "colab": {
          "base_uri": "https://localhost:8080/",
          "height": 68
        },
        "outputId": "63281dd0-4579-4230-ad27-24445994aa3d"
      },
      "source": [
        "\n",
        "from sklearn.model_selection import train_test_split\n",
        "x_train_all, x_test, y_train_all, y_test = train_test_split(\n",
        "    housing.data, housing.target, random_state = 7)\n",
        "x_train, x_valid, y_train, y_valid = train_test_split(\n",
        "    x_train_all, y_train_all, random_state = 11)\n",
        "print(x_train.shape, y_train.shape)\n",
        "print(x_valid.shape, y_valid.shape)\n",
        "print(x_test.shape, y_test.shape)"
      ],
      "execution_count": 4,
      "outputs": [
        {
          "output_type": "stream",
          "text": [
            "(11610, 8) (11610,)\n",
            "(3870, 8) (3870,)\n",
            "(5160, 8) (5160,)\n"
          ],
          "name": "stdout"
        }
      ]
    },
    {
      "cell_type": "markdown",
      "metadata": {
        "id": "YAbqRl2_8If-",
        "colab_type": "text"
      },
      "source": [
        "# 新段落"
      ]
    },
    {
      "cell_type": "code",
      "metadata": {
        "id": "L4P9mBvdra4D",
        "colab_type": "code",
        "colab": {
          "base_uri": "https://localhost:8080/",
          "height": 34
        },
        "outputId": "daab3477-6047-45c9-9db5-5ef5b41cdb7f"
      },
      "source": [
        "x_train.shape[1:]"
      ],
      "execution_count": 17,
      "outputs": [
        {
          "output_type": "execute_result",
          "data": {
            "text/plain": [
              "(8,)"
            ]
          },
          "metadata": {
            "tags": []
          },
          "execution_count": 17
        }
      ]
    },
    {
      "cell_type": "code",
      "metadata": {
        "id": "l7TKn-8w_E7b",
        "colab_type": "code",
        "colab": {}
      },
      "source": [
        "#标准化处理 x = (x - u) / std\n",
        "from sklearn.preprocessing import StandardScaler\n",
        "scaler = StandardScaler()#创建对象\n",
        "# x_train: [None, 28, 28] -> [None, 784]\n",
        "x_train_scaled = scaler.fit_transform(x_train)\n",
        "x_valid_scaled = scaler.transform(x_valid.astype(np.float32))\n",
        "x_test_scaled = scaler.transform(x_test.astype(np.float32))"
      ],
      "execution_count": 7,
      "outputs": []
    },
    {
      "cell_type": "code",
      "metadata": {
        "id": "rp39-VhN_tWv",
        "colab_type": "code",
        "colab": {
          "base_uri": "https://localhost:8080/",
          "height": 34
        },
        "outputId": "be5c3de4-7168-4e0f-cb08-e04229f5a850"
      },
      "source": [
        "print(np.max(x_train_scaled),np.min(x_train_scaled))"
      ],
      "execution_count": 8,
      "outputs": [
        {
          "output_type": "stream",
          "text": [
            "81.80221745207753 -2.3594398206242224\n"
          ],
          "name": "stdout"
        }
      ]
    },
    {
      "cell_type": "code",
      "metadata": {
        "id": "cISWWweohAz5",
        "colab_type": "code",
        "colab": {
          "base_uri": "https://localhost:8080/",
          "height": 340
        },
        "outputId": "9356b573-3982-4bae-a91d-b10bcbefd8f0"
      },
      "source": [
        "# 函数式API 功能API 像使用一个函数一样使用keras的layer\n",
        "input = keras.layers.Input(shape=x_train.shape[1:])#wide部分 x_train.shape[1:] = (8,),而 x_train.shape[1]=8\n",
        "hidden1 = keras.layers.Dense(30, activation='relu')(input)#这里比较简单，把wide部分还用做了deep的输入\n",
        "hidden2 = keras.layers.Dense(30, activation='relu')(hidden1)\n",
        "# 复合函数: f(x) = h(g(x))\n",
        "\n",
        "concat = keras.layers.concatenate([input, hidden2])#wide部分和deep部分拼接起来用作输出层的输入\n",
        "output = keras.layers.Dense(1)(concat)#因为是回归模型，所以输出层的的维度是1，所以是Dense(1)\n",
        "\n",
        "model = keras.models.Model(inputs = [input],\n",
        "                           outputs = [output])\n",
        "\n",
        "model.summary()\n",
        "model.compile(loss=\"mean_squared_error\",\n",
        "              optimizer = keras.optimizers.SGD(0.001))\n",
        "callbacks = [keras.callbacks.EarlyStopping(\n",
        "    patience=5, min_delta=1e-2)]"
      ],
      "execution_count": 9,
      "outputs": [
        {
          "output_type": "stream",
          "text": [
            "Model: \"model\"\n",
            "__________________________________________________________________________________________________\n",
            "Layer (type)                    Output Shape         Param #     Connected to                     \n",
            "==================================================================================================\n",
            "input_1 (InputLayer)            [(None, 8)]          0                                            \n",
            "__________________________________________________________________________________________________\n",
            "dense (Dense)                   (None, 30)           270         input_1[0][0]                    \n",
            "__________________________________________________________________________________________________\n",
            "dense_1 (Dense)                 (None, 30)           930         dense[0][0]                      \n",
            "__________________________________________________________________________________________________\n",
            "concatenate (Concatenate)       (None, 38)           0           input_1[0][0]                    \n",
            "                                                                 dense_1[0][0]                    \n",
            "__________________________________________________________________________________________________\n",
            "dense_2 (Dense)                 (None, 1)            39          concatenate[0][0]                \n",
            "==================================================================================================\n",
            "Total params: 1,239\n",
            "Trainable params: 1,239\n",
            "Non-trainable params: 0\n",
            "__________________________________________________________________________________________________\n"
          ],
          "name": "stdout"
        }
      ]
    },
    {
      "cell_type": "code",
      "metadata": {
        "id": "8j20GnkOjtJs",
        "colab_type": "code",
        "colab": {
          "base_uri": "https://localhost:8080/",
          "height": 391
        },
        "outputId": "a754df40-f1f3-49f9-acc2-4751c07b0c1d"
      },
      "source": [
        "model.layers"
      ],
      "execution_count": null,
      "outputs": [
        {
          "output_type": "execute_result",
          "data": {
            "text/plain": [
              "[<tensorflow.python.keras.layers.core.Flatten at 0x7f25bbb2ab38>,\n",
              " <tensorflow.python.keras.layers.core.Dense at 0x7f25bbad7208>,\n",
              " <tensorflow.python.keras.layers.core.Dense at 0x7f25bbad78d0>,\n",
              " <tensorflow.python.keras.layers.core.Dense at 0x7f25bbb2a978>,\n",
              " <tensorflow.python.keras.layers.core.Dense at 0x7f25bbb2a908>,\n",
              " <tensorflow.python.keras.layers.core.Dense at 0x7f25bbad7b00>,\n",
              " <tensorflow.python.keras.layers.core.Dense at 0x7f25bb28ef98>,\n",
              " <tensorflow.python.keras.layers.core.Dense at 0x7f25bb2a6da0>,\n",
              " <tensorflow.python.keras.layers.core.Dense at 0x7f25bb2b0be0>,\n",
              " <tensorflow.python.keras.layers.core.Dense at 0x7f25b557ba20>,\n",
              " <tensorflow.python.keras.layers.core.Dense at 0x7f25b5583860>,\n",
              " <tensorflow.python.keras.layers.core.Dense at 0x7f25b558b6a0>,\n",
              " <tensorflow.python.keras.layers.core.Dense at 0x7f25b5591588>,\n",
              " <tensorflow.python.keras.layers.core.Dense at 0x7f25b5591550>,\n",
              " <tensorflow.python.keras.layers.core.Dense at 0x7f25bbad7c50>,\n",
              " <tensorflow.python.keras.layers.core.Dense at 0x7f25b55a1f28>,\n",
              " <tensorflow.python.keras.layers.core.Dense at 0x7f25b55a6ef0>,\n",
              " <tensorflow.python.keras.layers.core.Dense at 0x7f25b55aeb38>,\n",
              " <tensorflow.python.keras.layers.core.Dense at 0x7f25b5538908>,\n",
              " <tensorflow.python.keras.layers.core.Dense at 0x7f25b553f6a0>,\n",
              " <tensorflow.python.keras.layers.core.Dense at 0x7f25b553f7b8>,\n",
              " <tensorflow.python.keras.layers.core.Dense at 0x7f25b5544fd0>]"
            ]
          },
          "metadata": {
            "tags": []
          },
          "execution_count": 6
        }
      ]
    },
    {
      "cell_type": "code",
      "metadata": {
        "id": "ob4dG-UZk0Sb",
        "colab_type": "code",
        "colab": {
          "base_uri": "https://localhost:8080/",
          "height": 1000
        },
        "outputId": "9f7e7952-bce8-4468-e171-ff626286230f"
      },
      "source": [
        "history = model.fit(x_train_scaled, y_train,\n",
        "                    validation_data = (x_valid_scaled, y_valid),\n",
        "                    epochs = 100,\n",
        "                    callbacks = callbacks)"
      ],
      "execution_count": 10,
      "outputs": [
        {
          "output_type": "stream",
          "text": [
            "Epoch 1/100\n",
            "363/363 [==============================] - 1s 2ms/step - loss: 1.5885 - val_loss: 0.8501\n",
            "Epoch 2/100\n",
            "363/363 [==============================] - 0s 1ms/step - loss: 0.6787 - val_loss: 0.7175\n",
            "Epoch 3/100\n",
            "363/363 [==============================] - 0s 1ms/step - loss: 0.6262 - val_loss: 0.6791\n",
            "Epoch 4/100\n",
            "363/363 [==============================] - 0s 1ms/step - loss: 0.6015 - val_loss: 0.6567\n",
            "Epoch 5/100\n",
            "363/363 [==============================] - 0s 1ms/step - loss: 0.5835 - val_loss: 0.6327\n",
            "Epoch 6/100\n",
            "363/363 [==============================] - 0s 1ms/step - loss: 0.5702 - val_loss: 0.6212\n",
            "Epoch 7/100\n",
            "363/363 [==============================] - 0s 1ms/step - loss: 0.5570 - val_loss: 0.6066\n",
            "Epoch 8/100\n",
            "363/363 [==============================] - 0s 1ms/step - loss: 0.5489 - val_loss: 0.5963\n",
            "Epoch 9/100\n",
            "363/363 [==============================] - 0s 1ms/step - loss: 0.5370 - val_loss: 0.5836\n",
            "Epoch 10/100\n",
            "363/363 [==============================] - 0s 1ms/step - loss: 0.5288 - val_loss: 0.5783\n",
            "Epoch 11/100\n",
            "363/363 [==============================] - 0s 1ms/step - loss: 0.5229 - val_loss: 0.5635\n",
            "Epoch 12/100\n",
            "363/363 [==============================] - 0s 1ms/step - loss: 0.5150 - val_loss: 0.5568\n",
            "Epoch 13/100\n",
            "363/363 [==============================] - 0s 1ms/step - loss: 0.5096 - val_loss: 0.5508\n",
            "Epoch 14/100\n",
            "363/363 [==============================] - 0s 1ms/step - loss: 0.5033 - val_loss: 0.5449\n",
            "Epoch 15/100\n",
            "363/363 [==============================] - 0s 1ms/step - loss: 0.4977 - val_loss: 0.5375\n",
            "Epoch 16/100\n",
            "363/363 [==============================] - 0s 1ms/step - loss: 0.4942 - val_loss: 0.5321\n",
            "Epoch 17/100\n",
            "363/363 [==============================] - 0s 1ms/step - loss: 0.4885 - val_loss: 0.5245\n",
            "Epoch 18/100\n",
            "363/363 [==============================] - 0s 1ms/step - loss: 0.4846 - val_loss: 0.5227\n",
            "Epoch 19/100\n",
            "363/363 [==============================] - 0s 1ms/step - loss: 0.4809 - val_loss: 0.5227\n",
            "Epoch 20/100\n",
            "363/363 [==============================] - 0s 1ms/step - loss: 0.4764 - val_loss: 0.5132\n",
            "Epoch 21/100\n",
            "363/363 [==============================] - 0s 1ms/step - loss: 0.4738 - val_loss: 0.5112\n",
            "Epoch 22/100\n",
            "363/363 [==============================] - 0s 1ms/step - loss: 0.4703 - val_loss: 0.5035\n",
            "Epoch 23/100\n",
            "363/363 [==============================] - 0s 1ms/step - loss: 0.4686 - val_loss: 0.4984\n",
            "Epoch 24/100\n",
            "363/363 [==============================] - 0s 1ms/step - loss: 0.4638 - val_loss: 0.4959\n",
            "Epoch 25/100\n",
            "363/363 [==============================] - 0s 1ms/step - loss: 0.4612 - val_loss: 0.4907\n",
            "Epoch 26/100\n",
            "363/363 [==============================] - 0s 1ms/step - loss: 0.4577 - val_loss: 0.4909\n",
            "Epoch 27/100\n",
            "363/363 [==============================] - 0s 1ms/step - loss: 0.4546 - val_loss: 0.4858\n",
            "Epoch 28/100\n",
            "363/363 [==============================] - 0s 1ms/step - loss: 0.4520 - val_loss: 0.4831\n",
            "Epoch 29/100\n",
            "363/363 [==============================] - 0s 1ms/step - loss: 0.4489 - val_loss: 0.4811\n",
            "Epoch 30/100\n",
            "363/363 [==============================] - 0s 1ms/step - loss: 0.4467 - val_loss: 0.4757\n",
            "Epoch 31/100\n",
            "363/363 [==============================] - 0s 1ms/step - loss: 0.4458 - val_loss: 0.4725\n",
            "Epoch 32/100\n",
            "363/363 [==============================] - 0s 1ms/step - loss: 0.4420 - val_loss: 0.4696\n",
            "Epoch 33/100\n",
            "363/363 [==============================] - 0s 1ms/step - loss: 0.4392 - val_loss: 0.4673\n",
            "Epoch 34/100\n",
            "363/363 [==============================] - 0s 1ms/step - loss: 0.4369 - val_loss: 0.4714\n",
            "Epoch 35/100\n",
            "363/363 [==============================] - 0s 1ms/step - loss: 0.4353 - val_loss: 0.4659\n"
          ],
          "name": "stdout"
        }
      ]
    },
    {
      "cell_type": "code",
      "metadata": {
        "id": "1gJiDgUlm5qT",
        "colab_type": "code",
        "colab": {
          "base_uri": "https://localhost:8080/",
          "height": 71
        },
        "outputId": "60e1fc36-f2fa-4a8a-b86c-3c37f959c9d6"
      },
      "source": [
        "print(type(history))\n",
        "print(history.history)"
      ],
      "execution_count": 11,
      "outputs": [
        {
          "output_type": "stream",
          "text": [
            "<class 'tensorflow.python.keras.callbacks.History'>\n",
            "{'loss': [1.5885226726531982, 0.6787282824516296, 0.6262330412864685, 0.6015074253082275, 0.5834859013557434, 0.5701991319656372, 0.5570229291915894, 0.5488682985305786, 0.5370222926139832, 0.5288075804710388, 0.5229281187057495, 0.5150048136711121, 0.5095952749252319, 0.5033191442489624, 0.49773186445236206, 0.4942403733730316, 0.4885198771953583, 0.48457443714141846, 0.48089873790740967, 0.47644418478012085, 0.47377681732177734, 0.4702664911746979, 0.46862420439720154, 0.4638458788394928, 0.4611939489841461, 0.45774614810943604, 0.4546198844909668, 0.4520014524459839, 0.44890186190605164, 0.4466817378997803, 0.4457567036151886, 0.44195136427879333, 0.4392327070236206, 0.43691056966781616, 0.43528982996940613], 'val_loss': [0.8500792980194092, 0.7175195217132568, 0.6790600419044495, 0.6567181348800659, 0.6326817870140076, 0.6211503744125366, 0.6065747141838074, 0.596324622631073, 0.5836486220359802, 0.578349769115448, 0.5634864568710327, 0.5567710399627686, 0.5508114099502563, 0.5449419021606445, 0.5375247001647949, 0.5321208238601685, 0.5244590640068054, 0.5227413773536682, 0.5227034091949463, 0.5132498741149902, 0.5111616253852844, 0.5034685730934143, 0.49842414259910583, 0.4959389269351959, 0.4906936287879944, 0.490917444229126, 0.485828161239624, 0.4831043779850006, 0.4810548722743988, 0.4757212698459625, 0.47252264618873596, 0.46964266896247864, 0.46725377440452576, 0.4714154303073883, 0.46594253182411194]}\n"
          ],
          "name": "stdout"
        }
      ]
    },
    {
      "cell_type": "code",
      "metadata": {
        "id": "7p9F1XfGmxiX",
        "colab_type": "code",
        "colab": {
          "base_uri": "https://localhost:8080/",
          "height": 324
        },
        "outputId": "cc579550-4933-45c8-9f92-b0676f1794fc"
      },
      "source": [
        "#可视化学习曲线\n",
        "def plot_learning_curves(history):\n",
        "    pd.DataFrame(history.history).plot(figsize=(8, 5))\n",
        "    plt.grid(True)\n",
        "    plt.gca().set_ylim(0, 1)\n",
        "    plt.show()\n",
        "\n",
        "#深层DNN前期loss下降慢的可能原因：\n",
        "# 1. 参数众多，训练不充分，所以前期基本不变\n",
        "# 2. 梯度消失 -> 链式法则 -> 复合函数f(g(x)) --可以加上批归一化来缓解\n",
        "plot_learning_curves(history)"
      ],
      "execution_count": 12,
      "outputs": [
        {
          "output_type": "display_data",
          "data": {
            "image/png": "[encoded data removed]",
            "text/plain": [
              "<Figure size 576x360 with 1 Axes>"
            ]
          },
          "metadata": {
            "tags": [],
            "needs_background": "light"
          }
        }
      ]
    },
    {
      "cell_type": "code",
      "metadata": {
        "id": "yWZn-3R1ndQx",
        "colab_type": "code",
        "colab": {
          "base_uri": "https://localhost:8080/",
          "height": 51
        },
        "outputId": "4c31b7f1-024e-40cc-c0ab-027b6527ef0e"
      },
      "source": [
        "#评估\n",
        "model.evaluate(x_test_scaled, y_test, verbose = 1)"
      ],
      "execution_count": 13,
      "outputs": [
        {
          "output_type": "stream",
          "text": [
            "162/162 [==============================] - 0s 994us/step - loss: 0.4498\n"
          ],
          "name": "stdout"
        },
        {
          "output_type": "execute_result",
          "data": {
            "text/plain": [
              "0.449818879365921"
            ]
          },
          "metadata": {
            "tags": []
          },
          "execution_count": 13
        }
      ]
    }
  ]
}