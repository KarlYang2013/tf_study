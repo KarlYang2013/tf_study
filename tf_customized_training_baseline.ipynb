{
  "nbformat": 4,
  "nbformat_minor": 0,
  "metadata": {
    "kernelspec": {
      "display_name": "Python 3",
      "language": "python",
      "name": "python3"
    },
    "language_info": {
      "codemirror_mode": {
        "name": "ipython",
        "version": 3
      },
      "file_extension": ".py",
      "mimetype": "text/x-python",
      "name": "python",
      "nbconvert_exporter": "python",
      "pygments_lexer": "ipython3",
      "version": "3.7.3"
    },
    "colab": {
      "name": "tf_customized_training_baseline.ipynb",
      "provenance": [],
      "include_colab_link": true
    }
  },
  "cells": [
    {
      "cell_type": "markdown",
      "metadata": {
        "id": "view-in-github",
        "colab_type": "text"
      },
      "source": [
        "<a href=\"https://colab.research.google.com/github/KarlYang2013/tf_study/blob/master/tf_customized_training_baseline.ipynb\" target=\"_parent\"><img src=\"https://colab.research.google.com/assets/colab-badge.svg\" alt=\"Open In Colab\"/></a>"
      ]
    },
    {
      "cell_type": "code",
      "metadata": {
        "id": "a_KDq52k02u5",
        "colab_type": "code",
        "colab": {},
        "outputId": "b0af70a4-e33c-4eb2-e847-6a2f2c0f545b"
      },
      "source": [
        "import matplotlib as mpl\n",
        "import matplotlib.pyplot as plt\n",
        "%matplotlib inline\n",
        "import numpy as np\n",
        "import sklearn\n",
        "import pandas as pd\n",
        "import os\n",
        "import sys\n",
        "import time\n",
        "import tensorflow as tf\n",
        "\n",
        "from tensorflow import keras\n",
        "\n",
        "print(tf.__version__)\n",
        "print(sys.version_info)\n",
        "for module in mpl, np, pd, sklearn, tf, keras:\n",
        "    print(module.__name__, module.__version__)\n"
      ],
      "execution_count": null,
      "outputs": [
        {
          "output_type": "stream",
          "text": [
            "2.0.0-beta1\n",
            "sys.version_info(major=3, minor=5, micro=3, releaselevel='final', serial=0)\n",
            "matplotlib 3.0.3\n",
            "numpy 1.16.4\n",
            "pandas 0.24.2\n",
            "sklearn 0.21.2\n",
            "tensorflow 2.0.0-beta1\n",
            "tensorflow.python.keras.api._v2.keras 2.2.4-tf\n"
          ],
          "name": "stdout"
        }
      ]
    },
    {
      "cell_type": "code",
      "metadata": {
        "id": "wGmBykxp02u-",
        "colab_type": "code",
        "colab": {},
        "outputId": "d83bddab-84bb-4d28-d146-7349c099ff21"
      },
      "source": [
        "tf.debugging.set_log_device_placement(True)\n",
        "gpus = tf.config.experimental.list_physical_devices('GPU')\n",
        "tf.config.experimental.set_visible_devices(gpus[3], 'GPU')\n",
        "for gpu in gpus:\n",
        "    tf.config.experimental.set_memory_growth(gpu, True)\n",
        "print(len(gpus))\n",
        "logical_gpus = tf.config.experimental.list_logical_devices('GPU')\n",
        "print(len(logical_gpus))\n"
      ],
      "execution_count": null,
      "outputs": [
        {
          "output_type": "stream",
          "text": [
            "4\n",
            "1\n"
          ],
          "name": "stdout"
        }
      ]
    },
    {
      "cell_type": "code",
      "metadata": {
        "id": "bc7B3Ua102vB",
        "colab_type": "code",
        "colab": {},
        "outputId": "c84f4f38-9c14-431b-9a51-8fee45c29796"
      },
      "source": [
        "fashion_mnist = keras.datasets.fashion_mnist\n",
        "(x_train_all, y_train_all), (x_test, y_test) = fashion_mnist.load_data()\n",
        "x_valid, x_train = x_train_all[:5000], x_train_all[5000:]\n",
        "y_valid, y_train = y_train_all[:5000], y_train_all[5000:]\n",
        "\n",
        "print(x_valid.shape, y_valid.shape)\n",
        "print(x_train.shape, y_train.shape)\n",
        "print(x_test.shape, y_test.shape)"
      ],
      "execution_count": null,
      "outputs": [
        {
          "output_type": "stream",
          "text": [
            "(5000, 28, 28) (5000,)\n",
            "(55000, 28, 28) (55000,)\n",
            "(10000, 28, 28) (10000,)\n"
          ],
          "name": "stdout"
        }
      ]
    },
    {
      "cell_type": "code",
      "metadata": {
        "id": "FnNQAEdw02vD",
        "colab_type": "code",
        "colab": {}
      },
      "source": [
        "from sklearn.preprocessing import StandardScaler\n",
        "\n",
        "scaler = StandardScaler()\n",
        "x_train_scaled = scaler.fit_transform(\n",
        "    x_train.astype(np.float32).reshape(-1, 1)).reshape(-1, 28, 28, 1)\n",
        "x_valid_scaled = scaler.transform(\n",
        "    x_valid.astype(np.float32).reshape(-1, 1)).reshape(-1, 28, 28, 1)\n",
        "x_test_scaled = scaler.transform(\n",
        "    x_test.astype(np.float32).reshape(-1, 1)).reshape(-1, 28, 28, 1)\n"
      ],
      "execution_count": null,
      "outputs": []
    },
    {
      "cell_type": "code",
      "metadata": {
        "id": "8cjSCF6J02vG",
        "colab_type": "code",
        "colab": {},
        "outputId": "361fd96a-3f1f-43af-d33a-cac03149b588"
      },
      "source": [
        "def make_dataset(images, labels, epochs, batch_size, shuffle=True):\n",
        "    dataset = tf.data.Dataset.from_tensor_slices((images, labels))\n",
        "    if shuffle:\n",
        "        dataset = dataset.shuffle(10000)\n",
        "    dataset = dataset.repeat(epochs).batch(batch_size).prefetch(50)\n",
        "    return dataset\n",
        "\n",
        "batch_size = 256\n",
        "train_dataset = make_dataset(x_train_scaled, y_train, 1, batch_size)\n",
        "valid_dataset = make_dataset(x_valid_scaled, y_valid, 1, batch_size)"
      ],
      "execution_count": null,
      "outputs": [
        {
          "output_type": "stream",
          "text": [
            "Executing op TensorSliceDataset in device /job:localhost/replica:0/task:0/device:CPU:0\n",
            "Executing op ShuffleDataset in device /job:localhost/replica:0/task:0/device:CPU:0\n",
            "Executing op RepeatDataset in device /job:localhost/replica:0/task:0/device:CPU:0\n",
            "Executing op BatchDatasetV2 in device /job:localhost/replica:0/task:0/device:CPU:0\n",
            "Executing op PrefetchDataset in device /job:localhost/replica:0/task:0/device:CPU:0\n"
          ],
          "name": "stdout"
        }
      ]
    },
    {
      "cell_type": "code",
      "metadata": {
        "id": "vMYRvkoc02vI",
        "colab_type": "code",
        "colab": {},
        "outputId": "4ad33ab3-01fa-4fb3-d8d6-c357880b0ad0"
      },
      "source": [
        "model = keras.models.Sequential()\n",
        "model.add(keras.layers.Conv2D(filters=128, kernel_size=3,\n",
        "                              padding='same',\n",
        "                              activation='relu',\n",
        "                              input_shape=(28, 28, 1)))\n",
        "model.add(keras.layers.Conv2D(filters=128, kernel_size=3,\n",
        "                              padding='same',\n",
        "                              activation='relu'))\n",
        "model.add(keras.layers.MaxPool2D(pool_size=2))\n",
        "model.add(keras.layers.Conv2D(filters=256, kernel_size=3,\n",
        "                              padding='same',\n",
        "                              activation='relu'))\n",
        "model.add(keras.layers.Conv2D(filters=256, kernel_size=3,\n",
        "                              padding='same',\n",
        "                              activation='relu'))\n",
        "model.add(keras.layers.MaxPool2D(pool_size=2))\n",
        "model.add(keras.layers.Conv2D(filters=512, kernel_size=3,\n",
        "                              padding='same',\n",
        "                              activation='relu'))\n",
        "model.add(keras.layers.Conv2D(filters=512, kernel_size=3,\n",
        "                              padding='same',\n",
        "                              activation='relu'))\n",
        "model.add(keras.layers.MaxPool2D(pool_size=2))\n",
        "model.add(keras.layers.Flatten())\n",
        "model.add(keras.layers.Dense(512, activation='relu'))\n",
        "model.add(keras.layers.Dense(10, activation=\"softmax\"))"
      ],
      "execution_count": null,
      "outputs": [
        {
          "output_type": "stream",
          "text": [
            "Executing op RandomUniform in device /job:localhost/replica:0/task:0/device:GPU:0\n",
            "Executing op Sub in device /job:localhost/replica:0/task:0/device:GPU:0\n",
            "Executing op Mul in device /job:localhost/replica:0/task:0/device:GPU:0\n",
            "Executing op Add in device /job:localhost/replica:0/task:0/device:GPU:0\n",
            "Executing op VarHandleOp in device /job:localhost/replica:0/task:0/device:GPU:0\n",
            "Executing op VarIsInitializedOp in device /job:localhost/replica:0/task:0/device:GPU:0\n",
            "Executing op LogicalNot in device /job:localhost/replica:0/task:0/device:GPU:0\n",
            "Executing op Assert in device /job:localhost/replica:0/task:0/device:GPU:0\n",
            "Executing op AssignVariableOp in device /job:localhost/replica:0/task:0/device:GPU:0\n",
            "Executing op Fill in device /job:localhost/replica:0/task:0/device:GPU:0\n",
            "Executing op VarHandleOp in device /job:localhost/replica:0/task:0/device:GPU:0\n",
            "Executing op VarHandleOp in device /job:localhost/replica:0/task:0/device:GPU:0\n",
            "Executing op VarHandleOp in device /job:localhost/replica:0/task:0/device:GPU:0\n",
            "Executing op VarHandleOp in device /job:localhost/replica:0/task:0/device:GPU:0\n",
            "Executing op VarHandleOp in device /job:localhost/replica:0/task:0/device:GPU:0\n",
            "Executing op VarHandleOp in device /job:localhost/replica:0/task:0/device:GPU:0\n",
            "Executing op VarHandleOp in device /job:localhost/replica:0/task:0/device:GPU:0\n",
            "Executing op VarHandleOp in device /job:localhost/replica:0/task:0/device:GPU:0\n",
            "Executing op VarHandleOp in device /job:localhost/replica:0/task:0/device:GPU:0\n",
            "Executing op VarHandleOp in device /job:localhost/replica:0/task:0/device:GPU:0\n",
            "Executing op VarHandleOp in device /job:localhost/replica:0/task:0/device:GPU:0\n"
          ],
          "name": "stdout"
        }
      ]
    },
    {
      "cell_type": "code",
      "metadata": {
        "id": "5xxzS44y02vL",
        "colab_type": "code",
        "colab": {},
        "outputId": "9f2dd2ff-bdc9-4645-d667-4e612e9734b8"
      },
      "source": [
        "model.summary()"
      ],
      "execution_count": null,
      "outputs": [
        {
          "output_type": "stream",
          "text": [
            "Model: \"sequential\"\n",
            "_________________________________________________________________\n",
            "Layer (type)                 Output Shape              Param #   \n",
            "=================================================================\n",
            "conv2d (Conv2D)              (None, 28, 28, 128)       1280      \n",
            "_________________________________________________________________\n",
            "conv2d_1 (Conv2D)            (None, 28, 28, 128)       147584    \n",
            "_________________________________________________________________\n",
            "max_pooling2d (MaxPooling2D) (None, 14, 14, 128)       0         \n",
            "_________________________________________________________________\n",
            "conv2d_2 (Conv2D)            (None, 14, 14, 256)       295168    \n",
            "_________________________________________________________________\n",
            "conv2d_3 (Conv2D)            (None, 14, 14, 256)       590080    \n",
            "_________________________________________________________________\n",
            "max_pooling2d_1 (MaxPooling2 (None, 7, 7, 256)         0         \n",
            "_________________________________________________________________\n",
            "conv2d_4 (Conv2D)            (None, 7, 7, 512)         1180160   \n",
            "_________________________________________________________________\n",
            "conv2d_5 (Conv2D)            (None, 7, 7, 512)         2359808   \n",
            "_________________________________________________________________\n",
            "max_pooling2d_2 (MaxPooling2 (None, 3, 3, 512)         0         \n",
            "_________________________________________________________________\n",
            "flatten (Flatten)            (None, 4608)              0         \n",
            "_________________________________________________________________\n",
            "dense (Dense)                (None, 512)               2359808   \n",
            "_________________________________________________________________\n",
            "dense_1 (Dense)              (None, 10)                5130      \n",
            "=================================================================\n",
            "Total params: 6,939,018\n",
            "Trainable params: 6,939,018\n",
            "Non-trainable params: 0\n",
            "_________________________________________________________________\n"
          ],
          "name": "stdout"
        }
      ]
    },
    {
      "cell_type": "code",
      "metadata": {
        "id": "WNC9CzJZ02vO",
        "colab_type": "code",
        "colab": {},
        "outputId": "0962af67-7b47-4946-ba64-4f4a72ea757f"
      },
      "source": [
        "# customized training loop.\n",
        "# 1. define losses functions\n",
        "# 2. define function train_step\n",
        "# 3. define function test_step\n",
        "# 4. for-loop training loop\n",
        "\n",
        "loss_func = keras.losses.SparseCategoricalCrossentropy(\n",
        "    reduction = keras.losses.Reduction.SUM_OVER_BATCH_SIZE)\n",
        "test_loss = keras.metrics.Mean(name = \"test_loss\")\n",
        "train_accuracy = keras.metrics.SparseCategoricalAccuracy(\n",
        "    name = 'train_accuracy')\n",
        "test_accuracy = keras.metrics.SparseCategoricalAccuracy(\n",
        "    name = 'test_accuracy')\n",
        "\n",
        "optimizer = keras.optimizers.SGD(lr=0.01)\n",
        "\n",
        "@tf.function\n",
        "def train_step(inputs):\n",
        "    images, labels = inputs\n",
        "    with tf.GradientTape() as tape:\n",
        "        predictions = model(images, training = True)\n",
        "        loss = loss_func(labels, predictions)\n",
        "    gradients = tape.gradient(loss, model.trainable_variables)\n",
        "    optimizer.apply_gradients(zip(gradients, model.trainable_variables))\n",
        "    train_accuracy.update_state(labels, predictions)\n",
        "    return loss\n",
        "\n",
        "@tf.function\n",
        "def test_step(inputs):\n",
        "    images, labels = inputs\n",
        "    predictions = model(images)\n",
        "    t_loss = loss_func(labels, predictions)\n",
        "    test_loss.update_state(t_loss)\n",
        "    test_accuracy.update_state(labels, predictions)\n",
        "    \n",
        "epochs = 10\n",
        "for epoch in range(epochs):\n",
        "    total_loss = 0.0\n",
        "    num_batches = 0\n",
        "    for x in train_dataset:\n",
        "        start_time = time.time()\n",
        "        total_loss += train_step(x)\n",
        "        run_time = time.time() - start_time\n",
        "        num_batches += 1\n",
        "        print('\\rtotal: %3.3f, num_batches: %d, '\n",
        "              'average: %3.3f, time: %3.3f'\n",
        "              % (total_loss, num_batches,\n",
        "                 total_loss / num_batches, run_time),\n",
        "              end = '')\n",
        "    train_loss = total_loss / num_batches\n",
        "    for x in valid_dataset:\n",
        "        test_step(x)\n",
        "    \n",
        "    print('\\rEpoch: %d, Loss: %3.3f, Acc: %3.3f, '\n",
        "          'Val_Loss: %3.3f, Val_Acc: %3.3f'\n",
        "          % (epoch + 1, train_loss, train_accuracy.result(),\n",
        "             test_loss.result(), test_accuracy.result()))\n",
        "    test_loss.reset_states()\n",
        "    train_accuracy.reset_states()\n",
        "    test_accuracy.reset_states()"
      ],
      "execution_count": null,
      "outputs": [
        {
          "output_type": "stream",
          "text": [
            "Executing op VarHandleOp in device /job:localhost/replica:0/task:0/device:GPU:0\n",
            "Executing op VarHandleOp in device /job:localhost/replica:0/task:0/device:GPU:0\n",
            "Executing op VarHandleOp in device /job:localhost/replica:0/task:0/device:GPU:0\n",
            "Executing op VarHandleOp in device /job:localhost/replica:0/task:0/device:GPU:0\n",
            "Executing op __inference_initialize_variables_611589 in device <unspecified>\n",
            "Executing op __inference_train_step_611784 in device <unspecified>\n",
            "total: 65.034, num_batches: 214, average: 0.304, time: 0.002Executing op __inference_train_step_613692 in device <unspecified>\n",
            "total: 65.272, num_batches: 215, average: 0.304, time: 12.825Executing op __inference_test_step_613813 in device <unspecified>\n",
            "Executing op __inference_test_step_613956 in device <unspecified>\n",
            "Epoch: 1, Loss: 0.304, Acc: 0.889, Val_Loss: 0.300, Val_Acc: 0.892\n",
            "Epoch: 2, Loss: 0.297, Acc: 0.891, Val_Loss: 0.295, Val_Acc: 0.894\n",
            "Epoch: 3, Loss: 0.290, Acc: 0.894, Val_Loss: 0.291, Val_Acc: 0.894\n",
            "Epoch: 4, Loss: 0.284, Acc: 0.896, Val_Loss: 0.289, Val_Acc: 0.895\n",
            "Epoch: 5, Loss: 0.278, Acc: 0.898, Val_Loss: 0.285, Val_Acc: 0.897\n",
            "Epoch: 6, Loss: 0.272, Acc: 0.900, Val_Loss: 0.283, Val_Acc: 0.897\n",
            "Epoch: 7, Loss: 0.266, Acc: 0.902, Val_Loss: 0.280, Val_Acc: 0.898\n",
            "Epoch: 8, Loss: 0.261, Acc: 0.904, Val_Loss: 0.278, Val_Acc: 0.899\n",
            "Epoch: 9, Loss: 0.256, Acc: 0.906, Val_Loss: 0.276, Val_Acc: 0.898\n",
            "Epoch: 10, Loss: 0.251, Acc: 0.908, Val_Loss: 0.274, Val_Acc: 0.899\n"
          ],
          "name": "stdout"
        }
      ]
    },
    {
      "cell_type": "code",
      "metadata": {
        "id": "m6rm5t6F02vQ",
        "colab_type": "code",
        "colab": {}
      },
      "source": [
        ""
      ],
      "execution_count": null,
      "outputs": []
    }
  ]
}