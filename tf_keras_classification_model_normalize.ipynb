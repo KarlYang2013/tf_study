{
  "nbformat": 4,
  "nbformat_minor": 0,
  "metadata": {
    "colab": {
      "name": "tf_keras_classification_model-normalize",
      "provenance": [],
      "authorship_tag": "ABX9TyMH8DNfvVFjNecCrcIOaxh3",
      "include_colab_link": true
    },
    "kernelspec": {
      "name": "python3",
      "display_name": "Python 3"
    }
  },
  "cells": [
    {
      "cell_type": "markdown",
      "metadata": {
        "id": "view-in-github",
        "colab_type": "text"
      },
      "source": [
        "<a href=\"https://colab.research.google.com/github/KarlYang2013/tf_study/blob/master/tf_keras_classification_model_normalize.ipynb\" target=\"_parent\"><img src=\"https://colab.research.google.com/assets/colab-badge.svg\" alt=\"Open In Colab\"/></a>"
      ]
    },
    {
      "cell_type": "code",
      "metadata": {
        "id": "BOy11Qinuv6z",
        "colab_type": "code",
        "colab": {
          "base_uri": "https://localhost:8080/",
          "height": 510
        },
        "outputId": "06784010-78ba-46e0-e267-bb8aafc48107"
      },
      "source": [
        "import matplotlib as mpl\n",
        "import matplotlib.pyplot as plt\n",
        "#%开头这样确保可以在notebook中使用matplotlib\n",
        "%matplotlib inline\n",
        "import numpy as np \n",
        "import pandas as pd\n",
        "import sklearn\n",
        "import os \n",
        "import sys\n",
        "import time\n",
        "import tensorflow as tf\n",
        "from tensorflow import keras\n",
        "\n",
        "print(tf.__version__)\n",
        "print(sys.version_info)\n",
        "for module in mpl, np, pd, sklearn, tf, keras:\n",
        "    print(module.__name__, module.__version__)\n",
        "#查看有哪些数据集 目前有7个\n",
        "help(keras.datasets)\n",
        "fashion_minist = keras.datasets.fashion_mnist\n",
        "(x_train_all,y_train_all),(x_test,y_test) = fashion_minist.load_data()\n",
        "#训练集再拆成校验集合和训练集合\n",
        "x_valid,x_train = x_train_all[:5000],x_train_all[5000:]\n",
        "y_valid,y_train = y_train_all[:5000],y_train_all[5000:]\n",
        "print(x_valid.shape,y_valid.shape)\n",
        "print(x_train.shape,y_train.shape)\n",
        "print(x_test.shape,y_test.shape)"
      ],
      "execution_count": null,
      "outputs": [
        {
          "output_type": "stream",
          "text": [
            "2.2.0\n",
            "sys.version_info(major=3, minor=6, micro=9, releaselevel='final', serial=0)\n",
            "matplotlib 3.2.2\n",
            "numpy 1.18.5\n",
            "pandas 1.0.5\n",
            "sklearn 0.22.2.post1\n",
            "tensorflow 2.2.0\n",
            "tensorflow.keras 2.3.0-tf\n",
            "Help on package tensorflow.keras.datasets in tensorflow.keras:\n",
            "\n",
            "NAME\n",
            "    tensorflow.keras.datasets - Public API for tf.keras.datasets namespace.\n",
            "\n",
            "PACKAGE CONTENTS\n",
            "    boston_housing (package)\n",
            "    cifar10 (package)\n",
            "    cifar100 (package)\n",
            "    fashion_mnist (package)\n",
            "    imdb (package)\n",
            "    mnist (package)\n",
            "    reuters (package)\n",
            "\n",
            "FILE\n",
            "    /usr/local/lib/python3.6/dist-packages/tensorflow/keras/datasets/__init__.py\n",
            "\n",
            "\n",
            "(5000, 28, 28) (5000,)\n",
            "(55000, 28, 28) (55000,)\n",
            "(10000, 28, 28) (10000,)\n"
          ],
          "name": "stdout"
        }
      ]
    },
    {
      "cell_type": "code",
      "metadata": {
        "id": "kaiiYw3q-uos",
        "colab_type": "code",
        "colab": {
          "base_uri": "https://localhost:8080/",
          "height": 34
        },
        "outputId": "36b1f3b5-8668-4dea-cbd7-02ead58bd2bc"
      },
      "source": [
        "print(np.max(x_train), np.min(x_train))"
      ],
      "execution_count": null,
      "outputs": [
        {
          "output_type": "stream",
          "text": [
            "255 0\n"
          ],
          "name": "stdout"
        }
      ]
    },
    {
      "cell_type": "code",
      "metadata": {
        "id": "l7TKn-8w_E7b",
        "colab_type": "code",
        "colab": {}
      },
      "source": [
        "#标准化处理 x = (x - u) / std\n",
        "from sklearn.preprocessing import StandardScaler\n",
        "scaler = StandardScaler()#创建对象\n",
        "# x_train: [None, 28, 28] -> [None, 784]\n",
        "x_train_scaled = scaler.fit_transform(\n",
        "    x_train.astype(np.float32).reshape(-1,1)).reshape(-1, 28, 28)\n",
        "x_valid_scaled = scaler.transform(\n",
        "    x_valid.astype(np.float32).reshape(-1, 1)).reshape(-1, 28, 28)\n",
        "x_test_scaled = scaler.transform(\n",
        "    x_test.astype(np.float32).reshape(-1, 1)).reshape(-1, 28, 28)"
      ],
      "execution_count": null,
      "outputs": []
    },
    {
      "cell_type": "code",
      "metadata": {
        "id": "rp39-VhN_tWv",
        "colab_type": "code",
        "colab": {
          "base_uri": "https://localhost:8080/",
          "height": 34
        },
        "outputId": "d7b5ca20-06d1-4104-aac0-d764217374df"
      },
      "source": [
        "print(np.max(x_train_scaled),np.min(x_train_scaled))"
      ],
      "execution_count": null,
      "outputs": [
        {
          "output_type": "stream",
          "text": [
            "2.0231433 -0.8105136\n"
          ],
          "name": "stdout"
        }
      ]
    },
    {
      "cell_type": "code",
      "metadata": {
        "id": "cISWWweohAz5",
        "colab_type": "code",
        "colab": {}
      },
      "source": [
        "#tf.keras.Sequential()使用\n",
        "model = keras.models.Sequential()\n",
        "model.add(keras.layers.Flatten(input_shape = [28, 28]))#Flatten把数据展平方便输入神经网络\n",
        "model.add(keras.layers.Dense(512, activation = 'relu'))\n",
        "model.add(keras.layers.Dense(258, activation = 'relu'))\n",
        "model.add(keras.layers.Dense(128, activation = 'relu'))\n",
        "model.add(keras.layers.Dense(10, activation = 'softmax'))\n",
        "#损失函数和优化器设置\n",
        "model.compile(loss=\"sparse_categorical_crossentropy\",\n",
        "              #optimizer = keras.optimizers.Adagrad(0.001),\n",
        "              optimizer = keras.optimizers.SGD(0.001),\n",
        "              metrics = [\"accuracy\"])"
      ],
      "execution_count": null,
      "outputs": []
    },
    {
      "cell_type": "code",
      "metadata": {
        "id": "8j20GnkOjtJs",
        "colab_type": "code",
        "colab": {
          "base_uri": "https://localhost:8080/",
          "height": 102
        },
        "outputId": "b2f4d397-39f0-4cbe-b310-e0e6c6713c9c"
      },
      "source": [
        "model.layers"
      ],
      "execution_count": null,
      "outputs": [
        {
          "output_type": "execute_result",
          "data": {
            "text/plain": [
              "[<tensorflow.python.keras.layers.core.Flatten at 0x7f1692b3b9e8>,\n",
              " <tensorflow.python.keras.layers.core.Dense at 0x7f16922e70b8>,\n",
              " <tensorflow.python.keras.layers.core.Dense at 0x7f16922e7780>,\n",
              " <tensorflow.python.keras.layers.core.Dense at 0x7f1692b3b828>,\n",
              " <tensorflow.python.keras.layers.core.Dense at 0x7f1692b3b7b8>]"
            ]
          },
          "metadata": {
            "tags": []
          },
          "execution_count": 6
        }
      ]
    },
    {
      "cell_type": "code",
      "metadata": {
        "id": "mPSontCkklNW",
        "colab_type": "code",
        "colab": {
          "base_uri": "https://localhost:8080/",
          "height": 323
        },
        "outputId": "7146f651-0f12-4c5f-8028-f29e5b4570aa"
      },
      "source": [
        "#查看layer的shape 参数的总数等\n",
        "model.summary()"
      ],
      "execution_count": null,
      "outputs": [
        {
          "output_type": "stream",
          "text": [
            "Model: \"sequential\"\n",
            "_________________________________________________________________\n",
            "Layer (type)                 Output Shape              Param #   \n",
            "=================================================================\n",
            "flatten (Flatten)            (None, 784)               0         \n",
            "_________________________________________________________________\n",
            "dense (Dense)                (None, 512)               401920    \n",
            "_________________________________________________________________\n",
            "dense_1 (Dense)              (None, 258)               132354    \n",
            "_________________________________________________________________\n",
            "dense_2 (Dense)              (None, 128)               33152     \n",
            "_________________________________________________________________\n",
            "dense_3 (Dense)              (None, 10)                1290      \n",
            "=================================================================\n",
            "Total params: 568,716\n",
            "Trainable params: 568,716\n",
            "Non-trainable params: 0\n",
            "_________________________________________________________________\n"
          ],
          "name": "stdout"
        }
      ]
    },
    {
      "cell_type": "code",
      "metadata": {
        "id": "ob4dG-UZk0Sb",
        "colab_type": "code",
        "colab": {
          "base_uri": "https://localhost:8080/",
          "height": 357
        },
        "outputId": "5295e1cf-c1b2-4016-ff97-d705146476f4"
      },
      "source": [
        "#训练模型 可以通过参数validation_split划分比例直接将训练集和中的部分样本作为验证集\n",
        "#也可以通过参数validation_data传入验证集\n",
        "history = model.fit(x = x_train_scaled,y = y_train, validation_data = (x_valid_scaled, y_valid),epochs = 10)"
      ],
      "execution_count": null,
      "outputs": [
        {
          "output_type": "stream",
          "text": [
            "Epoch 1/10\n",
            "1719/1719 [==============================] - 9s 5ms/step - loss: 0.9248 - accuracy: 0.7043 - val_loss: 0.5931 - val_accuracy: 0.8044\n",
            "Epoch 2/10\n",
            "1719/1719 [==============================] - 9s 5ms/step - loss: 0.5579 - accuracy: 0.8095 - val_loss: 0.4969 - val_accuracy: 0.8334\n",
            "Epoch 3/10\n",
            "1719/1719 [==============================] - 9s 5ms/step - loss: 0.4896 - accuracy: 0.8304 - val_loss: 0.4589 - val_accuracy: 0.8394\n",
            "Epoch 4/10\n",
            "1719/1719 [==============================] - 9s 5ms/step - loss: 0.4542 - accuracy: 0.8405 - val_loss: 0.4354 - val_accuracy: 0.8432\n",
            "Epoch 5/10\n",
            "1719/1719 [==============================] - 9s 5ms/step - loss: 0.4305 - accuracy: 0.8476 - val_loss: 0.4191 - val_accuracy: 0.8482\n",
            "Epoch 6/10\n",
            "1719/1719 [==============================] - 8s 5ms/step - loss: 0.4127 - accuracy: 0.8549 - val_loss: 0.4052 - val_accuracy: 0.8542\n",
            "Epoch 7/10\n",
            "1719/1719 [==============================] - 8s 5ms/step - loss: 0.3984 - accuracy: 0.8592 - val_loss: 0.3994 - val_accuracy: 0.8598\n",
            "Epoch 8/10\n",
            "1719/1719 [==============================] - 9s 5ms/step - loss: 0.3867 - accuracy: 0.8631 - val_loss: 0.3904 - val_accuracy: 0.8602\n",
            "Epoch 9/10\n",
            "1719/1719 [==============================] - 9s 5ms/step - loss: 0.3769 - accuracy: 0.8661 - val_loss: 0.3814 - val_accuracy: 0.8608\n",
            "Epoch 10/10\n",
            "1719/1719 [==============================] - 8s 5ms/step - loss: 0.3683 - accuracy: 0.8692 - val_loss: 0.3789 - val_accuracy: 0.8658\n"
          ],
          "name": "stdout"
        }
      ]
    },
    {
      "cell_type": "code",
      "metadata": {
        "id": "1gJiDgUlm5qT",
        "colab_type": "code",
        "colab": {
          "base_uri": "https://localhost:8080/",
          "height": 71
        },
        "outputId": "96051486-ae1c-40b9-826a-9363010f6ca0"
      },
      "source": [
        "print(type(history))\n",
        "print(history.history)"
      ],
      "execution_count": null,
      "outputs": [
        {
          "output_type": "stream",
          "text": [
            "<class 'tensorflow.python.keras.callbacks.History'>\n",
            "{'loss': [0.9248028993606567, 0.5579479336738586, 0.48956090211868286, 0.4541681706905365, 0.4304836392402649, 0.4127381145954132, 0.39841654896736145, 0.38673487305641174, 0.3768904507160187, 0.36829718947410583], 'accuracy': [0.7042909264564514, 0.8095272779464722, 0.8303636312484741, 0.8404726982116699, 0.847599983215332, 0.8548727035522461, 0.8592363595962524, 0.8630545735359192, 0.8661454319953918, 0.8692363500595093], 'val_loss': [0.593071460723877, 0.4969026744365692, 0.4589228928089142, 0.4354150891304016, 0.4191248416900635, 0.4051544964313507, 0.3993586301803589, 0.39041951298713684, 0.38139840960502625, 0.37888863682746887], 'val_accuracy': [0.8044000267982483, 0.8334000110626221, 0.8393999934196472, 0.8432000279426575, 0.8482000231742859, 0.854200005531311, 0.8597999811172485, 0.8601999878883362, 0.86080002784729, 0.8658000230789185]}\n"
          ],
          "name": "stdout"
        }
      ]
    },
    {
      "cell_type": "code",
      "metadata": {
        "id": "7p9F1XfGmxiX",
        "colab_type": "code",
        "colab": {
          "base_uri": "https://localhost:8080/",
          "height": 324
        },
        "outputId": "da7242a6-7d28-486a-aba0-3ef909002134"
      },
      "source": [
        "#可视化学习曲线\n",
        "def plot_learning_curves(history):\n",
        "    pd.DataFrame(history.history).plot(figsize=(8, 5))\n",
        "    plt.grid(True)\n",
        "    plt.gca().set_ylim(0, 1)\n",
        "    plt.show()\n",
        "\n",
        "plot_learning_curves(history)"
      ],
      "execution_count": null,
      "outputs": [
        {
          "output_type": "display_data",
          "data": {
            "image/png": "[encoded data removed]",
            "text/plain": [
              "<Figure size 576x360 with 1 Axes>"
            ]
          },
          "metadata": {
            "tags": [],
            "needs_background": "light"
          }
        }
      ]
    },
    {
      "cell_type": "code",
      "metadata": {
        "id": "yWZn-3R1ndQx",
        "colab_type": "code",
        "colab": {
          "base_uri": "https://localhost:8080/",
          "height": 51
        },
        "outputId": "e1f7c485-82c3-4a54-8511-6175ad7b9461"
      },
      "source": [
        "#评估\n",
        "model.evaluate(x_test_scaled, y_test, verbose = 1)"
      ],
      "execution_count": null,
      "outputs": [
        {
          "output_type": "stream",
          "text": [
            "313/313 [==============================] - 1s 2ms/step - loss: 0.4089 - accuracy: 0.8519\n"
          ],
          "name": "stdout"
        },
        {
          "output_type": "execute_result",
          "data": {
            "text/plain": [
              "[0.4088936746120453, 0.8518999814987183]"
            ]
          },
          "metadata": {
            "tags": []
          },
          "execution_count": 11
        }
      ]
    }
  ]
}